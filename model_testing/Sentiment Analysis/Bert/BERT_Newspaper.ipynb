{
 "cells": [
  {
   "cell_type": "code",
   "execution_count": null,
   "id": "7fad28f4-1504-4e34-a79e-1923f0ec4ddf",
   "metadata": {},
   "outputs": [],
   "source": [
    "import os\n",
    "\n",
    "os.chdir('../../../')"
   ]
  },
  {
   "cell_type": "code",
   "execution_count": null,
   "id": "e7d2dd91-4c3f-4d14-aeb7-394225d0db27",
   "metadata": {},
   "outputs": [],
   "source": [
    "import tensorflow as tf\n",
    "import tensorflow_hub as hub\n",
    "import tensorflow_text as text\n",
    "\n",
    "import pandas as pd\n",
    "import matplotlib.pyplot as plt\n",
    "\n"
   ]
  },
  {
   "cell_type": "code",
   "execution_count": null,
   "id": "32a9c400-88be-46ba-adb2-7773d2e31173",
   "metadata": {},
   "outputs": [],
   "source": [
    "fake_df = pd.read_csv(r'./projects/News Prediction/Fake.csv')\n",
    "real_df = pd.read_csv(r'./projects/News Prediction/True.csv')"
   ]
  },
  {
   "cell_type": "code",
   "execution_count": null,
   "id": "f5cb562f-83ca-46be-b5bb-89e936b0e9e5",
   "metadata": {},
   "outputs": [],
   "source": [
    "fake_df = fake_df[['title', 'text']]\n",
    "real_df = real_df[['title', 'text']]\n",
    "\n",
    "fake_df['class'] = 1\n",
    "real_df['class'] = 0"
   ]
  },
  {
   "cell_type": "code",
   "execution_count": null,
   "id": "0c0c93ce-a0a1-4049-8089-f27ad7cf8c2c",
   "metadata": {},
   "outputs": [],
   "source": [
    "df = pd.concat([fake_df, real_df], ignore_index=True, sort=False)\n",
    "df.head()"
   ]
  },
  {
   "cell_type": "code",
   "execution_count": null,
   "id": "7d23fcd1-87bb-4f33-ba2c-041c7525464a",
   "metadata": {},
   "outputs": [],
   "source": [
    "df['title_text'] = df['title'] + ' ' + df['text']\n",
    "df.drop(['title', 'text'], axis=1, inplace=True)\n",
    "df.head()"
   ]
  },
  {
   "cell_type": "code",
   "execution_count": null,
   "id": "5e1ce380-34a7-4cc8-9409-c235bc56e3e9",
   "metadata": {},
   "outputs": [],
   "source": [
    "from sklearn.model_selection import train_test_split\n",
    "\n",
    "X = df['title_text']\n",
    "y = df['class']\n",
    "\n",
    "X_train, X_test, y_train, y_test = train_test_split(X, y, test_size=0.25, random_state=0, stratify=y)"
   ]
  },
  {
   "cell_type": "markdown",
   "id": "312ba5fc-07f7-43ae-8902-528d431db900",
   "metadata": {},
   "source": [
    "# Build Model"
   ]
  },
  {
   "cell_type": "code",
   "execution_count": null,
   "id": "66444cba-b3cc-4c34-b907-4487a294d6b6",
   "metadata": {},
   "outputs": [],
   "source": [
    "bert_preprocess = hub.KerasLayer(\"https://tfhub.dev/tensorflow/bert_en_uncased_preprocess/3\")\n",
    "bert_encoder = hub.KerasLayer(\"https://tfhub.dev/tensorflow/bert_en_uncased_L-12_H-768_A-12/4\")"
   ]
  },
  {
   "cell_type": "code",
   "execution_count": null,
   "id": "8a2a6e27-23e6-4434-90c5-1e2ec59b62b9",
   "metadata": {},
   "outputs": [],
   "source": [
    "# def get_sentence_embeding(sentences):\n",
    "#     preprocessed_text = bert_preprocess(sentences)\n",
    "#     return bert_encoder(preprocessed_text)['pooled_output']"
   ]
  },
  {
   "cell_type": "code",
   "execution_count": null,
   "id": "b306706b-bed4-467f-8270-b2aa154fe884",
   "metadata": {},
   "outputs": [],
   "source": [
    "# Bert layers\n",
    "text_input = tf.keras.layers.Input(shape=(), dtype=tf.string, name='text')\n",
    "preprocessed_text = bert_preprocess(text_input)\n",
    "outputs = bert_encoder(preprocessed_text)\n",
    "\n",
    "# Neural network layers\n",
    "hidden1 = tf.keras.layers.Dense(64, activation='sigmoid')(outputs['pooled_output'])\n",
    "dropout1 = tf.keras.layers.Dropout(0.1, name=\"dropout\")(hidden1)\n",
    "hidden2 = tf.keras.layers.Dense(32, activation='sigmoid')(dropout1)\n",
    "dropout2 = tf.keras.layers.Dropout(0.1, name=\"dropout2\")(hidden2)\n",
    "hidden3 = tf.keras.layers.Dense(16, activation='sigmoid')(dropout2)\n",
    "l = tf.keras.layers.Dense(1, activation='sigmoid', name=\"output\")(hidden3)\n",
    "\n",
    "# l = tf.keras.layers.Dropout(0.1, name=\"dropout\")(outputs['pooled_output'])\n",
    "# l = tf.keras.layers.Dense(1, activation='sigmoid', name=\"output\")(l)\n",
    "\n",
    "# Use inputs and outputs to construct a final model\n",
    "model = tf.keras.Model(inputs=[text_input], outputs = [l])\n",
    "\n",
    "model.summary()"
   ]
  },
  {
   "cell_type": "code",
   "execution_count": null,
   "id": "10ff7914-fbd6-4985-9bdc-336d4b278244",
   "metadata": {},
   "outputs": [],
   "source": [
    "early_stop = tf.keras.callbacks.EarlyStopping(monitor='val_loss', patience=2, restore_best_weights=True)\n",
    "\n",
    "model.compile(optimizer='adam',  loss='binary_crossentropy', metrics=['accuracy'])"
   ]
  },
  {
   "cell_type": "markdown",
   "id": "2cf66bdb-5bb9-47bc-89dc-516735ed023a",
   "metadata": {},
   "source": [
    "# Training "
   ]
  },
  {
   "cell_type": "code",
   "execution_count": null,
   "id": "ca2c5470-ed14-4e7a-ab84-5ff997c763e6",
   "metadata": {},
   "outputs": [],
   "source": [
    "history = model.fit(X_train, y_train, epochs=10, batch_size=10,validation_split=0.33,shuffle=True, callbacks=[early_stop])"
   ]
  },
  {
   "cell_type": "code",
   "execution_count": null,
   "id": "28282dcd-807e-4803-ac0e-10a2b5905c63",
   "metadata": {},
   "outputs": [],
   "source": [
    "# summarize history for accuracy\n",
    "plt.plot(history.history['accuracy'])\n",
    "plt.plot(history.history['val_accuracy'])\n",
    "plt.title('model accuracy')\n",
    "plt.ylabel('accuracy')\n",
    "plt.xlabel('epoch')\n",
    "plt.legend(['train', 'test'], loc='upper left')\n",
    "plt.show()"
   ]
  },
  {
   "cell_type": "code",
   "execution_count": null,
   "id": "2df83793-c913-48c4-bea2-f6a157f80305",
   "metadata": {},
   "outputs": [],
   "source": [
    "# summarize history for loss\n",
    "plt.plot(history.history['loss'])\n",
    "plt.plot(history.history['val_loss'])\n",
    "plt.title('model loss')\n",
    "plt.ylabel('loss')\n",
    "plt.xlabel('epoch')\n",
    "plt.legend(['train', 'test'], loc='upper left')\n",
    "plt.show()"
   ]
  },
  {
   "cell_type": "markdown",
   "id": "1ccdf5fe-94ad-4687-86ad-da737b792675",
   "metadata": {},
   "source": [
    "# Evalulate"
   ]
  },
  {
   "cell_type": "code",
   "execution_count": null,
   "id": "afe9c14d-32ce-4e74-9731-353358e0a5f6",
   "metadata": {},
   "outputs": [],
   "source": [
    "model.evaluate(X_test, y_test)"
   ]
  },
  {
   "cell_type": "markdown",
   "id": "5c5bfd56-0201-4dfb-8d2d-60a0d4a90a86",
   "metadata": {},
   "source": [
    "# Test"
   ]
  },
  {
   "cell_type": "code",
   "execution_count": null,
   "id": "3bde3849-4cef-4bf7-9558-6f6f8d7a66a9",
   "metadata": {},
   "outputs": [],
   "source": [
    "reviews = [\n",
    "    \n",
    "    \n",
    "]\n",
    "model.predict(reviews)"
   ]
  },
  {
   "cell_type": "code",
   "execution_count": null,
   "id": "f3c108f9-839f-4e6e-80fa-e1e08ba7148d",
   "metadata": {},
   "outputs": [],
   "source": []
  }
 ],
 "metadata": {
  "environment": {
   "kernel": "python3",
   "name": "tf2-gpu.2-6.m82",
   "type": "gcloud",
   "uri": "gcr.io/deeplearning-platform-release/tf2-gpu.2-6:m82"
  },
  "kernelspec": {
   "display_name": "Python 3 (ipykernel)",
   "language": "python",
   "name": "python3"
  },
  "language_info": {
   "codemirror_mode": {
    "name": "ipython",
    "version": 3
   },
   "file_extension": ".py",
   "mimetype": "text/x-python",
   "name": "python",
   "nbconvert_exporter": "python",
   "pygments_lexer": "ipython3",
   "version": "3.8.8"
  },
  "widgets": {
   "application/vnd.jupyter.widget-state+json": {
    "state": {},
    "version_major": 2,
    "version_minor": 0
   }
  }
 },
 "nbformat": 4,
 "nbformat_minor": 5
}
