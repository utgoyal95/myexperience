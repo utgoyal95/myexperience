{
 "cells": [
  {
   "cell_type": "code",
   "execution_count": 1,
   "id": "08cf603a-88db-480e-af40-6204d619868a",
   "metadata": {
    "id": "CmLvKqC0-IeK"
   },
   "outputs": [],
   "source": [
    "import time\n",
    "import pandas as pd\n",
    "import numpy as np\n",
    "from sklearn import pipeline\n",
    "from sklearn.model_selection import cross_val_score, GridSearchCV, RandomizedSearchCV\n",
    "from sklearn.model_selection import train_test_split\n",
    "from xgboost import XGBClassifier\n",
    "from hyperopt import hp"
   ]
  },
  {
   "cell_type": "code",
   "execution_count": 2,
   "id": "da6ead8c-03e4-4e80-b242-8f1b420177b1",
   "metadata": {
    "id": "CmLvKqC0-IeK"
   },
   "outputs": [
    {
     "data": {
      "text/html": [
       "<div>\n",
       "<style scoped>\n",
       "    .dataframe tbody tr th:only-of-type {\n",
       "        vertical-align: middle;\n",
       "    }\n",
       "\n",
       "    .dataframe tbody tr th {\n",
       "        vertical-align: top;\n",
       "    }\n",
       "\n",
       "    .dataframe thead th {\n",
       "        text-align: right;\n",
       "    }\n",
       "</style>\n",
       "<table border=\"1\" class=\"dataframe\">\n",
       "  <thead>\n",
       "    <tr style=\"text-align: right;\">\n",
       "      <th></th>\n",
       "      <th>0</th>\n",
       "      <th>1</th>\n",
       "      <th>2</th>\n",
       "      <th>3</th>\n",
       "      <th>4</th>\n",
       "      <th>5</th>\n",
       "      <th>6</th>\n",
       "      <th>7</th>\n",
       "      <th>8</th>\n",
       "    </tr>\n",
       "  </thead>\n",
       "  <tbody>\n",
       "    <tr>\n",
       "      <th>0</th>\n",
       "      <td>6</td>\n",
       "      <td>148</td>\n",
       "      <td>72</td>\n",
       "      <td>35</td>\n",
       "      <td>0</td>\n",
       "      <td>33.6</td>\n",
       "      <td>0.627</td>\n",
       "      <td>50</td>\n",
       "      <td>1</td>\n",
       "    </tr>\n",
       "    <tr>\n",
       "      <th>1</th>\n",
       "      <td>1</td>\n",
       "      <td>85</td>\n",
       "      <td>66</td>\n",
       "      <td>29</td>\n",
       "      <td>0</td>\n",
       "      <td>26.6</td>\n",
       "      <td>0.351</td>\n",
       "      <td>31</td>\n",
       "      <td>0</td>\n",
       "    </tr>\n",
       "    <tr>\n",
       "      <th>2</th>\n",
       "      <td>8</td>\n",
       "      <td>183</td>\n",
       "      <td>64</td>\n",
       "      <td>0</td>\n",
       "      <td>0</td>\n",
       "      <td>23.3</td>\n",
       "      <td>0.672</td>\n",
       "      <td>32</td>\n",
       "      <td>1</td>\n",
       "    </tr>\n",
       "    <tr>\n",
       "      <th>3</th>\n",
       "      <td>1</td>\n",
       "      <td>89</td>\n",
       "      <td>66</td>\n",
       "      <td>23</td>\n",
       "      <td>94</td>\n",
       "      <td>28.1</td>\n",
       "      <td>0.167</td>\n",
       "      <td>21</td>\n",
       "      <td>0</td>\n",
       "    </tr>\n",
       "    <tr>\n",
       "      <th>4</th>\n",
       "      <td>0</td>\n",
       "      <td>137</td>\n",
       "      <td>40</td>\n",
       "      <td>35</td>\n",
       "      <td>168</td>\n",
       "      <td>43.1</td>\n",
       "      <td>2.288</td>\n",
       "      <td>33</td>\n",
       "      <td>1</td>\n",
       "    </tr>\n",
       "  </tbody>\n",
       "</table>\n",
       "</div>"
      ],
      "text/plain": [
       "   0    1   2   3    4     5      6   7  8\n",
       "0  6  148  72  35    0  33.6  0.627  50  1\n",
       "1  1   85  66  29    0  26.6  0.351  31  0\n",
       "2  8  183  64   0    0  23.3  0.672  32  1\n",
       "3  1   89  66  23   94  28.1  0.167  21  0\n",
       "4  0  137  40  35  168  43.1  2.288  33  1"
      ]
     },
     "execution_count": 2,
     "metadata": {},
     "output_type": "execute_result"
    }
   ],
   "source": [
    "df = pd.read_csv('https://raw.githubusercontent.com/jbrownlee/Datasets/master/pima-indians-diabetes.data.csv', header=None)\n",
    "df.head()"
   ]
  },
  {
   "cell_type": "code",
   "execution_count": 3,
   "id": "3e72be1e-c4cc-43ae-ab0f-0362e96c2532",
   "metadata": {},
   "outputs": [],
   "source": [
    "X = df.loc[:,0:7]\n",
    "y = df.loc[:,8]"
   ]
  },
  {
   "cell_type": "code",
   "execution_count": 4,
   "id": "25fef297-dd8f-49f8-9ae1-fc6cdcacb1d7",
   "metadata": {},
   "outputs": [],
   "source": [
    "X_train, X_test, y_train, y_test = train_test_split(X, y, test_size=0.2)"
   ]
  },
  {
   "cell_type": "markdown",
   "id": "e3b0c14d-a466-4423-bd10-f542f5e6d14c",
   "metadata": {},
   "source": [
    "# GridSearchCV"
   ]
  },
  {
   "cell_type": "code",
   "execution_count": 5,
   "id": "9e2f79d5-5c72-439c-931f-8fd50933ad06",
   "metadata": {},
   "outputs": [],
   "source": [
    "param_gridsearch = {\n",
    "    'learning_rate' : [0.01, 0.1, 1],\n",
    "    'max_depth' : [5, 10, 15],\n",
    "    'max_leaves' : [5, 25, 50, 100, 500],\n",
    "    'booster': ['gbtree', 'gblinear','dart'],\n",
    "    'colsample_bytree' : [0.6, 0.75, 1],\n",
    "}"
   ]
  },
  {
   "cell_type": "code",
   "execution_count": null,
   "id": "7a60c99e-ac5d-4cd9-bd69-3bfc9ba4d5a0",
   "metadata": {
    "scrolled": true,
    "tags": []
   },
   "outputs": [],
   "source": [
    "start = time.time()\n",
    "\n",
    "grid_obj = GridSearchCV(estimator=XGBClassifier(),\n",
    "                        param_grid=param_gridsearch,\n",
    "                        cv=5,\n",
    "                        refit=True,\n",
    "                        return_train_score=False,\n",
    "                        scoring = 'accuracy',\n",
    "                               )\n",
    "\n",
    "grid_obj.fit(X_train, y_train)\n",
    "\n",
    "estimator = grid_obj.best_estimator_\n",
    "cvs = cross_val_score(estimator, X_train, y_train, cv=5)\n",
    "results = pd.DataFrame(grid_obj.cv_results_)"
   ]
  },
  {
   "cell_type": "code",
   "execution_count": 7,
   "id": "7b2d4f2f-8772-4098-85ac-11c179be844d",
   "metadata": {},
   "outputs": [
    {
     "name": "stdout",
     "output_type": "stream",
     "text": [
      "##### Results\n",
      "Score best parameters:  0.7623084099693456\n",
      "Best parameters:  {'booster': 'dart', 'colsample_bytree': 0.75, 'learning_rate': 0.01, 'max_depth': 5, 'max_leaves': 5}\n",
      "Cross-validation Score:  0.7623084099693456\n",
      "Test Score:  0.7987012987012987\n",
      "Time elapsed:  312.0681128501892\n"
     ]
    }
   ],
   "source": [
    "print(\"##### Results\")\n",
    "print(\"Score best parameters: \", grid_obj.best_score_)\n",
    "print(\"Best parameters: \", grid_obj.best_params_)\n",
    "print(\"Cross-validation Score: \", cvs.mean())\n",
    "print(\"Test Score: \", estimator.score(X_test, y_test))\n",
    "print(\"Time elapsed: \", time.time() - start)"
   ]
  },
  {
   "cell_type": "markdown",
   "id": "5c07f228-285a-4af8-bcb0-69275e28519d",
   "metadata": {},
   "source": [
    "# RandomSearchCV"
   ]
  },
  {
   "cell_type": "code",
   "execution_count": 8,
   "id": "3b54dba2-e45c-4e33-a247-6338b0880fae",
   "metadata": {},
   "outputs": [],
   "source": [
    "param_random = {\n",
    "    'learning_rate': list(np.logspace(np.log(0.01), np.log(0.99), num = 500, base=3)),\n",
    "    'max_depth': list(range(5, 15)),\n",
    "    'max_leaves': list(range(5, 500)),\n",
    "    'boosting_type': ['gbtree', 'gblinear','dart'],\n",
    "    'colsample_bytree': list(np.linspace(0.6, 1, 500)),\n",
    "}"
   ]
  },
  {
   "cell_type": "code",
   "execution_count": null,
   "id": "d1a61367-b7ca-45a5-96f4-547b6b3e7cc6",
   "metadata": {
    "scrolled": true,
    "tags": []
   },
   "outputs": [],
   "source": [
    "start = time.time()\n",
    "\n",
    "grid_obj = RandomizedSearchCV(estimator=XGBClassifier(),\n",
    "                            param_distributions=param_random,\n",
    "                            cv=5,\n",
    "                            refit=True,\n",
    "                            return_train_score=False,\n",
    "                            scoring = 'accuracy',\n",
    "                            random_state=1)\n",
    "grid_obj.fit(X_train, y_train)\n",
    "\n",
    "estimator = grid_obj.best_estimator_\n",
    "cvs = cross_val_score(estimator, X_train, y_train, cv=5)\n",
    "results = pd.DataFrame(grid_obj.cv_results_)"
   ]
  },
  {
   "cell_type": "code",
   "execution_count": 10,
   "id": "b90a3f7f-27b9-4bb5-9d5b-2be02fa4c75c",
   "metadata": {},
   "outputs": [
    {
     "name": "stdout",
     "output_type": "stream",
     "text": [
      "##### Results\n",
      "Score best parameters:  0.7492736238837798\n",
      "Best parameters:  {'max_leaves': 329, 'max_depth': 5, 'learning_rate': 0.006612261287076887, 'colsample_bytree': 0.8004008016032064, 'boosting_type': 'dart'}\n",
      "Cross-validation Score:  0.7492736238837798\n",
      "Test Score:  0.7987012987012987\n",
      "Time elapsed:  4.390085220336914\n"
     ]
    }
   ],
   "source": [
    "print(\"##### Results\")\n",
    "print(\"Score best parameters: \", grid_obj.best_score_)\n",
    "print(\"Best parameters: \", grid_obj.best_params_)\n",
    "print(\"Cross-validation Score: \", cvs.mean())\n",
    "print(\"Test Score: \", estimator.score(X_test, y_test))\n",
    "print(\"Time elapsed: \", time.time() - start)"
   ]
  },
  {
   "cell_type": "code",
   "execution_count": null,
   "id": "f65e048d-7340-4922-8e95-d0dcdd9cc216",
   "metadata": {},
   "outputs": [],
   "source": [
    "param_hyperopt= {\n",
    "    'learning_rate': hp.loguniform('learning_rate', np.log(0.01), np.log(1)),\n",
    "    'max_depth': scope.int(hp.quniform('max_depth', 5, 15, 1)),\n",
    "    'n_estimators': scope.int(hp.quniform('n_estimators', 5, 35, 1)),\n",
    "    'num_leaves': scope.int(hp.quniform('num_leaves', 5, 50, 1)),\n",
    "    'boosting_type': hp.choice('boosting_type', ['gbdt', 'dart']),\n",
    "    'colsample_bytree': hp.uniform('colsample_by_tree', 0.6, 1.0),\n",
    "    'reg_lambda': hp.uniform('reg_lambda', 0.0, 1.0),\n",
    "}"
   ]
  }
 ],
 "metadata": {
  "kernelspec": {
   "display_name": "Python 3 (ipykernel)",
   "language": "python",
   "name": "python3"
  },
  "language_info": {
   "codemirror_mode": {
    "name": "ipython",
    "version": 3
   },
   "file_extension": ".py",
   "mimetype": "text/x-python",
   "name": "python",
   "nbconvert_exporter": "python",
   "pygments_lexer": "ipython3",
   "version": "3.9.12"
  }
 },
 "nbformat": 4,
 "nbformat_minor": 5
}
