{
 "cells": [
  {
   "cell_type": "code",
   "execution_count": 1,
   "id": "f3078b45-199a-4317-80bc-87062bde8873",
   "metadata": {},
   "outputs": [],
   "source": [
    "import pandas as pd\n",
    "from matplotlib import pyplot as plt\n",
    "import numpy as np\n",
    "%matplotlib inline\n",
    "\n",
    "plt.style.use('seaborn')"
   ]
  },
  {
   "cell_type": "code",
   "execution_count": 2,
   "id": "f05e8f9c-b73c-4f97-9142-268d063fb6d9",
   "metadata": {},
   "outputs": [],
   "source": [
    "import warnings\n",
    "warnings.filterwarnings('ignore')"
   ]
  },
  {
   "cell_type": "markdown",
   "id": "097af4d8-7eeb-48f6-b48b-c82e61b4a692",
   "metadata": {},
   "source": [
    "# EDA"
   ]
  },
  {
   "cell_type": "code",
   "execution_count": 5,
   "id": "41229daa-1391-4643-ac29-ce9ad7bed25c",
   "metadata": {},
   "outputs": [
    {
     "data": {
      "text/html": [
       "<div>\n",
       "<style scoped>\n",
       "    .dataframe tbody tr th:only-of-type {\n",
       "        vertical-align: middle;\n",
       "    }\n",
       "\n",
       "    .dataframe tbody tr th {\n",
       "        vertical-align: top;\n",
       "    }\n",
       "\n",
       "    .dataframe thead th {\n",
       "        text-align: right;\n",
       "    }\n",
       "</style>\n",
       "<table border=\"1\" class=\"dataframe\">\n",
       "  <thead>\n",
       "    <tr style=\"text-align: right;\">\n",
       "      <th></th>\n",
       "      <th>CreditScore</th>\n",
       "      <th>Geography</th>\n",
       "      <th>Gender</th>\n",
       "      <th>Age</th>\n",
       "      <th>Tenure</th>\n",
       "      <th>Balance</th>\n",
       "      <th>NumOfProducts</th>\n",
       "      <th>HasCrCard</th>\n",
       "      <th>IsActiveMember</th>\n",
       "      <th>EstimatedSalary</th>\n",
       "      <th>Exited</th>\n",
       "    </tr>\n",
       "  </thead>\n",
       "  <tbody>\n",
       "    <tr>\n",
       "      <th>0</th>\n",
       "      <td>619</td>\n",
       "      <td>France</td>\n",
       "      <td>Female</td>\n",
       "      <td>42</td>\n",
       "      <td>2</td>\n",
       "      <td>0.00</td>\n",
       "      <td>1</td>\n",
       "      <td>1</td>\n",
       "      <td>1</td>\n",
       "      <td>101348.88</td>\n",
       "      <td>1</td>\n",
       "    </tr>\n",
       "    <tr>\n",
       "      <th>1</th>\n",
       "      <td>608</td>\n",
       "      <td>Spain</td>\n",
       "      <td>Female</td>\n",
       "      <td>41</td>\n",
       "      <td>1</td>\n",
       "      <td>83807.86</td>\n",
       "      <td>1</td>\n",
       "      <td>0</td>\n",
       "      <td>1</td>\n",
       "      <td>112542.58</td>\n",
       "      <td>0</td>\n",
       "    </tr>\n",
       "    <tr>\n",
       "      <th>2</th>\n",
       "      <td>502</td>\n",
       "      <td>France</td>\n",
       "      <td>Female</td>\n",
       "      <td>42</td>\n",
       "      <td>8</td>\n",
       "      <td>159660.80</td>\n",
       "      <td>3</td>\n",
       "      <td>1</td>\n",
       "      <td>0</td>\n",
       "      <td>113931.57</td>\n",
       "      <td>1</td>\n",
       "    </tr>\n",
       "    <tr>\n",
       "      <th>3</th>\n",
       "      <td>699</td>\n",
       "      <td>France</td>\n",
       "      <td>Female</td>\n",
       "      <td>39</td>\n",
       "      <td>1</td>\n",
       "      <td>0.00</td>\n",
       "      <td>2</td>\n",
       "      <td>0</td>\n",
       "      <td>0</td>\n",
       "      <td>93826.63</td>\n",
       "      <td>0</td>\n",
       "    </tr>\n",
       "    <tr>\n",
       "      <th>4</th>\n",
       "      <td>850</td>\n",
       "      <td>Spain</td>\n",
       "      <td>Female</td>\n",
       "      <td>43</td>\n",
       "      <td>2</td>\n",
       "      <td>125510.82</td>\n",
       "      <td>1</td>\n",
       "      <td>1</td>\n",
       "      <td>1</td>\n",
       "      <td>79084.10</td>\n",
       "      <td>0</td>\n",
       "    </tr>\n",
       "  </tbody>\n",
       "</table>\n",
       "</div>"
      ],
      "text/plain": [
       "   CreditScore Geography  Gender  Age  Tenure    Balance  NumOfProducts  \\\n",
       "0          619    France  Female   42       2       0.00              1   \n",
       "1          608     Spain  Female   41       1   83807.86              1   \n",
       "2          502    France  Female   42       8  159660.80              3   \n",
       "3          699    France  Female   39       1       0.00              2   \n",
       "4          850     Spain  Female   43       2  125510.82              1   \n",
       "\n",
       "   HasCrCard  IsActiveMember  EstimatedSalary  Exited  \n",
       "0          1               1        101348.88       1  \n",
       "1          0               1        112542.58       0  \n",
       "2          1               0        113931.57       1  \n",
       "3          0               0         93826.63       0  \n",
       "4          1               1         79084.10       0  "
      ]
     },
     "execution_count": 5,
     "metadata": {},
     "output_type": "execute_result"
    }
   ],
   "source": [
    "df = pd.read_csv('Churn_Modelling.csv')\n",
    "df.drop(columns=['RowNumber','CustomerId','Surname'], inplace=True)\n",
    "df.head()"
   ]
  },
  {
   "cell_type": "code",
   "execution_count": 23,
   "id": "d66eab1c-bf02-49c7-a81a-a9f664ed3549",
   "metadata": {},
   "outputs": [
    {
     "data": {
      "image/png": "[encoded data removed]",
      "text/plain": [
       "<Figure size 720x360 with 1 Axes>"
      ]
     },
     "metadata": {},
     "output_type": "display_data"
    }
   ],
   "source": [
    "plt.figure(figsize=(10, 5))\n",
    "plt.bar('Not Churned', len(df[df['Exited'] == 0]))\n",
    "plt.bar('Churned', len(df[df['Exited'] == 1]))\n",
    "plt.title('Distribution of Churned', size=12)\n",
    "plt.xlabel('Type', size=12)\n",
    "plt.ylabel('# of Customers Churned', size=12);"
   ]
  },
  {
   "cell_type": "code",
   "execution_count": null,
   "id": "531de6ae-d538-4905-9327-3a1ef0d3edad",
   "metadata": {},
   "outputs": [],
   "source": []
  },
  {
   "cell_type": "markdown",
   "id": "80bfc9ea-9c67-4882-808d-e6ddc6a14b97",
   "metadata": {},
   "source": [
    "# Data Cleaning"
   ]
  },
  {
   "cell_type": "code",
   "execution_count": 7,
   "id": "72a6de79-2622-46a9-82f2-dd3c95a32491",
   "metadata": {},
   "outputs": [
    {
     "data": {
      "text/plain": [
       "Index(['CreditScore', 'Age', 'Tenure', 'Balance', 'NumOfProducts', 'HasCrCard',\n",
       "       'IsActiveMember', 'EstimatedSalary', 'Exited', 'Geography_France',\n",
       "       'Geography_Germany', 'Geography_Spain', 'Gender_Female', 'Gender_Male'],\n",
       "      dtype='object')"
      ]
     },
     "execution_count": 7,
     "metadata": {},
     "output_type": "execute_result"
    }
   ],
   "source": [
    "df1 = pd.get_dummies(data=df, columns=['Geography', 'Gender'])\n",
    "df1.columns"
   ]
  },
  {
   "cell_type": "code",
   "execution_count": 10,
   "id": "c27118f4-8480-4865-b7d9-164fd41229ee",
   "metadata": {},
   "outputs": [],
   "source": [
    "from sklearn.preprocessing import MinMaxScaler\n",
    "scaler = MinMaxScaler()"
   ]
  },
  {
   "cell_type": "code",
   "execution_count": 11,
   "id": "121f6875-2ab7-45d1-9fd7-0de68ec2e7d8",
   "metadata": {},
   "outputs": [],
   "source": [
    "col_to_scale=['CreditScore', 'Age', 'Tenure','Balance', 'NumOfProducts', 'EstimatedSalary']\n",
    "\n",
    "df1[col_to_scale] = scaler.fit_transform(df1[col_to_scale])"
   ]
  },
  {
   "cell_type": "code",
   "execution_count": 12,
   "id": "39d84333-3e1f-494c-9237-223420a38996",
   "metadata": {},
   "outputs": [
    {
     "data": {
      "text/html": [
       "<div>\n",
       "<style scoped>\n",
       "    .dataframe tbody tr th:only-of-type {\n",
       "        vertical-align: middle;\n",
       "    }\n",
       "\n",
       "    .dataframe tbody tr th {\n",
       "        vertical-align: top;\n",
       "    }\n",
       "\n",
       "    .dataframe thead th {\n",
       "        text-align: right;\n",
       "    }\n",
       "</style>\n",
       "<table border=\"1\" class=\"dataframe\">\n",
       "  <thead>\n",
       "    <tr style=\"text-align: right;\">\n",
       "      <th></th>\n",
       "      <th>CreditScore</th>\n",
       "      <th>Age</th>\n",
       "      <th>Tenure</th>\n",
       "      <th>Balance</th>\n",
       "      <th>NumOfProducts</th>\n",
       "      <th>HasCrCard</th>\n",
       "      <th>IsActiveMember</th>\n",
       "      <th>EstimatedSalary</th>\n",
       "      <th>Exited</th>\n",
       "      <th>Geography_France</th>\n",
       "      <th>Geography_Germany</th>\n",
       "      <th>Geography_Spain</th>\n",
       "      <th>Gender_Female</th>\n",
       "      <th>Gender_Male</th>\n",
       "    </tr>\n",
       "  </thead>\n",
       "  <tbody>\n",
       "    <tr>\n",
       "      <th>0</th>\n",
       "      <td>0.538</td>\n",
       "      <td>0.324324</td>\n",
       "      <td>0.2</td>\n",
       "      <td>0.000000</td>\n",
       "      <td>0.000000</td>\n",
       "      <td>1</td>\n",
       "      <td>1</td>\n",
       "      <td>0.506735</td>\n",
       "      <td>1</td>\n",
       "      <td>1</td>\n",
       "      <td>0</td>\n",
       "      <td>0</td>\n",
       "      <td>1</td>\n",
       "      <td>0</td>\n",
       "    </tr>\n",
       "    <tr>\n",
       "      <th>1</th>\n",
       "      <td>0.516</td>\n",
       "      <td>0.310811</td>\n",
       "      <td>0.1</td>\n",
       "      <td>0.334031</td>\n",
       "      <td>0.000000</td>\n",
       "      <td>0</td>\n",
       "      <td>1</td>\n",
       "      <td>0.562709</td>\n",
       "      <td>0</td>\n",
       "      <td>0</td>\n",
       "      <td>0</td>\n",
       "      <td>1</td>\n",
       "      <td>1</td>\n",
       "      <td>0</td>\n",
       "    </tr>\n",
       "    <tr>\n",
       "      <th>2</th>\n",
       "      <td>0.304</td>\n",
       "      <td>0.324324</td>\n",
       "      <td>0.8</td>\n",
       "      <td>0.636357</td>\n",
       "      <td>0.666667</td>\n",
       "      <td>1</td>\n",
       "      <td>0</td>\n",
       "      <td>0.569654</td>\n",
       "      <td>1</td>\n",
       "      <td>1</td>\n",
       "      <td>0</td>\n",
       "      <td>0</td>\n",
       "      <td>1</td>\n",
       "      <td>0</td>\n",
       "    </tr>\n",
       "    <tr>\n",
       "      <th>3</th>\n",
       "      <td>0.698</td>\n",
       "      <td>0.283784</td>\n",
       "      <td>0.1</td>\n",
       "      <td>0.000000</td>\n",
       "      <td>0.333333</td>\n",
       "      <td>0</td>\n",
       "      <td>0</td>\n",
       "      <td>0.469120</td>\n",
       "      <td>0</td>\n",
       "      <td>1</td>\n",
       "      <td>0</td>\n",
       "      <td>0</td>\n",
       "      <td>1</td>\n",
       "      <td>0</td>\n",
       "    </tr>\n",
       "    <tr>\n",
       "      <th>4</th>\n",
       "      <td>1.000</td>\n",
       "      <td>0.337838</td>\n",
       "      <td>0.2</td>\n",
       "      <td>0.500246</td>\n",
       "      <td>0.000000</td>\n",
       "      <td>1</td>\n",
       "      <td>1</td>\n",
       "      <td>0.395400</td>\n",
       "      <td>0</td>\n",
       "      <td>0</td>\n",
       "      <td>0</td>\n",
       "      <td>1</td>\n",
       "      <td>1</td>\n",
       "      <td>0</td>\n",
       "    </tr>\n",
       "  </tbody>\n",
       "</table>\n",
       "</div>"
      ],
      "text/plain": [
       "   CreditScore       Age  Tenure   Balance  NumOfProducts  HasCrCard  \\\n",
       "0        0.538  0.324324     0.2  0.000000       0.000000          1   \n",
       "1        0.516  0.310811     0.1  0.334031       0.000000          0   \n",
       "2        0.304  0.324324     0.8  0.636357       0.666667          1   \n",
       "3        0.698  0.283784     0.1  0.000000       0.333333          0   \n",
       "4        1.000  0.337838     0.2  0.500246       0.000000          1   \n",
       "\n",
       "   IsActiveMember  EstimatedSalary  Exited  Geography_France  \\\n",
       "0               1         0.506735       1                 1   \n",
       "1               1         0.562709       0                 0   \n",
       "2               0         0.569654       1                 1   \n",
       "3               0         0.469120       0                 1   \n",
       "4               1         0.395400       0                 0   \n",
       "\n",
       "   Geography_Germany  Geography_Spain  Gender_Female  Gender_Male  \n",
       "0                  0                0              1            0  \n",
       "1                  0                1              1            0  \n",
       "2                  0                0              1            0  \n",
       "3                  0                0              1            0  \n",
       "4                  0                1              1            0  "
      ]
     },
     "execution_count": 12,
     "metadata": {},
     "output_type": "execute_result"
    }
   ],
   "source": [
    "df1.head()"
   ]
  },
  {
   "cell_type": "markdown",
   "id": "4974e583-d999-447b-8ac1-00283ca14326",
   "metadata": {},
   "source": [
    "# Modelling"
   ]
  },
  {
   "cell_type": "code",
   "execution_count": 27,
   "id": "8517ecaf-8e00-4383-a510-12462cd374aa",
   "metadata": {},
   "outputs": [],
   "source": [
    "import tensorflow as tf\n",
    "from tensorflow import keras\n",
    "from sklearn.metrics import confusion_matrix, classification_report\n",
    "import seaborn as sns"
   ]
  },
  {
   "cell_type": "markdown",
   "id": "184631a5-800f-47f8-b386-dbe626e8a8f2",
   "metadata": {},
   "source": [
    "## Data As Is "
   ]
  },
  {
   "cell_type": "code",
   "execution_count": 13,
   "id": "c7055c01-cc1f-4ac2-8ce8-e6a1efd917ee",
   "metadata": {},
   "outputs": [],
   "source": [
    "X = df1.drop(columns=['Exited'])\n",
    "y = df1['Exited']"
   ]
  },
  {
   "cell_type": "code",
   "execution_count": 14,
   "id": "35d07458-d70a-4c80-babe-50dbc1d6251f",
   "metadata": {},
   "outputs": [],
   "source": [
    "from sklearn.model_selection import train_test_split\n",
    "X_train, X_test, y_train, y_test = train_test_split(X, y, test_size=0.33, random_state=10, stratify=y)"
   ]
  },
  {
   "cell_type": "code",
   "execution_count": 34,
   "id": "751c4f5c-3fe3-4c35-b181-ca93df034109",
   "metadata": {},
   "outputs": [],
   "source": [
    "def ANN(X_train, y_train, X_test, y_test, loss='binary_crossentropy'):\n",
    "    model = keras.Sequential([\n",
    "        keras.layers.Dense(64, input_dim=X_train.shape[1], activation='relu'),\n",
    "        keras.layers.Dense(8, activation='relu'),\n",
    "        keras.layers.Dense(1, activation='sigmoid')\n",
    "    ])\n",
    "    \n",
    "    early_stop = tf.keras.callbacks.EarlyStopping(monitor='val_loss', patience=2, restore_best_weights=True)\n",
    "    METRICS = [\n",
    "          tf.keras.metrics.BinaryAccuracy(name='accuracy'),\n",
    "          tf.keras.metrics.Precision(name='precision'),\n",
    "          tf.keras.metrics.Recall(name='recall')\n",
    "    ]\n",
    "\n",
    "    model.compile(optimizer='adam', loss=loss, metrics=METRICS)\n",
    "\n",
    "    \n",
    "    model.fit(X_train, y_train, epochs=100, validation_split=0.1, batch_size=30, shuffle=True, callbacks=[early_stop])\n",
    "\n",
    "    print(model.evaluate(X_test, y_test))\n",
    "\n",
    "    y_preds = model.predict(X_test)\n",
    "    y_preds = np.round(y_preds)\n",
    "\n",
    "    matrix = confusion_matrix(y_preds, y_test, normalize='all')\n",
    "    plt.figure(figsize=(10, 6))\n",
    "    ax= plt.subplot()\n",
    "    sns.heatmap(matrix, annot=True, ax = ax)\n",
    "\n",
    "    # labels, title and ticks\n",
    "    ax.set_xlabel('Predicted Labels', size=15)\n",
    "    ax.set_ylabel('True Labels', size=15)\n",
    "    ax.set_title('Confusion Matrix', size=15)\n",
    "    ax.xaxis.set_ticklabels([0,1], size=15)\n",
    "    ax.yaxis.set_ticklabels([0,1], size=15);\n",
    "    plt.show()\n",
    "    \n",
    "    print(\"Classification Report: \\n\", classification_report(y_test, y_preds))\n",
    "    \n",
    "    return y_preds"
   ]
  },
  {
   "cell_type": "code",
   "execution_count": 35,
   "id": "641dddf2-1e10-4cf6-8669-09523b70882a",
   "metadata": {},
   "outputs": [
    {
     "name": "stdout",
     "output_type": "stream",
     "text": [
      "Epoch 1/100\n",
      "201/201 [==============================] - 1s 3ms/step - loss: 0.4839 - accuracy: 0.7964 - precision: 0.4778 - recall: 0.0351 - val_loss: 0.4667 - val_accuracy: 0.7985 - val_precision: 0.6667 - val_recall: 0.0851\n",
      "Epoch 2/100\n",
      "201/201 [==============================] - 0s 2ms/step - loss: 0.4469 - accuracy: 0.8066 - precision: 0.6859 - recall: 0.0874 - val_loss: 0.4538 - val_accuracy: 0.8045 - val_precision: 0.6562 - val_recall: 0.1489\n",
      "Epoch 3/100\n",
      "201/201 [==============================] - 0s 2ms/step - loss: 0.4327 - accuracy: 0.8123 - precision: 0.6667 - recall: 0.1503 - val_loss: 0.4499 - val_accuracy: 0.8030 - val_precision: 0.7647 - val_recall: 0.0922\n",
      "Epoch 4/100\n",
      "201/201 [==============================] - 1s 3ms/step - loss: 0.4218 - accuracy: 0.8179 - precision: 0.6864 - recall: 0.1895 - val_loss: 0.4348 - val_accuracy: 0.8164 - val_precision: 0.7368 - val_recall: 0.1986\n",
      "Epoch 5/100\n",
      "201/201 [==============================] - 0s 2ms/step - loss: 0.4115 - accuracy: 0.8224 - precision: 0.6704 - recall: 0.2459 - val_loss: 0.4238 - val_accuracy: 0.8194 - val_precision: 0.7174 - val_recall: 0.2340\n",
      "Epoch 6/100\n",
      "201/201 [==============================] - 0s 2ms/step - loss: 0.3993 - accuracy: 0.8264 - precision: 0.6802 - recall: 0.2729 - val_loss: 0.4203 - val_accuracy: 0.8209 - val_precision: 0.8182 - val_recall: 0.1915\n",
      "Epoch 7/100\n",
      "201/201 [==============================] - 0s 2ms/step - loss: 0.3878 - accuracy: 0.8373 - precision: 0.7150 - recall: 0.3301 - val_loss: 0.4104 - val_accuracy: 0.8269 - val_precision: 0.7778 - val_recall: 0.2482\n",
      "Epoch 8/100\n",
      "201/201 [==============================] - 0s 2ms/step - loss: 0.3776 - accuracy: 0.8395 - precision: 0.7126 - recall: 0.3505 - val_loss: 0.3964 - val_accuracy: 0.8373 - val_precision: 0.7759 - val_recall: 0.3191\n",
      "Epoch 9/100\n",
      "201/201 [==============================] - 0s 2ms/step - loss: 0.3696 - accuracy: 0.8441 - precision: 0.7212 - recall: 0.3783 - val_loss: 0.3876 - val_accuracy: 0.8478 - val_precision: 0.7910 - val_recall: 0.3759\n",
      "Epoch 10/100\n",
      "201/201 [==============================] - 0s 2ms/step - loss: 0.3607 - accuracy: 0.8471 - precision: 0.7240 - recall: 0.3987 - val_loss: 0.3811 - val_accuracy: 0.8448 - val_precision: 0.7467 - val_recall: 0.3972\n",
      "Epoch 11/100\n",
      "201/201 [==============================] - 0s 2ms/step - loss: 0.3542 - accuracy: 0.8516 - precision: 0.7333 - recall: 0.4224 - val_loss: 0.3792 - val_accuracy: 0.8522 - val_precision: 0.8621 - val_recall: 0.3546\n",
      "Epoch 12/100\n",
      "201/201 [==============================] - 0s 2ms/step - loss: 0.3490 - accuracy: 0.8554 - precision: 0.7418 - recall: 0.4412 - val_loss: 0.3771 - val_accuracy: 0.8463 - val_precision: 0.7500 - val_recall: 0.4043\n",
      "Epoch 13/100\n",
      "201/201 [==============================] - 0s 2ms/step - loss: 0.3467 - accuracy: 0.8536 - precision: 0.7282 - recall: 0.4444 - val_loss: 0.3755 - val_accuracy: 0.8493 - val_precision: 0.8125 - val_recall: 0.3688\n",
      "Epoch 14/100\n",
      "201/201 [==============================] - 0s 2ms/step - loss: 0.3447 - accuracy: 0.8509 - precision: 0.7135 - recall: 0.4436 - val_loss: 0.3815 - val_accuracy: 0.8537 - val_precision: 0.9216 - val_recall: 0.3333\n",
      "Epoch 15/100\n",
      "201/201 [==============================] - 0s 2ms/step - loss: 0.3429 - accuracy: 0.8567 - precision: 0.7493 - recall: 0.4420 - val_loss: 0.3683 - val_accuracy: 0.8552 - val_precision: 0.7340 - val_recall: 0.4894\n",
      "Epoch 16/100\n",
      "201/201 [==============================] - 0s 2ms/step - loss: 0.3446 - accuracy: 0.8566 - precision: 0.7304 - recall: 0.4649 - val_loss: 0.3697 - val_accuracy: 0.8478 - val_precision: 0.6757 - val_recall: 0.5319\n",
      "Epoch 17/100\n",
      "201/201 [==============================] - 0s 2ms/step - loss: 0.3406 - accuracy: 0.8594 - precision: 0.7493 - recall: 0.4616 - val_loss: 0.3674 - val_accuracy: 0.8507 - val_precision: 0.7531 - val_recall: 0.4326\n",
      "Epoch 18/100\n",
      "201/201 [==============================] - 0s 2ms/step - loss: 0.3407 - accuracy: 0.8544 - precision: 0.7253 - recall: 0.4551 - val_loss: 0.3659 - val_accuracy: 0.8582 - val_precision: 0.8108 - val_recall: 0.4255\n",
      "Epoch 19/100\n",
      "201/201 [==============================] - 0s 2ms/step - loss: 0.3396 - accuracy: 0.8572 - precision: 0.7348 - recall: 0.4641 - val_loss: 0.3665 - val_accuracy: 0.8597 - val_precision: 0.8219 - val_recall: 0.4255\n",
      "Epoch 20/100\n",
      "201/201 [==============================] - 1s 3ms/step - loss: 0.3370 - accuracy: 0.8602 - precision: 0.7445 - recall: 0.4739 - val_loss: 0.3748 - val_accuracy: 0.8552 - val_precision: 0.8056 - val_recall: 0.4113\n",
      "104/104 [==============================] - 0s 2ms/step - loss: 0.3491 - accuracy: 0.8555 - precision: 0.7519 - recall: 0.4330\n",
      "[0.3491048216819763, 0.8554545640945435, 0.751937985420227, 0.4330357015132904]\n"
     ]
    },
    {
     "data": {
      "image/png": "[encoded data removed]",
      "text/plain": [
       "<Figure size 720x432 with 2 Axes>"
      ]
     },
     "metadata": {},
     "output_type": "display_data"
    },
    {
     "name": "stdout",
     "output_type": "stream",
     "text": [
      "Classification Report: \n",
      "               precision    recall  f1-score   support\n",
      "\n",
      "           0       0.87      0.96      0.91      2628\n",
      "           1       0.75      0.43      0.55       672\n",
      "\n",
      "    accuracy                           0.86      3300\n",
      "   macro avg       0.81      0.70      0.73      3300\n",
      "weighted avg       0.85      0.86      0.84      3300\n",
      "\n"
     ]
    }
   ],
   "source": [
    "y_preds = ANN(X_train, y_train, X_test, y_test)"
   ]
  },
  {
   "cell_type": "markdown",
   "id": "c93c8e41-a6bb-434c-8ca3-a25e6e1ccb44",
   "metadata": {},
   "source": [
    "## Undersampling"
   ]
  },
  {
   "cell_type": "code",
   "execution_count": 36,
   "id": "14b45bc8-a637-470a-98a7-93aa8cda0d54",
   "metadata": {},
   "outputs": [],
   "source": [
    "count_class_0, count_class_1 = y.value_counts()\n",
    "\n",
    "# Divide by class\n",
    "df_class_0 = df1[y == 0]\n",
    "df_class_1 = df1[y == 1]"
   ]
  },
  {
   "cell_type": "code",
   "execution_count": 38,
   "id": "aa217c27-76e8-4e8c-a160-437a60601df2",
   "metadata": {},
   "outputs": [
    {
     "name": "stdout",
     "output_type": "stream",
     "text": [
      "Random under-sampling:\n",
      "0    2037\n",
      "1    2037\n",
      "Name: Exited, dtype: int64\n"
     ]
    }
   ],
   "source": [
    "df_class_0_under = df_class_0.sample(count_class_1)\n",
    "df_test_under = pd.concat([df_class_0_under, df_class_1], axis=0)\n",
    "\n",
    "print('Random under-sampling:')\n",
    "print(df_test_under.Exited.value_counts())"
   ]
  },
  {
   "cell_type": "code",
   "execution_count": 39,
   "id": "e019180e-8d0c-4856-b14a-7fec9e148809",
   "metadata": {},
   "outputs": [],
   "source": [
    "X = df_test_under.drop(columns=['Exited'])\n",
    "y = df_test_under['Exited']"
   ]
  },
  {
   "cell_type": "code",
   "execution_count": 40,
   "id": "ce597861-c85c-4721-8d0c-fb6c05af0b29",
   "metadata": {},
   "outputs": [],
   "source": [
    "from sklearn.model_selection import train_test_split\n",
    "X_train, X_test, y_train, y_test = train_test_split(X, y, test_size=0.33, random_state=10, stratify=y)"
   ]
  },
  {
   "cell_type": "code",
   "execution_count": 41,
   "id": "f33caea9-a781-4985-9e5d-8571238e9a69",
   "metadata": {},
   "outputs": [
    {
     "name": "stdout",
     "output_type": "stream",
     "text": [
      "Epoch 1/100\n",
      "82/82 [==============================] - 1s 6ms/step - loss: 0.6733 - accuracy: 0.5774 - precision: 0.5567 - recall: 0.7727 - val_loss: 0.6494 - val_accuracy: 0.6374 - val_precision: 0.6065 - val_recall: 0.7121\n",
      "Epoch 2/100\n",
      "82/82 [==============================] - 0s 2ms/step - loss: 0.6348 - accuracy: 0.6397 - precision: 0.6376 - recall: 0.6526 - val_loss: 0.6131 - val_accuracy: 0.7033 - val_precision: 0.7429 - val_recall: 0.5909\n",
      "Epoch 3/100\n",
      "82/82 [==============================] - 0s 2ms/step - loss: 0.6115 - accuracy: 0.6665 - precision: 0.6794 - recall: 0.6347 - val_loss: 0.5925 - val_accuracy: 0.7143 - val_precision: 0.7077 - val_recall: 0.6970\n",
      "Epoch 4/100\n",
      "82/82 [==============================] - 0s 2ms/step - loss: 0.5966 - accuracy: 0.6816 - precision: 0.6860 - recall: 0.6737 - val_loss: 0.5776 - val_accuracy: 0.7326 - val_precision: 0.7521 - val_recall: 0.6667\n",
      "Epoch 5/100\n",
      "82/82 [==============================] - 0s 2ms/step - loss: 0.5843 - accuracy: 0.6938 - precision: 0.6948 - recall: 0.6948 - val_loss: 0.5676 - val_accuracy: 0.7289 - val_precision: 0.7589 - val_recall: 0.6439\n",
      "Epoch 6/100\n",
      "82/82 [==============================] - 0s 2ms/step - loss: 0.5705 - accuracy: 0.7011 - precision: 0.7054 - recall: 0.6940 - val_loss: 0.5543 - val_accuracy: 0.7216 - val_precision: 0.7373 - val_recall: 0.6591\n",
      "Epoch 7/100\n",
      "82/82 [==============================] - 0s 2ms/step - loss: 0.5627 - accuracy: 0.7121 - precision: 0.7200 - recall: 0.6972 - val_loss: 0.5472 - val_accuracy: 0.7253 - val_precision: 0.7615 - val_recall: 0.6288\n",
      "Epoch 8/100\n",
      "82/82 [==============================] - 0s 2ms/step - loss: 0.5510 - accuracy: 0.7256 - precision: 0.7345 - recall: 0.7094 - val_loss: 0.5359 - val_accuracy: 0.7289 - val_precision: 0.7014 - val_recall: 0.7652\n",
      "Epoch 9/100\n",
      "82/82 [==============================] - 0s 2ms/step - loss: 0.5445 - accuracy: 0.7300 - precision: 0.7330 - recall: 0.7265 - val_loss: 0.5252 - val_accuracy: 0.7399 - val_precision: 0.7699 - val_recall: 0.6591\n",
      "Epoch 10/100\n",
      "82/82 [==============================] - 0s 2ms/step - loss: 0.5345 - accuracy: 0.7378 - precision: 0.7458 - recall: 0.7240 - val_loss: 0.5220 - val_accuracy: 0.7326 - val_precision: 0.7921 - val_recall: 0.6061\n",
      "Epoch 11/100\n",
      "82/82 [==============================] - 0s 3ms/step - loss: 0.5237 - accuracy: 0.7390 - precision: 0.7469 - recall: 0.7256 - val_loss: 0.5070 - val_accuracy: 0.7619 - val_precision: 0.7310 - val_recall: 0.8030\n",
      "Epoch 12/100\n",
      "82/82 [==============================] - 0s 3ms/step - loss: 0.5145 - accuracy: 0.7443 - precision: 0.7521 - recall: 0.7313 - val_loss: 0.4977 - val_accuracy: 0.7509 - val_precision: 0.7388 - val_recall: 0.7500\n",
      "Epoch 13/100\n",
      "82/82 [==============================] - 0s 2ms/step - loss: 0.5038 - accuracy: 0.7488 - precision: 0.7548 - recall: 0.7394 - val_loss: 0.4924 - val_accuracy: 0.7692 - val_precision: 0.7413 - val_recall: 0.8030\n",
      "Epoch 14/100\n",
      "82/82 [==============================] - 0s 2ms/step - loss: 0.4944 - accuracy: 0.7634 - precision: 0.7728 - recall: 0.7484 - val_loss: 0.4817 - val_accuracy: 0.7766 - val_precision: 0.7886 - val_recall: 0.7348\n",
      "Epoch 15/100\n",
      "82/82 [==============================] - 0s 2ms/step - loss: 0.4844 - accuracy: 0.7647 - precision: 0.7743 - recall: 0.7492 - val_loss: 0.4802 - val_accuracy: 0.7546 - val_precision: 0.7876 - val_recall: 0.6742\n",
      "Epoch 16/100\n",
      "82/82 [==============================] - 0s 2ms/step - loss: 0.4800 - accuracy: 0.7700 - precision: 0.7819 - recall: 0.7508 - val_loss: 0.4736 - val_accuracy: 0.7766 - val_precision: 0.7840 - val_recall: 0.7424\n",
      "Epoch 17/100\n",
      "82/82 [==============================] - 0s 2ms/step - loss: 0.4741 - accuracy: 0.7712 - precision: 0.7792 - recall: 0.7589 - val_loss: 0.4703 - val_accuracy: 0.7802 - val_precision: 0.7769 - val_recall: 0.7652\n",
      "Epoch 18/100\n",
      "82/82 [==============================] - 0s 2ms/step - loss: 0.4677 - accuracy: 0.7752 - precision: 0.7838 - recall: 0.7622 - val_loss: 0.4662 - val_accuracy: 0.7802 - val_precision: 0.7951 - val_recall: 0.7348\n",
      "Epoch 19/100\n",
      "82/82 [==============================] - 0s 2ms/step - loss: 0.4684 - accuracy: 0.7712 - precision: 0.7815 - recall: 0.7549 - val_loss: 0.4695 - val_accuracy: 0.7692 - val_precision: 0.7949 - val_recall: 0.7045\n",
      "Epoch 20/100\n",
      "82/82 [==============================] - 0s 2ms/step - loss: 0.4654 - accuracy: 0.7708 - precision: 0.7837 - recall: 0.7500 - val_loss: 0.4653 - val_accuracy: 0.7912 - val_precision: 0.7820 - val_recall: 0.7879\n",
      "Epoch 21/100\n",
      "82/82 [==============================] - 0s 2ms/step - loss: 0.4587 - accuracy: 0.7830 - precision: 0.7891 - recall: 0.7744 - val_loss: 0.4659 - val_accuracy: 0.7875 - val_precision: 0.7891 - val_recall: 0.7652\n",
      "Epoch 22/100\n",
      "82/82 [==============================] - 0s 2ms/step - loss: 0.4607 - accuracy: 0.7765 - precision: 0.7834 - recall: 0.7662 - val_loss: 0.4692 - val_accuracy: 0.7692 - val_precision: 0.8053 - val_recall: 0.6894\n",
      "43/43 [==============================] - 0s 1ms/step - loss: 0.4719 - accuracy: 0.7755 - precision: 0.7677 - recall: 0.7905\n",
      "[0.4719166159629822, 0.7754647135734558, 0.7676767706871033, 0.7904903292655945]\n"
     ]
    },
    {
     "data": {
      "image/png": "[encoded data removed]",
      "text/plain": [
       "<Figure size 720x432 with 2 Axes>"
      ]
     },
     "metadata": {},
     "output_type": "display_data"
    },
    {
     "name": "stdout",
     "output_type": "stream",
     "text": [
      "Classification Report: \n",
      "               precision    recall  f1-score   support\n",
      "\n",
      "           0       0.78      0.76      0.77       672\n",
      "           1       0.77      0.79      0.78       673\n",
      "\n",
      "    accuracy                           0.78      1345\n",
      "   macro avg       0.78      0.78      0.78      1345\n",
      "weighted avg       0.78      0.78      0.78      1345\n",
      "\n"
     ]
    }
   ],
   "source": [
    "y_preds = ANN(X_train, y_train, X_test, y_test)"
   ]
  },
  {
   "cell_type": "code",
   "execution_count": null,
   "id": "4d641a95-0ecb-4385-ab74-71b23ab3c443",
   "metadata": {},
   "outputs": [],
   "source": []
  },
  {
   "cell_type": "markdown",
   "id": "b430a6a8-8c1b-4170-bedf-0e142852b25d",
   "metadata": {},
   "source": [
    "## Oversampling"
   ]
  },
  {
   "cell_type": "code",
   "execution_count": 42,
   "id": "1699f753-61c7-46c7-a7bb-04413f444ab4",
   "metadata": {},
   "outputs": [
    {
     "name": "stdout",
     "output_type": "stream",
     "text": [
      "Random over-sampling:\n",
      "0    7963\n",
      "1    7963\n",
      "Name: Exited, dtype: int64\n"
     ]
    }
   ],
   "source": [
    "df_class_1_over = df_class_1.sample(count_class_0, replace=True)\n",
    "df_test_over = pd.concat([df_class_0, df_class_1_over], axis=0)\n",
    "\n",
    "print('Random over-sampling:')\n",
    "print(df_test_over.Exited.value_counts())"
   ]
  },
  {
   "cell_type": "code",
   "execution_count": 44,
   "id": "a60d144f-f63b-4803-af2f-f860cb5f42b8",
   "metadata": {},
   "outputs": [],
   "source": [
    "X = df_test_over.drop(columns=['Exited'])\n",
    "y = df_test_over['Exited']"
   ]
  },
  {
   "cell_type": "code",
   "execution_count": 45,
   "id": "7e0735f3-2600-46d7-a8ba-78306e3cf7c6",
   "metadata": {},
   "outputs": [],
   "source": [
    "from sklearn.model_selection import train_test_split\n",
    "X_train, X_test, y_train, y_test = train_test_split(X, y, test_size=0.33, random_state=10, stratify=y)"
   ]
  },
  {
   "cell_type": "code",
   "execution_count": 46,
   "id": "4c0e828a-3867-4266-92a5-f174f9e0f7cd",
   "metadata": {},
   "outputs": [
    {
     "name": "stdout",
     "output_type": "stream",
     "text": [
      "Epoch 1/100\n",
      "321/321 [==============================] - 2s 3ms/step - loss: 0.6295 - accuracy: 0.6473 - precision: 0.6547 - recall: 0.6218 - val_loss: 0.5983 - val_accuracy: 0.6945 - val_precision: 0.7031 - val_recall: 0.6822\n",
      "Epoch 2/100\n",
      "321/321 [==============================] - 1s 2ms/step - loss: 0.5784 - accuracy: 0.6986 - precision: 0.6973 - recall: 0.7011 - val_loss: 0.5760 - val_accuracy: 0.7160 - val_precision: 0.7505 - val_recall: 0.6543\n",
      "Epoch 3/100\n",
      "321/321 [==============================] - 1s 2ms/step - loss: 0.5421 - accuracy: 0.7305 - precision: 0.7331 - recall: 0.7242 - val_loss: 0.5490 - val_accuracy: 0.7338 - val_precision: 0.7003 - val_recall: 0.8253\n",
      "Epoch 4/100\n",
      "321/321 [==============================] - 1s 2ms/step - loss: 0.5063 - accuracy: 0.7549 - precision: 0.7549 - recall: 0.7542 - val_loss: 0.5216 - val_accuracy: 0.7545 - val_precision: 0.7308 - val_recall: 0.8123\n",
      "Epoch 5/100\n",
      "321/321 [==============================] - 1s 2ms/step - loss: 0.4830 - accuracy: 0.7640 - precision: 0.7672 - recall: 0.7576 - val_loss: 0.4986 - val_accuracy: 0.7638 - val_precision: 0.7739 - val_recall: 0.7509\n",
      "Epoch 6/100\n",
      "321/321 [==============================] - 1s 2ms/step - loss: 0.4746 - accuracy: 0.7676 - precision: 0.7709 - recall: 0.7609 - val_loss: 0.5011 - val_accuracy: 0.7713 - val_precision: 0.7543 - val_recall: 0.8104\n",
      "Epoch 7/100\n",
      "321/321 [==============================] - 1s 2ms/step - loss: 0.4691 - accuracy: 0.7703 - precision: 0.7739 - recall: 0.7630 - val_loss: 0.4932 - val_accuracy: 0.7619 - val_precision: 0.7689 - val_recall: 0.7546\n",
      "Epoch 8/100\n",
      "321/321 [==============================] - 1s 2ms/step - loss: 0.4642 - accuracy: 0.7735 - precision: 0.7776 - recall: 0.7655 - val_loss: 0.4960 - val_accuracy: 0.7666 - val_precision: 0.7453 - val_recall: 0.8160\n",
      "Epoch 9/100\n",
      "321/321 [==============================] - 1s 2ms/step - loss: 0.4624 - accuracy: 0.7750 - precision: 0.7802 - recall: 0.7651 - val_loss: 0.4913 - val_accuracy: 0.7591 - val_precision: 0.7385 - val_recall: 0.8086\n",
      "Epoch 10/100\n",
      "321/321 [==============================] - 1s 2ms/step - loss: 0.4596 - accuracy: 0.7745 - precision: 0.7775 - recall: 0.7686 - val_loss: 0.4941 - val_accuracy: 0.7704 - val_precision: 0.7539 - val_recall: 0.8086\n",
      "Epoch 11/100\n",
      "321/321 [==============================] - 1s 2ms/step - loss: 0.4584 - accuracy: 0.7710 - precision: 0.7729 - recall: 0.7669 - val_loss: 0.4871 - val_accuracy: 0.7779 - val_precision: 0.7645 - val_recall: 0.8086\n",
      "Epoch 12/100\n",
      "321/321 [==============================] - 1s 2ms/step - loss: 0.4564 - accuracy: 0.7755 - precision: 0.7782 - recall: 0.7701 - val_loss: 0.5006 - val_accuracy: 0.7526 - val_precision: 0.7253 - val_recall: 0.8197\n",
      "Epoch 13/100\n",
      "321/321 [==============================] - 1s 2ms/step - loss: 0.4551 - accuracy: 0.7764 - precision: 0.7778 - recall: 0.7734 - val_loss: 0.4907 - val_accuracy: 0.7694 - val_precision: 0.7786 - val_recall: 0.7584\n",
      "165/165 [==============================] - 0s 1ms/step - loss: 0.4654 - accuracy: 0.7673 - precision: 0.7552 - recall: 0.7911\n",
      "[0.465443879365921, 0.767313539981842, 0.7551761865615845, 0.7910959124565125]\n"
     ]
    },
    {
     "data": {
      "image/png": "[encoded data removed]",
      "text/plain": [
       "<Figure size 720x432 with 2 Axes>"
      ]
     },
     "metadata": {},
     "output_type": "display_data"
    },
    {
     "name": "stdout",
     "output_type": "stream",
     "text": [
      "Classification Report: \n",
      "               precision    recall  f1-score   support\n",
      "\n",
      "           0       0.78      0.74      0.76      2628\n",
      "           1       0.76      0.79      0.77      2628\n",
      "\n",
      "    accuracy                           0.77      5256\n",
      "   macro avg       0.77      0.77      0.77      5256\n",
      "weighted avg       0.77      0.77      0.77      5256\n",
      "\n"
     ]
    }
   ],
   "source": [
    "y_preds = ANN(X_train, y_train, X_test, y_test)"
   ]
  },
  {
   "cell_type": "code",
   "execution_count": null,
   "id": "22c8b895-1133-419b-bc74-ab9d9e8f249e",
   "metadata": {},
   "outputs": [],
   "source": []
  },
  {
   "cell_type": "markdown",
   "id": "b1fc738a-69d9-4a46-8b2e-3ba0383e2259",
   "metadata": {},
   "source": [
    "## SMOTE"
   ]
  },
  {
   "cell_type": "code",
   "execution_count": 47,
   "id": "6a61bb59-06e1-4462-b142-c2baed4fc255",
   "metadata": {},
   "outputs": [
    {
     "name": "stdout",
     "output_type": "stream",
     "text": [
      "Collecting imbalanced-learn\n",
      "  Downloading imbalanced_learn-0.8.1-py3-none-any.whl (189 kB)\n",
      "Requirement already satisfied: scikit-learn>=0.24 in c:\\users\\utkarsh.goyal\\anaconda3\\lib\\site-packages (from imbalanced-learn) (0.24.2)\n",
      "Requirement already satisfied: scipy>=0.19.1 in c:\\users\\utkarsh.goyal\\anaconda3\\lib\\site-packages (from imbalanced-learn) (1.7.1)\n",
      "Requirement already satisfied: joblib>=0.11 in c:\\users\\utkarsh.goyal\\anaconda3\\lib\\site-packages (from imbalanced-learn) (1.0.1)\n",
      "Requirement already satisfied: numpy>=1.13.3 in c:\\users\\utkarsh.goyal\\anaconda3\\lib\\site-packages (from imbalanced-learn) (1.20.3)\n",
      "Requirement already satisfied: threadpoolctl>=2.0.0 in c:\\users\\utkarsh.goyal\\anaconda3\\lib\\site-packages (from scikit-learn>=0.24->imbalanced-learn) (2.2.0)\n",
      "Installing collected packages: imbalanced-learn\n",
      "Successfully installed imbalanced-learn-0.8.1\n"
     ]
    }
   ],
   "source": [
    "!pip install imbalanced-learn"
   ]
  },
  {
   "cell_type": "code",
   "execution_count": 48,
   "id": "32224b66-7c79-4caa-a0f9-610af1759ec6",
   "metadata": {},
   "outputs": [],
   "source": [
    "from imblearn.over_sampling import SMOTE"
   ]
  },
  {
   "cell_type": "code",
   "execution_count": 49,
   "id": "9669a534-70ca-4cee-9f21-b4bdfed7a8b7",
   "metadata": {},
   "outputs": [],
   "source": [
    "X = df1.drop('Exited', axis='columns')\n",
    "y = df1['Exited']"
   ]
  },
  {
   "cell_type": "code",
   "execution_count": 50,
   "id": "61dd968d-be22-44f8-86fd-9b4a46b2bb37",
   "metadata": {},
   "outputs": [
    {
     "data": {
      "text/plain": [
       "0    7963\n",
       "1    7963\n",
       "Name: Exited, dtype: int64"
      ]
     },
     "execution_count": 50,
     "metadata": {},
     "output_type": "execute_result"
    }
   ],
   "source": [
    "smote = SMOTE(sampling_strategy='minority')\n",
    "X_sm, y_sm = smote.fit_resample(X, y)\n",
    "\n",
    "y_sm.value_counts()"
   ]
  },
  {
   "cell_type": "code",
   "execution_count": 52,
   "id": "efaf810a-48b4-437b-8298-12680b152129",
   "metadata": {},
   "outputs": [],
   "source": [
    "from sklearn.model_selection import train_test_split\n",
    "X_train, X_test, y_train, y_test = train_test_split(X_sm, y_sm, test_size=0.33, random_state=10, stratify=y_sm)"
   ]
  },
  {
   "cell_type": "code",
   "execution_count": 53,
   "id": "b23f6ecf-109c-45e6-a225-1d05ebeda7c3",
   "metadata": {},
   "outputs": [
    {
     "name": "stdout",
     "output_type": "stream",
     "text": [
      "Epoch 1/100\n",
      "321/321 [==============================] - 2s 3ms/step - loss: 0.6249 - accuracy: 0.6552 - precision: 0.6631 - recall: 0.6298 - val_loss: 0.5929 - val_accuracy: 0.6926 - val_precision: 0.6959 - val_recall: 0.6933\n",
      "Epoch 2/100\n",
      "321/321 [==============================] - 1s 2ms/step - loss: 0.5759 - accuracy: 0.7022 - precision: 0.6975 - recall: 0.7132 - val_loss: 0.5717 - val_accuracy: 0.7132 - val_precision: 0.7239 - val_recall: 0.6970\n",
      "Epoch 3/100\n",
      "321/321 [==============================] - 1s 2ms/step - loss: 0.5495 - accuracy: 0.7270 - precision: 0.7247 - recall: 0.7311 - val_loss: 0.5489 - val_accuracy: 0.7320 - val_precision: 0.7218 - val_recall: 0.7621\n",
      "Epoch 4/100\n",
      "321/321 [==============================] - 1s 2ms/step - loss: 0.5208 - accuracy: 0.7431 - precision: 0.7469 - recall: 0.7346 - val_loss: 0.5276 - val_accuracy: 0.7591 - val_precision: 0.7322 - val_recall: 0.8234\n",
      "Epoch 5/100\n",
      "321/321 [==============================] - 1s 2ms/step - loss: 0.4991 - accuracy: 0.7547 - precision: 0.7581 - recall: 0.7473 - val_loss: 0.5061 - val_accuracy: 0.7676 - val_precision: 0.7535 - val_recall: 0.8011\n",
      "Epoch 6/100\n",
      "321/321 [==============================] - 1s 2ms/step - loss: 0.4806 - accuracy: 0.7658 - precision: 0.7693 - recall: 0.7586 - val_loss: 0.4931 - val_accuracy: 0.7545 - val_precision: 0.7634 - val_recall: 0.7435\n",
      "Epoch 7/100\n",
      "321/321 [==============================] - 1s 2ms/step - loss: 0.4702 - accuracy: 0.7702 - precision: 0.7733 - recall: 0.7638 - val_loss: 0.4936 - val_accuracy: 0.7545 - val_precision: 0.8000 - val_recall: 0.6840\n",
      "Epoch 8/100\n",
      "321/321 [==============================] - 1s 2ms/step - loss: 0.4624 - accuracy: 0.7709 - precision: 0.7772 - recall: 0.7590 - val_loss: 0.4839 - val_accuracy: 0.7573 - val_precision: 0.7796 - val_recall: 0.7230\n",
      "Epoch 9/100\n",
      "321/321 [==============================] - 1s 2ms/step - loss: 0.4610 - accuracy: 0.7761 - precision: 0.7820 - recall: 0.7651 - val_loss: 0.4997 - val_accuracy: 0.7619 - val_precision: 0.7145 - val_recall: 0.8792\n",
      "Epoch 10/100\n",
      "321/321 [==============================] - 1s 2ms/step - loss: 0.4567 - accuracy: 0.7784 - precision: 0.7828 - recall: 0.7701 - val_loss: 0.4798 - val_accuracy: 0.7741 - val_precision: 0.7574 - val_recall: 0.8123\n",
      "Epoch 11/100\n",
      "321/321 [==============================] - 1s 2ms/step - loss: 0.4514 - accuracy: 0.7792 - precision: 0.7866 - recall: 0.7659 - val_loss: 0.4812 - val_accuracy: 0.7666 - val_precision: 0.7470 - val_recall: 0.8123\n",
      "Epoch 12/100\n",
      "321/321 [==============================] - 1s 2ms/step - loss: 0.4490 - accuracy: 0.7823 - precision: 0.7890 - recall: 0.7701 - val_loss: 0.4817 - val_accuracy: 0.7685 - val_precision: 0.7504 - val_recall: 0.8104\n",
      "165/165 [==============================] - 0s 1ms/step - loss: 0.4569 - accuracy: 0.7835 - precision: 0.7616 - recall: 0.8253\n",
      "[0.4568520486354828, 0.7834855318069458, 0.7615870833396912, 0.8253424763679504]\n"
     ]
    },
    {
     "data": {
      "image/png": "[encoded data removed]",
      "text/plain": [
       "<Figure size 720x432 with 2 Axes>"
      ]
     },
     "metadata": {},
     "output_type": "display_data"
    },
    {
     "name": "stdout",
     "output_type": "stream",
     "text": [
      "Classification Report: \n",
      "               precision    recall  f1-score   support\n",
      "\n",
      "           0       0.81      0.74      0.77      2628\n",
      "           1       0.76      0.83      0.79      2628\n",
      "\n",
      "    accuracy                           0.78      5256\n",
      "   macro avg       0.79      0.78      0.78      5256\n",
      "weighted avg       0.79      0.78      0.78      5256\n",
      "\n"
     ]
    }
   ],
   "source": [
    "y_preds = ANN(X_train, y_train, X_test, y_test)"
   ]
  },
  {
   "cell_type": "code",
   "execution_count": null,
   "id": "c4d0185f-8c54-4c8b-a407-545eb3363ab4",
   "metadata": {},
   "outputs": [],
   "source": []
  }
 ],
 "metadata": {
  "kernelspec": {
   "display_name": "Python 3 (ipykernel)",
   "language": "python",
   "name": "python3"
  },
  "language_info": {
   "codemirror_mode": {
    "name": "ipython",
    "version": 3
   },
   "file_extension": ".py",
   "mimetype": "text/x-python",
   "name": "python",
   "nbconvert_exporter": "python",
   "pygments_lexer": "ipython3",
   "version": "3.8.8"
  },
  "widgets": {
   "application/vnd.jupyter.widget-state+json": {
    "state": {},
    "version_major": 2,
    "version_minor": 0
   }
  }
 },
 "nbformat": 4,
 "nbformat_minor": 5
}
