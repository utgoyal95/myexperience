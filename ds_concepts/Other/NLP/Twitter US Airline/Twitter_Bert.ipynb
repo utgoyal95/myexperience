{
 "cells": [
  {
   "cell_type": "code",
   "execution_count": 1,
   "id": "eabc3f90-201e-44fb-b8b6-012a39533f3a",
   "metadata": {},
   "outputs": [],
   "source": [
    "import tensorflow as tf\n",
    "import tensorflow_hub as hub\n",
    "import tensorflow_text as text\n",
    "\n",
    "import numpy as np\n",
    "\n",
    "import pandas as pd\n",
    "import matplotlib.pyplot as plt\n",
    "\n",
    "plt.style.use('seaborn')"
   ]
  },
  {
   "cell_type": "code",
   "execution_count": 2,
   "id": "3caef346-c316-4506-ad13-ecfd3f335af5",
   "metadata": {},
   "outputs": [
    {
     "data": {
      "text/html": [
       "<div>\n",
       "<style scoped>\n",
       "    .dataframe tbody tr th:only-of-type {\n",
       "        vertical-align: middle;\n",
       "    }\n",
       "\n",
       "    .dataframe tbody tr th {\n",
       "        vertical-align: top;\n",
       "    }\n",
       "\n",
       "    .dataframe thead th {\n",
       "        text-align: right;\n",
       "    }\n",
       "</style>\n",
       "<table border=\"1\" class=\"dataframe\">\n",
       "  <thead>\n",
       "    <tr style=\"text-align: right;\">\n",
       "      <th></th>\n",
       "      <th>text</th>\n",
       "      <th>airline_sentiment</th>\n",
       "    </tr>\n",
       "  </thead>\n",
       "  <tbody>\n",
       "    <tr>\n",
       "      <th>1044</th>\n",
       "      <td>@united well that's big of you but I don't hav...</td>\n",
       "      <td>negative</td>\n",
       "    </tr>\n",
       "    <tr>\n",
       "      <th>3792</th>\n",
       "      <td>@united Boeing 777 Star Alliance short finals ...</td>\n",
       "      <td>positive</td>\n",
       "    </tr>\n",
       "    <tr>\n",
       "      <th>7787</th>\n",
       "      <td>@JetBlue good to hear. Thx for being responsive.</td>\n",
       "      <td>positive</td>\n",
       "    </tr>\n",
       "    <tr>\n",
       "      <th>5275</th>\n",
       "      <td>@SouthwestAir no thanks</td>\n",
       "      <td>neutral</td>\n",
       "    </tr>\n",
       "    <tr>\n",
       "      <th>3557</th>\n",
       "      <td>@united @staralliance how can I book reward tr...</td>\n",
       "      <td>negative</td>\n",
       "    </tr>\n",
       "  </tbody>\n",
       "</table>\n",
       "</div>"
      ],
      "text/plain": [
       "                                                   text airline_sentiment\n",
       "1044  @united well that's big of you but I don't hav...          negative\n",
       "3792  @united Boeing 777 Star Alliance short finals ...          positive\n",
       "7787   @JetBlue good to hear. Thx for being responsive.          positive\n",
       "5275                            @SouthwestAir no thanks           neutral\n",
       "3557  @united @staralliance how can I book reward tr...          negative"
      ]
     },
     "execution_count": 2,
     "metadata": {},
     "output_type": "execute_result"
    }
   ],
   "source": [
    "df = pd.read_csv('Tweets.csv')\n",
    "df = df.reindex(np.random.permutation(df.index))  \n",
    "df = df[['text', 'airline_sentiment']]\n",
    "df.head()"
   ]
  },
  {
   "cell_type": "code",
   "execution_count": 3,
   "id": "e66c5594-110d-4b27-b012-7a3fc62ad32d",
   "metadata": {},
   "outputs": [],
   "source": [
    "sentiment_dict = {'negative':1, 'positive':2, 'neutral':0}"
   ]
  },
  {
   "cell_type": "code",
   "execution_count": 4,
   "id": "4eb4ba32-3d45-4101-9c25-067d6179c74d",
   "metadata": {},
   "outputs": [],
   "source": [
    "df['sentiment'] = df['airline_sentiment'].map(sentiment_dict)"
   ]
  },
  {
   "cell_type": "code",
   "execution_count": 5,
   "id": "f7b30576-d86a-4b32-b5b7-b056ebbd561b",
   "metadata": {},
   "outputs": [
    {
     "data": {
      "text/html": [
       "<div>\n",
       "<style scoped>\n",
       "    .dataframe tbody tr th:only-of-type {\n",
       "        vertical-align: middle;\n",
       "    }\n",
       "\n",
       "    .dataframe tbody tr th {\n",
       "        vertical-align: top;\n",
       "    }\n",
       "\n",
       "    .dataframe thead th {\n",
       "        text-align: right;\n",
       "    }\n",
       "</style>\n",
       "<table border=\"1\" class=\"dataframe\">\n",
       "  <thead>\n",
       "    <tr style=\"text-align: right;\">\n",
       "      <th></th>\n",
       "      <th>text</th>\n",
       "      <th>sentiment</th>\n",
       "    </tr>\n",
       "  </thead>\n",
       "  <tbody>\n",
       "    <tr>\n",
       "      <th>4200</th>\n",
       "      <td>@united took this picture on Thursday. #awesom...</td>\n",
       "      <td>2</td>\n",
       "    </tr>\n",
       "    <tr>\n",
       "      <th>7256</th>\n",
       "      <td>@JetBlue Didn't find out my flight for NY, sch...</td>\n",
       "      <td>1</td>\n",
       "    </tr>\n",
       "    <tr>\n",
       "      <th>8909</th>\n",
       "      <td>@JetBlue @JayVig YES! Great real-time example....</td>\n",
       "      <td>2</td>\n",
       "    </tr>\n",
       "    <tr>\n",
       "      <th>8341</th>\n",
       "      <td>@JetBlue Ever consider coming to Memphis?  Nee...</td>\n",
       "      <td>0</td>\n",
       "    </tr>\n",
       "    <tr>\n",
       "      <th>3191</th>\n",
       "      <td>@united enough already with the poor service, ...</td>\n",
       "      <td>1</td>\n",
       "    </tr>\n",
       "  </tbody>\n",
       "</table>\n",
       "</div>"
      ],
      "text/plain": [
       "                                                   text  sentiment\n",
       "4200  @united took this picture on Thursday. #awesom...          2\n",
       "7256  @JetBlue Didn't find out my flight for NY, sch...          1\n",
       "8909  @JetBlue @JayVig YES! Great real-time example....          2\n",
       "8341  @JetBlue Ever consider coming to Memphis?  Nee...          0\n",
       "3191  @united enough already with the poor service, ...          1"
      ]
     },
     "execution_count": 5,
     "metadata": {},
     "output_type": "execute_result"
    }
   ],
   "source": [
    "df.drop(columns=['airline_sentiment'], inplace=True)\n",
    "df.head()"
   ]
  },
  {
   "cell_type": "code",
   "execution_count": 6,
   "id": "31b23a77-c9c5-46ea-bbba-a4f545437587",
   "metadata": {},
   "outputs": [],
   "source": [
    "from sklearn.model_selection import train_test_split\n",
    "\n",
    "X_train, X_test, y_train, y_test = train_test_split(df['text'],df['sentiment'], stratify=df['sentiment'])"
   ]
  },
  {
   "cell_type": "markdown",
   "id": "40e9ed45-0f6b-4767-9d89-802720a4ea24",
   "metadata": {},
   "source": [
    "# Build Model"
   ]
  },
  {
   "cell_type": "code",
   "execution_count": 7,
   "id": "d2d01181-e097-496d-a6ed-a60e7de862c1",
   "metadata": {},
   "outputs": [],
   "source": [
    "bert_preprocess = hub.KerasLayer(\"https://tfhub.dev/tensorflow/bert_en_uncased_preprocess/3\")\n",
    "bert_encoder = hub.KerasLayer(\"https://tfhub.dev/tensorflow/bert_en_uncased_L-12_H-768_A-12/4\")"
   ]
  },
  {
   "cell_type": "code",
   "execution_count": 8,
   "id": "e66545ed-3cdb-4779-9aff-6efd4575cadb",
   "metadata": {},
   "outputs": [
    {
     "name": "stdout",
     "output_type": "stream",
     "text": [
      "Model: \"model\"\n",
      "__________________________________________________________________________________________________\n",
      " Layer (type)                   Output Shape         Param #     Connected to                     \n",
      "==================================================================================================\n",
      " text (InputLayer)              [(None,)]            0           []                               \n",
      "                                                                                                  \n",
      " keras_layer (KerasLayer)       {'input_word_ids':   0           ['text[0][0]']                   \n",
      "                                (None, 128),                                                      \n",
      "                                 'input_type_ids':                                                \n",
      "                                (None, 128),                                                      \n",
      "                                 'input_mask': (Non                                               \n",
      "                                e, 128)}                                                          \n",
      "                                                                                                  \n",
      " keras_layer_1 (KerasLayer)     {'pooled_output': (  109482241   ['keras_layer[0][0]',            \n",
      "                                None, 768),                       'keras_layer[0][1]',            \n",
      "                                 'sequence_output':               'keras_layer[0][2]']            \n",
      "                                 (None, 128, 768),                                                \n",
      "                                 'encoder_outputs':                                               \n",
      "                                 [(None, 128, 768),                                               \n",
      "                                 (None, 128, 768),                                                \n",
      "                                 (None, 128, 768),                                                \n",
      "                                 (None, 128, 768),                                                \n",
      "                                 (None, 128, 768),                                                \n",
      "                                 (None, 128, 768),                                                \n",
      "                                 (None, 128, 768),                                                \n",
      "                                 (None, 128, 768),                                                \n",
      "                                 (None, 128, 768),                                                \n",
      "                                 (None, 128, 768),                                                \n",
      "                                 (None, 128, 768),                                                \n",
      "                                 (None, 128, 768)],                                               \n",
      "                                 'default': (None,                                                \n",
      "                                768)}                                                             \n",
      "                                                                                                  \n",
      " dense (Dense)                  (None, 64)           49216       ['keras_layer_1[0][13]']         \n",
      "                                                                                                  \n",
      " dropout (Dropout)              (None, 64)           0           ['dense[0][0]']                  \n",
      "                                                                                                  \n",
      " dense_1 (Dense)                (None, 32)           2080        ['dropout[0][0]']                \n",
      "                                                                                                  \n",
      " dropout2 (Dropout)             (None, 32)           0           ['dense_1[0][0]']                \n",
      "                                                                                                  \n",
      " dense_2 (Dense)                (None, 16)           528         ['dropout2[0][0]']               \n",
      "                                                                                                  \n",
      " output (Dense)                 (None, 3)            51          ['dense_2[0][0]']                \n",
      "                                                                                                  \n",
      "==================================================================================================\n",
      "Total params: 109,534,116\n",
      "Trainable params: 51,875\n",
      "Non-trainable params: 109,482,241\n",
      "__________________________________________________________________________________________________\n"
     ]
    }
   ],
   "source": [
    "# Bert layers\n",
    "text_input = tf.keras.layers.Input(shape=(), dtype=tf.string, name='text')\n",
    "preprocessed_text = bert_preprocess(text_input)\n",
    "outputs = bert_encoder(preprocessed_text)\n",
    "\n",
    "# Neural network layers\n",
    "hidden1 = tf.keras.layers.Dense(64, activation='sigmoid')(outputs['pooled_output'])\n",
    "dropout1 = tf.keras.layers.Dropout(0.1, name=\"dropout\")(hidden1)\n",
    "hidden2 = tf.keras.layers.Dense(32, activation='sigmoid')(dropout1)\n",
    "dropout2 = tf.keras.layers.Dropout(0.1, name=\"dropout2\")(hidden2)\n",
    "hidden3 = tf.keras.layers.Dense(16, activation='sigmoid')(dropout2)\n",
    "l = tf.keras.layers.Dense(3, activation='softmax', name=\"output\")(hidden3)\n",
    "\n",
    "# l = tf.keras.layers.Dropout(0.1, name=\"dropout\")(outputs['pooled_output'])\n",
    "# l = tf.keras.layers.Dense(1, activation='sigmoid', name=\"output\")(l)\n",
    "\n",
    "# Use inputs and outputs to construct a final model\n",
    "model = tf.keras.Model(inputs=[text_input], outputs = [l])\n",
    "\n",
    "model.summary()"
   ]
  },
  {
   "cell_type": "code",
   "execution_count": 9,
   "id": "4c226d36-1d96-4180-b17d-d62ca81b1883",
   "metadata": {},
   "outputs": [],
   "source": [
    "early_stop = tf.keras.callbacks.EarlyStopping(monitor='val_loss', patience=2, restore_best_weights=True)\n",
    "\n",
    "model.compile(optimizer='SGD',\n",
    "              loss='sparse_categorical_crossentropy',\n",
    "              metrics=['accuracy'])"
   ]
  },
  {
   "cell_type": "markdown",
   "id": "b132d0e0-1d1e-48d4-832b-4fd43f3cf3bd",
   "metadata": {},
   "source": [
    "# Training "
   ]
  },
  {
   "cell_type": "code",
   "execution_count": 13,
   "id": "11e0f570-a25e-4568-9ffa-c0857c96f6a2",
   "metadata": {},
   "outputs": [
    {
     "name": "stdout",
     "output_type": "stream",
     "text": [
      "Epoch 1/10\n",
      "989/989 [==============================] - 2532s 3s/step - loss: 0.9246 - accuracy: 0.6190 - val_loss: 0.9004 - val_accuracy: 0.6403\n",
      "Epoch 2/10\n",
      "989/989 [==============================] - 2547s 3s/step - loss: 0.9190 - accuracy: 0.6255 - val_loss: 0.9009 - val_accuracy: 0.6403\n",
      "Epoch 3/10\n",
      "989/989 [==============================] - 2549s 3s/step - loss: 0.9183 - accuracy: 0.6255 - val_loss: 0.8966 - val_accuracy: 0.6403\n",
      "Epoch 4/10\n",
      "989/989 [==============================] - 2566s 3s/step - loss: 0.9186 - accuracy: 0.6255 - val_loss: 0.8963 - val_accuracy: 0.6403\n",
      "Epoch 5/10\n",
      "989/989 [==============================] - 2561s 3s/step - loss: 0.9186 - accuracy: 0.6255 - val_loss: 0.8959 - val_accuracy: 0.6403\n",
      "Epoch 6/10\n",
      "989/989 [==============================] - 2593s 3s/step - loss: 0.9175 - accuracy: 0.6255 - val_loss: 0.8955 - val_accuracy: 0.6403\n",
      "Epoch 7/10\n",
      "989/989 [==============================] - 2565s 3s/step - loss: 0.9166 - accuracy: 0.6255 - val_loss: 0.8983 - val_accuracy: 0.6403\n",
      "Epoch 8/10\n",
      "989/989 [==============================] - 2544s 3s/step - loss: 0.9176 - accuracy: 0.6255 - val_loss: 0.8960 - val_accuracy: 0.6403\n"
     ]
    }
   ],
   "source": [
    "history = model.fit(X_train, y_train, epochs=10, validation_split=0.1, batch_size=10, shuffle=True, callbacks=[early_stop])"
   ]
  },
  {
   "cell_type": "code",
   "execution_count": 14,
   "id": "d7cb27c7-707f-4dc4-b365-e31c97e364d7",
   "metadata": {},
   "outputs": [
    {
     "data": {
      "image/png": "[encoded data removed]",
      "text/plain": [
       "<Figure size 576x396 with 1 Axes>"
      ]
     },
     "metadata": {},
     "output_type": "display_data"
    }
   ],
   "source": [
    "# summarize history for accuracy\n",
    "plt.plot(history.history['accuracy'])\n",
    "plt.plot(history.history['val_accuracy'])\n",
    "plt.title('model accuracy')\n",
    "plt.ylabel('accuracy')\n",
    "plt.xlabel('epoch')\n",
    "plt.legend(['train', 'test'], loc='upper left')\n",
    "plt.show()"
   ]
  },
  {
   "cell_type": "code",
   "execution_count": 15,
   "id": "e70fc98f-7d16-4d65-b969-76b88020999e",
   "metadata": {},
   "outputs": [
    {
     "data": {
      "image/png": "[encoded data removed]",
      "text/plain": [
       "<Figure size 576x396 with 1 Axes>"
      ]
     },
     "metadata": {},
     "output_type": "display_data"
    }
   ],
   "source": [
    "# summarize history for loss\n",
    "plt.plot(history.history['loss'])\n",
    "plt.plot(history.history['val_loss'])\n",
    "plt.title('model loss')\n",
    "plt.ylabel('loss')\n",
    "plt.xlabel('epoch')\n",
    "plt.legend(['train', 'test'], loc='upper left')\n",
    "plt.show()"
   ]
  },
  {
   "cell_type": "markdown",
   "id": "699b4423-22f5-4b58-921a-0c61a76cae20",
   "metadata": {},
   "source": [
    "# Evalulate"
   ]
  },
  {
   "cell_type": "code",
   "execution_count": 16,
   "id": "7dc34e53-9172-49f4-a9fa-0c593ab8f4b9",
   "metadata": {},
   "outputs": [
    {
     "name": "stdout",
     "output_type": "stream",
     "text": [
      "115/115 [==============================] - 813s 7s/step - loss: 0.9141 - accuracy: 0.6268\n"
     ]
    },
    {
     "data": {
      "text/plain": [
       "[0.9141409397125244, 0.6267759799957275]"
      ]
     },
     "execution_count": 16,
     "metadata": {},
     "output_type": "execute_result"
    }
   ],
   "source": [
    "model.evaluate(X_test, y_test)"
   ]
  },
  {
   "cell_type": "markdown",
   "id": "d4c4c480-9b3b-438c-879e-a66dbabe7992",
   "metadata": {},
   "source": [
    "# Test"
   ]
  },
  {
   "cell_type": "code",
   "execution_count": 17,
   "id": "8ee86116-204e-4276-91ae-94a4352c8e48",
   "metadata": {},
   "outputs": [
    {
     "data": {
      "text/plain": [
       "array([[0.20644058, 0.6352408 , 0.15831865],\n",
       "       [0.20780818, 0.6325646 , 0.15962723],\n",
       "       [0.2082353 , 0.63209474, 0.15967001],\n",
       "       [0.20980795, 0.6273941 , 0.16279803]], dtype=float32)"
      ]
     },
     "execution_count": 17,
     "metadata": {},
     "output_type": "execute_result"
    }
   ],
   "source": [
    "reviews = [\n",
    "    'very poor, turbulent',\n",
    "    'amazing flight!',\n",
    "    \"i will never fly again!\",\n",
    "    \"wish you flew to boston\"\n",
    "\n",
    "]\n",
    "model.predict(reviews)"
   ]
  },
  {
   "cell_type": "code",
   "execution_count": null,
   "id": "0bffeced-7a7c-4cca-b86c-beded4a9252a",
   "metadata": {},
   "outputs": [],
   "source": []
  }
 ],
 "metadata": {
  "kernelspec": {
   "display_name": "Python 3 (ipykernel)",
   "language": "python",
   "name": "python3"
  },
  "language_info": {
   "codemirror_mode": {
    "name": "ipython",
    "version": 3
   },
   "file_extension": ".py",
   "mimetype": "text/x-python",
   "name": "python",
   "nbconvert_exporter": "python",
   "pygments_lexer": "ipython3",
   "version": "3.8.8"
  },
  "widgets": {
   "application/vnd.jupyter.widget-state+json": {
    "state": {},
    "version_major": 2,
    "version_minor": 0
   }
  }
 },
 "nbformat": 4,
 "nbformat_minor": 5
}
