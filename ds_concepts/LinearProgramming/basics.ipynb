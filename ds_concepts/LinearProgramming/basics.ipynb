{
 "cells": [
  {
   "cell_type": "markdown",
   "id": "acb1f907-8d3c-429e-89ad-36bbd9ed3e0f",
   "metadata": {},
   "source": [
    "Resource: https://towardsdatascience.com/linear-programming-theory-and-applications-c67600591612"
   ]
  },
  {
   "cell_type": "code",
   "execution_count": 1,
   "id": "913c8f44-ae52-4d73-a7ad-600703fdd818",
   "metadata": {},
   "outputs": [],
   "source": [
    "import numpy as np\n",
    "from scipy.optimize import linprog"
   ]
  },
  {
   "cell_type": "markdown",
   "id": "de13af64-5285-4362-bc5e-82c7d21387ab",
   "metadata": {},
   "source": [
    "# Simple Examples"
   ]
  },
  {
   "cell_type": "code",
   "execution_count": 2,
   "id": "f329bae1-9ea5-4a1b-a9cc-2527a564aa8f",
   "metadata": {},
   "outputs": [],
   "source": [
    "from pulp import *"
   ]
  },
  {
   "cell_type": "code",
   "execution_count": 3,
   "id": "cf8f6108-c9ba-4612-b0af-f45e499543ff",
   "metadata": {},
   "outputs": [],
   "source": [
    "my_lp_problem = LpProblem(\"Problem1\", LpMaximize)\n",
    "x = LpVariable('x', lowBound=0, cat='Integer')\n",
    "y = LpVariable('y', lowBound=0, cat='Integer')"
   ]
  },
  {
   "cell_type": "code",
   "execution_count": 4,
   "id": "710571da-683c-42eb-897c-4a46487dfb9a",
   "metadata": {},
   "outputs": [],
   "source": [
    "# Objective function\n",
    "my_lp_problem += 5*x + 4*y, \"Z\"\n",
    "\n",
    "# Constraints\n",
    "my_lp_problem += 2*x + 3*y <= 12\n",
    "my_lp_problem += 2*x + y <= 6"
   ]
  },
  {
   "cell_type": "code",
   "execution_count": 5,
   "id": "006918ec-2cf2-487c-a9ee-e324cfc438d8",
   "metadata": {},
   "outputs": [
    {
     "data": {
      "text/plain": [
       "Problem1:\n",
       "MAXIMIZE\n",
       "5*x + 4*y + 0\n",
       "SUBJECT TO\n",
       "_C1: 2 x + 3 y <= 12\n",
       "\n",
       "_C2: 2 x + y <= 6\n",
       "\n",
       "VARIABLES\n",
       "0 <= x Integer\n",
       "0 <= y Integer"
      ]
     },
     "execution_count": 5,
     "metadata": {},
     "output_type": "execute_result"
    }
   ],
   "source": [
    "my_lp_problem"
   ]
  },
  {
   "cell_type": "code",
   "execution_count": 6,
   "id": "9b9d5dae-c230-44b8-8d5e-896cb0f8db5e",
   "metadata": {},
   "outputs": [
    {
     "name": "stdout",
     "output_type": "stream",
     "text": [
      "Welcome to the CBC MILP Solver \n",
      "Version: 2.10.3 \n",
      "Build Date: Dec 15 2019 \n",
      "\n",
      "command line - /Users/utkarshgoyal/opt/anaconda3/lib/python3.9/site-packages/pulp/solverdir/cbc/osx/64/cbc /var/folders/sc/m38hzk_90cn6t0363cr74ny40000gn/T/f37ec209416740f588e5356fbf73b945-pulp.mps max timeMode elapsed branch printingOptions all solution /var/folders/sc/m38hzk_90cn6t0363cr74ny40000gn/T/f37ec209416740f588e5356fbf73b945-pulp.sol (default strategy 1)\n",
      "At line 2 NAME          MODEL\n",
      "At line 3 ROWS\n",
      "At line 7 COLUMNS\n",
      "At line 18 RHS\n",
      "At line 21 BOUNDS\n",
      "At line 24 ENDATA\n",
      "Problem MODEL has 2 rows, 2 columns and 4 elements\n",
      "Coin0008I MODEL read with 0 errors\n",
      "Option for timeMode changed from cpu to elapsed\n",
      "Continuous objective value is 19.5 - 0.00 seconds\n",
      "Cgl0004I processed model has 2 rows, 2 columns (2 integer (0 of which binary)) and 4 elements\n",
      "Cutoff increment increased from 1e-05 to 0.9999\n",
      "Cbc0012I Integer solution of -17 found by DiveCoefficient after 0 iterations and 0 nodes (0.00 seconds)\n",
      "Cbc0012I Integer solution of -18 found by DiveCoefficient after 1 iterations and 0 nodes (0.00 seconds)\n",
      "Cbc0013I At root node, 0 cuts changed objective from -19.5 to -18 in 2 passes\n",
      "Cbc0014I Cut generator 0 (Probing) - 0 row cuts average 0.0 elements, 2 column cuts (2 active)  in 0.000 seconds - new frequency is 1\n",
      "Cbc0014I Cut generator 1 (Gomory) - 0 row cuts average 0.0 elements, 0 column cuts (0 active)  in 0.000 seconds - new frequency is -100\n",
      "Cbc0014I Cut generator 2 (Knapsack) - 0 row cuts average 0.0 elements, 0 column cuts (0 active)  in 0.000 seconds - new frequency is -100\n",
      "Cbc0014I Cut generator 3 (Clique) - 0 row cuts average 0.0 elements, 0 column cuts (0 active)  in 0.000 seconds - new frequency is -100\n",
      "Cbc0014I Cut generator 4 (MixedIntegerRounding2) - 0 row cuts average 0.0 elements, 0 column cuts (0 active)  in 0.000 seconds - new frequency is -100\n",
      "Cbc0014I Cut generator 5 (FlowCover) - 0 row cuts average 0.0 elements, 0 column cuts (0 active)  in 0.000 seconds - new frequency is -100\n",
      "Cbc0001I Search completed - best objective -18, took 1 iterations and 0 nodes (0.00 seconds)\n",
      "Cbc0035I Maximum depth 0, 0 variables fixed on reduced cost\n",
      "Cuts at root node changed objective from -19.5 to -18\n",
      "Probing was tried 2 times and created 2 cuts of which 0 were active after adding rounds of cuts (0.000 seconds)\n",
      "Gomory was tried 2 times and created 0 cuts of which 0 were active after adding rounds of cuts (0.000 seconds)\n",
      "Knapsack was tried 2 times and created 0 cuts of which 0 were active after adding rounds of cuts (0.000 seconds)\n",
      "Clique was tried 2 times and created 0 cuts of which 0 were active after adding rounds of cuts (0.000 seconds)\n",
      "MixedIntegerRounding2 was tried 2 times and created 0 cuts of which 0 were active after adding rounds of cuts (0.000 seconds)\n",
      "FlowCover was tried 2 times and created 0 cuts of which 0 were active after adding rounds of cuts (0.000 seconds)\n",
      "TwoMirCuts was tried 1 times and created 0 cuts of which 0 were active after adding rounds of cuts (0.00"
     ]
    },
    {
     "data": {
      "text/plain": [
       "'Optimal'"
      ]
     },
     "execution_count": 6,
     "metadata": {},
     "output_type": "execute_result"
    },
    {
     "name": "stdout",
     "output_type": "stream",
     "text": [
      "0 seconds)\n",
      "ZeroHalf was tried 1 times and created 0 cuts of which 0 were active after adding rounds of cuts (0.000 seconds)\n",
      "\n",
      "Result - Optimal solution found\n",
      "\n",
      "Objective value:                18.00000000\n",
      "Enumerated nodes:               0\n",
      "Total iterations:               1\n",
      "Time (CPU seconds):             0.00\n",
      "Time (Wallclock seconds):       0.01\n",
      "\n",
      "Option for printingOptions changed from normal to all\n",
      "Total time (CPU seconds):       0.00   (Wallclock seconds):       0.01\n",
      "\n"
     ]
    }
   ],
   "source": [
    "my_lp_problem.solve()\n",
    "LpStatus[my_lp_problem.status]"
   ]
  },
  {
   "cell_type": "code",
   "execution_count": 7,
   "id": "be2a1428-fa6e-4e3e-b73c-f236c629ebf8",
   "metadata": {},
   "outputs": [
    {
     "data": {
      "text/plain": [
       "18.0"
      ]
     },
     "execution_count": 7,
     "metadata": {},
     "output_type": "execute_result"
    }
   ],
   "source": [
    "value(my_lp_problem.objective)"
   ]
  },
  {
   "cell_type": "code",
   "execution_count": 8,
   "id": "d79d47c1-defe-4ae1-9e58-6942dfd67177",
   "metadata": {},
   "outputs": [
    {
     "name": "stdout",
     "output_type": "stream",
     "text": [
      "x = 2.0\n",
      "y = 2.0\n"
     ]
    }
   ],
   "source": [
    "for variable in my_lp_problem.variables():\n",
    "    print(\"{} = {}\".format(variable.name, variable.varValue))"
   ]
  },
  {
   "cell_type": "markdown",
   "id": "9cd90ba9-53a0-457d-989c-907044ea8dbf",
   "metadata": {},
   "source": [
    "# Product Mix"
   ]
  },
  {
   "cell_type": "markdown",
   "id": "0d3a00bc-d940-4bdc-96b7-3343b40d25a9",
   "metadata": {},
   "source": [
    "## Scipy"
   ]
  },
  {
   "cell_type": "code",
   "execution_count": 9,
   "id": "3e9b92ef-5349-4dc9-a726-f971a03a4f10",
   "metadata": {},
   "outputs": [],
   "source": [
    "margins = np.array([2.15, 1.34, 1.72])\n",
    "c = - margins\n",
    "\n",
    "# A matrix\n",
    "A = np.array([\n",
    "    [7/10, 1/3, 1/2],\n",
    "    [1/5, 2/3, 1/6],\n",
    "    [1/10, 0.0, 1/3]\n",
    "])\n",
    "\n",
    "b = np.array([8000.0, 3000.0, 2500.0])"
   ]
  },
  {
   "cell_type": "code",
   "execution_count": 10,
   "id": "71759f86-b86d-4c5b-8a50-19d0606f5bc0",
   "metadata": {},
   "outputs": [
    {
     "name": "stdout",
     "output_type": "stream",
     "text": [
      "[7105.26 1026.32 5368.42]\n"
     ]
    }
   ],
   "source": [
    "sol = linprog(c, A_ub=A, b_ub=b)\n",
    "print(sol.x.round(2))"
   ]
  },
  {
   "cell_type": "markdown",
   "id": "f9b99976-3816-4bf0-b417-fda1f9982f99",
   "metadata": {},
   "source": [
    "## Pulp"
   ]
  },
  {
   "cell_type": "code",
   "execution_count": 11,
   "id": "72b903ad-8446-4147-97bf-f66137a45ce9",
   "metadata": {},
   "outputs": [
    {
     "data": {
      "text/plain": [
       "productmix:\n",
       "MAXIMIZE\n",
       "2.15*D + 1.34*E + 1.72*F + 0.0\n",
       "SUBJECT TO\n",
       "_C1: 0.7 D + 0.333333333333 E + 0.5 F <= 8000\n",
       "\n",
       "_C2: 0.2 D + 0.666666666667 E + 0.166666666667 F <= 3000\n",
       "\n",
       "_C3: 0.1 D + 0.333333333333 F <= 2500\n",
       "\n",
       "VARIABLES\n",
       "D Continuous\n",
       "E Continuous\n",
       "F Continuous"
      ]
     },
     "execution_count": 11,
     "metadata": {},
     "output_type": "execute_result"
    }
   ],
   "source": [
    "my_lp_problem = LpProblem(\"productmix\", LpMaximize)\n",
    "# Products\n",
    "D = LpVariable('D', lowBound=0, cat='Continuous')\n",
    "E = LpVariable('E', lowBound=0, cat='Continuous')\n",
    "F = LpVariable('F', lowBound=0, cat='Continuous')\n",
    "\n",
    "# Objective function\n",
    "my_lp_problem += 2.15*D + 1.34*E + 1.72*F, \"Z\"\n",
    "\n",
    "# Constraints\n",
    "my_lp_problem += .7*D + (1/3)*E + .5*F <= 8000 \n",
    "my_lp_problem += .2*D + (2/3)*E + (1/6)*F <= 3000\n",
    "my_lp_problem += .1*D + (0)*E + (1/3)*F <= 2500\n",
    "\n",
    "my_lp_problem"
   ]
  },
  {
   "cell_type": "code",
   "execution_count": 12,
   "id": "af90047b-9119-4915-871a-c4f8c8103fa2",
   "metadata": {},
   "outputs": [
    {
     "name": "stdout",
     "output_type": "stream",
     "text": [
      "Welcome to the CBC MILP Solver \n",
      "Version: 2.10.3 \n",
      "Build Date: Dec 15 2019 \n",
      "\n",
      "command line - /Users/utkarshgoyal/opt/anaconda3/lib/python3.9/site-packages/pulp/solverdir/cbc/osx/64/cbc /var/folders/sc/m38hzk_90cn6t0363cr74ny40000gn/T/4df8c31abe024807ab305887d3c360ef-pulp.mps max timeMode elapsed branch printingOptions all solution /var/folders/sc/m38hzk_90cn6t0363cr74ny40000gn/T/4df8c31abe024807ab305887d3c360ef-pulp.sol (default strategy 1)\n",
      "At line 2 NAME          MODEL\n",
      "At line 3 ROWS\n",
      "At line 8 COLUMNS\n",
      "At line 20 RHS\n",
      "At line 24 BOUNDS\n",
      "At line 25 ENDATA\n",
      "Problem MODEL has 3 rows, 3 columns and 8 elements\n",
      "Coin0008I MODEL read with 0 errors\n",
      "Option for timeMode changed from cpu to elapsed\n",
      "Presolve 3 (0) rows, 3 (0) columns and 8 (0) elements\n",
      "0  Obj -0 Dual inf 5.2099997 (3)\n",
      "0  Obj -0 Dual inf 5.2099997 (3)\n",
      "3  Obj 25885.263\n",
      "Optimal - objective value 25885.263\n",
      "Optimal objective 25885.26316 - 3 iterations time 0.002\n",
      "Option for printingOptions changed from normal to all\n",
      "Total time (CPU seconds):       0.00   (Wallclock seconds):       0.00\n",
      "\n"
     ]
    },
    {
     "data": {
      "text/plain": [
       "1"
      ]
     },
     "execution_count": 12,
     "metadata": {},
     "output_type": "execute_result"
    }
   ],
   "source": [
    "my_lp_problem.solve()"
   ]
  },
  {
   "cell_type": "code",
   "execution_count": 13,
   "id": "74ec1677-136c-4ef6-946f-7f5d135cde03",
   "metadata": {},
   "outputs": [
    {
     "data": {
      "text/plain": [
       "'Optimal'"
      ]
     },
     "execution_count": 13,
     "metadata": {},
     "output_type": "execute_result"
    }
   ],
   "source": [
    "LpStatus[my_lp_problem.status]"
   ]
  },
  {
   "cell_type": "code",
   "execution_count": 14,
   "id": "ec16d935-4b20-44d9-bd27-b13d2e0468aa",
   "metadata": {},
   "outputs": [
    {
     "data": {
      "text/plain": [
       "25885.26"
      ]
     },
     "execution_count": 14,
     "metadata": {},
     "output_type": "execute_result"
    }
   ],
   "source": [
    "round(value(my_lp_problem.objective), 2)"
   ]
  },
  {
   "cell_type": "code",
   "execution_count": 15,
   "id": "cbd749ac-4ed6-4d25-9b6c-f3a7941418a5",
   "metadata": {},
   "outputs": [
    {
     "name": "stdout",
     "output_type": "stream",
     "text": [
      "D = 7105.26\n",
      "E = 1026.32\n",
      "F = 5368.42\n"
     ]
    }
   ],
   "source": [
    "for variable in my_lp_problem.variables():\n",
    "    print(\"{} = {:.2f}\".format(variable.name, variable.varValue))"
   ]
  },
  {
   "cell_type": "markdown",
   "id": "c547cf0e-aa35-4641-806d-f33fd83d5bfc",
   "metadata": {},
   "source": [
    "# Furniture Mix"
   ]
  },
  {
   "cell_type": "code",
   "execution_count": 16,
   "id": "346e17bb-b93c-4d06-a0f8-6d8edabeddea",
   "metadata": {},
   "outputs": [
    {
     "data": {
      "text/plain": [
       "furnituremix:\n",
       "MAXIMIZE\n",
       "45*bookcases + 30*chairs + 40*tables + 0\n",
       "SUBJECT TO\n",
       "_C1: 2.5 bookcases + chairs + 2 tables <= 60\n",
       "\n",
       "_C2: bookcases + 0.6 chairs + 0.8 tables <= 16\n",
       "\n",
       "_C3: 30 bookcases + 20 chairs + 30 tables <= 400\n",
       "\n",
       "_C4: tables >= 10\n",
       "\n",
       "VARIABLES\n",
       "0 <= bookcases Integer\n",
       "0 <= chairs Integer\n",
       "10 <= tables Integer"
      ]
     },
     "execution_count": 16,
     "metadata": {},
     "output_type": "execute_result"
    }
   ],
   "source": [
    "my_lp_problem = LpProblem(\"furnituremix\", LpMaximize)\n",
    "# Products\n",
    "D = LpVariable('tables', lowBound=10, cat='Integer')\n",
    "E = LpVariable('chairs', lowBound=0, cat='Integer')\n",
    "F = LpVariable('bookcases', lowBound=0, cat='Integer')\n",
    "\n",
    "# Objective function\n",
    "my_lp_problem += 40*D + 30*E + 45*F, \"Z\"\n",
    "\n",
    "# Constraints\n",
    "my_lp_problem += 2*D + (1)*E + 2.5*F <= 60 \n",
    "my_lp_problem += .8*D + (0.6)*E + (1)*F <= 16\n",
    "my_lp_problem += 30*D + (20)*E + (30)*F <= 400\n",
    "my_lp_problem += D >= 10\n",
    "\n",
    "my_lp_problem"
   ]
  },
  {
   "cell_type": "code",
   "execution_count": 17,
   "id": "53819624-a056-45bf-b144-e8ed7cd9033e",
   "metadata": {},
   "outputs": [
    {
     "name": "stdout",
     "output_type": "stream",
     "text": [
      "Welcome to the CBC MILP Solver \n",
      "Version: 2.10.3 \n",
      "Build Date: Dec 15 2019 \n",
      "\n",
      "command line - /Users/utkarshgoyal/opt/anaconda3/lib/python3.9/site-packages/pulp/solverdir/cbc/osx/64/cbc /var/folders/sc/m38hzk_90cn6t0363cr74ny40000gn/T/fe91a739d2904c2b841581de52c8d048-pulp.mps max timeMode elapsed branch printingOptions all solution /var/folders/sc/m38hzk_90cn6t0363cr74ny40000gn/T/fe91a739d2904c2b841581de52c8d048-pulp.sol (default strategy 1)\n",
      "At line 2 NAME          MODEL\n",
      "At line 3 ROWS\n",
      "At line 9 COLUMNS\n",
      "At line 29 RHS\n",
      "At line 34 BOUNDS\n",
      "At line 38 ENDATA\n",
      "Problem MODEL has 4 rows, 3 columns and 10 elements\n",
      "Coin0008I MODEL read with 0 errors\n",
      "Option for timeMode changed from cpu to elapsed\n",
      "Continuous objective value is 550 - 0.00 seconds\n",
      "Cgl0004I processed model has 2 rows, 3 columns (3 integer (0 of which binary)) and 6 elements\n",
      "Cutoff increment increased from 1e-05 to 4.9999\n",
      "Cbc0012I Integer solution of -550 found by DiveCoefficient after 0 iterations and 0 nodes (0.00 seconds)\n",
      "Cbc0001I Search completed - best objective -550, took 0 iterations and 0 nodes (0.00 seconds)\n",
      "Cbc0035I Maximum depth 0, 0 variables fixed on reduced cost\n",
      "Cuts at root node changed objective from -550 to -550\n",
      "Probing was tried 0 times and created 0 cuts of which 0 were active after adding rounds of cuts (0.000 seconds)\n",
      "Gomory was tried 0 times and created 0 cuts of which 0 were active after adding rounds of cuts (0.000 seconds)\n",
      "Knapsack was tried 0 times and created 0 cuts of which 0 were active after adding rounds of cuts (0.000 seconds)\n",
      "Clique was tried 0 times and created 0 cuts of which 0 were active after adding rounds of cuts (0.000 seconds)\n",
      "MixedIntegerRounding2 was tried 0 times and created 0 cuts of which 0 were active after adding rounds of cuts (0.000 seconds)\n",
      "FlowCover was tried 0 times and created 0 cuts of which 0 were active after adding rounds of cuts (0.000 seconds)\n",
      "TwoMirCuts was tried 0 times and created 0 cuts of which 0 were active after adding rounds of cuts (0.000 seconds)\n",
      "ZeroHalf was tried 0 times and created 0 cuts of which 0 were active after adding rounds of cuts (0.000 seconds)\n",
      "\n",
      "Result - Optimal solution found\n",
      "\n",
      "Objective value:                550.00000000\n",
      "Enumerated nodes:               0\n",
      "Total iterations:               0\n",
      "Time (CPU seconds):             0.00\n",
      "Time (Wallclock seconds):       0.00\n",
      "\n",
      "Option for printingOptions changed from normal to all\n",
      "Total time (CPU seconds):       0.00   (Wallclock seconds):       0.01\n",
      "\n"
     ]
    },
    {
     "data": {
      "text/plain": [
       "1"
      ]
     },
     "execution_count": 17,
     "metadata": {},
     "output_type": "execute_result"
    }
   ],
   "source": [
    "my_lp_problem.solve()"
   ]
  },
  {
   "cell_type": "code",
   "execution_count": 18,
   "id": "6938a5cc-68a6-4b33-b9ae-bbc5eed5f20b",
   "metadata": {},
   "outputs": [
    {
     "data": {
      "text/plain": [
       "'Optimal'"
      ]
     },
     "execution_count": 18,
     "metadata": {},
     "output_type": "execute_result"
    }
   ],
   "source": [
    "LpStatus[my_lp_problem.status]"
   ]
  },
  {
   "cell_type": "code",
   "execution_count": 19,
   "id": "68059c68-17c0-42d1-8d55-2c3a6639b335",
   "metadata": {},
   "outputs": [
    {
     "data": {
      "text/plain": [
       "550.0"
      ]
     },
     "execution_count": 19,
     "metadata": {},
     "output_type": "execute_result"
    }
   ],
   "source": [
    "round(value(my_lp_problem.objective), 2)"
   ]
  },
  {
   "cell_type": "code",
   "execution_count": 20,
   "id": "774b4aaa-d2e0-4dc8-8ba7-ec8a53ddf226",
   "metadata": {},
   "outputs": [
    {
     "name": "stdout",
     "output_type": "stream",
     "text": [
      "bookcases = 0.00\n",
      "chairs = 5.00\n",
      "tables = 10.00\n"
     ]
    }
   ],
   "source": [
    "for variable in my_lp_problem.variables():\n",
    "    print(\"{} = {:.2f}\".format(variable.name, variable.varValue))"
   ]
  },
  {
   "cell_type": "code",
   "execution_count": null,
   "id": "d1762e04-edad-4b53-b8c0-a2838650ae16",
   "metadata": {},
   "outputs": [],
   "source": []
  },
  {
   "cell_type": "markdown",
   "id": "694aac32-dd38-404b-ba26-11fc95d7f8b9",
   "metadata": {},
   "source": [
    "# Labour Problem"
   ]
  },
  {
   "cell_type": "code",
   "execution_count": 31,
   "id": "cfd5d66b-922f-4525-8dc5-5471cc6762b4",
   "metadata": {},
   "outputs": [
    {
     "data": {
      "text/plain": [
       "labour:\n",
       "MAXIMIZE\n",
       "3*p1 + 4*p2 + 0\n",
       "SUBJECT TO\n",
       "_C1: 2 p1 + 5 p2 <= 30\n",
       "\n",
       "_C2: 2 p1 + p2 <= 10\n",
       "\n",
       "VARIABLES\n",
       "p1 Continuous\n",
       "p2 Continuous"
      ]
     },
     "execution_count": 31,
     "metadata": {},
     "output_type": "execute_result"
    }
   ],
   "source": [
    "my_lp_problem = LpProblem(\"labour\", LpMaximize)\n",
    "# Products\n",
    "x = LpVariable('p1', lowBound=0, cat='Continuous')\n",
    "y = LpVariable('p2', lowBound=0, cat='Continuous')\n",
    "\n",
    "# Objective function\n",
    "my_lp_problem += 3*x + 4*y , \"Z\"\n",
    "\n",
    "# Constraints\n",
    "my_lp_problem += 2*x + 5*y <= 30 \n",
    "my_lp_problem += 2*x + y <= 10\n",
    "\n",
    "my_lp_problem"
   ]
  },
  {
   "cell_type": "code",
   "execution_count": 32,
   "id": "045c8813-9ceb-4602-af67-880c1b866193",
   "metadata": {},
   "outputs": [
    {
     "name": "stdout",
     "output_type": "stream",
     "text": [
      "Welcome to the CBC MILP Solver \n",
      "Version: 2.10.3 \n",
      "Build Date: Dec 15 2019 \n",
      "\n",
      "command line - /Users/utkarshgoyal/opt/anaconda3/lib/python3.9/site-packages/pulp/solverdir/cbc/osx/64/cbc /var/folders/sc/m38hzk_90cn6t0363cr74ny40000gn/T/5f89d639e9c0432094f51690cd180d89-pulp.mps max timeMode elapsed branch printingOptions all solution /var/folders/sc/m38hzk_90cn6t0363cr74ny40000gn/T/5f89d639e9c0432094f51690cd180d89-pulp.sol (default strategy 1)\n",
      "At line 2 NAME          MODEL\n",
      "At line 3 ROWS\n",
      "At line 7 COLUMNS\n",
      "At line 14 RHS\n",
      "At line 17 BOUNDS\n",
      "At line 18 ENDATA\n",
      "Problem MODEL has 2 rows, 2 columns and 4 elements\n",
      "Coin0008I MODEL read with 0 errors\n",
      "Option for timeMode changed from cpu to elapsed\n",
      "Presolve 2 (0) rows, 2 (0) columns and 4 (0) elements\n",
      "0  Obj -0 Dual inf 6.9999998 (2)\n",
      "0  Obj -0 Dual inf 6.9999998 (2)\n",
      "2  Obj 27.5\n",
      "Optimal - objective value 27.5\n",
      "Optimal objective 27.5 - 2 iterations time 0.002\n",
      "Option for printingOptions changed from normal to all\n",
      "Total time (CPU seconds):       0.00   (Wallclock seconds):       0.00\n",
      "\n"
     ]
    },
    {
     "data": {
      "text/plain": [
       "1"
      ]
     },
     "execution_count": 32,
     "metadata": {},
     "output_type": "execute_result"
    }
   ],
   "source": [
    "my_lp_problem.solve()"
   ]
  },
  {
   "cell_type": "code",
   "execution_count": 33,
   "id": "c6885b7f-84d4-47f4-b14c-5605c9d05c10",
   "metadata": {},
   "outputs": [
    {
     "data": {
      "text/plain": [
       "'Optimal'"
      ]
     },
     "execution_count": 33,
     "metadata": {},
     "output_type": "execute_result"
    }
   ],
   "source": [
    "LpStatus[my_lp_problem.status]"
   ]
  },
  {
   "cell_type": "code",
   "execution_count": 34,
   "id": "2da09367-fc26-42fd-af54-710e9507ef1d",
   "metadata": {},
   "outputs": [
    {
     "data": {
      "text/plain": [
       "27.5"
      ]
     },
     "execution_count": 34,
     "metadata": {},
     "output_type": "execute_result"
    }
   ],
   "source": [
    "round(value(my_lp_problem.objective), 2)"
   ]
  },
  {
   "cell_type": "code",
   "execution_count": 35,
   "id": "132e417d-e69d-4b93-8e79-c84415b97ec2",
   "metadata": {},
   "outputs": [
    {
     "name": "stdout",
     "output_type": "stream",
     "text": [
      "p1 = 2.50\n",
      "p2 = 5.00\n"
     ]
    }
   ],
   "source": [
    "for variable in my_lp_problem.variables():\n",
    "    print(\"{} = {:.2f}\".format(variable.name, variable.varValue))"
   ]
  },
  {
   "cell_type": "code",
   "execution_count": null,
   "id": "3c7db495-3e8c-4fd7-9714-cc01bbb7586b",
   "metadata": {},
   "outputs": [],
   "source": []
  },
  {
   "cell_type": "markdown",
   "id": "b409f99c-aadd-4388-b860-5fb5feacfa80",
   "metadata": {
    "tags": []
   },
   "source": [
    "# Investment Problem"
   ]
  },
  {
   "cell_type": "code",
   "execution_count": 42,
   "id": "417e282c-6f2e-4bfa-a140-0254ade6d1f2",
   "metadata": {},
   "outputs": [
    {
     "data": {
      "text/plain": [
       "investment:\n",
       "MAXIMIZE\n",
       "3.9*x1 + 1.06*x4 + 1.3*x5 + 0.0\n",
       "SUBJECT TO\n",
       "_C1: x1 + x2 = 100000\n",
       "\n",
       "_C2: x1 - 1.06 x2 + x3 + x5 = 0\n",
       "\n",
       "_C3: x1 - 1.06 x3 + x4 = 0\n",
       "\n",
       "VARIABLES\n",
       "x1 Continuous\n",
       "-20000 <= x2 Continuous\n",
       "-20000 <= x3 Continuous\n",
       "-20000 <= x4 Continuous\n",
       "-inf <= x5 <= 50000 Continuous"
      ]
     },
     "execution_count": 42,
     "metadata": {},
     "output_type": "execute_result"
    }
   ],
   "source": [
    "my_lp_problem = LpProblem(\"investment\", LpMaximize)\n",
    "# Products\n",
    "x1 = LpVariable('x1', lowBound=0, cat='Continuous')\n",
    "x2 = LpVariable('x2', lowBound=-20000, cat='Continuous')\n",
    "x3 = LpVariable('x3', lowBound=-20000, cat='Continuous')\n",
    "x4 = LpVariable('x4', lowBound=-20000, cat='Continuous')\n",
    "x5 = LpVariable('x5', upBound=50000, cat='Continuous')\n",
    "\n",
    "# Objective function\n",
    "my_lp_problem += 3.9*x1 + 1.06*x4 + 1.3*x5 , \"Z\"\n",
    "\n",
    "# Constraints\n",
    "my_lp_problem += x1 + x2 == 100000\n",
    "my_lp_problem += x1 - 1.06*x2 + x3 + x5 == 0 \n",
    "my_lp_problem += x1 - 1.06*x3 + x4 == 0 \n",
    "\n",
    "my_lp_problem"
   ]
  },
  {
   "cell_type": "code",
   "execution_count": 43,
   "id": "925519a7-7f5d-49b3-9e25-be08fefcf0e7",
   "metadata": {},
   "outputs": [
    {
     "name": "stdout",
     "output_type": "stream",
     "text": [
      "Welcome to the CBC MILP Solver \n",
      "Version: 2.10.3 \n",
      "Build Date: Dec 15 2019 \n",
      "\n",
      "command line - /Users/utkarshgoyal/opt/anaconda3/lib/python3.9/site-packages/pulp/solverdir/cbc/osx/64/cbc /var/folders/sc/m38hzk_90cn6t0363cr74ny40000gn/T/3d93936555744a7ea61eeb3b92bfc4de-pulp.mps max timeMode elapsed branch printingOptions all solution /var/folders/sc/m38hzk_90cn6t0363cr74ny40000gn/T/3d93936555744a7ea61eeb3b92bfc4de-pulp.sol (default strategy 1)\n",
      "At line 2 NAME          MODEL\n",
      "At line 3 ROWS\n",
      "At line 8 COLUMNS\n",
      "At line 21 RHS\n",
      "At line 25 BOUNDS\n",
      "At line 31 ENDATA\n",
      "Problem MODEL has 3 rows, 5 columns and 9 elements\n",
      "Coin0008I MODEL read with 0 errors\n",
      "Option for timeMode changed from cpu to elapsed\n",
      "Presolve 1 (-2) rows, 3 (-2) columns and 3 (-6) elements\n",
      "0  Obj 43800 Primal inf 24927.755 (1) Dual inf 7.274614 (2)\n",
      "0  Obj 43800 Primal inf 24927.755 (1) Dual inf 2e+10 (2)\n",
      "1  Obj 141018.24\n",
      "Optimal - objective value 141018.24\n",
      "After Postsolve, objective 141018.24, infeasibilities - dual 0 (0), primal 0 (0)\n",
      "Optimal objective 141018.2435 - 1 iterations time 0.002, Presolve 0.00\n",
      "Option for printingOptions changed from normal to all\n",
      "Total time (CPU seconds):       0.00   (Wallclock seconds):       0.02\n",
      "\n"
     ]
    },
    {
     "data": {
      "text/plain": [
       "1"
      ]
     },
     "execution_count": 43,
     "metadata": {},
     "output_type": "execute_result"
    }
   ],
   "source": [
    "my_lp_problem.solve()"
   ]
  },
  {
   "cell_type": "code",
   "execution_count": 44,
   "id": "8550d715-eb54-4226-896e-a1d7ec40cd79",
   "metadata": {},
   "outputs": [
    {
     "data": {
      "text/plain": [
       "'Optimal'"
      ]
     },
     "execution_count": 44,
     "metadata": {},
     "output_type": "execute_result"
    }
   ],
   "source": [
    "LpStatus[my_lp_problem.status]"
   ]
  },
  {
   "cell_type": "code",
   "execution_count": 45,
   "id": "38df8021-3813-4352-b926-23dbedf903c2",
   "metadata": {},
   "outputs": [
    {
     "data": {
      "text/plain": [
       "141018.24"
      ]
     },
     "execution_count": 45,
     "metadata": {},
     "output_type": "execute_result"
    }
   ],
   "source": [
    "round(value(my_lp_problem.objective), 2)"
   ]
  },
  {
   "cell_type": "code",
   "execution_count": 47,
   "id": "b7f7d1dc-7b7c-4a62-a1cf-2ca6917cf735",
   "metadata": {},
   "outputs": [
    {
     "name": "stdout",
     "output_type": "stream",
     "text": [
      "x1 = 24,927.76\n",
      "x2 = 75,072.24\n",
      "x3 = 4,648.83\n",
      "x4 = -20,000.00\n",
      "x5 = 50,000.00\n"
     ]
    }
   ],
   "source": [
    "for variable in my_lp_problem.variables():\n",
    "    print(\"{} = {:,.2f}\".format(variable.name, variable.varValue))"
   ]
  },
  {
   "cell_type": "code",
   "execution_count": null,
   "id": "169d6cf0-4a03-481f-81ef-d2f902aeed19",
   "metadata": {},
   "outputs": [],
   "source": []
  },
  {
   "cell_type": "markdown",
   "id": "0434b299-9c77-4803-8003-d3a982e78a41",
   "metadata": {
    "tags": []
   },
   "source": [
    "# Investment Problem"
   ]
  },
  {
   "cell_type": "code",
   "execution_count": null,
   "id": "2ece5617-05db-40f3-a8c7-b364736c847a",
   "metadata": {},
   "outputs": [],
   "source": [
    "brokers = ['X', 'Y', 'Z']\n",
    "\n",
    "variable_costs = {'X': 500,\n",
    "                  'Y': 350,\n",
    "                  'Z': 450}\n",
    "\n",
    "fixed_costs = {'X': 4000,\n",
    "               'Y': 2000,\n",
    "               'Z': 6000}"
   ]
  },
  {
   "cell_type": "code",
   "execution_count": 42,
   "id": "35aed533-4c17-4e41-ad92-b809039f9c6e",
   "metadata": {},
   "outputs": [
    {
     "data": {
      "text/plain": [
       "investment:\n",
       "MAXIMIZE\n",
       "3.9*x1 + 1.06*x4 + 1.3*x5 + 0.0\n",
       "SUBJECT TO\n",
       "_C1: x1 + x2 = 100000\n",
       "\n",
       "_C2: x1 - 1.06 x2 + x3 + x5 = 0\n",
       "\n",
       "_C3: x1 - 1.06 x3 + x4 = 0\n",
       "\n",
       "VARIABLES\n",
       "x1 Continuous\n",
       "-20000 <= x2 Continuous\n",
       "-20000 <= x3 Continuous\n",
       "-20000 <= x4 Continuous\n",
       "-inf <= x5 <= 50000 Continuous"
      ]
     },
     "execution_count": 42,
     "metadata": {},
     "output_type": "execute_result"
    }
   ],
   "source": [
    "my_lp_problem = LpProblem(\"investment\", LpMinimize)\n",
    "# Products\n",
    "x1 = LpVariable('x1', lowBound=30, upBound=100, cat='Continuous')\n",
    "x2 = LpVariable('x2', lowBound=30, upBound=90, cat='Continuous')\n",
    "x3 = LpVariable('x3', lowBound=30, upBound=70, cat='Continuous')\n",
    "\n",
    "\n",
    "# Objective function\n",
    "my_lp_problem += 3.9*x1 + 1.06*x4 + 1.3*x5 , \"Z\"\n",
    "\n",
    "# Constraints\n",
    "my_lp_problem += x1 + x2 == 100000\n",
    "my_lp_problem += x1 - 1.06*x2 + x3 + x5 == 0 \n",
    "my_lp_problem += x1 - 1.06*x3 + x4 == 0 \n",
    "\n",
    "my_lp_problem"
   ]
  },
  {
   "cell_type": "code",
   "execution_count": 43,
   "id": "b1de8716-75fe-4915-98ae-30fd828cb247",
   "metadata": {},
   "outputs": [
    {
     "name": "stdout",
     "output_type": "stream",
     "text": [
      "Welcome to the CBC MILP Solver \n",
      "Version: 2.10.3 \n",
      "Build Date: Dec 15 2019 \n",
      "\n",
      "command line - /Users/utkarshgoyal/opt/anaconda3/lib/python3.9/site-packages/pulp/solverdir/cbc/osx/64/cbc /var/folders/sc/m38hzk_90cn6t0363cr74ny40000gn/T/3d93936555744a7ea61eeb3b92bfc4de-pulp.mps max timeMode elapsed branch printingOptions all solution /var/folders/sc/m38hzk_90cn6t0363cr74ny40000gn/T/3d93936555744a7ea61eeb3b92bfc4de-pulp.sol (default strategy 1)\n",
      "At line 2 NAME          MODEL\n",
      "At line 3 ROWS\n",
      "At line 8 COLUMNS\n",
      "At line 21 RHS\n",
      "At line 25 BOUNDS\n",
      "At line 31 ENDATA\n",
      "Problem MODEL has 3 rows, 5 columns and 9 elements\n",
      "Coin0008I MODEL read with 0 errors\n",
      "Option for timeMode changed from cpu to elapsed\n",
      "Presolve 1 (-2) rows, 3 (-2) columns and 3 (-6) elements\n",
      "0  Obj 43800 Primal inf 24927.755 (1) Dual inf 7.274614 (2)\n",
      "0  Obj 43800 Primal inf 24927.755 (1) Dual inf 2e+10 (2)\n",
      "1  Obj 141018.24\n",
      "Optimal - objective value 141018.24\n",
      "After Postsolve, objective 141018.24, infeasibilities - dual 0 (0), primal 0 (0)\n",
      "Optimal objective 141018.2435 - 1 iterations time 0.002, Presolve 0.00\n",
      "Option for printingOptions changed from normal to all\n",
      "Total time (CPU seconds):       0.00   (Wallclock seconds):       0.02\n",
      "\n"
     ]
    },
    {
     "data": {
      "text/plain": [
       "1"
      ]
     },
     "execution_count": 43,
     "metadata": {},
     "output_type": "execute_result"
    }
   ],
   "source": [
    "my_lp_problem.solve()"
   ]
  },
  {
   "cell_type": "code",
   "execution_count": 44,
   "id": "70908092-f1df-4c8a-a877-2d237c10f9b1",
   "metadata": {},
   "outputs": [
    {
     "data": {
      "text/plain": [
       "'Optimal'"
      ]
     },
     "execution_count": 44,
     "metadata": {},
     "output_type": "execute_result"
    }
   ],
   "source": [
    "LpStatus[my_lp_problem.status]"
   ]
  },
  {
   "cell_type": "code",
   "execution_count": 45,
   "id": "b450fc71-9c17-4970-ac2b-5b3a15f425c3",
   "metadata": {},
   "outputs": [
    {
     "data": {
      "text/plain": [
       "141018.24"
      ]
     },
     "execution_count": 45,
     "metadata": {},
     "output_type": "execute_result"
    }
   ],
   "source": [
    "round(value(my_lp_problem.objective), 2)"
   ]
  },
  {
   "cell_type": "code",
   "execution_count": 47,
   "id": "1bb4305a-b550-4cc7-ab33-4d0913f8e0f0",
   "metadata": {},
   "outputs": [
    {
     "name": "stdout",
     "output_type": "stream",
     "text": [
      "x1 = 24,927.76\n",
      "x2 = 75,072.24\n",
      "x3 = 4,648.83\n",
      "x4 = -20,000.00\n",
      "x5 = 50,000.00\n"
     ]
    }
   ],
   "source": [
    "for variable in my_lp_problem.variables():\n",
    "    print(\"{} = {:,.2f}\".format(variable.name, variable.varValue))"
   ]
  },
  {
   "cell_type": "code",
   "execution_count": null,
   "id": "df689eec-cc8e-46d2-b358-b885af7de69f",
   "metadata": {},
   "outputs": [],
   "source": []
  }
 ],
 "metadata": {
  "kernelspec": {
   "display_name": "Python 3 (ipykernel)",
   "language": "python",
   "name": "python3"
  },
  "language_info": {
   "codemirror_mode": {
    "name": "ipython",
    "version": 3
   },
   "file_extension": ".py",
   "mimetype": "text/x-python",
   "name": "python",
   "nbconvert_exporter": "python",
   "pygments_lexer": "ipython3",
   "version": "3.9.12"
  }
 },
 "nbformat": 4,
 "nbformat_minor": 5
}
