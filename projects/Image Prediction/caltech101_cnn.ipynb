{
 "cells": [
  {
   "cell_type": "code",
   "execution_count": 3,
   "id": "b50e2985-a8d5-4205-8806-a5705fecdfdd",
   "metadata": {},
   "outputs": [],
   "source": [
    "import torch\n",
    "import torch.nn as nn\n",
    "import torch.optim as optim\n",
    "from torch.utils.data import DataLoader, random_split\n",
    "import torchvision\n",
    "import torchvision.transforms as transforms"
   ]
  },
  {
   "cell_type": "code",
   "execution_count": 12,
   "id": "83916912-d822-4225-a04d-86546245e093",
   "metadata": {},
   "outputs": [
    {
     "name": "stdout",
     "output_type": "stream",
     "text": [
      "Using device: mps\n",
      "Files already downloaded and verified\n"
     ]
    }
   ],
   "source": [
    "# Check for MPS availability (for Apple Silicon)\n",
    "device = torch.device(\"mps\" if torch.backends.mps.is_available() else \"cpu\")\n",
    "print(\"Using device:\", device)\n",
    "\n",
    "# Define the image transformations: resize, convert to tensor, and normalize.\n",
    "transform = transforms.Compose([\n",
    "    transforms.Resize((128, 128)),\n",
    "    transforms.Grayscale(num_output_channels=3),\n",
    "    transforms.ToTensor(),\n",
    "    # Normalization: using 0.5 for each channel; adjust as needed.\n",
    "    transforms.Normalize(mean=[0.5, 0.5, 0.5], std=[0.5, 0.5, 0.5])\n",
    "])\n",
    "\n",
    "# Download and load the Caltech101 dataset.\n",
    "dataset = torchvision.datasets.Caltech101(root='./data', download=True, transform=transform)"
   ]
  },
  {
   "cell_type": "code",
   "execution_count": 13,
   "id": "9507933e-05f3-4c53-b6a7-1c744a5f7e29",
   "metadata": {},
   "outputs": [
    {
     "name": "stdout",
     "output_type": "stream",
     "text": [
      "Number of classes: 101\n"
     ]
    }
   ],
   "source": [
    "# Determine number of classes from the dataset.\n",
    "num_classes = len(dataset.categories)\n",
    "print(\"Number of classes:\", num_classes)\n",
    "\n",
    "# Split the dataset into training (80%) and testing (20%) sets\n",
    "train_size = int(0.8 * len(dataset))\n",
    "test_size = len(dataset) - train_size\n",
    "train_dataset, test_dataset = random_split(dataset, [train_size, test_size])\n",
    "\n",
    "train_loader = DataLoader(train_dataset, batch_size=32, shuffle=True, num_workers=7)\n",
    "test_loader  = DataLoader(test_dataset, batch_size=32, shuffle=False, num_workers=7)"
   ]
  },
  {
   "cell_type": "code",
   "execution_count": 17,
   "id": "73c0f62f-1684-4aed-9da4-2cff73222d9a",
   "metadata": {},
   "outputs": [],
   "source": [
    "# Define an advanced CNN architecture.\n",
    "class AdvancedCNN(nn.Module):\n",
    "    def __init__(self, num_classes):\n",
    "        super(AdvancedCNN, self).__init__()\n",
    "        self.features = nn.Sequential(\n",
    "            # Block 1: Increase channels and apply BatchNorm.\n",
    "            nn.Conv2d(3, 32, kernel_size=3, padding=1),\n",
    "            nn.BatchNorm2d(32),\n",
    "            nn.ReLU(inplace=True),\n",
    "            nn.Conv2d(32, 32, kernel_size=3, padding=1),\n",
    "            nn.BatchNorm2d(32),\n",
    "            nn.ReLU(inplace=True),\n",
    "            nn.MaxPool2d(2, 2),\n",
    "            nn.Dropout(0.25),\n",
    "\n",
    "            # Block 2.\n",
    "            nn.Conv2d(32, 64, kernel_size=3, padding=1),\n",
    "            nn.BatchNorm2d(64),\n",
    "            nn.ReLU(inplace=True),\n",
    "            nn.Conv2d(64, 64, kernel_size=3, padding=1),\n",
    "            nn.BatchNorm2d(64),\n",
    "            nn.ReLU(inplace=True),\n",
    "            nn.MaxPool2d(2, 2),\n",
    "            nn.Dropout(0.25),\n",
    "\n",
    "            # Block 3.\n",
    "            nn.Conv2d(64, 128, kernel_size=3, padding=1),\n",
    "            nn.BatchNorm2d(128),\n",
    "            nn.ReLU(inplace=True),\n",
    "            nn.Conv2d(128, 128, kernel_size=3, padding=1),\n",
    "            nn.BatchNorm2d(128),\n",
    "            nn.ReLU(inplace=True),\n",
    "            nn.MaxPool2d(2, 2),\n",
    "            nn.Dropout(0.25)\n",
    "        )\n",
    "        # With a 128x128 input and three pooling layers, the feature map becomes 16x16.\n",
    "        self.classifier = nn.Sequential(\n",
    "            nn.Flatten(),\n",
    "            nn.Dropout(0.5),\n",
    "            nn.Linear(128 * 16 * 16, 512),\n",
    "            nn.ReLU(inplace=True),\n",
    "            nn.Dropout(0.5),\n",
    "            nn.Linear(512, num_classes)\n",
    "        )\n",
    "    \n",
    "    def forward(self, x):\n",
    "        x = self.features(x)\n",
    "        x = self.classifier(x)\n",
    "        return x\n",
    "\n",
    "# Instantiate the advanced model.\n",
    "model = AdvancedCNN(num_classes).to(device)"
   ]
  },
  {
   "cell_type": "code",
   "execution_count": 18,
   "id": "c8efcb40-d9ca-40e4-8be6-d8021f72627e",
   "metadata": {},
   "outputs": [
    {
     "name": "stdout",
     "output_type": "stream",
     "text": [
      "Epoch [1/10], Loss: 4.6381\n",
      "Epoch [2/10], Loss: 3.7598\n",
      "Epoch [3/10], Loss: 3.6218\n",
      "Epoch [4/10], Loss: 3.5090\n",
      "Epoch [5/10], Loss: 3.4217\n",
      "Epoch [6/10], Loss: 3.3646\n",
      "Epoch [7/10], Loss: 3.3139\n",
      "Epoch [8/10], Loss: 3.2832\n",
      "Epoch [9/10], Loss: 3.2344\n",
      "Epoch [10/10], Loss: 3.1778\n"
     ]
    }
   ],
   "source": [
    "# Set up the loss function and optimizer\n",
    "criterion = nn.CrossEntropyLoss()\n",
    "optimizer = optim.AdamW(model.parameters(), lr=0.001)\n",
    "\n",
    "# Training loop\n",
    "num_epochs = 10\n",
    "for epoch in range(num_epochs):\n",
    "    model.train()\n",
    "    running_loss = 0.0\n",
    "    for inputs, labels in train_loader:\n",
    "        # Move data to the selected device\n",
    "        inputs, labels = inputs.to(device), labels.to(device)\n",
    "        optimizer.zero_grad()\n",
    "        outputs = model(inputs)\n",
    "        loss = criterion(outputs, labels)\n",
    "        loss.backward()\n",
    "        optimizer.step()\n",
    "        running_loss += loss.item()\n",
    "    avg_loss = running_loss / len(train_loader)\n",
    "    print(f\"Epoch [{epoch+1}/{num_epochs}], Loss: {avg_loss:.4f}\")"
   ]
  },
  {
   "cell_type": "code",
   "execution_count": 19,
   "id": "2d2595a8-9504-4b1e-9ad3-eae988a3bc2f",
   "metadata": {},
   "outputs": [
    {
     "name": "stdout",
     "output_type": "stream",
     "text": [
      "Test Accuracy: 35.94%\n"
     ]
    }
   ],
   "source": [
    "# Evaluation on the test set.\n",
    "model.eval()\n",
    "correct = 0\n",
    "total   = 0\n",
    "with torch.no_grad():\n",
    "    for inputs, labels in test_loader:\n",
    "        inputs, labels = inputs.to(device), labels.to(device)\n",
    "        outputs = model(inputs)\n",
    "        _, predicted = torch.max(outputs, 1)\n",
    "        total += labels.size(0)\n",
    "        correct += (predicted == labels).sum().item()\n",
    "\n",
    "print(f\"Test Accuracy: {100 * correct / total:.2f}%\")"
   ]
  },
  {
   "cell_type": "code",
   "execution_count": null,
   "id": "f709817c-ec66-488c-960b-fcc643e5bd75",
   "metadata": {},
   "outputs": [],
   "source": []
  },
  {
   "cell_type": "markdown",
   "id": "81e33f53-72f7-4cdc-894c-61c5d138ae1d",
   "metadata": {},
   "source": [
    "# ResNet"
   ]
  },
  {
   "cell_type": "code",
   "execution_count": 23,
   "id": "483beff1-ccd4-4e4d-814b-3e1c2f6f672f",
   "metadata": {},
   "outputs": [
    {
     "name": "stdout",
     "output_type": "stream",
     "text": [
      "Number of classes: 101\n"
     ]
    }
   ],
   "source": [
    "# Define image transformations for ResNet18.\n",
    "transform = transforms.Compose([\n",
    "    transforms.Resize((224, 224)),  # ResNet models expect 224x224 images\n",
    "    transforms.Grayscale(num_output_channels=3),\n",
    "    transforms.ToTensor(),\n",
    "    # Use the normalization values from ImageNet.\n",
    "    transforms.Normalize(mean=[0.485, 0.456, 0.406], \n",
    "                         std=[0.229, 0.224, 0.225])\n",
    "])\n",
    "\n",
    "# Load the Caltech101 dataset from a local directory.\n",
    "dataset = torchvision.datasets.Caltech101(root='./data', download=False, transform=transform)\n",
    "\n",
    "# Use dataset.categories to determine the number of classes.\n",
    "num_classes = len(dataset.categories)\n",
    "print(\"Number of classes:\", num_classes)\n",
    "\n",
    "# Split the dataset into training (80%) and testing (20%) sets.\n",
    "train_size = int(0.8 * len(dataset))\n",
    "test_size = len(dataset) - train_size\n",
    "train_dataset, test_dataset = random_split(dataset, [train_size, test_size])\n",
    "\n",
    "train_loader = DataLoader(train_dataset, batch_size=32, shuffle=True, num_workers=4)\n",
    "test_loader = DataLoader(test_dataset, batch_size=32, shuffle=False, num_workers=4)"
   ]
  },
  {
   "cell_type": "code",
   "execution_count": 27,
   "id": "a89c2f04-2ac2-4765-a531-f4b9ae52369e",
   "metadata": {},
   "outputs": [],
   "source": [
    "# Load a pre-trained ResNet18 model.\n",
    "model = torchvision.models.resnet18(pretrained=True)\n",
    "\n",
    "# Replace the final fully-connected layer to adapt for Caltech101.\n",
    "model.fc = nn.Linear(model.fc.in_features, num_classes)\n",
    "model = model.to(device)"
   ]
  },
  {
   "cell_type": "code",
   "execution_count": 28,
   "id": "22fefb75-4e95-4ed8-ad49-ab75f705d659",
   "metadata": {},
   "outputs": [
    {
     "name": "stdout",
     "output_type": "stream",
     "text": [
      "Epoch [1/10], Loss: 1.6871\n",
      "Epoch [2/10], Loss: 0.3354\n",
      "Epoch [3/10], Loss: 0.0921\n",
      "Epoch [4/10], Loss: 0.0339\n",
      "Epoch [5/10], Loss: 0.0190\n",
      "Epoch [6/10], Loss: 0.0124\n",
      "Epoch [7/10], Loss: 0.0092\n",
      "Epoch [8/10], Loss: 0.0076\n",
      "Epoch [9/10], Loss: 0.0055\n",
      "Epoch [10/10], Loss: 0.0051\n"
     ]
    }
   ],
   "source": [
    "# Set up the loss function and optimizer.\n",
    "criterion = nn.CrossEntropyLoss()\n",
    "optimizer = optim.AdamW(model.parameters(), lr=0.0001)\n",
    "\n",
    "# Training loop.\n",
    "num_epochs = 10\n",
    "for epoch in range(num_epochs):\n",
    "    model.train()\n",
    "    running_loss = 0.0\n",
    "    for inputs, labels in train_loader:\n",
    "        inputs, labels = inputs.to(device), labels.to(device)\n",
    "        optimizer.zero_grad()\n",
    "        outputs = model(inputs)\n",
    "        loss = criterion(outputs, labels)\n",
    "        loss.backward()\n",
    "        optimizer.step()\n",
    "        running_loss += loss.item()\n",
    "    avg_loss = running_loss / len(train_loader)\n",
    "    print(f\"Epoch [{epoch+1}/{num_epochs}], Loss: {avg_loss:.4f}\")"
   ]
  },
  {
   "cell_type": "code",
   "execution_count": 29,
   "id": "591e4469-01c4-4fba-b823-83b97f4ffe89",
   "metadata": {},
   "outputs": [
    {
     "name": "stdout",
     "output_type": "stream",
     "text": [
      "Test Accuracy: 95.45%\n"
     ]
    }
   ],
   "source": [
    "# Evaluation on the test set.\n",
    "model.eval()\n",
    "correct = 0\n",
    "total   = 0\n",
    "with torch.no_grad():\n",
    "    for inputs, labels in test_loader:\n",
    "        inputs, labels = inputs.to(device), labels.to(device)\n",
    "        outputs = model(inputs)\n",
    "        _, predicted = torch.max(outputs, dim=1)\n",
    "        total += labels.size(0)\n",
    "        correct += (predicted == labels).sum().item()\n",
    "\n",
    "print(f\"Test Accuracy: {100 * correct / total:.2f}%\")"
   ]
  },
  {
   "cell_type": "code",
   "execution_count": null,
   "id": "cce5f140-8b9f-43c0-af5c-cab6e09ae1fc",
   "metadata": {},
   "outputs": [],
   "source": []
  }
 ],
 "metadata": {
  "kernelspec": {
   "display_name": "Python 3 (ipykernel)",
   "language": "python",
   "name": "python3"
  },
  "language_info": {
   "codemirror_mode": {
    "name": "ipython",
    "version": 3
   },
   "file_extension": ".py",
   "mimetype": "text/x-python",
   "name": "python",
   "nbconvert_exporter": "python",
   "pygments_lexer": "ipython3",
   "version": "3.10.16"
  }
 },
 "nbformat": 4,
 "nbformat_minor": 5
}
