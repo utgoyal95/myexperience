{
 "cells": [
  {
   "cell_type": "markdown",
   "id": "3f91bb66-d4e8-43b4-9442-cb3161b46d8a",
   "metadata": {},
   "source": [
    "This notebook has been completed using the following source:\n",
    "    https://machinelearningmastery.com/?s=Household+Electricity&post_type=post&submit=Search"
   ]
  },
  {
   "cell_type": "code",
   "execution_count": 1,
   "id": "7eaf7b9e-ce70-4287-8e96-60ce3fef92e2",
   "metadata": {},
   "outputs": [],
   "source": [
    "import pandas as pd\n",
    "import numpy as np\n",
    "from sklearn.metrics import mean_squared_error\n",
    "from matplotlib import pyplot"
   ]
  },
  {
   "cell_type": "code",
   "execution_count": 2,
   "id": "edba1f68-5a18-47e8-8d1e-52586a698625",
   "metadata": {},
   "outputs": [],
   "source": [
    "import warnings\n",
    "warnings.filterwarnings('ignore')"
   ]
  },
  {
   "cell_type": "markdown",
   "id": "405d93b0-6217-4187-86e0-9aa0922687a6",
   "metadata": {},
   "source": [
    "# Data Cleaning"
   ]
  },
  {
   "cell_type": "code",
   "execution_count": 3,
   "id": "3acc4cfe-c055-4d50-83e3-28a7c7ccef91",
   "metadata": {},
   "outputs": [],
   "source": [
    "dataset = pd.read_csv('household_power_consumption.txt', sep=';', header=0, low_memory=False, infer_datetime_format=True, parse_dates={'datetime':[0,1]}, index_col=['datetime'])"
   ]
  },
  {
   "cell_type": "code",
   "execution_count": 4,
   "id": "3841491f-9b90-46b6-abb9-25db5e7e1c20",
   "metadata": {},
   "outputs": [],
   "source": [
    "dataset.replace('?', np.nan, inplace=True)\n",
    "# make dataset numeric\n",
    "dataset = dataset.astype('float32')"
   ]
  },
  {
   "cell_type": "code",
   "execution_count": 5,
   "id": "06fa31af-e32d-4fc6-b1cc-3d7b7cad4676",
   "metadata": {},
   "outputs": [],
   "source": [
    "# filling in missing values with the same time but previous days\n",
    "def fill_missing(values):\n",
    "    one_day = 60 * 24\n",
    "    for row in range(values.shape[0]):\n",
    "        for col in range(values.shape[1]):\n",
    "            if np.isnan(values[row, col]):\n",
    "                values[row, col] = values[row - one_day, col]\n",
    "\n",
    "fill_missing(dataset.values)"
   ]
  },
  {
   "cell_type": "code",
   "execution_count": 6,
   "id": "57b46fd2-8974-4c6a-8a34-6346f6e528e4",
   "metadata": {},
   "outputs": [],
   "source": [
    "values = dataset.values\n",
    "dataset['sub_metering_4'] = (values[:,0] * 1000 / 60) - (values[:,4] + values[:,5] + values[:,6])\n",
    "\n",
    "dataset['sub_metering_4'] = dataset['sub_metering_4'].astype('float64').round(3)"
   ]
  },
  {
   "cell_type": "code",
   "execution_count": 7,
   "id": "c182b98a-6e38-4053-af7e-c78a69a03884",
   "metadata": {},
   "outputs": [
    {
     "data": {
      "text/html": [
       "<div>\n",
       "<style scoped>\n",
       "    .dataframe tbody tr th:only-of-type {\n",
       "        vertical-align: middle;\n",
       "    }\n",
       "\n",
       "    .dataframe tbody tr th {\n",
       "        vertical-align: top;\n",
       "    }\n",
       "\n",
       "    .dataframe thead th {\n",
       "        text-align: right;\n",
       "    }\n",
       "</style>\n",
       "<table border=\"1\" class=\"dataframe\">\n",
       "  <thead>\n",
       "    <tr style=\"text-align: right;\">\n",
       "      <th></th>\n",
       "      <th>Global_active_power</th>\n",
       "      <th>Global_reactive_power</th>\n",
       "      <th>Voltage</th>\n",
       "      <th>Global_intensity</th>\n",
       "      <th>Sub_metering_1</th>\n",
       "      <th>Sub_metering_2</th>\n",
       "      <th>Sub_metering_3</th>\n",
       "      <th>sub_metering_4</th>\n",
       "    </tr>\n",
       "    <tr>\n",
       "      <th>datetime</th>\n",
       "      <th></th>\n",
       "      <th></th>\n",
       "      <th></th>\n",
       "      <th></th>\n",
       "      <th></th>\n",
       "      <th></th>\n",
       "      <th></th>\n",
       "      <th></th>\n",
       "    </tr>\n",
       "  </thead>\n",
       "  <tbody>\n",
       "    <tr>\n",
       "      <th>2006-12-16 17:24:00</th>\n",
       "      <td>4.216</td>\n",
       "      <td>0.418</td>\n",
       "      <td>234.839996</td>\n",
       "      <td>18.4</td>\n",
       "      <td>0.0</td>\n",
       "      <td>1.0</td>\n",
       "      <td>17.0</td>\n",
       "      <td>52.267</td>\n",
       "    </tr>\n",
       "    <tr>\n",
       "      <th>2006-12-16 17:25:00</th>\n",
       "      <td>5.360</td>\n",
       "      <td>0.436</td>\n",
       "      <td>233.630005</td>\n",
       "      <td>23.0</td>\n",
       "      <td>0.0</td>\n",
       "      <td>1.0</td>\n",
       "      <td>16.0</td>\n",
       "      <td>72.333</td>\n",
       "    </tr>\n",
       "    <tr>\n",
       "      <th>2006-12-16 17:26:00</th>\n",
       "      <td>5.374</td>\n",
       "      <td>0.498</td>\n",
       "      <td>233.289993</td>\n",
       "      <td>23.0</td>\n",
       "      <td>0.0</td>\n",
       "      <td>2.0</td>\n",
       "      <td>17.0</td>\n",
       "      <td>70.567</td>\n",
       "    </tr>\n",
       "    <tr>\n",
       "      <th>2006-12-16 17:27:00</th>\n",
       "      <td>5.388</td>\n",
       "      <td>0.502</td>\n",
       "      <td>233.740005</td>\n",
       "      <td>23.0</td>\n",
       "      <td>0.0</td>\n",
       "      <td>1.0</td>\n",
       "      <td>17.0</td>\n",
       "      <td>71.800</td>\n",
       "    </tr>\n",
       "    <tr>\n",
       "      <th>2006-12-16 17:28:00</th>\n",
       "      <td>3.666</td>\n",
       "      <td>0.528</td>\n",
       "      <td>235.679993</td>\n",
       "      <td>15.8</td>\n",
       "      <td>0.0</td>\n",
       "      <td>1.0</td>\n",
       "      <td>17.0</td>\n",
       "      <td>43.100</td>\n",
       "    </tr>\n",
       "  </tbody>\n",
       "</table>\n",
       "</div>"
      ],
      "text/plain": [
       "                     Global_active_power  Global_reactive_power     Voltage  \\\n",
       "datetime                                                                      \n",
       "2006-12-16 17:24:00                4.216                  0.418  234.839996   \n",
       "2006-12-16 17:25:00                5.360                  0.436  233.630005   \n",
       "2006-12-16 17:26:00                5.374                  0.498  233.289993   \n",
       "2006-12-16 17:27:00                5.388                  0.502  233.740005   \n",
       "2006-12-16 17:28:00                3.666                  0.528  235.679993   \n",
       "\n",
       "                     Global_intensity  Sub_metering_1  Sub_metering_2  \\\n",
       "datetime                                                                \n",
       "2006-12-16 17:24:00              18.4             0.0             1.0   \n",
       "2006-12-16 17:25:00              23.0             0.0             1.0   \n",
       "2006-12-16 17:26:00              23.0             0.0             2.0   \n",
       "2006-12-16 17:27:00              23.0             0.0             1.0   \n",
       "2006-12-16 17:28:00              15.8             0.0             1.0   \n",
       "\n",
       "                     Sub_metering_3  sub_metering_4  \n",
       "datetime                                             \n",
       "2006-12-16 17:24:00            17.0          52.267  \n",
       "2006-12-16 17:25:00            16.0          72.333  \n",
       "2006-12-16 17:26:00            17.0          70.567  \n",
       "2006-12-16 17:27:00            17.0          71.800  \n",
       "2006-12-16 17:28:00            17.0          43.100  "
      ]
     },
     "execution_count": 7,
     "metadata": {},
     "output_type": "execute_result"
    }
   ],
   "source": [
    "dataset.head()"
   ]
  },
  {
   "cell_type": "code",
   "execution_count": 8,
   "id": "1e3b1caf-ff99-4b6b-a513-b22590643bff",
   "metadata": {},
   "outputs": [
    {
     "name": "stdout",
     "output_type": "stream",
     "text": [
      "(1442, 8)\n"
     ]
    },
    {
     "data": {
      "text/html": [
       "<div>\n",
       "<style scoped>\n",
       "    .dataframe tbody tr th:only-of-type {\n",
       "        vertical-align: middle;\n",
       "    }\n",
       "\n",
       "    .dataframe tbody tr th {\n",
       "        vertical-align: top;\n",
       "    }\n",
       "\n",
       "    .dataframe thead th {\n",
       "        text-align: right;\n",
       "    }\n",
       "</style>\n",
       "<table border=\"1\" class=\"dataframe\">\n",
       "  <thead>\n",
       "    <tr style=\"text-align: right;\">\n",
       "      <th></th>\n",
       "      <th>Global_active_power</th>\n",
       "      <th>Global_reactive_power</th>\n",
       "      <th>Voltage</th>\n",
       "      <th>Global_intensity</th>\n",
       "      <th>Sub_metering_1</th>\n",
       "      <th>Sub_metering_2</th>\n",
       "      <th>Sub_metering_3</th>\n",
       "      <th>sub_metering_4</th>\n",
       "    </tr>\n",
       "    <tr>\n",
       "      <th>datetime</th>\n",
       "      <th></th>\n",
       "      <th></th>\n",
       "      <th></th>\n",
       "      <th></th>\n",
       "      <th></th>\n",
       "      <th></th>\n",
       "      <th></th>\n",
       "      <th></th>\n",
       "    </tr>\n",
       "  </thead>\n",
       "  <tbody>\n",
       "    <tr>\n",
       "      <th>2006-12-16</th>\n",
       "      <td>1209.18</td>\n",
       "      <td>34.92</td>\n",
       "      <td>93552.53</td>\n",
       "      <td>5180.8</td>\n",
       "      <td>0.0</td>\n",
       "      <td>546.0</td>\n",
       "      <td>4926.0</td>\n",
       "      <td>14680.93</td>\n",
       "    </tr>\n",
       "    <tr>\n",
       "      <th>2006-12-17</th>\n",
       "      <td>3390.46</td>\n",
       "      <td>226.01</td>\n",
       "      <td>345725.31</td>\n",
       "      <td>14398.6</td>\n",
       "      <td>2033.0</td>\n",
       "      <td>4187.0</td>\n",
       "      <td>13341.0</td>\n",
       "      <td>36946.67</td>\n",
       "    </tr>\n",
       "    <tr>\n",
       "      <th>2006-12-18</th>\n",
       "      <td>2203.83</td>\n",
       "      <td>161.79</td>\n",
       "      <td>347373.62</td>\n",
       "      <td>9247.2</td>\n",
       "      <td>1063.0</td>\n",
       "      <td>2621.0</td>\n",
       "      <td>14018.0</td>\n",
       "      <td>19028.44</td>\n",
       "    </tr>\n",
       "    <tr>\n",
       "      <th>2006-12-19</th>\n",
       "      <td>1666.19</td>\n",
       "      <td>150.94</td>\n",
       "      <td>348479.00</td>\n",
       "      <td>7094.0</td>\n",
       "      <td>839.0</td>\n",
       "      <td>7602.0</td>\n",
       "      <td>6197.0</td>\n",
       "      <td>13131.89</td>\n",
       "    </tr>\n",
       "    <tr>\n",
       "      <th>2006-12-20</th>\n",
       "      <td>2225.75</td>\n",
       "      <td>161.00</td>\n",
       "      <td>348923.62</td>\n",
       "      <td>9313.0</td>\n",
       "      <td>0.0</td>\n",
       "      <td>2648.0</td>\n",
       "      <td>14063.0</td>\n",
       "      <td>20384.80</td>\n",
       "    </tr>\n",
       "  </tbody>\n",
       "</table>\n",
       "</div>"
      ],
      "text/plain": [
       "            Global_active_power  Global_reactive_power    Voltage  \\\n",
       "datetime                                                            \n",
       "2006-12-16              1209.18                  34.92   93552.53   \n",
       "2006-12-17              3390.46                 226.01  345725.31   \n",
       "2006-12-18              2203.83                 161.79  347373.62   \n",
       "2006-12-19              1666.19                 150.94  348479.00   \n",
       "2006-12-20              2225.75                 161.00  348923.62   \n",
       "\n",
       "            Global_intensity  Sub_metering_1  Sub_metering_2  Sub_metering_3  \\\n",
       "datetime                                                                       \n",
       "2006-12-16            5180.8             0.0           546.0          4926.0   \n",
       "2006-12-17           14398.6          2033.0          4187.0         13341.0   \n",
       "2006-12-18            9247.2          1063.0          2621.0         14018.0   \n",
       "2006-12-19            7094.0           839.0          7602.0          6197.0   \n",
       "2006-12-20            9313.0             0.0          2648.0         14063.0   \n",
       "\n",
       "            sub_metering_4  \n",
       "datetime                    \n",
       "2006-12-16        14680.93  \n",
       "2006-12-17        36946.67  \n",
       "2006-12-18        19028.44  \n",
       "2006-12-19        13131.89  \n",
       "2006-12-20        20384.80  "
      ]
     },
     "metadata": {},
     "output_type": "display_data"
    }
   ],
   "source": [
    "daily_groups = dataset.resample('D')\n",
    "daily_data = daily_groups.sum().astype('float64')\n",
    "# summarize\n",
    "print(daily_data.shape)\n",
    "display(daily_data.head().round(2))"
   ]
  },
  {
   "cell_type": "code",
   "execution_count": 9,
   "id": "18f98375-5c06-46ee-a8bc-dbff7a932b84",
   "metadata": {},
   "outputs": [],
   "source": [
    "daily_data.to_csv('household_power_consumption_days.csv')"
   ]
  },
  {
   "cell_type": "code",
   "execution_count": 10,
   "id": "c58a3703-602b-489f-a469-aec302e0f890",
   "metadata": {},
   "outputs": [],
   "source": [
    "def evaluate_forecasts(actual, predicted):\n",
    "\tscores = list()\n",
    "\t# calculate an RMSE score for each day\n",
    "\tfor i in range(actual.shape[1]):\n",
    "\t\t# calculate mse\n",
    "\t\tmse = mean_squared_error(actual[:, i], predicted[:, i])\n",
    "\t\t# calculate rmse\n",
    "\t\trmse = np.sqrt(mse)\n",
    "\t\t# store\n",
    "\t\tscores.append(rmse)\n",
    "\t# calculate overall RMSE\n",
    "\ts = 0\n",
    "\tfor row in range(actual.shape[0]):\n",
    "\t\tfor col in range(actual.shape[1]):\n",
    "\t\t\ts += (actual[row, col] - predicted[row, col])**2\n",
    "\tscore = np.sqrt(s / (actual.shape[0] * actual.shape[1]))\n",
    "\treturn score, scores\n",
    "\n",
    "def split_dataset(data):\n",
    "\t# split into standard weeks\n",
    "\ttrain, test = data[1:-328], data[-328:-6]\n",
    "\t# restructure into windows of weekly data\n",
    "\ttrain = np.array(np.split(train, len(train)/7))\n",
    "\ttest = np.array(np.split(test, len(test)/7))\n",
    "\treturn train, test"
   ]
  },
  {
   "cell_type": "code",
   "execution_count": 11,
   "id": "ea3482eb-af3d-47a4-93cf-06006b6b1a56",
   "metadata": {},
   "outputs": [
    {
     "name": "stdout",
     "output_type": "stream",
     "text": [
      "(159, 7, 8)\n",
      "3390.4599609375 1309.2679443359375\n",
      "(46, 7, 8)\n",
      "2083.4541015625 2197.006103515625\n"
     ]
    }
   ],
   "source": [
    "train, test = split_dataset(daily_data.values)\n",
    "# validate train data\n",
    "print(train.shape)\n",
    "print(train[0, 0, 0], train[-1, -1, 0])\n",
    "# validate test\n",
    "print(test.shape)\n",
    "print(test[0, 0, 0], test[-1, -1, 0])"
   ]
  },
  {
   "cell_type": "code",
   "execution_count": 12,
   "id": "5801b396-40c6-49ca-9449-f8ea2b9c3772",
   "metadata": {},
   "outputs": [],
   "source": [
    "def evaluate_model(model_func, train, test):\n",
    "\t# history is a list of weekly data\n",
    "\thistory = [x for x in train]\n",
    "\t# walk-forward validation over each week\n",
    "\tpredictions = list()\n",
    "\tfor i in range(len(test)):\n",
    "\t\t# predict the week\n",
    "\t\tyhat_sequence = model_func(history)\n",
    "\t\t# store the predictions\n",
    "\t\tpredictions.append(yhat_sequence)\n",
    "\t\t# get real observation and add to history for predicting the next week\n",
    "\t\thistory.append(test[i, :])\n",
    "\tpredictions = np.array(predictions)\n",
    "\t# evaluate predictions days for each week\n",
    "\tscore, scores = evaluate_forecasts(test[:, :, 0], predictions)\n",
    "\treturn score, scores"
   ]
  },
  {
   "cell_type": "code",
   "execution_count": 13,
   "id": "dc94fd0f-6ae2-40fe-ad19-848bb9199952",
   "metadata": {},
   "outputs": [],
   "source": [
    "# summarize scores\n",
    "def summarize_scores(name, score, scores):\n",
    "\ts_scores = ', '.join(['%.1f' % s for s in scores])\n",
    "\tprint('%s: [%.3f] %s' % (name, score, s_scores))"
   ]
  },
  {
   "cell_type": "markdown",
   "id": "52c47a0c-3ab4-45df-9f61-517aa03b1bdf",
   "metadata": {},
   "source": [
    "# Persistence Forecast"
   ]
  },
  {
   "cell_type": "code",
   "execution_count": 14,
   "id": "7618dbb3-ccf0-4f30-9fcf-276909261a46",
   "metadata": {},
   "outputs": [],
   "source": [
    "# daily persistence model\n",
    "def daily_persistence(history):\n",
    "\t# get the data for the prior week\n",
    "\tlast_week = history[-1]\n",
    "\t# get the total active power for the last day\n",
    "\tvalue = last_week[-1, 0]\n",
    "\t# prepare 7 day forecast\n",
    "\tforecast = [value for _ in range(7)]\n",
    "\treturn forecast"
   ]
  },
  {
   "cell_type": "code",
   "execution_count": 15,
   "id": "ce5d8503-8a71-4d8d-8e7b-2f85c9df705a",
   "metadata": {},
   "outputs": [],
   "source": [
    "# weekly persistence model\n",
    "def weekly_persistence(history):\n",
    "\t# get the data for the prior week\n",
    "\tlast_week = history[-1]\n",
    "\treturn last_week[:, 0]"
   ]
  },
  {
   "cell_type": "code",
   "execution_count": 16,
   "id": "237cf593-5d88-4ecf-9ce0-5a6a3b670834",
   "metadata": {},
   "outputs": [],
   "source": [
    "# week one year ago persistence model\n",
    "def week_one_year_ago_persistence(history):\n",
    "\t# get the data for the prior week\n",
    "\tlast_week = history[-52]\n",
    "\treturn last_week[:, 0]"
   ]
  },
  {
   "cell_type": "code",
   "execution_count": 17,
   "id": "07b71ba0-fc83-40ad-a6a7-e824911d6af1",
   "metadata": {},
   "outputs": [],
   "source": [
    "dataset = pd.read_csv('household_power_consumption_days.csv', header=0, infer_datetime_format=True, parse_dates=['datetime'], index_col=['datetime'])\n",
    "\n",
    "# split into train and test\n",
    "train, test = split_dataset(dataset.values)"
   ]
  },
  {
   "cell_type": "code",
   "execution_count": 18,
   "id": "93a9ba8e-0036-4c80-a16f-c6cf6fb09098",
   "metadata": {},
   "outputs": [],
   "source": [
    "models = dict()\n",
    "models['daily'] = daily_persistence\n",
    "models['weekly'] = weekly_persistence\n",
    "models['week-oya'] = week_one_year_ago_persistence"
   ]
  },
  {
   "cell_type": "code",
   "execution_count": 19,
   "id": "d740f88f-5ca6-43e6-bd49-b7a25082c01e",
   "metadata": {},
   "outputs": [
    {
     "name": "stdout",
     "output_type": "stream",
     "text": [
      "daily: [511.886] 452.9, 596.4, 532.1, 490.5, 534.3, 481.5, 482.0\n",
      "weekly: [469.389] 567.6, 500.3, 411.2, 466.1, 471.9, 358.3, 482.0\n",
      "week-oya: [465.294] 550.0, 446.7, 398.6, 487.0, 459.3, 313.5, 555.1\n"
     ]
    },
    {
     "data": {
      "image/png": "[encoded data removed]",
      "text/plain": [
       "<Figure size 432x288 with 1 Axes>"
      ]
     },
     "metadata": {
      "needs_background": "light"
     },
     "output_type": "display_data"
    }
   ],
   "source": [
    "# evaluate each model\n",
    "days = ['sun', 'mon', 'tue', 'wed', 'thr', 'fri', 'sat']\n",
    "for name, func in models.items():\n",
    "\t# evaluate and get scores\n",
    "\tscore, scores = evaluate_model(func, train, test)\n",
    "\t# summarize scores\n",
    "\tsummarize_scores(name, score, scores)\n",
    "\t# plot scores\n",
    "\tpyplot.plot(days, scores, marker='o', label=name)\n",
    "# show plot\n",
    "pyplot.legend()\n",
    "pyplot.show()"
   ]
  },
  {
   "cell_type": "markdown",
   "id": "a8c9dbe2-fd2c-4d14-8445-cbe91b4c986a",
   "metadata": {},
   "source": [
    "# Autocorrelation Analysis"
   ]
  },
  {
   "cell_type": "code",
   "execution_count": 20,
   "id": "5d0d7a00-563f-452c-a7e1-41bdf3b221db",
   "metadata": {},
   "outputs": [],
   "source": [
    "from statsmodels.graphics.tsaplots import plot_acf\n",
    "from statsmodels.graphics.tsaplots import plot_pacf"
   ]
  },
  {
   "cell_type": "code",
   "execution_count": 21,
   "id": "ad5fb8c5-0a8d-4a30-8ba1-df9345a6e4b7",
   "metadata": {},
   "outputs": [],
   "source": [
    "def to_series(data):\n",
    "\t# extract just the total power from each week\n",
    "\tseries = [week[:, 0] for week in data]\n",
    "\t# flatten into a single series\n",
    "\tseries = np.array(series).flatten()\n",
    "\treturn series"
   ]
  },
  {
   "cell_type": "code",
   "execution_count": 22,
   "id": "0addac92-cbef-4fe8-b413-c054bdfcc644",
   "metadata": {},
   "outputs": [],
   "source": [
    "series = to_series(train)"
   ]
  },
  {
   "cell_type": "code",
   "execution_count": 23,
   "id": "21bd1248-c45d-4f8e-bd2f-70678e58b5f1",
   "metadata": {},
   "outputs": [
    {
     "data": {
      "image/png": "[encoded data removed]",
      "text/plain": [
       "<Figure size 432x288 with 2 Axes>"
      ]
     },
     "metadata": {
      "needs_background": "light"
     },
     "output_type": "display_data"
    }
   ],
   "source": [
    "# plots\n",
    "pyplot.figure()\n",
    "lags = 50\n",
    "# acf\n",
    "axis = pyplot.subplot(2, 1, 1)\n",
    "plot_acf(series, ax=axis, lags=lags)\n",
    "# pacf\n",
    "axis = pyplot.subplot(2, 1, 2)\n",
    "plot_pacf(series, ax=axis, lags=lags)\n",
    "# show plot\n",
    "pyplot.show()"
   ]
  },
  {
   "cell_type": "markdown",
   "id": "2b72cec5-8046-4fd7-801d-50bdf7bae9aa",
   "metadata": {},
   "source": [
    "## ARIMA Model"
   ]
  },
  {
   "cell_type": "code",
   "execution_count": 24,
   "id": "fc707431-821c-4f63-8f3a-c0b39573f9ec",
   "metadata": {},
   "outputs": [],
   "source": [
    "from statsmodels.tsa.arima.model import ARIMA"
   ]
  },
  {
   "cell_type": "code",
   "execution_count": 25,
   "id": "e4008d00-5af5-4016-9200-9621623ffb49",
   "metadata": {},
   "outputs": [],
   "source": [
    "# arima forecast\n",
    "def arima_forecast(history):\n",
    "\t# convert history into a univariate series\n",
    "\tseries = to_series(history)\n",
    "\t# define the model\n",
    "\tmodel = ARIMA(series, order=(7,0,0))\n",
    "\t# fit the model\n",
    "\tmodel_fit = model.fit()\n",
    "\t# make forecast\n",
    "\tyhat = model_fit.predict(len(series), len(series)+6)\n",
    "\treturn yhat"
   ]
  },
  {
   "cell_type": "code",
   "execution_count": 26,
   "id": "63055271-c658-4f4a-8b37-c016ec2c9d9a",
   "metadata": {},
   "outputs": [],
   "source": [
    "models = dict()\n",
    "models['daily'] = daily_persistence\n",
    "models['weekly'] = weekly_persistence\n",
    "models['week-oya'] = week_one_year_ago_persistence\n",
    "models['arima'] = arima_forecast"
   ]
  },
  {
   "cell_type": "code",
   "execution_count": 27,
   "id": "89f8acc9-93e9-472a-ae8d-7e51e616806e",
   "metadata": {},
   "outputs": [
    {
     "name": "stdout",
     "output_type": "stream",
     "text": [
      "daily: [511.886] 452.9, 596.4, 532.1, 490.5, 534.3, 481.5, 482.0\n",
      "weekly: [469.389] 567.6, 500.3, 411.2, 466.1, 471.9, 358.3, 482.0\n",
      "week-oya: [465.294] 550.0, 446.7, 398.6, 487.0, 459.3, 313.5, 555.1\n",
      "arima: [381.301] 393.6, 398.3, 356.2, 377.0, 392.9, 304.8, 433.4\n"
     ]
    },
    {
     "data": {
      "image/png": "[encoded data removed]",
      "text/plain": [
       "<Figure size 432x288 with 1 Axes>"
      ]
     },
     "metadata": {
      "needs_background": "light"
     },
     "output_type": "display_data"
    }
   ],
   "source": [
    "# evaluate each model\n",
    "days = ['sun', 'mon', 'tue', 'wed', 'thr', 'fri', 'sat']\n",
    "for name, func in models.items():\n",
    "\t# evaluate and get scores\n",
    "\tscore, scores = evaluate_model(func, train, test)\n",
    "\t# summarize scores\n",
    "\tsummarize_scores(name, score, scores)\n",
    "\t# plot scores\n",
    "\tpyplot.plot(days, scores, marker='o', label=name)\n",
    "# show plot\n",
    "pyplot.legend()\n",
    "pyplot.show()"
   ]
  },
  {
   "cell_type": "markdown",
   "id": "ee2264d5-08cb-4e62-9449-1925bdf9891a",
   "metadata": {},
   "source": [
    "## SARIMA Model"
   ]
  },
  {
   "cell_type": "code",
   "execution_count": 28,
   "id": "ae8065b2-6df1-43e5-b6e6-21dcf38472d5",
   "metadata": {},
   "outputs": [],
   "source": [
    "from statsmodels.tsa.statespace.sarimax import SARIMAX"
   ]
  },
  {
   "cell_type": "code",
   "execution_count": 29,
   "id": "f2a0931e-2d16-48c1-a5bc-b4159fa66d43",
   "metadata": {},
   "outputs": [],
   "source": [
    "# arima forecast\n",
    "def sarima_forecast(history):\n",
    "\t# convert history into a univariate series\n",
    "\tseries = to_series(history)\n",
    "\t# define the model\n",
    "\tmodel = SARIMAX(series, order=(7,0,0), seasonal_order=(0, 0, 0, 365))\n",
    "\t# fit the model\n",
    "\tmodel_fit = model.fit()\n",
    "\t# make forecast\n",
    "\tyhat = model_fit.predict(len(series), len(series)+6)\n",
    "\treturn yhat"
   ]
  },
  {
   "cell_type": "code",
   "execution_count": 30,
   "id": "ad765858-b28b-46e2-a70e-51a61647184d",
   "metadata": {},
   "outputs": [],
   "source": [
    "models = dict()\n",
    "models['daily'] = daily_persistence\n",
    "models['weekly'] = weekly_persistence\n",
    "models['week-oya'] = week_one_year_ago_persistence\n",
    "models['arima'] = arima_forecast\n",
    "models['sarima'] = sarima_forecast"
   ]
  },
  {
   "cell_type": "code",
   "execution_count": 31,
   "id": "66e5244b-e872-4beb-96cc-e34d0d0837a7",
   "metadata": {},
   "outputs": [
    {
     "name": "stdout",
     "output_type": "stream",
     "text": [
      "daily: [511.886] 452.9, 596.4, 532.1, 490.5, 534.3, 481.5, 482.0\n",
      "weekly: [469.389] 567.6, 500.3, 411.2, 466.1, 471.9, 358.3, 482.0\n",
      "week-oya: [465.294] 550.0, 446.7, 398.6, 487.0, 459.3, 313.5, 555.1\n",
      "arima: [381.301] 393.6, 398.3, 356.2, 377.0, 392.9, 304.8, 433.4\n",
      "sarima: [393.614] 406.6, 411.6, 366.9, 387.5, 408.9, 321.6, 441.0\n"
     ]
    },
    {
     "data": {
      "image/png": "[encoded data removed]",
      "text/plain": [
       "<Figure size 432x288 with 1 Axes>"
      ]
     },
     "metadata": {
      "needs_background": "light"
     },
     "output_type": "display_data"
    }
   ],
   "source": [
    "# evaluate each model\n",
    "days = ['sun', 'mon', 'tue', 'wed', 'thr', 'fri', 'sat']\n",
    "for name, func in models.items():\n",
    "\t# evaluate and get scores\n",
    "\tscore, scores = evaluate_model(func, train, test)\n",
    "\t# summarize scores\n",
    "\tsummarize_scores(name, score, scores)\n",
    "\t# plot scores\n",
    "\tpyplot.plot(days, scores, marker='o', label=name)\n",
    "# show plot\n",
    "pyplot.legend()\n",
    "pyplot.show()"
   ]
  },
  {
   "cell_type": "code",
   "execution_count": null,
   "id": "03f887ea-b6b0-44e0-b4d8-25567d9c0f41",
   "metadata": {},
   "outputs": [],
   "source": []
  },
  {
   "cell_type": "markdown",
   "id": "52b70790-f1ea-41f0-ac0e-607f0e74a7ab",
   "metadata": {},
   "source": [
    "# Recursive Multi-Step Forecasting\n"
   ]
  },
  {
   "cell_type": "code",
   "execution_count": 32,
   "id": "d31b3d9a-0730-4dff-a015-58d83affa1c3",
   "metadata": {},
   "outputs": [],
   "source": [
    "from math import sqrt\n",
    "from numpy import split\n",
    "from numpy import array\n",
    "from pandas import read_csv\n",
    "from sklearn.metrics import mean_squared_error\n",
    "from sklearn.preprocessing import StandardScaler\n",
    "from sklearn.preprocessing import MinMaxScaler\n",
    "from sklearn.pipeline import Pipeline\n",
    "from sklearn.linear_model import LinearRegression\n",
    "from sklearn.linear_model import Lasso\n",
    "from sklearn.linear_model import Ridge\n",
    "from sklearn.linear_model import ElasticNet\n",
    "from sklearn.linear_model import HuberRegressor\n",
    "from sklearn.linear_model import Lars\n",
    "from sklearn.linear_model import LassoLars\n",
    "from sklearn.linear_model import PassiveAggressiveRegressor\n",
    "from sklearn.linear_model import RANSACRegressor\n",
    "from sklearn.linear_model import SGDRegressor\n",
    "from sklearn.linear_model import BayesianRidge\n",
    "from sklearn.linear_model import ARDRegression"
   ]
  },
  {
   "cell_type": "code",
   "execution_count": 33,
   "id": "4bb1821c-21cf-44b7-a3db-951af80d4eaa",
   "metadata": {},
   "outputs": [],
   "source": [
    "# prepare a list of ml models\n",
    "def get_models(models=dict()):\n",
    "\t# linear models\n",
    "\tmodels['lr'] = LinearRegression()\n",
    "\tmodels['lasso'] = Lasso()\n",
    "\tmodels['ridge'] = Ridge()\n",
    "\tmodels['en'] = ElasticNet()\n",
    "\tmodels['huber'] = HuberRegressor()\n",
    "\tmodels['lars'] = Lars()\n",
    "\tmodels['llars'] = LassoLars()\n",
    "\tmodels['pa'] = PassiveAggressiveRegressor(max_iter=1000, tol=1e-3)\n",
    "\tmodels['ranscac'] = RANSACRegressor()\n",
    "\tmodels['sgd'] = SGDRegressor(max_iter=1000, tol=1e-3)\n",
    "\tmodels['bayesianridge'] = BayesianRidge()\n",
    "\tmodels['ard'] = ARDRegression()\n",
    "\tprint('Defined %d models' % len(models))\n",
    "\treturn models"
   ]
  },
  {
   "cell_type": "code",
   "execution_count": 34,
   "id": "0b4c01f6-8401-4ff5-a7c7-6b289f13b92a",
   "metadata": {},
   "outputs": [],
   "source": [
    "# create a feature preparation pipeline for a model\n",
    "def make_pipeline(model):\n",
    "\tsteps = list()\n",
    "\t# standardization\n",
    "\tsteps.append(('standardize', StandardScaler()))\n",
    "\t# normalization\n",
    "\tsteps.append(('normalize', MinMaxScaler()))\n",
    "\t# the model\n",
    "\tsteps.append(('model', model))\n",
    "\t# create pipeline\n",
    "\tpipeline = Pipeline(steps=steps)\n",
    "\treturn pipeline"
   ]
  },
  {
   "cell_type": "code",
   "execution_count": 35,
   "id": "e6b83f19-dea2-4920-842a-005333bf255a",
   "metadata": {},
   "outputs": [],
   "source": [
    "# make a recursive multi-step forecast\n",
    "def forecast(model, input_x, n_input):\n",
    "\tyhat_sequence = list()\n",
    "\tinput_data = [x for x in input_x]\n",
    "\tfor j in range(7):\n",
    "\t\t# prepare the input data\n",
    "\t\tX = array(input_data[-n_input:]).reshape(1, n_input)\n",
    "\t\t# make a one-step forecast\n",
    "\t\tyhat = model.predict(X)[0]\n",
    "\t\t# add to the result\n",
    "\t\tyhat_sequence.append(yhat)\n",
    "\t\t# add the prediction to the input\n",
    "\t\tinput_data.append(yhat)\n",
    "\treturn yhat_sequence"
   ]
  },
  {
   "cell_type": "code",
   "execution_count": 36,
   "id": "f92f206b-6527-41dd-93a6-7b7d15134b14",
   "metadata": {},
   "outputs": [],
   "source": [
    "# convert history into inputs and outputs\n",
    "def to_supervised(history, n_input):\n",
    "\t# convert history to a univariate series\n",
    "\tdata = to_series(history)\n",
    "\tX, y = list(), list()\n",
    "\tix_start = 0\n",
    "\t# step over the entire history one time step at a time\n",
    "\tfor i in range(len(data)):\n",
    "\t\t# define the end of the input sequence\n",
    "\t\tix_end = ix_start + n_input\n",
    "\t\t# ensure we have enough data for this instance\n",
    "\t\tif ix_end < len(data):\n",
    "\t\t\tX.append(data[ix_start:ix_end])\n",
    "\t\t\ty.append(data[ix_end])\n",
    "\t\t# move along one time step\n",
    "\t\tix_start += 1\n",
    "\treturn array(X), array(y)"
   ]
  },
  {
   "cell_type": "code",
   "execution_count": 37,
   "id": "f1c6fb27-ea54-4ac6-843e-bfa0f642d082",
   "metadata": {},
   "outputs": [],
   "source": [
    "# fit a model and make a forecast\n",
    "def sklearn_predict(model, history, n_input):\n",
    "\t# prepare data\n",
    "\ttrain_x, train_y = to_supervised(history, n_input)\n",
    "\t# make pipeline\n",
    "\tpipeline = make_pipeline(model)\n",
    "\t# fit the model\n",
    "\tpipeline.fit(train_x, train_y)\n",
    "\t# predict the week, recursively\n",
    "\tyhat_sequence = forecast(pipeline, train_x[-1, :], n_input)\n",
    "\treturn yhat_sequence"
   ]
  },
  {
   "cell_type": "code",
   "execution_count": 38,
   "id": "0f03fa1c-d5af-4c79-a793-452beee82625",
   "metadata": {},
   "outputs": [],
   "source": [
    "# evaluate a single model\n",
    "def evaluate_model(model, train, test, n_input):\n",
    "\t# history is a list of weekly data\n",
    "\thistory = [x for x in train]\n",
    "\t# walk-forward validation over each week\n",
    "\tpredictions = list()\n",
    "\tfor i in range(len(test)):\n",
    "\t\t# predict the week\n",
    "\t\tyhat_sequence = sklearn_predict(model, history, n_input)\n",
    "\t\t# store the predictions\n",
    "\t\tpredictions.append(yhat_sequence)\n",
    "\t\t# get real observation and add to history for predicting the next week\n",
    "\t\thistory.append(test[i, :])\n",
    "\tpredictions = array(predictions)\n",
    "\t# evaluate predictions days for each week\n",
    "\tscore, scores = evaluate_forecasts(test[:, :, 0], predictions)\n",
    "\treturn score, scores"
   ]
  },
  {
   "cell_type": "code",
   "execution_count": 39,
   "id": "1f08177d-d3b2-4651-ad04-208e78be6c14",
   "metadata": {},
   "outputs": [
    {
     "name": "stdout",
     "output_type": "stream",
     "text": [
      "Defined 12 models\n",
      "lr: [388.388] 411.0, 389.1, 338.0, 370.8, 408.5, 308.3, 471.1\n",
      "lasso: [386.838] 403.6, 388.9, 337.3, 371.1, 406.1, 307.6, 471.6\n",
      "ridge: [387.659] 407.9, 388.6, 337.5, 371.2, 407.0, 307.7, 471.7\n",
      "en: [469.337] 452.2, 451.9, 435.8, 485.7, 460.4, 405.8, 575.1\n",
      "huber: [392.465] 412.1, 388.0, 337.9, 377.3, 405.6, 306.9, 492.5\n",
      "lars: [388.388] 411.0, 389.1, 338.0, 370.8, 408.5, 308.3, 471.1\n",
      "llars: [388.406] 396.1, 387.8, 339.3, 377.8, 402.9, 310.3, 481.9\n",
      "pa: [398.289] 412.9, 390.1, 341.8, 385.9, 409.8, 312.3, 506.5\n",
      "ranscac: [457.489] 461.2, 438.5, 378.5, 429.8, 501.0, 379.8, 580.3\n",
      "sgd: [387.685] 406.6, 389.8, 337.5, 371.1, 408.0, 307.9, 471.1\n",
      "bayesianridge: [388.155] 410.0, 388.9, 337.9, 370.9, 408.1, 308.1, 471.2\n",
      "ard: [387.690] 408.7, 388.7, 337.6, 370.7, 407.7, 308.0, 470.7\n"
     ]
    },
    {
     "data": {
      "image/png": "[encoded data removed]",
      "text/plain": [
       "<Figure size 432x288 with 1 Axes>"
      ]
     },
     "metadata": {
      "needs_background": "light"
     },
     "output_type": "display_data"
    }
   ],
   "source": [
    "models = get_models()\n",
    "n_input = 7\n",
    "# evaluate each model\n",
    "days = ['sun', 'mon', 'tue', 'wed', 'thr', 'fri', 'sat']\n",
    "for name, model in models.items():\n",
    "\t# evaluate and get scores\n",
    "\tscore, scores = evaluate_model(model, train, test, n_input)\n",
    "\t# summarize scores\n",
    "\tsummarize_scores(name, score, scores)\n",
    "\t# plot scores\n",
    "\tpyplot.plot(days, scores, marker='o', label=name)\n",
    "# show plot\n",
    "pyplot.legend()\n",
    "pyplot.show()"
   ]
  },
  {
   "cell_type": "code",
   "execution_count": null,
   "id": "48424da9-b401-4296-adb4-5827900ce1ce",
   "metadata": {},
   "outputs": [],
   "source": []
  },
  {
   "cell_type": "markdown",
   "id": "af6f0cd9-c4c9-4922-8468-a5884011c3da",
   "metadata": {},
   "source": [
    "# Direct Multi-Step Forecasting"
   ]
  },
  {
   "cell_type": "code",
   "execution_count": 40,
   "id": "57be332c-6aba-407a-86c6-8faa57ad805f",
   "metadata": {},
   "outputs": [],
   "source": [
    "# evaluate a single model\n",
    "def evaluate_model(model, train, test):\n",
    "\t# history is a list of weekly data\n",
    "\thistory = [x for x in train]\n",
    "\t# walk-forward validation over each week\n",
    "\tpredictions = list()\n",
    "\tfor i in range(len(test)):\n",
    "\t\t# predict the week\n",
    "\t\tyhat_sequence = sklearn_predict(model, history)\n",
    "\t\t# store the predictions\n",
    "\t\tpredictions.append(yhat_sequence)\n",
    "\t\t# get real observation and add to history for predicting the next week\n",
    "\t\thistory.append(test[i, :])\n",
    "\tpredictions = array(predictions)\n",
    "\t# evaluate predictions days for each week\n",
    "\tscore, scores = evaluate_forecasts(test[:, :, 0], predictions)\n",
    "\treturn score, scores"
   ]
  },
  {
   "cell_type": "code",
   "execution_count": 41,
   "id": "757d6315-d7f5-4d5e-9639-de0bb75c1b2a",
   "metadata": {},
   "outputs": [],
   "source": [
    "# convert history into inputs and outputs\n",
    "def to_supervised(history, output_ix):\n",
    "\tX, y = list(), list()\n",
    "\t# step over the entire history one time step at a time\n",
    "\tfor i in range(len(history)-1):\n",
    "\t\tX.append(history[i][:,0])\n",
    "\t\ty.append(history[i + 1][output_ix,0])\n",
    "\treturn array(X), array(y)"
   ]
  },
  {
   "cell_type": "code",
   "execution_count": 42,
   "id": "6693d4f8-2187-45fb-83e9-cb53a8d65856",
   "metadata": {},
   "outputs": [],
   "source": [
    "\n",
    "# fit a model and make a forecast\n",
    "def sklearn_predict(model, history):\n",
    "\tyhat_sequence = list()\n",
    "\t# fit a model for each forecast day\n",
    "\tfor i in range(7):\n",
    "\t\t# prepare data\n",
    "\t\ttrain_x, train_y = to_supervised(history, i)\n",
    "\t\t# make pipeline\n",
    "\t\tpipeline = make_pipeline(model)\n",
    "\t\t# fit the model\n",
    "\t\tpipeline.fit(train_x, train_y)\n",
    "\t\t# forecast\n",
    "\t\tx_input = array(train_x[-1, :]).reshape(1,7)\n",
    "\t\tyhat = pipeline.predict(x_input)[0]\n",
    "\t\t# store\n",
    "\t\tyhat_sequence.append(yhat)\n",
    "\treturn yhat_sequence"
   ]
  },
  {
   "cell_type": "code",
   "execution_count": 43,
   "id": "ad9249ae-81fe-4409-afea-a981006d25d3",
   "metadata": {},
   "outputs": [
    {
     "name": "stdout",
     "output_type": "stream",
     "text": [
      "Defined 12 models\n",
      "lr: [410.927] 463.8, 381.4, 351.9, 430.7, 387.8, 350.4, 488.8\n",
      "lasso: [408.440] 458.4, 378.5, 352.9, 429.5, 388.0, 348.0, 483.5\n",
      "ridge: [403.875] 447.1, 377.9, 347.5, 427.4, 384.1, 343.4, 479.7\n",
      "en: [454.263] 471.8, 433.8, 415.8, 477.4, 434.4, 373.8, 551.8\n",
      "huber: [409.500] 466.8, 380.2, 359.8, 432.4, 387.0, 351.3, 470.9\n",
      "lars: [410.927] 463.8, 381.4, 351.9, 430.7, 387.8, 350.4, 488.8\n",
      "llars: [406.490] 453.0, 378.8, 357.3, 428.1, 388.0, 345.0, 476.9\n",
      "pa: [402.668] 434.5, 379.2, 361.0, 427.9, 390.4, 349.3, 463.2\n",
      "ranscac: [460.685] 475.9, 388.8, 410.1, 516.4, 481.1, 438.4, 499.4\n",
      "sgd: [403.476] 452.0, 378.6, 347.5, 427.6, 381.2, 344.5, 473.6\n",
      "bayesianridge: [406.280] 456.4, 378.3, 348.3, 428.1, 384.5, 346.6, 481.1\n",
      "ard: [407.322] 453.7, 380.1, 362.0, 427.7, 390.3, 346.0, 474.4\n"
     ]
    },
    {
     "data": {
      "image/png": "[encoded data removed]",
      "text/plain": [
       "<Figure size 432x288 with 1 Axes>"
      ]
     },
     "metadata": {
      "needs_background": "light"
     },
     "output_type": "display_data"
    }
   ],
   "source": [
    "models = get_models()\n",
    "# evaluate each model\n",
    "days = ['sun', 'mon', 'tue', 'wed', 'thr', 'fri', 'sat']\n",
    "for name, model in models.items():\n",
    "\t# evaluate and get scores\n",
    "\tscore, scores = evaluate_model(model, train, test)\n",
    "\t# summarize scores\n",
    "\tsummarize_scores(name, score, scores)\n",
    "\t# plot scores\n",
    "\tpyplot.plot(days, scores, marker='o', label=name)\n",
    "# show plot\n",
    "pyplot.legend()\n",
    "pyplot.show()"
   ]
  },
  {
   "cell_type": "markdown",
   "id": "fc100575-861c-479d-8668-153abc6cdcdf",
   "metadata": {},
   "source": [
    "# Direct Lead Time Approach"
   ]
  },
  {
   "cell_type": "code",
   "execution_count": 44,
   "id": "68eb118f-e7cd-4e4e-9fa3-a06e2da91320",
   "metadata": {},
   "outputs": [],
   "source": [
    "# fit a model and make a forecast\n",
    "def sklearn_predict(model, history, n_input):\n",
    "\tyhat_sequence = list()\n",
    "\t# fit a model for each forecast day\n",
    "\tfor i in range(7):\n",
    "\t\t# prepare data\n",
    "\t\ttrain_x, train_y = to_supervised(history, n_input, i)\n",
    "\t\t# make pipeline\n",
    "\t\tpipeline = make_pipeline(model)\n",
    "\t\t# fit the model\n",
    "\t\tpipeline.fit(train_x, train_y)\n",
    "\t\t# forecast\n",
    "\t\tx_input = array(train_x[-1, :]).reshape(1,n_input)\n",
    "\t\tyhat = pipeline.predict(x_input)[0]\n",
    "\t\t# store\n",
    "\t\tyhat_sequence.append(yhat)\n",
    "\treturn yhat_sequence"
   ]
  },
  {
   "cell_type": "code",
   "execution_count": 45,
   "id": "5b3fd7ec-78b1-47fa-a027-01f20fc7897b",
   "metadata": {},
   "outputs": [],
   "source": [
    "# convert history into inputs and outputs\n",
    "def to_supervised(history, n_input, output_ix):\n",
    "\t# convert history to a univariate series\n",
    "\tdata = to_series(history)\n",
    "\tX, y = list(), list()\n",
    "\tix_start = 0\n",
    "\t# step over the entire history one time step at a time\n",
    "\tfor i in range(len(data)):\n",
    "\t\t# define the end of the input sequence\n",
    "\t\tix_end = ix_start + n_input\n",
    "\t\tix_output = ix_end + output_ix\n",
    "\t\t# ensure we have enough data for this instance\n",
    "\t\tif ix_output < len(data):\n",
    "\t\t\tX.append(data[ix_start:ix_end])\n",
    "\t\t\ty.append(data[ix_output])\n",
    "\t\t# move along one time step\n",
    "\t\tix_start += 1\n",
    "\treturn array(X), array(y)"
   ]
  },
  {
   "cell_type": "code",
   "execution_count": 46,
   "id": "ccf983ba-db68-48bf-a458-bed3a724d7c0",
   "metadata": {},
   "outputs": [],
   "source": [
    "# evaluate a single model\n",
    "def evaluate_model(model, train, test, n_input):\n",
    "\t# history is a list of weekly data\n",
    "\thistory = [x for x in train]\n",
    "\t# walk-forward validation over each week\n",
    "\tpredictions = list()\n",
    "\tfor i in range(len(test)):\n",
    "\t\t# predict the week\n",
    "\t\tyhat_sequence = sklearn_predict(model, history, n_input)\n",
    "\t\t# store the predictions\n",
    "\t\tpredictions.append(yhat_sequence)\n",
    "\t\t# get real observation and add to history for predicting the next week\n",
    "\t\thistory.append(test[i, :])\n",
    "\tpredictions = array(predictions)\n",
    "\t# evaluate predictions days for each week\n",
    "\tscore, scores = evaluate_forecasts(test[:, :, 0], predictions)\n",
    "\treturn score, scores"
   ]
  },
  {
   "cell_type": "code",
   "execution_count": 47,
   "id": "3a59aae4-607a-4296-9dc8-994af5d6f799",
   "metadata": {},
   "outputs": [
    {
     "name": "stdout",
     "output_type": "stream",
     "text": [
      "lr: [394.983] 411.0, 400.7, 340.2, 382.9, 385.1, 362.8, 469.4\n",
      "lasso: [391.767] 403.6, 394.4, 336.1, 382.7, 384.2, 360.4, 468.1\n",
      "ridge: [393.444] 407.9, 397.8, 338.9, 383.2, 383.2, 360.4, 469.6\n",
      "en: [461.986] 452.2, 448.3, 430.3, 480.4, 448.9, 396.0, 560.6\n",
      "huber: [394.287] 412.1, 394.0, 333.4, 384.1, 383.1, 364.3, 474.4\n",
      "lars: [394.983] 411.0, 400.7, 340.2, 382.9, 385.1, 362.8, 469.4\n",
      "llars: [390.075] 396.1, 390.1, 334.3, 384.4, 385.2, 355.6, 470.9\n",
      "pa: [394.172] 416.3, 390.5, 331.9, 387.4, 378.3, 357.4, 480.3\n",
      "ranscac: [454.168] 486.3, 459.9, 375.3, 433.3, 418.8, 436.0, 549.4\n",
      "sgd: [391.119] 405.1, 393.1, 336.2, 384.2, 379.6, 357.5, 468.7\n",
      "bayesianridge: [394.283] 410.0, 399.3, 339.6, 383.0, 384.1, 361.5, 469.5\n",
      "ard: [392.969] 408.7, 395.9, 337.2, 382.4, 384.7, 362.5, 466.8\n"
     ]
    },
    {
     "data": {
      "image/png": "[encoded data removed]",
      "text/plain": [
       "<Figure size 432x288 with 1 Axes>"
      ]
     },
     "metadata": {
      "needs_background": "light"
     },
     "output_type": "display_data"
    }
   ],
   "source": [
    "n_input = 7\n",
    "# evaluate each model\n",
    "days = ['sun', 'mon', 'tue', 'wed', 'thr', 'fri', 'sat']\n",
    "for name, model in models.items():\n",
    "\t# evaluate and get scores\n",
    "\tscore, scores = evaluate_model(model, train, test, n_input)\n",
    "\t# summarize scores\n",
    "\tsummarize_scores(name, score, scores)\n",
    "\t# plot scores\n",
    "\tpyplot.plot(days, scores, marker='o', label=name)\n",
    "# show plot\n",
    "pyplot.legend()\n",
    "pyplot.show()"
   ]
  },
  {
   "cell_type": "markdown",
   "id": "a209a450-b944-47ff-a659-3f18dea59347",
   "metadata": {},
   "source": [
    "# CNNs for Multi-Step Forecasting"
   ]
  },
  {
   "cell_type": "markdown",
   "id": "4a3e62a9-af45-46ae-9c0c-b54d4b9d0b70",
   "metadata": {},
   "source": [
    "For more information on CNN: https://machinelearningmastery.com/crash-course-convolutional-neural-networks/"
   ]
  },
  {
   "cell_type": "markdown",
   "id": "62870298-90a0-4573-8dcd-4a6bc0f48506",
   "metadata": {},
   "source": [
    "## Multi-step Time Series Forecasting With a Univariate CNN"
   ]
  },
  {
   "cell_type": "code",
   "execution_count": 48,
   "id": "c237766f-dc2b-4fc5-ac65-0ba0c4918399",
   "metadata": {},
   "outputs": [],
   "source": [
    "from keras.models import Sequential\n",
    "from keras.layers import Dense, Dropout\n",
    "from keras.layers import Flatten\n",
    "from keras.layers.convolutional import Conv1D\n",
    "from keras.layers.convolutional import MaxPooling1D"
   ]
  },
  {
   "cell_type": "code",
   "execution_count": 49,
   "id": "45726fdc-fc61-4b17-9752-ed36894dc492",
   "metadata": {},
   "outputs": [],
   "source": [
    "# evaluate one or more weekly forecasts against expected values\n",
    "def evaluate_forecasts(actual, predicted):\n",
    "\tscores = list()\n",
    "\t# calculate an RMSE score for each day\n",
    "\tfor i in range(actual.shape[1]):\n",
    "\t\t# calculate mse\n",
    "\t\tmse = mean_squared_error(actual[:, i], predicted[:, i])\n",
    "\t\t# calculate rmse\n",
    "\t\trmse = sqrt(mse)\n",
    "\t\t# store\n",
    "\t\tscores.append(rmse)\n",
    "\t# calculate overall RMSE\n",
    "\ts = 0\n",
    "\tfor row in range(actual.shape[0]):\n",
    "\t\tfor col in range(actual.shape[1]):\n",
    "\t\t\ts += (actual[row, col] - predicted[row, col])**2\n",
    "\tscore = sqrt(s / (actual.shape[0] * actual.shape[1]))\n",
    "\treturn score, scores"
   ]
  },
  {
   "cell_type": "code",
   "execution_count": 50,
   "id": "9a10972c-971b-4925-b532-bda18bded61d",
   "metadata": {},
   "outputs": [],
   "source": [
    "# convert history into inputs and outputs\n",
    "def to_supervised(train, n_input, n_out=7):\n",
    "\t# flatten data\n",
    "\tdata = train.reshape((train.shape[0]*train.shape[1], train.shape[2]))\n",
    "\tX, y = list(), list()\n",
    "\tin_start = 0\n",
    "\t# step over the entire history one time step at a time\n",
    "\tfor _ in range(len(data)):\n",
    "\t\t# define the end of the input sequence\n",
    "\t\tin_end = in_start + n_input\n",
    "\t\tout_end = in_end + n_out\n",
    "\t\t# ensure we have enough data for this instance\n",
    "\t\tif out_end <= len(data):\n",
    "\t\t\tx_input = data[in_start:in_end, 0]\n",
    "\t\t\tx_input = x_input.reshape((len(x_input), 1))\n",
    "\t\t\tX.append(x_input)\n",
    "\t\t\ty.append(data[in_end:out_end, 0])\n",
    "\t\t# move along one time step\n",
    "\t\tin_start += 1\n",
    "\treturn array(X), array(y)"
   ]
  },
  {
   "cell_type": "code",
   "execution_count": 51,
   "id": "58d43dba-7488-4dad-aeb0-9ad8371fe9d4",
   "metadata": {},
   "outputs": [],
   "source": [
    "# train the model\n",
    "def build_model(train, n_input):\n",
    "\t# prepare data\n",
    "\ttrain_x, train_y = to_supervised(train, n_input)\n",
    "\t# define parameters\n",
    "\tverbose, epochs, batch_size = 0, 50, 5\n",
    "\tn_timesteps, n_features, n_outputs = train_x.shape[1], train_x.shape[2], train_y.shape[1]\n",
    "\t# define model\n",
    "\tmodel = Sequential()\n",
    "\tmodel.add(Conv1D(filters=32, kernel_size=3, activation='relu', input_shape=(n_timesteps,n_features)))\n",
    "\tmodel.add(MaxPooling1D(pool_size=2))\n",
    "\tmodel.add(Flatten())\n",
    "\tmodel.add(Dense(128, activation='relu'))\n",
    "\tmodel.add(Dropout(0.1))\n",
    "\tmodel.add(Dense(64, activation='relu'))\n",
    "\tmodel.add(Dropout(0.1))\n",
    "\tmodel.add(Dense(n_outputs))\n",
    "\tmodel.compile(loss='mse', optimizer='adam')\n",
    "\t# fit network\n",
    "\tmodel.fit(train_x, train_y, epochs=epochs, batch_size=batch_size, verbose=verbose)\n",
    "\treturn model"
   ]
  },
  {
   "cell_type": "code",
   "execution_count": 52,
   "id": "d9c16c6b-ec62-497b-bd7b-b263c33506f6",
   "metadata": {},
   "outputs": [],
   "source": [
    "# make a forecast\n",
    "def forecast(model, history, n_input):\n",
    "\t# flatten data\n",
    "\tdata = array(history)\n",
    "\tdata = data.reshape((data.shape[0]*data.shape[1], data.shape[2]))\n",
    "\t# retrieve last observations for input data\n",
    "\tinput_x = data[-n_input:, 0]\n",
    "\t# reshape into [1, n_input, 1]\n",
    "\tinput_x = input_x.reshape((1, len(input_x), 1))\n",
    "\t# forecast the next week\n",
    "\tyhat = model.predict(input_x, verbose=0)\n",
    "\t# we only want the vector forecast\n",
    "\tyhat = yhat[0]\n",
    "\treturn yhat"
   ]
  },
  {
   "cell_type": "code",
   "execution_count": 53,
   "id": "10339a4a-310c-45f3-a021-f6f111a2d2b0",
   "metadata": {},
   "outputs": [],
   "source": [
    "# evaluate a single model\n",
    "def evaluate_model(train, test, n_input):\n",
    "\t# fit model\n",
    "\tmodel = build_model(train, n_input)\n",
    "\t# history is a list of weekly data\n",
    "\thistory = [x for x in train]\n",
    "\t# walk-forward validation over each week\n",
    "\tpredictions = list()\n",
    "\tfor i in range(len(test)):\n",
    "\t\t# predict the week\n",
    "\t\tyhat_sequence = forecast(model, history, n_input)\n",
    "\t\t# store the predictions\n",
    "\t\tpredictions.append(yhat_sequence)\n",
    "\t\t# get real observation and add to history for predicting the next week\n",
    "\t\thistory.append(test[i, :])\n",
    "\t# evaluate predictions days for each week\n",
    "\tpredictions = array(predictions)\n",
    "\tscore, scores = evaluate_forecasts(test[:, :, 0], predictions)\n",
    "\treturn score, scores"
   ]
  },
  {
   "cell_type": "markdown",
   "id": "bd5f5a9d-8f77-4fe7-897a-f48f0b631d74",
   "metadata": {},
   "source": [
    "### Weekly"
   ]
  },
  {
   "cell_type": "code",
   "execution_count": 54,
   "id": "71d9b64a-f586-45b6-8410-f992bee0d2ca",
   "metadata": {},
   "outputs": [
    {
     "name": "stdout",
     "output_type": "stream",
     "text": [
      "cnn: [406.561] 440.8, 405.1, 359.9, 412.4, 403.4, 315.7, 486.4\n"
     ]
    },
    {
     "data": {
      "image/png": "[encoded data removed]",
      "text/plain": [
       "<Figure size 432x288 with 1 Axes>"
      ]
     },
     "metadata": {
      "needs_background": "light"
     },
     "output_type": "display_data"
    }
   ],
   "source": [
    "train, test = split_dataset(dataset.values)\n",
    "# evaluate model and get scores\n",
    "n_input = 7\n",
    "score, scores = evaluate_model(train, test, n_input)\n",
    "# summarize scores\n",
    "summarize_scores('cnn', score, scores)\n",
    "# plot scores\n",
    "days = ['sun', 'mon', 'tue', 'wed', 'thr', 'fri', 'sat']\n",
    "pyplot.plot(days, scores, marker='o', label='cnn')\n",
    "pyplot.show()"
   ]
  },
  {
   "cell_type": "markdown",
   "id": "ec516370-a5e9-4258-8014-2e88b4aa795e",
   "metadata": {},
   "source": [
    "### 2 Weeks"
   ]
  },
  {
   "cell_type": "code",
   "execution_count": 55,
   "id": "bc23c76e-f692-4618-b79c-7e27f1efa9ab",
   "metadata": {},
   "outputs": [
    {
     "name": "stdout",
     "output_type": "stream",
     "text": [
      "cnn: [393.568] 397.5, 378.9, 406.6, 402.4, 398.5, 328.0, 434.7\n"
     ]
    },
    {
     "data": {
      "image/png": "[encoded data removed]",
      "text/plain": [
       "<Figure size 432x288 with 1 Axes>"
      ]
     },
     "metadata": {
      "needs_background": "light"
     },
     "output_type": "display_data"
    }
   ],
   "source": [
    "train, test = split_dataset(dataset.values)\n",
    "# evaluate model and get scores\n",
    "n_input = 14\n",
    "score, scores = evaluate_model(train, test, n_input)\n",
    "# summarize scores\n",
    "summarize_scores('cnn', score, scores)\n",
    "# plot scores\n",
    "days = ['sun', 'mon', 'tue', 'wed', 'thr', 'fri', 'sat']\n",
    "pyplot.plot(days, scores, marker='o', label='cnn')\n",
    "pyplot.show()"
   ]
  },
  {
   "cell_type": "markdown",
   "id": "dfcb600f-9915-42a1-b2b2-11431ddad793",
   "metadata": {},
   "source": [
    "## Multi-step Time Series Forecasting With a Multichannel CNN\n"
   ]
  },
  {
   "cell_type": "code",
   "execution_count": 56,
   "id": "39d934ed-62a7-46a2-a078-09c1c6c99bb8",
   "metadata": {},
   "outputs": [],
   "source": [
    "# split a univariate dataset into train/test sets\n",
    "def split_dataset(data):\n",
    "\t# split into standard weeks\n",
    "\ttrain, test = data[1:-328], data[-328:-6]\n",
    "\t# restructure into windows of weekly data\n",
    "\ttrain = array(split(train, len(train)/7))\n",
    "\ttest = array(split(test, len(test)/7))\n",
    "\treturn train, test"
   ]
  },
  {
   "cell_type": "code",
   "execution_count": 57,
   "id": "e2a78a0e-77bc-4f4e-924a-14507ade8133",
   "metadata": {},
   "outputs": [],
   "source": [
    "# evaluate one or more weekly forecasts against expected values\n",
    "def evaluate_forecasts(actual, predicted):\n",
    "\tscores = list()\n",
    "\t# calculate an RMSE score for each day\n",
    "\tfor i in range(actual.shape[1]):\n",
    "\t\t# calculate mse\n",
    "\t\tmse = mean_squared_error(actual[:, i], predicted[:, i])\n",
    "\t\t# calculate rmse\n",
    "\t\trmse = sqrt(mse)\n",
    "\t\t# store\n",
    "\t\tscores.append(rmse)\n",
    "\t# calculate overall RMSE\n",
    "\ts = 0\n",
    "\tfor row in range(actual.shape[0]):\n",
    "\t\tfor col in range(actual.shape[1]):\n",
    "\t\t\ts += (actual[row, col] - predicted[row, col])**2\n",
    "\tscore = sqrt(s / (actual.shape[0] * actual.shape[1]))\n",
    "\treturn score, scores"
   ]
  },
  {
   "cell_type": "code",
   "execution_count": 58,
   "id": "5e2a9db7-d1f2-40f8-a07a-a1da164f7692",
   "metadata": {},
   "outputs": [],
   "source": [
    "# convert history into inputs and outputs\n",
    "def to_supervised(train, n_input, n_out=7):\n",
    "\t# flatten data\n",
    "\tdata = train.reshape((train.shape[0]*train.shape[1], train.shape[2]))\n",
    "\tX, y = list(), list()\n",
    "\tin_start = 0\n",
    "\t# step over the entire history one time step at a time\n",
    "\tfor _ in range(len(data)):\n",
    "\t\t# define the end of the input sequence\n",
    "\t\tin_end = in_start + n_input\n",
    "\t\tout_end = in_end + n_out\n",
    "\t\t# ensure we have enough data for this instance\n",
    "\t\tif out_end <= len(data):\n",
    "\t\t\tX.append(data[in_start:in_end, :])\n",
    "\t\t\ty.append(data[in_end:out_end, 0])\n",
    "\t\t# move along one time step\n",
    "\t\tin_start += 1\n",
    "\treturn array(X), array(y)"
   ]
  },
  {
   "cell_type": "code",
   "execution_count": 59,
   "id": "1200222e-a30c-443f-b6da-ee4f22d4f353",
   "metadata": {},
   "outputs": [],
   "source": [
    "# train the model\n",
    "def build_model(train, n_input):\n",
    "\t# prepare data\n",
    "\ttrain_x, train_y = to_supervised(train, n_input)\n",
    "\t# define parameters\n",
    "\tverbose, epochs, batch_size = 0, 70, 16\n",
    "\tn_timesteps, n_features, n_outputs = train_x.shape[1], train_x.shape[2], train_y.shape[1]\n",
    "\t# define model\n",
    "\tmodel = Sequential()\n",
    "\tmodel.add(Conv1D(filters=32, kernel_size=3, activation='relu', input_shape=(n_timesteps,n_features)))\n",
    "\tmodel.add(Conv1D(filters=32, kernel_size=3, activation='relu'))\n",
    "\tmodel.add(MaxPooling1D(pool_size=2))\n",
    "\tmodel.add(Conv1D(filters=16, kernel_size=3, activation='relu'))\n",
    "\tmodel.add(MaxPooling1D(pool_size=2))\n",
    "\tmodel.add(Flatten())\n",
    "\tmodel.add(Dense(100, activation='relu'))\n",
    "\tmodel.add(Dense(n_outputs))\n",
    "\tmodel.compile(loss='mse', optimizer='adam')\n",
    "\t# fit network\n",
    "\tmodel.fit(train_x, train_y, epochs=epochs, batch_size=batch_size, verbose=verbose)\n",
    "\treturn model"
   ]
  },
  {
   "cell_type": "code",
   "execution_count": 60,
   "id": "73693ac0-09a7-4e05-9875-5f08a3fa1002",
   "metadata": {},
   "outputs": [],
   "source": [
    "# make a forecast\n",
    "def forecast(model, history, n_input):\n",
    "\t# flatten data\n",
    "\tdata = array(history)\n",
    "\tdata = data.reshape((data.shape[0]*data.shape[1], data.shape[2]))\n",
    "\t# retrieve last observations for input data\n",
    "\tinput_x = data[-n_input:, :]\n",
    "\t# reshape into [1, n_input, n]\n",
    "\tinput_x = input_x.reshape((1, input_x.shape[0], input_x.shape[1]))\n",
    "\t# forecast the next week\n",
    "\tyhat = model.predict(input_x, verbose=0)\n",
    "\t# we only want the vector forecast\n",
    "\tyhat = yhat[0]\n",
    "\treturn yhat\n",
    " \n",
    "# evaluate a single model\n",
    "def evaluate_model(train, test, n_input):\n",
    "\t# fit model\n",
    "\tmodel = build_model(train, n_input)\n",
    "\t# history is a list of weekly data\n",
    "\thistory = [x for x in train]\n",
    "\t# walk-forward validation over each week\n",
    "\tpredictions = list()\n",
    "\tfor i in range(len(test)):\n",
    "\t\t# predict the week\n",
    "\t\tyhat_sequence = forecast(model, history, n_input)\n",
    "\t\t# store the predictions\n",
    "\t\tpredictions.append(yhat_sequence)\n",
    "\t\t# get real observation and add to history for predicting the next week\n",
    "\t\thistory.append(test[i, :])\n",
    "\t# evaluate predictions days for each week\n",
    "\tpredictions = array(predictions)\n",
    "\tscore, scores = evaluate_forecasts(test[:, :, 0], predictions)\n",
    "\treturn score, scores"
   ]
  },
  {
   "cell_type": "code",
   "execution_count": 61,
   "id": "dc38e8f7-c1a6-4fa2-a8a0-0745d3ea24ba",
   "metadata": {},
   "outputs": [
    {
     "name": "stdout",
     "output_type": "stream",
     "text": [
      "cnn: [399.965] 421.0, 377.2, 334.0, 464.4, 348.3, 313.7, 503.3\n"
     ]
    },
    {
     "data": {
      "image/png": "[encoded data removed]",
      "text/plain": [
       "<Figure size 432x288 with 1 Axes>"
      ]
     },
     "metadata": {
      "needs_background": "light"
     },
     "output_type": "display_data"
    }
   ],
   "source": [
    "train, test = split_dataset(dataset.values)\n",
    "# evaluate model and get scores\n",
    "n_input = 14\n",
    "score, scores = evaluate_model(train, test, n_input)\n",
    "# summarize scores\n",
    "summarize_scores('cnn', score, scores)\n",
    "# plot scores\n",
    "days = ['sun', 'mon', 'tue', 'wed', 'thr', 'fri', 'sat']\n",
    "pyplot.plot(days, scores, marker='o', label='cnn')\n",
    "pyplot.show()"
   ]
  },
  {
   "cell_type": "markdown",
   "id": "8b0a137d-0a99-4564-9150-80fb3eedbcd4",
   "metadata": {},
   "source": [
    "# Multi-step Time Series Forecasting With a Multihead CNN\n"
   ]
  },
  {
   "cell_type": "code",
   "execution_count": 62,
   "id": "cdd51dbd-d7ef-4f02-81b4-97cd2405f4fe",
   "metadata": {},
   "outputs": [],
   "source": [
    "from keras.models import Model\n",
    "from keras.layers import Input\n",
    "from keras.layers.merge import concatenate"
   ]
  },
  {
   "cell_type": "code",
   "execution_count": 63,
   "id": "f6711551-e220-4c32-98a0-a5ebc2190f89",
   "metadata": {},
   "outputs": [],
   "source": [
    "# train the model\n",
    "def build_model(train, n_input):\n",
    "\t# prepare data\n",
    "\ttrain_x, train_y = to_supervised(train, n_input)\n",
    "\t# define parameters\n",
    "\tverbose, epochs, batch_size = 0, 25, 16\n",
    "\tn_timesteps, n_features, n_outputs = train_x.shape[1], train_x.shape[2], train_y.shape[1]\n",
    "\t# create a channel for each variable\n",
    "\tin_layers, out_layers = list(), list()\n",
    "\tfor i in range(n_features):\n",
    "\t\tinputs = Input(shape=(n_timesteps,1))\n",
    "\t\tconv1 = Conv1D(filters=32, kernel_size=3, activation='relu')(inputs)\n",
    "\t\tconv2 = Conv1D(filters=32, kernel_size=3, activation='relu')(conv1)\n",
    "\t\tpool1 = MaxPooling1D(pool_size=2)(conv2)\n",
    "\t\tflat = Flatten()(pool1)\n",
    "\t\t# store layers\n",
    "\t\tin_layers.append(inputs)\n",
    "\t\tout_layers.append(flat)\n",
    "\t# merge heads\n",
    "\tmerged = concatenate(out_layers)\n",
    "\t# interpretation\n",
    "\tdense1 = Dense(200, activation='relu')(merged)\n",
    "\tdense2 = Dense(100, activation='relu')(dense1)\n",
    "\toutputs = Dense(n_outputs)(dense2)\n",
    "\tmodel = Model(inputs=in_layers, outputs=outputs)\n",
    "\t# compile model\n",
    "\tmodel.compile(loss='mse', optimizer='adam')\n",
    "\t# plot the model\n",
    "\tplot_model(model, show_shapes=True, to_file='multiheaded_cnn.png')\n",
    "\t# fit network\n",
    "\tinput_data = [train_x[:,:,i].reshape((train_x.shape[0],n_timesteps,1)) for i in range(n_features)]\n",
    "\tmodel.fit(input_data, train_y, epochs=epochs, batch_size=batch_size, verbose=verbose)\n",
    "\treturn model"
   ]
  },
  {
   "cell_type": "code",
   "execution_count": 64,
   "id": "34b38ca0-cf48-45e4-8852-4d2dc0b93c11",
   "metadata": {},
   "outputs": [],
   "source": [
    "# make a forecast\n",
    "def forecast(model, history, n_input):\n",
    "\t# flatten data\n",
    "\tdata = array(history)\n",
    "\tdata = data.reshape((data.shape[0]*data.shape[1], data.shape[2]))\n",
    "\t# retrieve last observations for input data\n",
    "\tinput_x = data[-n_input:, :]\n",
    "\t# reshape into n input arrays\n",
    "\tinput_x = [input_x[:,i].reshape((1,input_x.shape[0],1)) for i in range(input_x.shape[1])]\n",
    "\t# forecast the next week\n",
    "\tyhat = model.predict(input_x, verbose=0)\n",
    "\t# we only want the vector forecast\n",
    "\tyhat = yhat[0]\n",
    "\treturn yhat"
   ]
  },
  {
   "cell_type": "code",
   "execution_count": null,
   "id": "d2c4f807-720c-4c6b-872a-71a69640fbd1",
   "metadata": {},
   "outputs": [],
   "source": []
  },
  {
   "cell_type": "code",
   "execution_count": 65,
   "id": "24af5030-db71-44ac-b8d2-259ba330596a",
   "metadata": {},
   "outputs": [],
   "source": [
    "# plot training history\n",
    "def plot_history(history):\n",
    "\t# plot loss\n",
    "\tpyplot.subplot(2, 1, 1)\n",
    "\tpyplot.plot(history.history['loss'], label='train')\n",
    "\tpyplot.plot(history.history['val_loss'], label='test')\n",
    "\tpyplot.title('loss', y=0, loc='center')\n",
    "\tpyplot.legend()\n",
    "\t# plot rmse\n",
    "\tpyplot.subplot(2, 1, 2)\n",
    "\tpyplot.plot(history.history['rmse'], label='train')\n",
    "\tpyplot.plot(history.history['val_rmse'], label='test')\n",
    "\tpyplot.title('rmse', y=0, loc='center')\n",
    "\tpyplot.legend()\n",
    "\tpyplot.show()\n",
    "\n",
    "# train the model\n",
    "def build_model(train, n_input):\n",
    "\t# prepare data\n",
    "\ttrain_x, train_y = to_supervised(train, n_input)\n",
    "\t# define parameters\n",
    "\tverbose, epochs, batch_size = 0, 25, 16\n",
    "\tn_timesteps, n_features, n_outputs = train_x.shape[1], train_x.shape[2], train_y.shape[1]\n",
    "\t# create a channel for each variable\n",
    "\tin_layers, out_layers = list(), list()\n",
    "\tfor i in range(n_features):\n",
    "\t\tinputs = Input(shape=(n_timesteps,1))\n",
    "\t\tconv1 = Conv1D(filters=32, kernel_size=3, activation='relu')(inputs)\n",
    "\t\tconv2 = Conv1D(filters=32, kernel_size=3, activation='relu')(conv1)\n",
    "\t\tpool1 = MaxPooling1D(pool_size=2)(conv2)\n",
    "\t\tflat = Flatten()(pool1)\n",
    "\t\t# store layers\n",
    "\t\tin_layers.append(inputs)\n",
    "\t\tout_layers.append(flat)\n",
    "\t# merge heads\n",
    "\tmerged = concatenate(out_layers)\n",
    "\t# interpretation\n",
    "\tdense1 = Dense(200, activation='relu')(merged)\n",
    "\tdense2 = Dense(100, activation='relu')(dense1)\n",
    "\toutputs = Dense(n_outputs)(dense2)\n",
    "\tmodel = Model(inputs=in_layers, outputs=outputs)\n",
    "\t# compile model\n",
    "\tmodel.compile(loss='mse', optimizer='adam')\n",
    "\t# fit network\n",
    "\tinput_data = [train_x[:,:,i].reshape((train_x.shape[0],n_timesteps,1)) for i in range(n_features)]\n",
    "\tmodel.fit(input_data, train_y, epochs=epochs, batch_size=batch_size, verbose=verbose)\n",
    "\treturn model\n",
    "\n",
    "# make a forecast\n",
    "def forecast(model, history, n_input):\n",
    "\t# flatten data\n",
    "\tdata = array(history)\n",
    "\tdata = data.reshape((data.shape[0]*data.shape[1], data.shape[2]))\n",
    "\t# retrieve last observations for input data\n",
    "\tinput_x = data[-n_input:, :]\n",
    "\t# reshape into n input arrays\n",
    "\tinput_x = [input_x[:,i].reshape((1,input_x.shape[0],1)) for i in range(input_x.shape[1])]\n",
    "\t# forecast the next week\n",
    "\tyhat = model.predict(input_x, verbose=0)\n",
    "\t# we only want the vector forecast\n",
    "\tyhat = yhat[0]\n",
    "\treturn yhat\n",
    "\n",
    "# evaluate a single model\n",
    "def evaluate_model(train, test, n_input):\n",
    "\t# fit model\n",
    "\tmodel = build_model(train, n_input)\n",
    "\t# history is a list of weekly data\n",
    "\thistory = [x for x in train]\n",
    "\t# walk-forward validation over each week\n",
    "\tpredictions = list()\n",
    "\tfor i in range(len(test)):\n",
    "\t\t# predict the week\n",
    "\t\tyhat_sequence = forecast(model, history, n_input)\n",
    "\t\t# store the predictions\n",
    "\t\tpredictions.append(yhat_sequence)\n",
    "\t\t# get real observation and add to history for predicting the next week\n",
    "\t\thistory.append(test[i, :])\n",
    "\t# evaluate predictions days for each week\n",
    "\tpredictions = array(predictions)\n",
    "\tscore, scores = evaluate_forecasts(test[:, :, 0], predictions)\n",
    "\treturn score, scores"
   ]
  },
  {
   "cell_type": "code",
   "execution_count": 66,
   "id": "06240fe6-10ff-475f-a6ff-8890ea2eada7",
   "metadata": {},
   "outputs": [
    {
     "name": "stdout",
     "output_type": "stream",
     "text": [
      "cnn: [428.345] 590.2, 424.6, 410.6, 408.5, 381.9, 315.7, 418.1\n"
     ]
    },
    {
     "data": {
      "image/png": "[encoded data removed]",
      "text/plain": [
       "<Figure size 432x288 with 1 Axes>"
      ]
     },
     "metadata": {
      "needs_background": "light"
     },
     "output_type": "display_data"
    }
   ],
   "source": [
    "# load the new file\n",
    "dataset = read_csv('household_power_consumption_days.csv', header=0, infer_datetime_format=True, parse_dates=['datetime'], index_col=['datetime'])\n",
    "# split into train and test\n",
    "train, test = split_dataset(dataset.values)\n",
    "# evaluate model and get scores\n",
    "n_input = 14\n",
    "score, scores = evaluate_model(train, test, n_input)\n",
    "# summarize scores\n",
    "summarize_scores('cnn', score, scores)\n",
    "# plot scores\n",
    "days = ['sun', 'mon', 'tue', 'wed', 'thr', 'fri', 'sat']\n",
    "pyplot.plot(days, scores, marker='o', label='cnn')\n",
    "pyplot.show()"
   ]
  },
  {
   "cell_type": "code",
   "execution_count": null,
   "id": "32154cd3-472e-445b-aae5-04c35e58e16e",
   "metadata": {},
   "outputs": [],
   "source": []
  }
 ],
 "metadata": {
  "kernelspec": {
   "display_name": "Python 3 (ipykernel)",
   "language": "python",
   "name": "python3"
  },
  "language_info": {
   "codemirror_mode": {
    "name": "ipython",
    "version": 3
   },
   "file_extension": ".py",
   "mimetype": "text/x-python",
   "name": "python",
   "nbconvert_exporter": "python",
   "pygments_lexer": "ipython3",
   "version": "3.8.8"
  },
  "toc-showmarkdowntxt": false,
  "widgets": {
   "application/vnd.jupyter.widget-state+json": {
    "state": {},
    "version_major": 2,
    "version_minor": 0
   }
  }
 },
 "nbformat": 4,
 "nbformat_minor": 5
}
