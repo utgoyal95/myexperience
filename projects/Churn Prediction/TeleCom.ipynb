{
 "cells": [
  {
   "cell_type": "code",
   "execution_count": 1,
   "id": "a84a551d-0c78-4e03-90b3-62695befcaa2",
   "metadata": {},
   "outputs": [],
   "source": [
    "import pandas as pd\n",
    "import numpy as np\n",
    "import matplotlib.pyplot as plt\n",
    "\n",
    "plt.style.use('seaborn')"
   ]
  },
  {
   "cell_type": "markdown",
   "id": "2d49215f-c058-4fc9-bfa3-a6b5e374187b",
   "metadata": {},
   "source": [
    "# EDA"
   ]
  },
  {
   "cell_type": "code",
   "execution_count": 2,
   "id": "28a44e9f-d3aa-4174-aa62-80059ea5dad5",
   "metadata": {},
   "outputs": [
    {
     "data": {
      "text/html": [
       "<div>\n",
       "<style scoped>\n",
       "    .dataframe tbody tr th:only-of-type {\n",
       "        vertical-align: middle;\n",
       "    }\n",
       "\n",
       "    .dataframe tbody tr th {\n",
       "        vertical-align: top;\n",
       "    }\n",
       "\n",
       "    .dataframe thead th {\n",
       "        text-align: right;\n",
       "    }\n",
       "</style>\n",
       "<table border=\"1\" class=\"dataframe\">\n",
       "  <thead>\n",
       "    <tr style=\"text-align: right;\">\n",
       "      <th></th>\n",
       "      <th>customerID</th>\n",
       "      <th>gender</th>\n",
       "      <th>SeniorCitizen</th>\n",
       "      <th>Partner</th>\n",
       "      <th>Dependents</th>\n",
       "      <th>tenure</th>\n",
       "      <th>PhoneService</th>\n",
       "      <th>MultipleLines</th>\n",
       "      <th>InternetService</th>\n",
       "      <th>OnlineSecurity</th>\n",
       "      <th>...</th>\n",
       "      <th>DeviceProtection</th>\n",
       "      <th>TechSupport</th>\n",
       "      <th>StreamingTV</th>\n",
       "      <th>StreamingMovies</th>\n",
       "      <th>Contract</th>\n",
       "      <th>PaperlessBilling</th>\n",
       "      <th>PaymentMethod</th>\n",
       "      <th>MonthlyCharges</th>\n",
       "      <th>TotalCharges</th>\n",
       "      <th>Churn</th>\n",
       "    </tr>\n",
       "  </thead>\n",
       "  <tbody>\n",
       "    <tr>\n",
       "      <th>0</th>\n",
       "      <td>7590-VHVEG</td>\n",
       "      <td>Female</td>\n",
       "      <td>0</td>\n",
       "      <td>Yes</td>\n",
       "      <td>No</td>\n",
       "      <td>1</td>\n",
       "      <td>No</td>\n",
       "      <td>No phone service</td>\n",
       "      <td>DSL</td>\n",
       "      <td>No</td>\n",
       "      <td>...</td>\n",
       "      <td>No</td>\n",
       "      <td>No</td>\n",
       "      <td>No</td>\n",
       "      <td>No</td>\n",
       "      <td>Month-to-month</td>\n",
       "      <td>Yes</td>\n",
       "      <td>Electronic check</td>\n",
       "      <td>29.85</td>\n",
       "      <td>29.85</td>\n",
       "      <td>No</td>\n",
       "    </tr>\n",
       "    <tr>\n",
       "      <th>1</th>\n",
       "      <td>5575-GNVDE</td>\n",
       "      <td>Male</td>\n",
       "      <td>0</td>\n",
       "      <td>No</td>\n",
       "      <td>No</td>\n",
       "      <td>34</td>\n",
       "      <td>Yes</td>\n",
       "      <td>No</td>\n",
       "      <td>DSL</td>\n",
       "      <td>Yes</td>\n",
       "      <td>...</td>\n",
       "      <td>Yes</td>\n",
       "      <td>No</td>\n",
       "      <td>No</td>\n",
       "      <td>No</td>\n",
       "      <td>One year</td>\n",
       "      <td>No</td>\n",
       "      <td>Mailed check</td>\n",
       "      <td>56.95</td>\n",
       "      <td>1889.5</td>\n",
       "      <td>No</td>\n",
       "    </tr>\n",
       "  </tbody>\n",
       "</table>\n",
       "<p>2 rows × 21 columns</p>\n",
       "</div>"
      ],
      "text/plain": [
       "   customerID  gender  SeniorCitizen Partner Dependents  tenure PhoneService  \\\n",
       "0  7590-VHVEG  Female              0     Yes         No       1           No   \n",
       "1  5575-GNVDE    Male              0      No         No      34          Yes   \n",
       "\n",
       "      MultipleLines InternetService OnlineSecurity  ... DeviceProtection  \\\n",
       "0  No phone service             DSL             No  ...               No   \n",
       "1                No             DSL            Yes  ...              Yes   \n",
       "\n",
       "  TechSupport StreamingTV StreamingMovies        Contract PaperlessBilling  \\\n",
       "0          No          No              No  Month-to-month              Yes   \n",
       "1          No          No              No        One year               No   \n",
       "\n",
       "      PaymentMethod MonthlyCharges  TotalCharges Churn  \n",
       "0  Electronic check          29.85         29.85    No  \n",
       "1      Mailed check          56.95        1889.5    No  \n",
       "\n",
       "[2 rows x 21 columns]"
      ]
     },
     "execution_count": 2,
     "metadata": {},
     "output_type": "execute_result"
    }
   ],
   "source": [
    "df_telco = pd.read_csv('Telco-Customer-Churn.csv')\n",
    "df_telco.head(2)"
   ]
  },
  {
   "cell_type": "code",
   "execution_count": 3,
   "id": "ce3850f9-1041-4718-a39b-a90237f497c0",
   "metadata": {},
   "outputs": [
    {
     "name": "stdout",
     "output_type": "stream",
     "text": [
      "<class 'pandas.core.frame.DataFrame'>\n",
      "RangeIndex: 7043 entries, 0 to 7042\n",
      "Data columns (total 21 columns):\n",
      " #   Column            Non-Null Count  Dtype  \n",
      "---  ------            --------------  -----  \n",
      " 0   customerID        7043 non-null   object \n",
      " 1   gender            7043 non-null   object \n",
      " 2   SeniorCitizen     7043 non-null   int64  \n",
      " 3   Partner           7043 non-null   object \n",
      " 4   Dependents        7043 non-null   object \n",
      " 5   tenure            7043 non-null   int64  \n",
      " 6   PhoneService      7043 non-null   object \n",
      " 7   MultipleLines     7043 non-null   object \n",
      " 8   InternetService   7043 non-null   object \n",
      " 9   OnlineSecurity    7043 non-null   object \n",
      " 10  OnlineBackup      7043 non-null   object \n",
      " 11  DeviceProtection  7043 non-null   object \n",
      " 12  TechSupport       7043 non-null   object \n",
      " 13  StreamingTV       7043 non-null   object \n",
      " 14  StreamingMovies   7043 non-null   object \n",
      " 15  Contract          7043 non-null   object \n",
      " 16  PaperlessBilling  7043 non-null   object \n",
      " 17  PaymentMethod     7043 non-null   object \n",
      " 18  MonthlyCharges    7043 non-null   float64\n",
      " 19  TotalCharges      7043 non-null   object \n",
      " 20  Churn             7043 non-null   object \n",
      "dtypes: float64(1), int64(2), object(18)\n",
      "memory usage: 1.1+ MB\n"
     ]
    }
   ],
   "source": [
    "df_telco.info()"
   ]
  },
  {
   "cell_type": "code",
   "execution_count": 4,
   "id": "648d8c18-a8b9-4400-9b10-6a3489f4737c",
   "metadata": {},
   "outputs": [],
   "source": [
    "df_telco['TotalCharges'] = pd.to_numeric(df_telco['TotalCharges'], errors='coerce')\n",
    "df_telco.dropna(inplace=True)\n",
    "df_telco.drop(columns='customerID', inplace=True)"
   ]
  },
  {
   "cell_type": "code",
   "execution_count": 5,
   "id": "1a469669-e189-49c4-b10c-6b90b05c15c1",
   "metadata": {},
   "outputs": [],
   "source": [
    "df_telco['PaymentMethod'] = df_telco['PaymentMethod'].str.replace(' (automatic)', '', regex=False)"
   ]
  },
  {
   "cell_type": "code",
   "execution_count": 6,
   "id": "c260611e-e5c9-4fdd-b238-46599a858c74",
   "metadata": {},
   "outputs": [
    {
     "data": {
      "image/png": "[encoded data removed]",
      "text/plain": [
       "<Figure size 720x432 with 1 Axes>"
      ]
     },
     "metadata": {},
     "output_type": "display_data"
    }
   ],
   "source": [
    "# create a figure\n",
    "fig = plt.figure(figsize=(10, 6)) \n",
    "ax = fig.add_subplot(111)\n",
    "\n",
    "# proportion of observation of each class\n",
    "prop_response = df_telco['Churn'].value_counts(normalize=True)\n",
    "\n",
    "# create a bar plot showing the percentage of churn\n",
    "prop_response.plot(kind='bar', \n",
    "                   ax=ax,\n",
    "                   color=['springgreen','salmon'])\n",
    "\n",
    "# set title and labels\n",
    "ax.set_title('Churn Records',  fontsize=18, loc='left')\n",
    "ax.set_xlabel('churn',  fontsize=14)\n",
    "ax.set_ylabel('percentage of observations', fontsize=14)\n",
    "ax.tick_params(rotation='auto')"
   ]
  },
  {
   "cell_type": "markdown",
   "id": "1f079d7d-d333-49d3-b68d-c80166f7ddbe",
   "metadata": {},
   "source": [
    "# Feature Importance"
   ]
  },
  {
   "cell_type": "code",
   "execution_count": 7,
   "id": "1d4027e0-664e-4a41-ae83-327621a176e4",
   "metadata": {},
   "outputs": [],
   "source": [
    "from sklearn.metrics import mutual_info_score\n",
    "def compute_mutual_information(cat_var):\n",
    "    return mutual_info_score(cat_var, df_telco['Churn'])"
   ]
  },
  {
   "cell_type": "code",
   "execution_count": 8,
   "id": "a4186fcb-ada0-43e7-926b-bee5247ecb0b",
   "metadata": {},
   "outputs": [],
   "source": [
    "variables = df_telco.select_dtypes(include=object).drop('Churn', axis=1)"
   ]
  },
  {
   "cell_type": "code",
   "execution_count": 9,
   "id": "99350eca-2b96-45c8-b410-eaa8d43b4987",
   "metadata": {},
   "outputs": [],
   "source": [
    "feature_importance = variables.apply(compute_mutual_information).sort_values(ascending=False)"
   ]
  },
  {
   "cell_type": "code",
   "execution_count": 10,
   "id": "3bea558e-f2e3-4b4a-a08f-0f1955904b44",
   "metadata": {},
   "outputs": [
    {
     "data": {
      "text/plain": [
       "Contract            0.098182\n",
       "OnlineSecurity      0.064528\n",
       "TechSupport         0.062873\n",
       "InternetService     0.055394\n",
       "OnlineBackup        0.046659\n",
       "PaymentMethod       0.044423\n",
       "DeviceProtection    0.043784\n",
       "StreamingMovies     0.031918\n",
       "StreamingTV         0.031803\n",
       "PaperlessBilling    0.019119\n",
       "Dependents          0.014270\n",
       "Partner             0.011383\n",
       "MultipleLines       0.000798\n",
       "PhoneService        0.000069\n",
       "gender              0.000037\n",
       "dtype: float64"
      ]
     },
     "execution_count": 10,
     "metadata": {},
     "output_type": "execute_result"
    }
   ],
   "source": [
    "feature_importance"
   ]
  },
  {
   "cell_type": "code",
   "execution_count": 11,
   "id": "718681fa-7e77-43ac-9ef9-2e9d7e10a403",
   "metadata": {},
   "outputs": [],
   "source": [
    "df_telco_transformed = df_telco.copy()\n",
    "\n",
    "df_telco_transformed['gender'] = df_telco_transformed['gender'].map({'Female': 1, 'Male': 0})\n",
    "\n",
    "# label encoding (binary variables)\n",
    "label_encoding_columns = ['Partner', 'Dependents', 'PaperlessBilling', 'PhoneService', 'Churn']\n",
    "\n",
    "\n",
    "# encode categorical binary features using label encoding\n",
    "for column in label_encoding_columns:\n",
    "    df_telco_transformed[column] = df_telco_transformed[column].map({'Yes': 1, 'No': 0}) \n",
    "\n",
    "# one-hot encoding (categorical variables with more than two levels)\n",
    "one_hot_encoding_columns = ['MultipleLines', 'InternetService', 'OnlineSecurity', 'OnlineBackup', 'DeviceProtection', \n",
    "                            'TechSupport', 'StreamingTV',  'StreamingMovies', 'Contract', 'PaymentMethod']\n",
    "\n",
    "# encode categorical variables with more than two levels using one-hot encoding\n",
    "df_telco_transformed = pd.get_dummies(df_telco_transformed, columns = one_hot_encoding_columns)"
   ]
  },
  {
   "cell_type": "code",
   "execution_count": 12,
   "id": "ed0cd3ba-747b-48f6-966f-cce651eea75e",
   "metadata": {},
   "outputs": [],
   "source": [
    "from sklearn.preprocessing import StandardScaler\n",
    "min_max_columns = ['tenure', 'MonthlyCharges', 'TotalCharges']\n",
    "scaler = StandardScaler()"
   ]
  },
  {
   "cell_type": "code",
   "execution_count": 13,
   "id": "c230c38a-a55b-4181-8dd9-9354257132bd",
   "metadata": {},
   "outputs": [],
   "source": [
    "df_telco_transformed[min_max_columns] = scaler.fit_transform(df_telco_transformed[min_max_columns])"
   ]
  },
  {
   "cell_type": "code",
   "execution_count": 14,
   "id": "fb6718df-cb53-485f-9644-f00521433f76",
   "metadata": {},
   "outputs": [],
   "source": [
    "X = df_telco_transformed.drop('Churn', axis=1)\n",
    "y = df_telco_transformed.Churn"
   ]
  },
  {
   "cell_type": "code",
   "execution_count": 15,
   "id": "251c6675-fbae-4a08-bfee-b6f805152347",
   "metadata": {},
   "outputs": [],
   "source": [
    "# from sklearn.model_selection import train_test_split\n",
    "\n",
    "# X_train, X_test, y_train, y_test = train_test_split(X, y, test_size=0.25, random_state=42, shuffle=True)"
   ]
  },
  {
   "cell_type": "markdown",
   "id": "cc5bca87-9ade-428a-ba50-81bd66e2d82e",
   "metadata": {},
   "source": [
    "# Build a classification model using various methods"
   ]
  },
  {
   "cell_type": "code",
   "execution_count": 16,
   "id": "9813f469-72e8-428c-8ed9-f9796611fa7e",
   "metadata": {},
   "outputs": [],
   "source": [
    "from sklearn import svm\n",
    "from sklearn.ensemble import RandomForestClassifier\n",
    "from sklearn.linear_model import LogisticRegression\n",
    "from sklearn.naive_bayes import GaussianNB\n",
    "from sklearn.naive_bayes import MultinomialNB\n",
    "from sklearn.tree import DecisionTreeClassifier\n",
    "from sklearn.neighbors import KNeighborsClassifier\n",
    "from xgboost import XGBClassifier\n",
    "from lightgbm import LGBMClassifier"
   ]
  },
  {
   "cell_type": "code",
   "execution_count": 17,
   "id": "6b4d0bb8-acd7-4a2e-acd6-3e6c3934283b",
   "metadata": {},
   "outputs": [],
   "source": [
    "model_params = {\n",
    "    'svm': {\n",
    "        'model': svm.SVC(gamma='auto',max_iter=-1),\n",
    "        'params' : {\n",
    "            'C': [1,10,20],\n",
    "#             'kernel': ['linear', 'rbf',],\n",
    "            #'shrinking':['True', 'False']\n",
    "        }  \n",
    "    },\n",
    "    'random_forest': {\n",
    "        'model': RandomForestClassifier(),\n",
    "        'params' : {\n",
    "            'n_estimators': [1,5,10,100],\n",
    "            'max_depth': [1,2,3,4,5,6],\n",
    "            'min_samples_leaf': [100,200,300,500,1000]\n",
    "        }\n",
    "    },\n",
    "    'logistic_regression' : {\n",
    "        'model': LogisticRegression(multi_class='auto'),\n",
    "        'params': {\n",
    "            'C': [1,5,10],\n",
    "            'solver':['newton-cg', 'liblinear']\n",
    "        }\n",
    "    },\n",
    "    'naive_bayes_gaussian': {\n",
    "        'model': GaussianNB(),\n",
    "        'params': {}\n",
    "    },\n",
    "    'kneighbours': {\n",
    "        'model': KNeighborsClassifier(n_jobs=-1),\n",
    "        \"params\": {\n",
    "            \n",
    "            'n_neighbors' : [5, 10 , 100],\n",
    "        }\n",
    "    },\n",
    "    'Xgboost': {\n",
    "        'model': XGBClassifier(n_jobs=-1),\n",
    "        \"params\": {\n",
    "            'n_estimators': [100, 115, 150],\n",
    "            'max_depth': [3,4,5,6, 10],\n",
    "#                    'max_features': [None, 'auto', 'sqrt', 'log2'], \n",
    "#                    'min_samples_split': [2, 3, 4, 5, 10]\n",
    "           \n",
    "        }\n",
    "    },\n",
    "    'LightGBM': {\n",
    "        'model': LGBMClassifier(n_jobs=-1),\n",
    "        \"params\": {\n",
    "            'n_estimators': [1,5,10,100],\n",
    "            'max_depth': [1,2,3,4,5,6],\n",
    "            'num_leaves': [100,200,300,500,1000]\n",
    "        }\n",
    "    },\n",
    "\n",
    "}"
   ]
  },
  {
   "cell_type": "code",
   "execution_count": 18,
   "id": "bba03bfd-b7e8-4715-8096-b13faac74455",
   "metadata": {
    "scrolled": true,
    "tags": []
   },
   "outputs": [],
   "source": [
    "from sklearn.model_selection import GridSearchCV\n",
    "from sklearn.model_selection import RepeatedStratifiedKFold\n",
    "from sklearn.model_selection import StratifiedKFold\n",
    "\n",
    "cv = StratifiedKFold(n_splits=10)\n",
    "scores = []\n",
    "\n",
    "for model_name, mp in model_params.items():\n",
    "    print(model_name)\n",
    "    clf =  GridSearchCV(mp['model'], mp['params'], cv=cv, return_train_score=False)\n",
    "    clf.fit(X, y)\n",
    "    scores.append({\n",
    "        'model': model_name,\n",
    "        'best_score': clf.best_score_.round(4),\n",
    "        'best_params': clf.best_params_\n",
    "    })"
   ]
  },
  {
   "cell_type": "code",
   "execution_count": 19,
   "id": "bb313439-4333-419b-9c82-66f433c406f4",
   "metadata": {},
   "outputs": [
    {
     "data": {
      "text/html": [
       "<div>\n",
       "<style scoped>\n",
       "    .dataframe tbody tr th:only-of-type {\n",
       "        vertical-align: middle;\n",
       "    }\n",
       "\n",
       "    .dataframe tbody tr th {\n",
       "        vertical-align: top;\n",
       "    }\n",
       "\n",
       "    .dataframe thead th {\n",
       "        text-align: right;\n",
       "    }\n",
       "</style>\n",
       "<table border=\"1\" class=\"dataframe\">\n",
       "  <thead>\n",
       "    <tr style=\"text-align: right;\">\n",
       "      <th></th>\n",
       "      <th>model</th>\n",
       "      <th>best_score</th>\n",
       "      <th>best_params</th>\n",
       "    </tr>\n",
       "  </thead>\n",
       "  <tbody>\n",
       "    <tr>\n",
       "      <th>6</th>\n",
       "      <td>LightGBM</td>\n",
       "      <td>0.8066</td>\n",
       "      <td>{'max_depth': 2, 'n_estimators': 100, 'num_lea...</td>\n",
       "    </tr>\n",
       "    <tr>\n",
       "      <th>5</th>\n",
       "      <td>Xgboost</td>\n",
       "      <td>0.8046</td>\n",
       "      <td>{'max_depth': 3, 'n_estimators': 100}</td>\n",
       "    </tr>\n",
       "    <tr>\n",
       "      <th>2</th>\n",
       "      <td>logistic_regression</td>\n",
       "      <td>0.8043</td>\n",
       "      <td>{'C': 5, 'solver': 'liblinear'}</td>\n",
       "    </tr>\n",
       "    <tr>\n",
       "      <th>0</th>\n",
       "      <td>svm</td>\n",
       "      <td>0.8013</td>\n",
       "      <td>{'C': 1}</td>\n",
       "    </tr>\n",
       "    <tr>\n",
       "      <th>4</th>\n",
       "      <td>kneighbours</td>\n",
       "      <td>0.7985</td>\n",
       "      <td>{'n_neighbors': 100}</td>\n",
       "    </tr>\n",
       "    <tr>\n",
       "      <th>1</th>\n",
       "      <td>random_forest</td>\n",
       "      <td>0.7969</td>\n",
       "      <td>{'max_depth': 6, 'min_samples_leaf': 100, 'n_e...</td>\n",
       "    </tr>\n",
       "    <tr>\n",
       "      <th>3</th>\n",
       "      <td>naive_bayes_gaussian</td>\n",
       "      <td>0.6914</td>\n",
       "      <td>{}</td>\n",
       "    </tr>\n",
       "  </tbody>\n",
       "</table>\n",
       "</div>"
      ],
      "text/plain": [
       "                  model  best_score  \\\n",
       "6              LightGBM      0.8066   \n",
       "5               Xgboost      0.8046   \n",
       "2   logistic_regression      0.8043   \n",
       "0                   svm      0.8013   \n",
       "4           kneighbours      0.7985   \n",
       "1         random_forest      0.7969   \n",
       "3  naive_bayes_gaussian      0.6914   \n",
       "\n",
       "                                         best_params  \n",
       "6  {'max_depth': 2, 'n_estimators': 100, 'num_lea...  \n",
       "5              {'max_depth': 3, 'n_estimators': 100}  \n",
       "2                    {'C': 5, 'solver': 'liblinear'}  \n",
       "0                                           {'C': 1}  \n",
       "4                               {'n_neighbors': 100}  \n",
       "1  {'max_depth': 6, 'min_samples_leaf': 100, 'n_e...  \n",
       "3                                                 {}  "
      ]
     },
     "execution_count": 19,
     "metadata": {},
     "output_type": "execute_result"
    }
   ],
   "source": [
    "df = pd.DataFrame(scores,columns=['model','best_score','best_params'])\n",
    "df.sort_values('best_score', ascending=False)"
   ]
  },
  {
   "cell_type": "markdown",
   "id": "717ca1af-e298-47c1-a110-f9448f2af4f8",
   "metadata": {},
   "source": [
    "Logistic Regression is able to provide a very comparable accuracy to the more complicated models such as LightGBM and XGBoost."
   ]
  },
  {
   "cell_type": "markdown",
   "id": "0980e01e-e3b9-4c93-a9d2-a8950cc026f5",
   "metadata": {},
   "source": [
    "## Using Logistic"
   ]
  },
  {
   "cell_type": "code",
   "execution_count": 45,
   "id": "ea7aa8c7-9ace-4d5d-9341-4a1df5f0d8a6",
   "metadata": {},
   "outputs": [],
   "source": [
    "lr = LogisticRegression(C=5, solver='liblinear')"
   ]
  },
  {
   "cell_type": "code",
   "execution_count": 46,
   "id": "0b05c0ce-04f9-4ffd-8703-d3bb0d9bbb10",
   "metadata": {},
   "outputs": [
    {
     "name": "stdout",
     "output_type": "stream",
     "text": [
      "List of possible accuracy: [0.7969, 0.8097, 0.8065, 0.8222, 0.7824, 0.7937, 0.8137, 0.8108, 0.8009, 0.8065]\n",
      "\n",
      "Maximum Accuracy That can be obtained from this model is: 82.22 %\n",
      "\n",
      "Minimum Accuracy: 78.24 %\n",
      "\n",
      "Overall Accuracy: 80.43 %\n",
      "\n",
      "Standard Deviation is: 0.0107\n"
     ]
    }
   ],
   "source": [
    "# Create StratifiedKFold object.\n",
    "skf = StratifiedKFold(n_splits=10)\n",
    "lst_accu_stratified = []\n",
    "  \n",
    "for train_index, test_index in skf.split(X, y):\n",
    "    x_train_fold, x_test_fold = X.iloc[train_index], X.iloc[test_index]\n",
    "    y_train_fold, y_test_fold = y.iloc[train_index], y.iloc[test_index]\n",
    "    lr.fit(x_train_fold, y_train_fold)\n",
    "    lst_accu_stratified.append(lr.score(x_test_fold, y_test_fold))\n",
    "#     print(train_index, test_index)\n",
    "\n",
    "lst_accu_stratified = [round(x,4) for x in lst_accu_stratified]\n",
    "\n",
    "# Print the output.\n",
    "print('List of possible accuracy:', lst_accu_stratified)\n",
    "print('\\nMaximum Accuracy That can be obtained from this model is:',    max(lst_accu_stratified)*100, '%')\n",
    "print('\\nMinimum Accuracy:',      min(lst_accu_stratified)*100, '%')\n",
    "print('\\nOverall Accuracy:',      round(np.mean(lst_accu_stratified), 4)*100, '%')\n",
    "print('\\nStandard Deviation is:', round(np.std(lst_accu_stratified), 4))"
   ]
  },
  {
   "cell_type": "markdown",
   "id": "a0bb98e4-2fa9-4f84-ae3d-b745b242fe18",
   "metadata": {},
   "source": [
    "## Freature Reduction"
   ]
  },
  {
   "cell_type": "markdown",
   "id": "2a65a936-b5f9-442f-8679-078308483004",
   "metadata": {},
   "source": [
    "### With RFE"
   ]
  },
  {
   "cell_type": "code",
   "execution_count": 22,
   "id": "5c8400d3-9f98-45bc-802d-87e5c559f4fe",
   "metadata": {},
   "outputs": [],
   "source": [
    "from sklearn.ensemble import RandomForestClassifier \n",
    "from sklearn.feature_selection import RFE\n",
    "\n",
    "rfr = RandomForestClassifier(random_state=42)\n",
    "rfe = RFE(estimator=rfr, step=1)"
   ]
  },
  {
   "cell_type": "code",
   "execution_count": 23,
   "id": "e8caf951-8ad0-480a-8fb1-52644b990b3d",
   "metadata": {},
   "outputs": [],
   "source": [
    "rfe = rfe.fit(X, y)"
   ]
  },
  {
   "cell_type": "code",
   "execution_count": 24,
   "id": "a295f03e-d69a-407d-add9-ae1238c56ef5",
   "metadata": {},
   "outputs": [],
   "source": [
    "X_rfe = X.loc[:, rfe.support_]"
   ]
  },
  {
   "cell_type": "code",
   "execution_count": 25,
   "id": "b2ba2ce7-0b73-4b91-b422-0649efccd04e",
   "metadata": {},
   "outputs": [],
   "source": [
    "lr = LogisticRegression(C=5, solver='liblinear')"
   ]
  },
  {
   "cell_type": "code",
   "execution_count": 47,
   "id": "ca32b756-6a2d-437d-8f97-3ce015650d5a",
   "metadata": {},
   "outputs": [
    {
     "name": "stdout",
     "output_type": "stream",
     "text": [
      "List of possible accuracy: [0.7926, 0.8068, 0.8051, 0.8222, 0.7881, 0.7923, 0.8137, 0.8037, 0.8051, 0.8094]\n",
      "\n",
      "Maximum Accuracy That can be obtained from this model is: 82.22 %\n",
      "\n",
      "Minimum Accuracy: 78.81 %\n",
      "\n",
      "Overall Accuracy: 80.39 %\n",
      "\n",
      "Standard Deviation is: 0.0099\n"
     ]
    }
   ],
   "source": [
    "# Create StratifiedKFold object.\n",
    "skf = StratifiedKFold(n_splits=10, )\n",
    "lst_accu_stratified = []\n",
    "  \n",
    "for train_index, test_index in skf.split(X_rfe, y):\n",
    "    x_train_fold, x_test_fold = X_rfe.iloc[train_index], X_rfe.iloc[test_index]\n",
    "    y_train_fold, y_test_fold = y.iloc[train_index], y.iloc[test_index]\n",
    "    lr.fit(x_train_fold, y_train_fold)\n",
    "    lst_accu_stratified.append(lr.score(x_test_fold, y_test_fold))\n",
    "#     print(train_index, test_index)\n",
    "\n",
    "lst_accu_stratified = [round(x,4) for x in lst_accu_stratified]\n",
    "\n",
    "# Print the output.\n",
    "print('List of possible accuracy:', lst_accu_stratified)\n",
    "print('\\nMaximum Accuracy That can be obtained from this model is:',    max(lst_accu_stratified)*100, '%')\n",
    "print('\\nMinimum Accuracy:',      min(lst_accu_stratified)*100, '%')\n",
    "print('\\nOverall Accuracy:',      round(np.mean(lst_accu_stratified), 4)*100, '%')\n",
    "print('\\nStandard Deviation is:', round(np.std(lst_accu_stratified), 4))"
   ]
  },
  {
   "cell_type": "markdown",
   "id": "8f0e45a2-e9fe-4200-8ed8-1cefaf5af25b",
   "metadata": {},
   "source": [
    "With only half of the columns of the original dataset, model is able to provide the same level of accuracy. This will help with the curse of the dimensionity curse."
   ]
  },
  {
   "cell_type": "markdown",
   "id": "42a88baf-ce7d-4927-bdea-ef346f60622e",
   "metadata": {},
   "source": [
    "### With PCA"
   ]
  },
  {
   "cell_type": "code",
   "execution_count": 27,
   "id": "13435b5a-c607-4b9d-84e5-32700036f433",
   "metadata": {},
   "outputs": [],
   "source": [
    "from sklearn.decomposition import PCA\n",
    "\n",
    "pca = PCA(0.8)\n",
    "X_pca = pca.fit_transform(X)"
   ]
  },
  {
   "cell_type": "code",
   "execution_count": 48,
   "id": "a88ce66c-47db-4a80-8cc3-76ba88fe0dd0",
   "metadata": {},
   "outputs": [],
   "source": [
    "lr = LogisticRegression(C=5, solver='liblinear')"
   ]
  },
  {
   "cell_type": "code",
   "execution_count": 50,
   "id": "708b41c0-1407-4ce3-9699-a3c81906c4c4",
   "metadata": {},
   "outputs": [
    {
     "name": "stdout",
     "output_type": "stream",
     "text": [
      "List of possible accuracy: [0.7912, 0.8097, 0.7937, 0.8236, 0.7866, 0.7838, 0.8151, 0.8009, 0.7909, 0.8065]\n",
      "\n",
      "Maximum Accuracy That can be obtained from this model is: 82.36 %\n",
      "\n",
      "Minimum Accuracy: 78.38000000000001 %\n",
      "\n",
      "Overall Accuracy: 80.02 %\n",
      "\n",
      "Standard Deviation is: 0.0125\n"
     ]
    }
   ],
   "source": [
    "# Create StratifiedKFold object.\n",
    "skf = StratifiedKFold(n_splits=10, )\n",
    "lst_accu_stratified = []\n",
    "  \n",
    "for train_index, test_index in skf.split(X, y):\n",
    "    x_train_fold, x_test_fold = X_pca[train_index], X_pca[test_index]\n",
    "    y_train_fold, y_test_fold = y.iloc[train_index], y.iloc[test_index]\n",
    "    lr.fit(x_train_fold, y_train_fold)\n",
    "    lst_accu_stratified.append(lr.score(x_test_fold, y_test_fold))\n",
    "#     print(train_index, test_index)\n",
    "\n",
    "lst_accu_stratified = [round(x,4) for x in lst_accu_stratified]\n",
    "\n",
    "# Print the output.\n",
    "print('List of possible accuracy:', lst_accu_stratified)\n",
    "print('\\nMaximum Accuracy That can be obtained from this model is:',    max(lst_accu_stratified)*100, '%')\n",
    "print('\\nMinimum Accuracy:',      min(lst_accu_stratified)*100, '%')\n",
    "print('\\nOverall Accuracy:',      round(np.mean(lst_accu_stratified), 4)*100, '%')\n",
    "print('\\nStandard Deviation is:', round(np.std(lst_accu_stratified), 4))"
   ]
  },
  {
   "cell_type": "markdown",
   "id": "8c239a37-1cb5-44fb-b544-38973a7f7441",
   "metadata": {},
   "source": [
    "Retaining only 80% of the information, there is only a drop of half a percent. "
   ]
  },
  {
   "cell_type": "code",
   "execution_count": null,
   "id": "348f9c40-fa03-435d-bbf0-416d7036ef8c",
   "metadata": {},
   "outputs": [],
   "source": []
  },
  {
   "cell_type": "markdown",
   "id": "257bb2f4-183d-4215-81c8-b8a3faa2f386",
   "metadata": {},
   "source": [
    "## Using Keras"
   ]
  },
  {
   "cell_type": "code",
   "execution_count": 30,
   "id": "aef2dfd1-a7ee-41f4-b64a-1c712aa07cd5",
   "metadata": {},
   "outputs": [],
   "source": [
    "import tensorflow as tf"
   ]
  },
  {
   "cell_type": "code",
   "execution_count": 31,
   "id": "d1050429-30c2-42a0-b5ad-73c7d20ffe5f",
   "metadata": {},
   "outputs": [],
   "source": [
    "from sklearn.model_selection import train_test_split\n",
    "\n",
    "X_train, X_test, y_train, y_test = train_test_split(X,y, stratify=y)"
   ]
  },
  {
   "cell_type": "code",
   "execution_count": 69,
   "id": "22b37ab3-f2c4-4088-86a5-d9cbf1f40720",
   "metadata": {},
   "outputs": [
    {
     "name": "stdout",
     "output_type": "stream",
     "text": [
      "Model: \"model_3\"\n",
      "_________________________________________________________________\n",
      " Layer (type)                Output Shape              Param #   \n",
      "=================================================================\n",
      " input_5 (InputLayer)        [(None, None, 40)]        0         \n",
      "                                                                 \n",
      " dense_12 (Dense)            (None, None, 128)         5248      \n",
      "                                                                 \n",
      " dropout (Dropout)           (None, None, 128)         0         \n",
      "                                                                 \n",
      " dense_13 (Dense)            (None, None, 64)          8256      \n",
      "                                                                 \n",
      " dropout2 (Dropout)          (None, None, 64)          0         \n",
      "                                                                 \n",
      " dense_14 (Dense)            (None, None, 16)          1040      \n",
      "                                                                 \n",
      " output (Dense)              (None, None, 1)           17        \n",
      "                                                                 \n",
      "=================================================================\n",
      "Total params: 14,561\n",
      "Trainable params: 14,561\n",
      "Non-trainable params: 0\n",
      "_________________________________________________________________\n"
     ]
    }
   ],
   "source": [
    "inputs = tf.keras.layers.Input(shape=(None,40))\n",
    "\n",
    "# Neural network layers\n",
    "hidden1 = tf.keras.layers.Dense(128, activation='sigmoid')(inputs)\n",
    "dropout1 = tf.keras.layers.Dropout(0.1, name=\"dropout\")(hidden1)\n",
    "hidden2 = tf.keras.layers.Dense(64, activation='sigmoid')(dropout1)\n",
    "dropout2 = tf.keras.layers.Dropout(0.1, name=\"dropout2\")(hidden2)\n",
    "hidden3 = tf.keras.layers.Dense(16, activation='sigmoid')(dropout2)\n",
    "l = tf.keras.layers.Dense(1, activation='sigmoid', name=\"output\")(hidden3)\n",
    "\n",
    "# Use inputs and outputs to construct a final model\n",
    "model = tf.keras.Model(inputs=[inputs], outputs = [l])\n",
    "\n",
    "model.summary()"
   ]
  },
  {
   "cell_type": "code",
   "execution_count": 70,
   "id": "feb25a57-caba-4576-9305-460a738bde55",
   "metadata": {},
   "outputs": [],
   "source": [
    "model.compile(optimizer='adam',  loss='binary_crossentropy', metrics=['accuracy'])"
   ]
  },
  {
   "cell_type": "markdown",
   "id": "b2539784-a6eb-4630-817d-3e1465278b58",
   "metadata": {},
   "source": [
    "### Training "
   ]
  },
  {
   "cell_type": "code",
   "execution_count": 71,
   "id": "a5269358-bb85-4d59-97bf-16061172c129",
   "metadata": {
    "scrolled": true,
    "tags": []
   },
   "outputs": [
    {
     "name": "stdout",
     "output_type": "stream",
     "text": [
      "Epoch 1/5\n",
      "WARNING:tensorflow:Model was constructed with shape (None, None, 40) for input KerasTensor(type_spec=TensorSpec(shape=(None, None, 40), dtype=tf.float32, name='input_5'), name='input_5', description=\"created by layer 'input_5'\"), but it was called on an input with incompatible shape (None, 40).\n",
      "WARNING:tensorflow:Model was constructed with shape (None, None, 40) for input KerasTensor(type_spec=TensorSpec(shape=(None, None, 40), dtype=tf.float32, name='input_5'), name='input_5', description=\"created by layer 'input_5'\"), but it was called on an input with incompatible shape (None, 40).\n",
      "165/165 [==============================] - 1s 3ms/step - loss: 0.5206 - accuracy: 0.7450\n",
      "Epoch 2/5\n",
      "165/165 [==============================] - 1s 3ms/step - loss: 0.4368 - accuracy: 0.7928\n",
      "Epoch 3/5\n",
      "165/165 [==============================] - 1s 4ms/step - loss: 0.4340 - accuracy: 0.7920\n",
      "Epoch 4/5\n",
      "165/165 [==============================] - 1s 4ms/step - loss: 0.4301 - accuracy: 0.7937\n",
      "Epoch 5/5\n",
      "165/165 [==============================] - 1s 4ms/step - loss: 0.4261 - accuracy: 0.7952\n"
     ]
    }
   ],
   "source": [
    "history = model.fit(X_train, y_train, epochs=5)"
   ]
  },
  {
   "cell_type": "code",
   "execution_count": 72,
   "id": "e9fb7df7-7fe0-48e6-97b9-71bc0aa08965",
   "metadata": {},
   "outputs": [
    {
     "data": {
      "image/png": "[encoded data removed]",
      "text/plain": [
       "<Figure size 576x396 with 1 Axes>"
      ]
     },
     "metadata": {},
     "output_type": "display_data"
    }
   ],
   "source": [
    "# summarize history for accuracy\n",
    "plt.plot(history.history['accuracy'])\n",
    "# plt.plot(history.history['val_accuracy'])\n",
    "plt.title('model accuracy')\n",
    "plt.ylabel('accuracy')\n",
    "plt.xlabel('epoch')\n",
    "plt.legend(['train', 'test'], loc='upper left')\n",
    "plt.show()"
   ]
  },
  {
   "cell_type": "code",
   "execution_count": 73,
   "id": "f0c382f4-9c00-4d3f-b4da-49c740b72aef",
   "metadata": {},
   "outputs": [
    {
     "data": {
      "image/png": "[encoded data removed]",
      "text/plain": [
       "<Figure size 576x396 with 1 Axes>"
      ]
     },
     "metadata": {},
     "output_type": "display_data"
    }
   ],
   "source": [
    "# summarize history for loss\n",
    "plt.plot(history.history['loss'])\n",
    "# plt.plot(history.history['val_loss'])\n",
    "plt.title('model loss')\n",
    "plt.ylabel('loss')\n",
    "plt.xlabel('epoch')\n",
    "plt.legend(['train', 'test'], loc='upper left')\n",
    "plt.show()"
   ]
  },
  {
   "cell_type": "markdown",
   "id": "c1ceb744-4204-429d-ab91-dcb6d5ffd755",
   "metadata": {},
   "source": [
    "### Evalulate"
   ]
  },
  {
   "cell_type": "code",
   "execution_count": 74,
   "id": "c051e4cd-7417-4c88-9e98-480dcadab8c3",
   "metadata": {},
   "outputs": [
    {
     "name": "stdout",
     "output_type": "stream",
     "text": [
      "WARNING:tensorflow:Model was constructed with shape (None, None, 40) for input KerasTensor(type_spec=TensorSpec(shape=(None, None, 40), dtype=tf.float32, name='input_5'), name='input_5', description=\"created by layer 'input_5'\"), but it was called on an input with incompatible shape (None, 40).\n",
      "55/55 [==============================] - 1s 3ms/step - loss: 0.4253 - accuracy: 0.7981\n"
     ]
    },
    {
     "data": {
      "text/plain": [
       "[0.4253391921520233, 0.7980659604072571]"
      ]
     },
     "execution_count": 74,
     "metadata": {},
     "output_type": "execute_result"
    }
   ],
   "source": [
    "model.evaluate(X_test, y_test)"
   ]
  },
  {
   "cell_type": "code",
   "execution_count": 75,
   "id": "56ac05e4-9a5f-4a3f-a8d0-98d825fa578d",
   "metadata": {},
   "outputs": [
    {
     "name": "stdout",
     "output_type": "stream",
     "text": [
      "WARNING:tensorflow:Model was constructed with shape (None, None, 40) for input KerasTensor(type_spec=TensorSpec(shape=(None, None, 40), dtype=tf.float32, name='input_5'), name='input_5', description=\"created by layer 'input_5'\"), but it was called on an input with incompatible shape (None, 40).\n"
     ]
    }
   ],
   "source": [
    "y_pred = model.predict(X_test)"
   ]
  },
  {
   "cell_type": "code",
   "execution_count": 76,
   "id": "0690f85d-cd9a-4058-98c6-2e9f5d93fed2",
   "metadata": {},
   "outputs": [],
   "source": [
    "binary_predictions = []\n",
    "\n",
    "for i in y_pred:\n",
    "    if i >= 0.5:\n",
    "        binary_predictions.append(1)\n",
    "    else:\n",
    "        binary_predictions.append(0)"
   ]
  },
  {
   "cell_type": "code",
   "execution_count": 77,
   "id": "f5619e8f-4e8a-4171-9a82-57f779d47fee",
   "metadata": {},
   "outputs": [
    {
     "data": {
      "image/png": "[encoded data removed]",
      "text/plain": [
       "<Figure size 720x504 with 2 Axes>"
      ]
     },
     "metadata": {},
     "output_type": "display_data"
    }
   ],
   "source": [
    "from sklearn.metrics import confusion_matrix\n",
    "import matplotlib.pyplot as plt\n",
    "import seaborn as sn\n",
    "\n",
    "cm = confusion_matrix(y_test, binary_predictions)\n",
    "plt.figure(figsize = (10,7))\n",
    "sn.heatmap(cm, annot = True, fmt = 'd')\n",
    "plt.xlabel('Predicted')\n",
    "plt.ylabel('Truth')\n",
    "plt.show()"
   ]
  },
  {
   "cell_type": "code",
   "execution_count": 79,
   "id": "c5653302-81db-4f4f-adb3-df31fe8c9a44",
   "metadata": {},
   "outputs": [
    {
     "name": "stdout",
     "output_type": "stream",
     "text": [
      "              precision    recall  f1-score   support\n",
      "\n",
      "           0       0.86      0.86      0.86      1291\n",
      "           1       0.62      0.62      0.62       467\n",
      "\n",
      "    accuracy                           0.80      1758\n",
      "   macro avg       0.74      0.74      0.74      1758\n",
      "weighted avg       0.80      0.80      0.80      1758\n",
      "\n"
     ]
    }
   ],
   "source": [
    "from sklearn.metrics import classification_report\n",
    "\n",
    "print(classification_report(y_test, binary_predictions))"
   ]
  },
  {
   "cell_type": "markdown",
   "id": "75f535d7-ab02-43fd-8c62-4aac05712fe1",
   "metadata": {},
   "source": [
    "## Using LSTM"
   ]
  },
  {
   "cell_type": "code",
   "execution_count": null,
   "id": "c110f376-a0f3-4f69-b8bd-7069fca3b08c",
   "metadata": {},
   "outputs": [],
   "source": [
    "inputs = tf.keras.layers.Input(shape=(None,40))\n",
    "\n",
    "# Neural network layers\n",
    "hidden1 = tf.keras.layers.Dense(128, activation='sigmoid')(inputs)\n",
    "dropout1 = tf.keras.layers.Dropout(0.1, name=\"dropout\")(hidden1)\n",
    "hidden2 = tf.keras.layers.LSTM(64, activation='sigmoid')(dropout1)\n",
    "dropout2 = tf.keras.layers.Dropout(0.1, name=\"dropout2\")(hidden2)\n",
    "hidden3 = tf.keras.layers.Dense(16, activation='sigmoid')(dropout2)\n",
    "l = tf.keras.layers.Dense(1, activation='sigmoid', name=\"output\")(hidden3)\n",
    "\n",
    "# Use inputs and outputs to construct a final model\n",
    "model = tf.keras.Model(inputs=[inputs], outputs = [l])\n",
    "\n",
    "model.summary()"
   ]
  },
  {
   "cell_type": "code",
   "execution_count": null,
   "id": "b53e8d75-0ccd-47b0-ac58-d36e03d8e056",
   "metadata": {},
   "outputs": [],
   "source": [
    "model.compile(optimizer='adam',  loss='binary_crossentropy', metrics=['accuracy'])"
   ]
  },
  {
   "cell_type": "markdown",
   "id": "44d5026f-b54d-4dfa-9533-6f7793365c78",
   "metadata": {},
   "source": [
    "### Training "
   ]
  },
  {
   "cell_type": "code",
   "execution_count": null,
   "id": "b86f5a62-23d4-4c1c-befe-f44de600b733",
   "metadata": {},
   "outputs": [],
   "source": [
    "history = model.fit(X_train, y_train, epochs=5)"
   ]
  },
  {
   "cell_type": "code",
   "execution_count": null,
   "id": "5d04aba2-f807-4ac7-aabe-925de56476f3",
   "metadata": {},
   "outputs": [],
   "source": [
    "# summarize history for accuracy\n",
    "plt.plot(history.history['accuracy'])\n",
    "# plt.plot(history.history['val_accuracy'])\n",
    "plt.title('model accuracy')\n",
    "plt.ylabel('accuracy')\n",
    "plt.xlabel('epoch')\n",
    "plt.legend(['train', 'test'], loc='upper left')\n",
    "plt.show()"
   ]
  },
  {
   "cell_type": "code",
   "execution_count": null,
   "id": "58e51a4c-1601-4ea3-aa9d-e961a5473659",
   "metadata": {},
   "outputs": [],
   "source": [
    "# summarize history for loss\n",
    "plt.plot(history.history['loss'])\n",
    "# plt.plot(history.history['val_loss'])\n",
    "plt.title('model loss')\n",
    "plt.ylabel('loss')\n",
    "plt.xlabel('epoch')\n",
    "plt.legend(['train', 'test'], loc='upper left')\n",
    "plt.show()"
   ]
  },
  {
   "cell_type": "markdown",
   "id": "1ff4bbe2-4d90-40ef-874d-0229140099a0",
   "metadata": {},
   "source": [
    "### Evalulate"
   ]
  },
  {
   "cell_type": "code",
   "execution_count": null,
   "id": "ca19b6f9-9e29-4528-b6ed-7bebf501f7b6",
   "metadata": {},
   "outputs": [],
   "source": [
    "model.evaluate(X_test, y_test)"
   ]
  }
 ],
 "metadata": {
  "kernelspec": {
   "display_name": "Python 3 (ipykernel)",
   "language": "python",
   "name": "python3"
  },
  "language_info": {
   "codemirror_mode": {
    "name": "ipython",
    "version": 3
   },
   "file_extension": ".py",
   "mimetype": "text/x-python",
   "name": "python",
   "nbconvert_exporter": "python",
   "pygments_lexer": "ipython3",
   "version": "3.8.8"
  },
  "widgets": {
   "application/vnd.jupyter.widget-state+json": {
    "state": {},
    "version_major": 2,
    "version_minor": 0
   }
  }
 },
 "nbformat": 4,
 "nbformat_minor": 5
}
