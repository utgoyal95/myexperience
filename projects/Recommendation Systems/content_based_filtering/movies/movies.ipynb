{
 "cells": [
  {
   "cell_type": "markdown",
   "id": "a13fd5da-ee08-4b84-90f2-c55fa14675e2",
   "metadata": {},
   "source": [
    "This code completed using: https://medium.com/rahasak/recommendation-system-with-content-based-filtering-500231e31a60"
   ]
  },
  {
   "cell_type": "code",
   "execution_count": 1,
   "id": "42f22988-8293-469b-8d6b-7ddadce21cd8",
   "metadata": {},
   "outputs": [],
   "source": [
    "import pandas as pd\n",
    "from ast import literal_eval"
   ]
  },
  {
   "cell_type": "code",
   "execution_count": 4,
   "id": "a1f9b3b3-1b3e-4dfc-b6ef-084fae3d2f7f",
   "metadata": {},
   "outputs": [
    {
     "data": {
      "text/html": [
       "<div>\n",
       "<style scoped>\n",
       "    .dataframe tbody tr th:only-of-type {\n",
       "        vertical-align: middle;\n",
       "    }\n",
       "\n",
       "    .dataframe tbody tr th {\n",
       "        vertical-align: top;\n",
       "    }\n",
       "\n",
       "    .dataframe thead th {\n",
       "        text-align: right;\n",
       "    }\n",
       "</style>\n",
       "<table border=\"1\" class=\"dataframe\">\n",
       "  <thead>\n",
       "    <tr style=\"text-align: right;\">\n",
       "      <th></th>\n",
       "      <th>title</th>\n",
       "      <th>cast</th>\n",
       "      <th>genres</th>\n",
       "      <th>keywords</th>\n",
       "      <th>director</th>\n",
       "    </tr>\n",
       "  </thead>\n",
       "  <tbody>\n",
       "    <tr>\n",
       "      <th>0</th>\n",
       "      <td>Avatar</td>\n",
       "      <td>[Sam Worthington, Zoe Saldana, Sigourney Weaver]</td>\n",
       "      <td>[Action, Adventure, Fantasy]</td>\n",
       "      <td>[culture clash, future, space war]</td>\n",
       "      <td>James Cameron</td>\n",
       "    </tr>\n",
       "    <tr>\n",
       "      <th>1</th>\n",
       "      <td>Pirates of the Caribbean: At World's End</td>\n",
       "      <td>[Johnny Depp, Orlando Bloom, Keira Knightley]</td>\n",
       "      <td>[Adventure, Fantasy, Action]</td>\n",
       "      <td>[ocean, drug abuse, exotic island]</td>\n",
       "      <td>Gore Verbinski</td>\n",
       "    </tr>\n",
       "    <tr>\n",
       "      <th>2</th>\n",
       "      <td>Spectre</td>\n",
       "      <td>[Daniel Craig, Christoph Waltz, Léa Seydoux]</td>\n",
       "      <td>[Action, Adventure, Crime]</td>\n",
       "      <td>[spy, based on novel, secret agent]</td>\n",
       "      <td>Sam Mendes</td>\n",
       "    </tr>\n",
       "    <tr>\n",
       "      <th>3</th>\n",
       "      <td>The Dark Knight Rises</td>\n",
       "      <td>[Christian Bale, Michael Caine, Gary Oldman]</td>\n",
       "      <td>[Action, Crime, Drama]</td>\n",
       "      <td>[dc comics, crime fighter, terrorist]</td>\n",
       "      <td>Christopher Nolan</td>\n",
       "    </tr>\n",
       "    <tr>\n",
       "      <th>4</th>\n",
       "      <td>John Carter</td>\n",
       "      <td>[Taylor Kitsch, Lynn Collins, Samantha Morton]</td>\n",
       "      <td>[Action, Adventure, Science Fiction]</td>\n",
       "      <td>[based on novel, mars, medallion]</td>\n",
       "      <td>Andrew Stanton</td>\n",
       "    </tr>\n",
       "  </tbody>\n",
       "</table>\n",
       "</div>"
      ],
      "text/plain": [
       "                                      title  \\\n",
       "0                                    Avatar   \n",
       "1  Pirates of the Caribbean: At World's End   \n",
       "2                                   Spectre   \n",
       "3                     The Dark Knight Rises   \n",
       "4                               John Carter   \n",
       "\n",
       "                                               cast  \\\n",
       "0  [Sam Worthington, Zoe Saldana, Sigourney Weaver]   \n",
       "1     [Johnny Depp, Orlando Bloom, Keira Knightley]   \n",
       "2      [Daniel Craig, Christoph Waltz, Léa Seydoux]   \n",
       "3      [Christian Bale, Michael Caine, Gary Oldman]   \n",
       "4    [Taylor Kitsch, Lynn Collins, Samantha Morton]   \n",
       "\n",
       "                                 genres  \\\n",
       "0          [Action, Adventure, Fantasy]   \n",
       "1          [Adventure, Fantasy, Action]   \n",
       "2            [Action, Adventure, Crime]   \n",
       "3                [Action, Crime, Drama]   \n",
       "4  [Action, Adventure, Science Fiction]   \n",
       "\n",
       "                                keywords           director  \n",
       "0     [culture clash, future, space war]      James Cameron  \n",
       "1     [ocean, drug abuse, exotic island]     Gore Verbinski  \n",
       "2    [spy, based on novel, secret agent]         Sam Mendes  \n",
       "3  [dc comics, crime fighter, terrorist]  Christopher Nolan  \n",
       "4      [based on novel, mars, medallion]     Andrew Stanton  "
      ]
     },
     "metadata": {},
     "output_type": "display_data"
    },
    {
     "name": "stdout",
     "output_type": "stream",
     "text": [
      "(4803, 5)\n"
     ]
    }
   ],
   "source": [
    "df = pd.read_csv('https://gitlab.com/rahasak-labs/dot/-/raw/master/src/main/resources/movie.csv', usecols={'title', 'director' ,'genres', 'cast', 'keywords'})\n",
    "\n",
    "df.genres = df.genres.apply(literal_eval)\n",
    "df.cast = df.cast.apply(literal_eval)\n",
    "df.keywords = df.keywords.apply(literal_eval)\n",
    "\n",
    "display(df.head())\n",
    "print(df.shape)"
   ]
  },
  {
   "cell_type": "code",
   "execution_count": 5,
   "id": "6b1dd94c-3f89-4f2e-9f84-91f67390a5b4",
   "metadata": {},
   "outputs": [],
   "source": [
    "def clean_feature(x):\n",
    "    if isinstance(x, list):\n",
    "        # apply for all list items\n",
    "        return [str.lower(i.replace(\" \", \"\")) for i in x]\n",
    "    else:\n",
    "        # apply for string items, if not string return an empty string\n",
    "        if isinstance(x, str):\n",
    "            return str.lower(x.replace(\" \", \"\"))\n",
    "        else:\n",
    "            return ''\n",
    "\n",
    "# apply clean function to the features\n",
    "features = ['cast', 'keywords', 'director', 'genres']\n",
    "for feature in features:\n",
    "    df[feature] = df[feature].apply(clean_feature)"
   ]
  },
  {
   "cell_type": "code",
   "execution_count": 6,
   "id": "d9fb365d-1a7d-40b4-a04c-72968d443956",
   "metadata": {},
   "outputs": [
    {
     "data": {
      "text/html": [
       "<div>\n",
       "<style scoped>\n",
       "    .dataframe tbody tr th:only-of-type {\n",
       "        vertical-align: middle;\n",
       "    }\n",
       "\n",
       "    .dataframe tbody tr th {\n",
       "        vertical-align: top;\n",
       "    }\n",
       "\n",
       "    .dataframe thead th {\n",
       "        text-align: right;\n",
       "    }\n",
       "</style>\n",
       "<table border=\"1\" class=\"dataframe\">\n",
       "  <thead>\n",
       "    <tr style=\"text-align: right;\">\n",
       "      <th></th>\n",
       "      <th>title</th>\n",
       "      <th>cast</th>\n",
       "      <th>genres</th>\n",
       "      <th>keywords</th>\n",
       "      <th>director</th>\n",
       "    </tr>\n",
       "  </thead>\n",
       "  <tbody>\n",
       "    <tr>\n",
       "      <th>0</th>\n",
       "      <td>Avatar</td>\n",
       "      <td>[samworthington, zoesaldana, sigourneyweaver]</td>\n",
       "      <td>[action, adventure, fantasy]</td>\n",
       "      <td>[cultureclash, future, spacewar]</td>\n",
       "      <td>jamescameron</td>\n",
       "    </tr>\n",
       "    <tr>\n",
       "      <th>1</th>\n",
       "      <td>Pirates of the Caribbean: At World's End</td>\n",
       "      <td>[johnnydepp, orlandobloom, keiraknightley]</td>\n",
       "      <td>[adventure, fantasy, action]</td>\n",
       "      <td>[ocean, drugabuse, exoticisland]</td>\n",
       "      <td>goreverbinski</td>\n",
       "    </tr>\n",
       "    <tr>\n",
       "      <th>2</th>\n",
       "      <td>Spectre</td>\n",
       "      <td>[danielcraig, christophwaltz, léaseydoux]</td>\n",
       "      <td>[action, adventure, crime]</td>\n",
       "      <td>[spy, basedonnovel, secretagent]</td>\n",
       "      <td>sammendes</td>\n",
       "    </tr>\n",
       "    <tr>\n",
       "      <th>3</th>\n",
       "      <td>The Dark Knight Rises</td>\n",
       "      <td>[christianbale, michaelcaine, garyoldman]</td>\n",
       "      <td>[action, crime, drama]</td>\n",
       "      <td>[dccomics, crimefighter, terrorist]</td>\n",
       "      <td>christophernolan</td>\n",
       "    </tr>\n",
       "    <tr>\n",
       "      <th>4</th>\n",
       "      <td>John Carter</td>\n",
       "      <td>[taylorkitsch, lynncollins, samanthamorton]</td>\n",
       "      <td>[action, adventure, sciencefiction]</td>\n",
       "      <td>[basedonnovel, mars, medallion]</td>\n",
       "      <td>andrewstanton</td>\n",
       "    </tr>\n",
       "  </tbody>\n",
       "</table>\n",
       "</div>"
      ],
      "text/plain": [
       "                                      title  \\\n",
       "0                                    Avatar   \n",
       "1  Pirates of the Caribbean: At World's End   \n",
       "2                                   Spectre   \n",
       "3                     The Dark Knight Rises   \n",
       "4                               John Carter   \n",
       "\n",
       "                                            cast  \\\n",
       "0  [samworthington, zoesaldana, sigourneyweaver]   \n",
       "1     [johnnydepp, orlandobloom, keiraknightley]   \n",
       "2      [danielcraig, christophwaltz, léaseydoux]   \n",
       "3      [christianbale, michaelcaine, garyoldman]   \n",
       "4    [taylorkitsch, lynncollins, samanthamorton]   \n",
       "\n",
       "                                genres                             keywords  \\\n",
       "0         [action, adventure, fantasy]     [cultureclash, future, spacewar]   \n",
       "1         [adventure, fantasy, action]     [ocean, drugabuse, exoticisland]   \n",
       "2           [action, adventure, crime]     [spy, basedonnovel, secretagent]   \n",
       "3               [action, crime, drama]  [dccomics, crimefighter, terrorist]   \n",
       "4  [action, adventure, sciencefiction]      [basedonnovel, mars, medallion]   \n",
       "\n",
       "           director  \n",
       "0      jamescameron  \n",
       "1     goreverbinski  \n",
       "2         sammendes  \n",
       "3  christophernolan  \n",
       "4     andrewstanton  "
      ]
     },
     "execution_count": 6,
     "metadata": {},
     "output_type": "execute_result"
    }
   ],
   "source": [
    "df.head()"
   ]
  },
  {
   "cell_type": "code",
   "execution_count": 8,
   "id": "09c7918a-0231-48f9-a0bc-1bb67f7cb5aa",
   "metadata": {},
   "outputs": [
    {
     "data": {
      "text/html": [
       "<div>\n",
       "<style scoped>\n",
       "    .dataframe tbody tr th:only-of-type {\n",
       "        vertical-align: middle;\n",
       "    }\n",
       "\n",
       "    .dataframe tbody tr th {\n",
       "        vertical-align: top;\n",
       "    }\n",
       "\n",
       "    .dataframe thead th {\n",
       "        text-align: right;\n",
       "    }\n",
       "</style>\n",
       "<table border=\"1\" class=\"dataframe\">\n",
       "  <thead>\n",
       "    <tr style=\"text-align: right;\">\n",
       "      <th></th>\n",
       "      <th>title</th>\n",
       "      <th>cast</th>\n",
       "      <th>genres</th>\n",
       "      <th>keywords</th>\n",
       "      <th>director</th>\n",
       "      <th>features</th>\n",
       "    </tr>\n",
       "  </thead>\n",
       "  <tbody>\n",
       "    <tr>\n",
       "      <th>0</th>\n",
       "      <td>Avatar</td>\n",
       "      <td>[samworthington, zoesaldana, sigourneyweaver]</td>\n",
       "      <td>[action, adventure, fantasy]</td>\n",
       "      <td>[cultureclash, future, spacewar]</td>\n",
       "      <td>jamescameron</td>\n",
       "      <td>cultureclash future spacewar samworthington zo...</td>\n",
       "    </tr>\n",
       "    <tr>\n",
       "      <th>1</th>\n",
       "      <td>Pirates of the Caribbean: At World's End</td>\n",
       "      <td>[johnnydepp, orlandobloom, keiraknightley]</td>\n",
       "      <td>[adventure, fantasy, action]</td>\n",
       "      <td>[ocean, drugabuse, exoticisland]</td>\n",
       "      <td>goreverbinski</td>\n",
       "      <td>ocean drugabuse exoticisland johnnydepp orland...</td>\n",
       "    </tr>\n",
       "    <tr>\n",
       "      <th>2</th>\n",
       "      <td>Spectre</td>\n",
       "      <td>[danielcraig, christophwaltz, léaseydoux]</td>\n",
       "      <td>[action, adventure, crime]</td>\n",
       "      <td>[spy, basedonnovel, secretagent]</td>\n",
       "      <td>sammendes</td>\n",
       "      <td>spy basedonnovel secretagent danielcraig chris...</td>\n",
       "    </tr>\n",
       "    <tr>\n",
       "      <th>3</th>\n",
       "      <td>The Dark Knight Rises</td>\n",
       "      <td>[christianbale, michaelcaine, garyoldman]</td>\n",
       "      <td>[action, crime, drama]</td>\n",
       "      <td>[dccomics, crimefighter, terrorist]</td>\n",
       "      <td>christophernolan</td>\n",
       "      <td>dccomics crimefighter terrorist christianbale ...</td>\n",
       "    </tr>\n",
       "    <tr>\n",
       "      <th>4</th>\n",
       "      <td>John Carter</td>\n",
       "      <td>[taylorkitsch, lynncollins, samanthamorton]</td>\n",
       "      <td>[action, adventure, sciencefiction]</td>\n",
       "      <td>[basedonnovel, mars, medallion]</td>\n",
       "      <td>andrewstanton</td>\n",
       "      <td>basedonnovel mars medallion taylorkitsch lynnc...</td>\n",
       "    </tr>\n",
       "  </tbody>\n",
       "</table>\n",
       "</div>"
      ],
      "text/plain": [
       "                                      title  \\\n",
       "0                                    Avatar   \n",
       "1  Pirates of the Caribbean: At World's End   \n",
       "2                                   Spectre   \n",
       "3                     The Dark Knight Rises   \n",
       "4                               John Carter   \n",
       "\n",
       "                                            cast  \\\n",
       "0  [samworthington, zoesaldana, sigourneyweaver]   \n",
       "1     [johnnydepp, orlandobloom, keiraknightley]   \n",
       "2      [danielcraig, christophwaltz, léaseydoux]   \n",
       "3      [christianbale, michaelcaine, garyoldman]   \n",
       "4    [taylorkitsch, lynncollins, samanthamorton]   \n",
       "\n",
       "                                genres                             keywords  \\\n",
       "0         [action, adventure, fantasy]     [cultureclash, future, spacewar]   \n",
       "1         [adventure, fantasy, action]     [ocean, drugabuse, exoticisland]   \n",
       "2           [action, adventure, crime]     [spy, basedonnovel, secretagent]   \n",
       "3               [action, crime, drama]  [dccomics, crimefighter, terrorist]   \n",
       "4  [action, adventure, sciencefiction]      [basedonnovel, mars, medallion]   \n",
       "\n",
       "           director                                           features  \n",
       "0      jamescameron  cultureclash future spacewar samworthington zo...  \n",
       "1     goreverbinski  ocean drugabuse exoticisland johnnydepp orland...  \n",
       "2         sammendes  spy basedonnovel secretagent danielcraig chris...  \n",
       "3  christophernolan  dccomics crimefighter terrorist christianbale ...  \n",
       "4     andrewstanton  basedonnovel mars medallion taylorkitsch lynnc...  "
      ]
     },
     "execution_count": 8,
     "metadata": {},
     "output_type": "execute_result"
    }
   ],
   "source": [
    "def add_feature_col(x):\n",
    "    return ' '.join(x['keywords']) + ' ' + ' '.join(x['cast']) + ' ' + x['director'] + ' ' + ' '.join(x['genres'])\n",
    "\n",
    "df['features'] = df.apply(add_feature_col, axis=1)\n",
    "df.head(5)"
   ]
  },
  {
   "cell_type": "code",
   "execution_count": 20,
   "id": "2d4bffeb-2ee2-4e23-8cb4-b8a346139d0a",
   "metadata": {},
   "outputs": [],
   "source": [
    "def get_recommendations(title, cosine_sim):\n",
    "    # get the index of the movie that matches the title\n",
    "    idx = indices[title]\n",
    "\n",
    "    # get the pairwsie similarity scores of all movies with that movie\n",
    "    sim_scores = list(enumerate(cosine_sim[idx]))\n",
    "        \n",
    "    # sort the movies based on the similarity scores\n",
    "    sim_scores = sorted(sim_scores, key=lambda x: x[1], reverse=True)\n",
    "\n",
    "    # get the scores of the 10 most similar movies\n",
    "    sim_scores = sim_scores[1:11]\n",
    "\n",
    "    # get the movie indices\n",
    "    movie_indices = [i[0] for i in sim_scores]\n",
    "\n",
    "    # return the top 10 most similar movies from the data frame\n",
    "    return df['title'].iloc[movie_indices]"
   ]
  },
  {
   "cell_type": "markdown",
   "id": "c6264421-50e4-4873-b70a-6042c167593b",
   "metadata": {},
   "source": [
    "# Count Vectorizer"
   ]
  },
  {
   "cell_type": "code",
   "execution_count": 21,
   "id": "295f635e-c05c-46be-9e67-076264a0b9e0",
   "metadata": {},
   "outputs": [],
   "source": [
    "from sklearn.feature_extraction.text import CountVectorizer\n",
    "from sklearn.metrics.pairwise import cosine_similarity\n",
    "\n",
    "\n",
    "# create count matrix and cosine similarity\n",
    "count = CountVectorizer(stop_words='english')\n",
    "count_matrix = count.fit_transform(df['features'])\n",
    "cosine_sim = cosine_similarity(count_matrix, count_matrix)\n",
    "\n",
    "# reset index of the data frame and construct reverse mapping\n",
    "df = df.reset_index()\n",
    "indices = pd.Series(df.index, index=df['title'])"
   ]
  },
  {
   "cell_type": "code",
   "execution_count": 22,
   "id": "92dbd9b4-1bc4-4585-905b-ae79b52dd788",
   "metadata": {},
   "outputs": [
    {
     "data": {
      "text/plain": [
       "884              Zero Dark Thirty\n",
       "1528                     Criminal\n",
       "647            World Trade Center\n",
       "737     Jack Ryan: Shadow Recruit\n",
       "2008        In the Valley of Elah\n",
       "3172                The Contender\n",
       "940                       Syriana\n",
       "991                     Fair Game\n",
       "1091                        Nixon\n",
       "1187              Bridge of Spies\n",
       "Name: title, dtype: object"
      ]
     },
     "execution_count": 22,
     "metadata": {},
     "output_type": "execute_result"
    }
   ],
   "source": [
    "get_recommendations('JFK', cosine_sim)"
   ]
  },
  {
   "cell_type": "markdown",
   "id": "14ee7505-965a-430d-952a-aad2f464f122",
   "metadata": {},
   "source": [
    "# TFIDF Vectorizer"
   ]
  },
  {
   "cell_type": "code",
   "execution_count": 23,
   "id": "14661ad1-312a-42b6-91c2-743330474a47",
   "metadata": {},
   "outputs": [
    {
     "data": {
      "text/plain": [
       "(4803, 11520)"
      ]
     },
     "execution_count": 23,
     "metadata": {},
     "output_type": "execute_result"
    }
   ],
   "source": [
    "from sklearn.feature_extraction.text import TfidfVectorizer\n",
    "\n",
    "tfidf = TfidfVectorizer(stop_words='english')\n",
    "\n",
    "tfidf_matrix = tfidf.fit_transform(df['features'])\n",
    "\n",
    "tfidf_matrix.shape"
   ]
  },
  {
   "cell_type": "code",
   "execution_count": 24,
   "id": "275920c8-7a29-41ec-b85d-cd654aca89d2",
   "metadata": {},
   "outputs": [],
   "source": [
    "from sklearn.metrics.pairwise import linear_kernel\n",
    "\n",
    "cosine_sim = linear_kernel(tfidf_matrix, tfidf_matrix)\n",
    "\n",
    "indices = pd.Series(df.index, index=df['title'])"
   ]
  },
  {
   "cell_type": "code",
   "execution_count": 25,
   "id": "1ac3d92f-c9af-495a-a769-41bf40ce3bec",
   "metadata": {},
   "outputs": [
    {
     "data": {
      "text/plain": [
       "1528                     Criminal\n",
       "884              Zero Dark Thirty\n",
       "737     Jack Ryan: Shadow Recruit\n",
       "188                          Salt\n",
       "969                     Assassins\n",
       "2141                         Milk\n",
       "2503                 The Homesman\n",
       "484                   The Postman\n",
       "2008        In the Valley of Elah\n",
       "2278           Dances with Wolves\n",
       "Name: title, dtype: object"
      ]
     },
     "execution_count": 25,
     "metadata": {},
     "output_type": "execute_result"
    }
   ],
   "source": [
    "get_recommendations('JFK', cosine_sim)"
   ]
  },
  {
   "cell_type": "code",
   "execution_count": null,
   "id": "f8310cca-5bc2-4ad7-ba95-a26b161680bb",
   "metadata": {},
   "outputs": [],
   "source": []
  }
 ],
 "metadata": {
  "kernelspec": {
   "display_name": "Python 3 (ipykernel)",
   "language": "python",
   "name": "python3"
  },
  "language_info": {
   "codemirror_mode": {
    "name": "ipython",
    "version": 3
   },
   "file_extension": ".py",
   "mimetype": "text/x-python",
   "name": "python",
   "nbconvert_exporter": "python",
   "pygments_lexer": "ipython3",
   "version": "3.8.8"
  },
  "widgets": {
   "application/vnd.jupyter.widget-state+json": {
    "state": {},
    "version_major": 2,
    "version_minor": 0
   }
  }
 },
 "nbformat": 4,
 "nbformat_minor": 5
}
