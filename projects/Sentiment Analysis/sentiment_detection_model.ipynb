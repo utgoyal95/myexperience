{
 "cells": [
  {
   "cell_type": "code",
   "execution_count": 1,
   "id": "075a9ca5-1076-41eb-95c5-3b9e1e2e945f",
   "metadata": {},
   "outputs": [],
   "source": [
    "import tensorflow as tf\n",
    "import tensorflow_hub as hub\n",
    "import tensorflow_text as text\n",
    "\n",
    "import pandas as pd\n",
    "import numpy as np\n",
    "\n",
    "import matplotlib.pyplot as plt\n",
    "plt.style.use('seaborn')\n",
    "\n",
    "from textblob import TextBlob\n",
    "from wordcloud import WordCloud"
   ]
  },
  {
   "cell_type": "code",
   "execution_count": 2,
   "id": "dfdbeb37-8c16-4bfa-a18a-d08644eb7e36",
   "metadata": {},
   "outputs": [
    {
     "name": "stderr",
     "output_type": "stream",
     "text": [
      "[nltk_data] Downloading package stopwords to\n",
      "[nltk_data]     /Users/utkarshgoyal/nltk_data...\n",
      "[nltk_data]   Package stopwords is already up-to-date!\n"
     ]
    },
    {
     "data": {
      "text/plain": [
       "True"
      ]
     },
     "execution_count": 2,
     "metadata": {},
     "output_type": "execute_result"
    }
   ],
   "source": [
    "import nltk\n",
    "from nltk.corpus import stopwords\n",
    "nltk.download('stopwords')"
   ]
  },
  {
   "cell_type": "code",
   "execution_count": 3,
   "id": "b831d52f-9fbe-4bf8-a315-8901882e4187",
   "metadata": {},
   "outputs": [
    {
     "data": {
      "text/html": [
       "<div>\n",
       "<style scoped>\n",
       "    .dataframe tbody tr th:only-of-type {\n",
       "        vertical-align: middle;\n",
       "    }\n",
       "\n",
       "    .dataframe tbody tr th {\n",
       "        vertical-align: top;\n",
       "    }\n",
       "\n",
       "    .dataframe thead th {\n",
       "        text-align: right;\n",
       "    }\n",
       "</style>\n",
       "<table border=\"1\" class=\"dataframe\">\n",
       "  <thead>\n",
       "    <tr style=\"text-align: right;\">\n",
       "      <th></th>\n",
       "      <th>text</th>\n",
       "    </tr>\n",
       "  </thead>\n",
       "  <tbody>\n",
       "    <tr>\n",
       "      <th>5318</th>\n",
       "      <td>@realDonaldTrump No don’t delay it. And you ca...</td>\n",
       "    </tr>\n",
       "    <tr>\n",
       "      <th>5319</th>\n",
       "      <td>@realDonaldTrump https://t.co/sQDPbuNMKB</td>\n",
       "    </tr>\n",
       "    <tr>\n",
       "      <th>5320</th>\n",
       "      <td>@realDonaldTrump You do realize that you still...</td>\n",
       "    </tr>\n",
       "    <tr>\n",
       "      <th>5321</th>\n",
       "      <td>@realDonaldTrump 2nd only to yours.</td>\n",
       "    </tr>\n",
       "    <tr>\n",
       "      <th>5322</th>\n",
       "      <td>@realDonaldTrump Absolutely!</td>\n",
       "    </tr>\n",
       "    <tr>\n",
       "      <th>5323</th>\n",
       "      <td>@realDonaldTrump For the 1/100 time, absentee ...</td>\n",
       "    </tr>\n",
       "    <tr>\n",
       "      <th>5324</th>\n",
       "      <td>@realDonaldTrump If you’re so scared of losing...</td>\n",
       "    </tr>\n",
       "    <tr>\n",
       "      <th>5325</th>\n",
       "      <td>@realDonaldTrump I rarely get involved with fo...</td>\n",
       "    </tr>\n",
       "    <tr>\n",
       "      <th>5326</th>\n",
       "      <td>@realDonaldTrump This is the moment when Trump...</td>\n",
       "    </tr>\n",
       "    <tr>\n",
       "      <th>5327</th>\n",
       "      <td>@realDonaldTrump I’m sorry, Donald. No. #POTUS</td>\n",
       "    </tr>\n",
       "  </tbody>\n",
       "</table>\n",
       "</div>"
      ],
      "text/plain": [
       "                                                   text\n",
       "5318  @realDonaldTrump No don’t delay it. And you ca...\n",
       "5319           @realDonaldTrump https://t.co/sQDPbuNMKB\n",
       "5320  @realDonaldTrump You do realize that you still...\n",
       "5321                @realDonaldTrump 2nd only to yours.\n",
       "5322                       @realDonaldTrump Absolutely!\n",
       "5323  @realDonaldTrump For the 1/100 time, absentee ...\n",
       "5324  @realDonaldTrump If you’re so scared of losing...\n",
       "5325  @realDonaldTrump I rarely get involved with fo...\n",
       "5326  @realDonaldTrump This is the moment when Trump...\n",
       "5327     @realDonaldTrump I’m sorry, Donald. No. #POTUS"
      ]
     },
     "execution_count": 3,
     "metadata": {},
     "output_type": "execute_result"
    }
   ],
   "source": [
    "biden_df = pd.read_csv(r'https://raw.githubusercontent.com/deepak0437/natural_language_processing/main/Predict_US_Elections/Bidenall2.csv')\n",
    "trump_df = pd.read_csv(r'https://raw.githubusercontent.com/deepak0437/natural_language_processing/main/Predict_US_Elections/Trumpall2.csv')\n",
    "\n",
    "df_twits = pd.concat([biden_df, trump_df], ignore_index=True).drop(columns=['user'])\n",
    "df_twits.tail(10)"
   ]
  },
  {
   "cell_type": "code",
   "execution_count": 4,
   "id": "3c702121-3096-4211-832b-7c0b4f53823c",
   "metadata": {},
   "outputs": [
    {
     "name": "stdout",
     "output_type": "stream",
     "text": [
      "Trump: Sentiment(polarity=0.15, subjectivity=0.3125)\n",
      "Biden: Sentiment(polarity=0.6, subjectivity=0.9)\n"
     ]
    }
   ],
   "source": [
    "##to check the sentiment polarity of trump dataset\n",
    "textblob1 = TextBlob(trump_df['text'][10])\n",
    "print(\"Trump:\", textblob1.sentiment)\n",
    "\n",
    "##to check the sentiment polarity of biden dataset\n",
    "textblob2 = TextBlob(biden_df['text'][500])\n",
    "print(\"Biden:\", textblob2.sentiment)"
   ]
  },
  {
   "cell_type": "code",
   "execution_count": 5,
   "id": "f2be0380-fe2f-45c4-a7b1-715a7362bab2",
   "metadata": {},
   "outputs": [],
   "source": [
    "def find_polarity(review):\n",
    "    return TextBlob(review).sentiment.polarity"
   ]
  },
  {
   "cell_type": "code",
   "execution_count": 6,
   "id": "8a5a5cfe-4d88-463a-adf5-679594d72008",
   "metadata": {},
   "outputs": [
    {
     "data": {
      "text/html": [
       "<div>\n",
       "<style scoped>\n",
       "    .dataframe tbody tr th:only-of-type {\n",
       "        vertical-align: middle;\n",
       "    }\n",
       "\n",
       "    .dataframe tbody tr th {\n",
       "        vertical-align: top;\n",
       "    }\n",
       "\n",
       "    .dataframe thead th {\n",
       "        text-align: right;\n",
       "    }\n",
       "</style>\n",
       "<table border=\"1\" class=\"dataframe\">\n",
       "  <thead>\n",
       "    <tr style=\"text-align: right;\">\n",
       "      <th></th>\n",
       "      <th>text</th>\n",
       "      <th>polarity</th>\n",
       "      <th>label</th>\n",
       "    </tr>\n",
       "  </thead>\n",
       "  <tbody>\n",
       "    <tr>\n",
       "      <th>1456</th>\n",
       "      <td>@JoeBiden I’m joe Biden and I’m gonna beat joe...</td>\n",
       "      <td>0.000</td>\n",
       "      <td>neutral</td>\n",
       "    </tr>\n",
       "    <tr>\n",
       "      <th>1754</th>\n",
       "      <td>@JoeBiden https://t.co/smC4yxIG8e</td>\n",
       "      <td>0.000</td>\n",
       "      <td>neutral</td>\n",
       "    </tr>\n",
       "    <tr>\n",
       "      <th>3590</th>\n",
       "      <td>@realDonaldTrump We will overcome it!</td>\n",
       "      <td>0.000</td>\n",
       "      <td>neutral</td>\n",
       "    </tr>\n",
       "    <tr>\n",
       "      <th>3151</th>\n",
       "      <td>@FoxNews Weird that you found time to watch T...</td>\n",
       "      <td>-0.200</td>\n",
       "      <td>negative</td>\n",
       "    </tr>\n",
       "    <tr>\n",
       "      <th>4027</th>\n",
       "      <td>@realDonaldTrump Article 25....</td>\n",
       "      <td>0.000</td>\n",
       "      <td>neutral</td>\n",
       "    </tr>\n",
       "    <tr>\n",
       "      <th>1732</th>\n",
       "      <td>@JoeBiden Again why do you talk about it being...</td>\n",
       "      <td>0.000</td>\n",
       "      <td>neutral</td>\n",
       "    </tr>\n",
       "    <tr>\n",
       "      <th>3838</th>\n",
       "      <td>@realDonaldTrump @FoxNews @DHSgov Kisses to my...</td>\n",
       "      <td>0.000</td>\n",
       "      <td>neutral</td>\n",
       "    </tr>\n",
       "    <tr>\n",
       "      <th>2637</th>\n",
       "      <td>lies</td>\n",
       "      <td>0.000</td>\n",
       "      <td>neutral</td>\n",
       "    </tr>\n",
       "    <tr>\n",
       "      <th>2805</th>\n",
       "      <td>Such a racist</td>\n",
       "      <td>0.000</td>\n",
       "      <td>neutral</td>\n",
       "    </tr>\n",
       "    <tr>\n",
       "      <th>3025</th>\n",
       "      <td>?????????????????????????????????????????????...</td>\n",
       "      <td>0.000</td>\n",
       "      <td>neutral</td>\n",
       "    </tr>\n",
       "    <tr>\n",
       "      <th>5246</th>\n",
       "      <td>@realDonaldTrump 2016 was a Fraud, seems like ...</td>\n",
       "      <td>0.000</td>\n",
       "      <td>neutral</td>\n",
       "    </tr>\n",
       "    <tr>\n",
       "      <th>1458</th>\n",
       "      <td>@JoeBiden All the polls they are a changing</td>\n",
       "      <td>0.000</td>\n",
       "      <td>neutral</td>\n",
       "    </tr>\n",
       "    <tr>\n",
       "      <th>1925</th>\n",
       "      <td>@JoeBiden @BarackObama You are both completely...</td>\n",
       "      <td>0.125</td>\n",
       "      <td>positive</td>\n",
       "    </tr>\n",
       "    <tr>\n",
       "      <th>951</th>\n",
       "      <td>@JoeBiden The under funded school I work at ha...</td>\n",
       "      <td>0.050</td>\n",
       "      <td>positive</td>\n",
       "    </tr>\n",
       "    <tr>\n",
       "      <th>562</th>\n",
       "      <td>@JoeBiden https://t.co/FQ7nPUiuMd</td>\n",
       "      <td>0.000</td>\n",
       "      <td>neutral</td>\n",
       "    </tr>\n",
       "    <tr>\n",
       "      <th>4647</th>\n",
       "      <td>@realDonaldTrump Did we in 2018? I voted by ma...</td>\n",
       "      <td>0.000</td>\n",
       "      <td>neutral</td>\n",
       "    </tr>\n",
       "    <tr>\n",
       "      <th>2487</th>\n",
       "      <td>@JoeBiden After four years of potus dominating...</td>\n",
       "      <td>0.000</td>\n",
       "      <td>neutral</td>\n",
       "    </tr>\n",
       "    <tr>\n",
       "      <th>3159</th>\n",
       "      <td>@FoxNews Face it , you are done! It will be a...</td>\n",
       "      <td>0.000</td>\n",
       "      <td>neutral</td>\n",
       "    </tr>\n",
       "    <tr>\n",
       "      <th>519</th>\n",
       "      <td>@JoeBiden We need Joe  #Biden2020Landslide</td>\n",
       "      <td>0.000</td>\n",
       "      <td>neutral</td>\n",
       "    </tr>\n",
       "    <tr>\n",
       "      <th>3057</th>\n",
       "      <td>So what you’re implying is suburbanites are b...</td>\n",
       "      <td>0.250</td>\n",
       "      <td>positive</td>\n",
       "    </tr>\n",
       "  </tbody>\n",
       "</table>\n",
       "</div>"
      ],
      "text/plain": [
       "                                                   text  polarity     label\n",
       "1456  @JoeBiden I’m joe Biden and I’m gonna beat joe...     0.000   neutral\n",
       "1754                  @JoeBiden https://t.co/smC4yxIG8e     0.000   neutral\n",
       "3590              @realDonaldTrump We will overcome it!     0.000   neutral\n",
       "3151   @FoxNews Weird that you found time to watch T...    -0.200  negative\n",
       "4027                    @realDonaldTrump Article 25....     0.000   neutral\n",
       "1732  @JoeBiden Again why do you talk about it being...     0.000   neutral\n",
       "3838  @realDonaldTrump @FoxNews @DHSgov Kisses to my...     0.000   neutral\n",
       "2637                                               lies     0.000   neutral\n",
       "2805                                      Such a racist     0.000   neutral\n",
       "3025   ?????????????????????????????????????????????...     0.000   neutral\n",
       "5246  @realDonaldTrump 2016 was a Fraud, seems like ...     0.000   neutral\n",
       "1458        @JoeBiden All the polls they are a changing     0.000   neutral\n",
       "1925  @JoeBiden @BarackObama You are both completely...     0.125  positive\n",
       "951   @JoeBiden The under funded school I work at ha...     0.050  positive\n",
       "562                   @JoeBiden https://t.co/FQ7nPUiuMd     0.000   neutral\n",
       "4647  @realDonaldTrump Did we in 2018? I voted by ma...     0.000   neutral\n",
       "2487  @JoeBiden After four years of potus dominating...     0.000   neutral\n",
       "3159   @FoxNews Face it , you are done! It will be a...     0.000   neutral\n",
       "519          @JoeBiden We need Joe  #Biden2020Landslide     0.000   neutral\n",
       "3057   So what you’re implying is suburbanites are b...     0.250  positive"
      ]
     },
     "execution_count": 6,
     "metadata": {},
     "output_type": "execute_result"
    }
   ],
   "source": [
    "df_twits[\"polarity\"] = df_twits['text'].apply(find_polarity)\n",
    "\n",
    "df_twits[\"label\"] = np.where(df_twits[\"polarity\"] > 0, \"positive\", \"negative\")\n",
    "df_twits[\"label\"] = np.where(df_twits[\"polarity\"] == 0, \"neutral\", df_twits[\"label\"])\n",
    "df_twits.sample(20)"
   ]
  },
  {
   "cell_type": "code",
   "execution_count": 7,
   "id": "b8beb8d5-4d2e-4fbd-a92f-f976f15aaaa2",
   "metadata": {},
   "outputs": [
    {
     "data": {
      "image/png": "[encoded data removed]",
      "text/plain": [
       "<Figure size 720x360 with 1 Axes>"
      ]
     },
     "metadata": {},
     "output_type": "display_data"
    }
   ],
   "source": [
    "plt.figure(figsize=(10, 5))\n",
    "plt.bar('Negative', len(df_twits[df_twits['label']=='negative']))\n",
    "plt.bar('Positive', len(df_twits[df_twits['label']=='positive']))\n",
    "plt.bar('Neutral', len(df_twits[df_twits['label']=='neutral']))\n",
    "\n",
    "\n",
    "plt.title('Distribution of Sentiment', size=12)\n",
    "plt.xlabel('Sentiment', size=12)\n",
    "plt.ylabel('# of Twits', size=12);"
   ]
  },
  {
   "cell_type": "code",
   "execution_count": 8,
   "id": "304d7acc-70c5-4a5d-9284-04679bc0d00e",
   "metadata": {},
   "outputs": [
    {
     "data": {
      "text/plain": [
       "(2355, 3)"
      ]
     },
     "execution_count": 8,
     "metadata": {},
     "output_type": "execute_result"
    }
   ],
   "source": [
    "df = df_twits[df_twits['label']!='neutral']\n",
    "df.shape"
   ]
  },
  {
   "cell_type": "code",
   "execution_count": 9,
   "id": "8e542da3-8aad-4163-a05e-a26fd94071c5",
   "metadata": {
    "tags": []
   },
   "outputs": [],
   "source": [
    "import re\n",
    "def remove_stopwords(input_text):\n",
    "        stopwords_list = stopwords.words('english')\n",
    "        # Some words which might indicate a certain sentiment are kept via a whitelist\n",
    "        whitelist = [\"n't\", \"not\", \"no\"]\n",
    "        words = input_text.split() \n",
    "        clean_words = [word for word in words if (word not in stopwords_list or word in whitelist) and len(word) > 1] \n",
    "        return \" \".join(clean_words) \n",
    "\n",
    "def normalize(i):\n",
    "#     for i in data:\n",
    "    i = re.sub(\"(#[A-Za-z0-9]+)|(@[A-Za-z0-9]+)|([^0-9A-Za-z \\t])|(\\w+:\\/\\/\\S+)\",\"\",i)\n",
    "    \n",
    "    i = i.lower()\n",
    "    # get rid of urls\n",
    "    i = re.sub('https?://\\S+|www\\.\\S+', '', i)\n",
    "\n",
    "    i = re.sub('<[^>]*>', '', i)\n",
    "    i = re.sub(r'[^\\w\\s]','', i)\n",
    "    i = re.sub(r'\\$\\w*','', i)\n",
    "    i = re.sub(r'^RT[\\s]+','', i)\n",
    "    i = re.sub(r'http\\S+','', i)\n",
    "    i = re.sub(r'#','', i)\n",
    "\n",
    "    # get rid of non words and extra spaces\n",
    "    i = re.sub('\\\\W', ' ', i)\n",
    "    i = re.sub('\\n', '', i)\n",
    "    i = re.sub(' +', ' ', i)\n",
    "    i = re.sub('^ ', '', i)\n",
    "    i = re.sub(' $', '', i)\n",
    "    \n",
    "    return i"
   ]
  },
  {
   "cell_type": "code",
   "execution_count": 10,
   "id": "f9f2f818-4c9c-43d5-8028-eab8cf9064aa",
   "metadata": {},
   "outputs": [
    {
     "name": "stderr",
     "output_type": "stream",
     "text": [
      "/var/folders/sc/m38hzk_90cn6t0363cr74ny40000gn/T/ipykernel_65330/946631964.py:1: SettingWithCopyWarning: \n",
      "A value is trying to be set on a copy of a slice from a DataFrame.\n",
      "Try using .loc[row_indexer,col_indexer] = value instead\n",
      "\n",
      "See the caveats in the documentation: https://pandas.pydata.org/pandas-docs/stable/user_guide/indexing.html#returning-a-view-versus-a-copy\n",
      "  df.text = df.text.apply(remove_stopwords)\n",
      "/var/folders/sc/m38hzk_90cn6t0363cr74ny40000gn/T/ipykernel_65330/946631964.py:2: SettingWithCopyWarning: \n",
      "A value is trying to be set on a copy of a slice from a DataFrame.\n",
      "Try using .loc[row_indexer,col_indexer] = value instead\n",
      "\n",
      "See the caveats in the documentation: https://pandas.pydata.org/pandas-docs/stable/user_guide/indexing.html#returning-a-view-versus-a-copy\n",
      "  df.text = df.text.apply(normalize)\n"
     ]
    },
    {
     "data": {
      "text/html": [
       "<div>\n",
       "<style scoped>\n",
       "    .dataframe tbody tr th:only-of-type {\n",
       "        vertical-align: middle;\n",
       "    }\n",
       "\n",
       "    .dataframe tbody tr th {\n",
       "        vertical-align: top;\n",
       "    }\n",
       "\n",
       "    .dataframe thead th {\n",
       "        text-align: right;\n",
       "    }\n",
       "</style>\n",
       "<table border=\"1\" class=\"dataframe\">\n",
       "  <thead>\n",
       "    <tr style=\"text-align: right;\">\n",
       "      <th></th>\n",
       "      <th>text</th>\n",
       "      <th>polarity</th>\n",
       "      <th>label</th>\n",
       "    </tr>\n",
       "  </thead>\n",
       "  <tbody>\n",
       "    <tr>\n",
       "      <th>5311</th>\n",
       "      <td>yeah definitely afraid donny boy</td>\n",
       "      <td>-0.6000</td>\n",
       "      <td>negative</td>\n",
       "    </tr>\n",
       "    <tr>\n",
       "      <th>5313</th>\n",
       "      <td>oh little baby scared voted office soon trump ...</td>\n",
       "      <td>-0.1875</td>\n",
       "      <td>negative</td>\n",
       "    </tr>\n",
       "    <tr>\n",
       "      <th>5322</th>\n",
       "      <td>absolutely</td>\n",
       "      <td>0.2500</td>\n",
       "      <td>positive</td>\n",
       "    </tr>\n",
       "    <tr>\n",
       "      <th>5325</th>\n",
       "      <td>rarely get involved foreign politics not place...</td>\n",
       "      <td>0.2250</td>\n",
       "      <td>positive</td>\n",
       "    </tr>\n",
       "    <tr>\n",
       "      <th>5327</th>\n",
       "      <td>im sorry donald no</td>\n",
       "      <td>-0.5000</td>\n",
       "      <td>negative</td>\n",
       "    </tr>\n",
       "  </tbody>\n",
       "</table>\n",
       "</div>"
      ],
      "text/plain": [
       "                                                   text  polarity     label\n",
       "5311                   yeah definitely afraid donny boy   -0.6000  negative\n",
       "5313  oh little baby scared voted office soon trump ...   -0.1875  negative\n",
       "5322                                         absolutely    0.2500  positive\n",
       "5325  rarely get involved foreign politics not place...    0.2250  positive\n",
       "5327                                 im sorry donald no   -0.5000  negative"
      ]
     },
     "execution_count": 10,
     "metadata": {},
     "output_type": "execute_result"
    }
   ],
   "source": [
    "df.text = df.text.apply(remove_stopwords)\n",
    "df.text = df.text.apply(normalize)\n",
    "\n",
    "df.tail()"
   ]
  },
  {
   "cell_type": "markdown",
   "id": "3549ec8a-90a6-472b-b4d1-61f7bdfce8dd",
   "metadata": {},
   "source": [
    "# Logistic Regression"
   ]
  },
  {
   "cell_type": "code",
   "execution_count": 11,
   "id": "d1227b62-077e-495d-afdf-ed8f3e27c16e",
   "metadata": {},
   "outputs": [],
   "source": [
    "from nltk.stem.porter import PorterStemmer\n",
    "from sklearn.feature_extraction.text import TfidfVectorizer"
   ]
  },
  {
   "cell_type": "code",
   "execution_count": 12,
   "id": "0c87ea3d-e0cd-46c4-96ef-947729e41a2a",
   "metadata": {},
   "outputs": [],
   "source": [
    "porter = PorterStemmer()\n",
    "\n",
    "def tokenizer_porter(text):\n",
    "    return [porter.stem(word) for word in text.split()]"
   ]
  },
  {
   "cell_type": "code",
   "execution_count": 13,
   "id": "bf7032b4-a97b-432f-adab-12b56089efb9",
   "metadata": {},
   "outputs": [],
   "source": [
    "tfidf = TfidfVectorizer(strip_accents=None,\n",
    "                        lowercase=False,\n",
    "                        preprocessor=None,\n",
    "                        tokenizer=tokenizer_porter,\n",
    "                        use_idf=True,\n",
    "                        norm='l2',\n",
    "                        smooth_idf=True)\n",
    "X = tfidf.fit_transform(df['text'])\n",
    "y = df['label'].map({'negative':0, 'positive':1}).values"
   ]
  },
  {
   "cell_type": "code",
   "execution_count": 66,
   "id": "98db9825-12b7-4f0b-a662-bafcd31a1bbc",
   "metadata": {},
   "outputs": [],
   "source": [
    "from sklearn.model_selection import train_test_split\n",
    "X_train, X_test, y_train, y_test = train_test_split(X, y, test_size=0.20, random_state=0, stratify=y)"
   ]
  },
  {
   "cell_type": "code",
   "execution_count": 67,
   "id": "ec827a22-efcf-46fe-ac9a-8944523a742b",
   "metadata": {},
   "outputs": [],
   "source": [
    "from sklearn.linear_model import LogisticRegression"
   ]
  },
  {
   "cell_type": "code",
   "execution_count": 68,
   "id": "334c33b2-4a5c-4496-8ca4-7db4252dde4e",
   "metadata": {},
   "outputs": [],
   "source": [
    "clf = LogisticRegression(C=5, solver='liblinear').fit(X_train, y_train)"
   ]
  },
  {
   "cell_type": "code",
   "execution_count": 69,
   "id": "743859bf-7409-4bf8-9ec8-c1a0241af344",
   "metadata": {},
   "outputs": [
    {
     "name": "stdout",
     "output_type": "stream",
     "text": [
      "---Test Set Results---\n",
      "Accuracy with logreg: 0.7961783439490446\n",
      "              precision    recall  f1-score   support\n",
      "\n",
      "           0       0.78      0.73      0.75       201\n",
      "           1       0.81      0.84      0.83       270\n",
      "\n",
      "    accuracy                           0.80       471\n",
      "   macro avg       0.79      0.79      0.79       471\n",
      "weighted avg       0.80      0.80      0.80       471\n",
      "\n"
     ]
    }
   ],
   "source": [
    "from sklearn.metrics import classification_report, accuracy_score, confusion_matrix\n",
    "y_pred = clf.predict(X_test)\n",
    "print(\"---Test Set Results---\")\n",
    "print(\"Accuracy with logreg: {}\".format(accuracy_score(y_test, y_pred)))\n",
    "print(classification_report(y_test, y_pred))"
   ]
  },
  {
   "cell_type": "code",
   "execution_count": 70,
   "id": "3c936e44-e92b-4267-89a0-a1c26411f4b5",
   "metadata": {},
   "outputs": [],
   "source": [
    "binary_predictions = []\n",
    "\n",
    "for i in y_pred:\n",
    "    if i >= 0.5:\n",
    "        binary_predictions.append(1)\n",
    "    else:\n",
    "        binary_predictions.append(0)"
   ]
  },
  {
   "cell_type": "code",
   "execution_count": 71,
   "id": "9558e754-5c5b-4097-b72d-847d29848464",
   "metadata": {},
   "outputs": [
    {
     "data": {
      "image/png": "[encoded data removed]",
      "text/plain": [
       "<Figure size 720x432 with 2 Axes>"
      ]
     },
     "metadata": {},
     "output_type": "display_data"
    }
   ],
   "source": [
    "import seaborn as sns\n",
    "matrix = confusion_matrix(binary_predictions, y_test, normalize='all')\n",
    "plt.figure(figsize=(10, 6))\n",
    "ax= plt.subplot()\n",
    "sns.heatmap(matrix, annot=True, ax = ax)\n",
    "\n",
    "# labels, title and ticks\n",
    "ax.set_xlabel('Predicted Labels', size=15)\n",
    "ax.set_ylabel('True Labels', size=15)\n",
    "ax.set_title('Confusion Matrix', size=15)\n",
    "ax.xaxis.set_ticklabels([0,1], size=15)\n",
    "ax.yaxis.set_ticklabels([0,1], size=15);"
   ]
  },
  {
   "cell_type": "code",
   "execution_count": 73,
   "id": "c08d3a75-823d-43e3-a6e8-de3b0ba24937",
   "metadata": {},
   "outputs": [
    {
     "data": {
      "image/png": "[encoded data removed]",
      "text/plain": [
       "<Figure size 576x396 with 1 Axes>"
      ]
     },
     "metadata": {},
     "output_type": "display_data"
    },
    {
     "name": "stdout",
     "output_type": "stream",
     "text": [
      "AUC score: 0.8884\n"
     ]
    }
   ],
   "source": [
    "from sklearn.metrics import roc_curve, roc_auc_score\n",
    "\n",
    "pred_prob1 = clf.predict_proba(X_test)\n",
    "\n",
    "auc_score1 = roc_auc_score(y_test, pred_prob1[:,1])\n",
    "\n",
    "\n",
    "fpr1, tpr1, thresh1 = roc_curve(y_test, pred_prob1[:,1], pos_label=1)\n",
    "\n",
    "# roc curve for tpr = fpr \n",
    "random_probs = [0 for i in range(len(y_test))]\n",
    "p_fpr, p_tpr, _ = roc_curve(y_test, random_probs, pos_label=1)\n",
    "\n",
    "# plot roc curves\n",
    "plt.plot(fpr1, tpr1, linestyle='--',color='orange', label='Logistic Regression')\n",
    "plt.plot(p_fpr, p_tpr, linestyle='--', color='blue')\n",
    "# title\n",
    "plt.title('ROC curve')\n",
    "# x label\n",
    "plt.xlabel('False Positive Rate')\n",
    "# y label\n",
    "plt.ylabel('True Positive rate')\n",
    "\n",
    "plt.legend(loc='best')\n",
    "plt.savefig('ROC',dpi=300)\n",
    "plt.show();\n",
    "\n",
    "print('AUC score:',round(auc_score1, 4))"
   ]
  },
  {
   "cell_type": "code",
   "execution_count": null,
   "id": "fc2e74dd-637c-496f-aca0-cc748d4ae506",
   "metadata": {},
   "outputs": [],
   "source": []
  }
 ],
 "metadata": {
  "kernelspec": {
   "display_name": "Python 3 (ipykernel)",
   "language": "python",
   "name": "python3"
  },
  "language_info": {
   "codemirror_mode": {
    "name": "ipython",
    "version": 3
   },
   "file_extension": ".py",
   "mimetype": "text/x-python",
   "name": "python",
   "nbconvert_exporter": "python",
   "pygments_lexer": "ipython3",
   "version": "3.9.12"
  }
 },
 "nbformat": 4,
 "nbformat_minor": 5
}
