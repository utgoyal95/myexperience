{
 "cells": [
  {
   "cell_type": "code",
   "execution_count": 1,
   "id": "ea811bd4-40e3-4dfb-b6e8-e27f02afd4e8",
   "metadata": {},
   "outputs": [],
   "source": [
    "import numpy as np\n",
    "import pandas as pd\n",
    "import matplotlib.pyplot as plt\n",
    "\n",
    "from sklearn import preprocessing\n",
    "from sklearn.impute import SimpleImputer\n",
    "from sklearn.ensemble import RandomForestClassifier\n",
    "from sklearn.linear_model import LogisticRegression\n",
    "from sklearn.model_selection import train_test_split\n",
    "from sklearn.metrics import accuracy_score, recall_score\n",
    "from sklearn.metrics import plot_confusion_matrix \n",
    "from sklearn.metrics import classification_report\n",
    "\n",
    "import nltk\n",
    "from nltk import pos_tag\n",
    "from nltk.stem import WordNetLemmatizer\n",
    "from nltk.stem.porter import PorterStemmer\n",
    "from nltk.tokenize import word_tokenize\n",
    "from nltk.tokenize import WhitespaceTokenizer\n",
    "from nltk.corpus import stopwords\n",
    "from nltk.corpus import wordnet\n",
    "\n",
    "from nltk.sentiment.vader import SentimentIntensityAnalyzer"
   ]
  },
  {
   "cell_type": "code",
   "execution_count": 2,
   "id": "acc16ac3-7b02-457a-b750-abc029b65b48",
   "metadata": {},
   "outputs": [
    {
     "name": "stderr",
     "output_type": "stream",
     "text": [
      "[nltk_data] Downloading package stopwords to\n",
      "[nltk_data]     /Users/utkarshgoyal/nltk_data...\n",
      "[nltk_data]   Package stopwords is already up-to-date!\n"
     ]
    },
    {
     "data": {
      "text/plain": [
       "True"
      ]
     },
     "execution_count": 2,
     "metadata": {},
     "output_type": "execute_result"
    }
   ],
   "source": [
    "nltk.download('stopwords')"
   ]
  },
  {
   "cell_type": "code",
   "execution_count": 3,
   "id": "21448698-2252-4523-b917-b3c2df0ff7a2",
   "metadata": {},
   "outputs": [
    {
     "name": "stderr",
     "output_type": "stream",
     "text": [
      "[nltk_data] Downloading package averaged_perceptron_tagger to\n",
      "[nltk_data]     /Users/utkarshgoyal/nltk_data...\n",
      "[nltk_data]   Package averaged_perceptron_tagger is already up-to-\n",
      "[nltk_data]       date!\n"
     ]
    },
    {
     "data": {
      "text/plain": [
       "True"
      ]
     },
     "execution_count": 3,
     "metadata": {},
     "output_type": "execute_result"
    }
   ],
   "source": [
    "nltk.download('averaged_perceptron_tagger')"
   ]
  },
  {
   "cell_type": "code",
   "execution_count": 4,
   "id": "f5dacdb0-2b0d-425f-8478-07eb0126c74c",
   "metadata": {},
   "outputs": [
    {
     "name": "stderr",
     "output_type": "stream",
     "text": [
      "[nltk_data] Downloading package omw-1.4 to\n",
      "[nltk_data]     /Users/utkarshgoyal/nltk_data...\n",
      "[nltk_data]   Package omw-1.4 is already up-to-date!\n"
     ]
    },
    {
     "data": {
      "text/plain": [
       "True"
      ]
     },
     "execution_count": 4,
     "metadata": {},
     "output_type": "execute_result"
    }
   ],
   "source": [
    "nltk.download('omw-1.4')"
   ]
  },
  {
   "cell_type": "code",
   "execution_count": 5,
   "id": "ee8bb4c2-3a29-46d5-93c4-7079c359ec68",
   "metadata": {},
   "outputs": [
    {
     "name": "stderr",
     "output_type": "stream",
     "text": [
      "[nltk_data] Downloading package vader_lexicon to\n",
      "[nltk_data]     /Users/utkarshgoyal/nltk_data...\n",
      "[nltk_data]   Package vader_lexicon is already up-to-date!\n"
     ]
    },
    {
     "data": {
      "text/plain": [
       "True"
      ]
     },
     "execution_count": 5,
     "metadata": {},
     "output_type": "execute_result"
    }
   ],
   "source": [
    "nltk.download('vader_lexicon')"
   ]
  },
  {
   "cell_type": "code",
   "execution_count": 6,
   "id": "3bdc4f3c-3f0d-4fd2-96af-e33690e13c26",
   "metadata": {},
   "outputs": [
    {
     "data": {
      "text/html": [
       "<div>\n",
       "<style scoped>\n",
       "    .dataframe tbody tr th:only-of-type {\n",
       "        vertical-align: middle;\n",
       "    }\n",
       "\n",
       "    .dataframe tbody tr th {\n",
       "        vertical-align: top;\n",
       "    }\n",
       "\n",
       "    .dataframe thead th {\n",
       "        text-align: right;\n",
       "    }\n",
       "</style>\n",
       "<table border=\"1\" class=\"dataframe\">\n",
       "  <thead>\n",
       "    <tr style=\"text-align: right;\">\n",
       "      <th></th>\n",
       "      <th>Review</th>\n",
       "      <th>Rating</th>\n",
       "    </tr>\n",
       "  </thead>\n",
       "  <tbody>\n",
       "    <tr>\n",
       "      <th>0</th>\n",
       "      <td>nice hotel expensive parking got good deal sta...</td>\n",
       "      <td>4</td>\n",
       "    </tr>\n",
       "    <tr>\n",
       "      <th>1</th>\n",
       "      <td>ok nothing special charge diamond member hilto...</td>\n",
       "      <td>2</td>\n",
       "    </tr>\n",
       "    <tr>\n",
       "      <th>2</th>\n",
       "      <td>nice rooms not 4* experience hotel monaco seat...</td>\n",
       "      <td>3</td>\n",
       "    </tr>\n",
       "    <tr>\n",
       "      <th>3</th>\n",
       "      <td>unique \\tgreat stay \\twonderful time hotel mon...</td>\n",
       "      <td>5</td>\n",
       "    </tr>\n",
       "    <tr>\n",
       "      <th>4</th>\n",
       "      <td>great stay great stay \\twent seahawk game awes...</td>\n",
       "      <td>5</td>\n",
       "    </tr>\n",
       "  </tbody>\n",
       "</table>\n",
       "</div>"
      ],
      "text/plain": [
       "                                              Review  Rating\n",
       "0  nice hotel expensive parking got good deal sta...       4\n",
       "1  ok nothing special charge diamond member hilto...       2\n",
       "2  nice rooms not 4* experience hotel monaco seat...       3\n",
       "3  unique \\tgreat stay \\twonderful time hotel mon...       5\n",
       "4  great stay great stay \\twent seahawk game awes...       5"
      ]
     },
     "execution_count": 6,
     "metadata": {},
     "output_type": "execute_result"
    }
   ],
   "source": [
    "df = pd.read_csv('b.csv', encoding = 'ISO-8859-1', usecols=[ 'Review', 'Rating'])\n",
    "df.head()"
   ]
  },
  {
   "cell_type": "code",
   "execution_count": 7,
   "id": "e6e81be2-14cc-4312-9142-59b64cfa5f07",
   "metadata": {},
   "outputs": [],
   "source": [
    "import re\n",
    "\n",
    "def remove_stopwords(input_text):\n",
    "        stopwords_list = stopwords.words('english')\n",
    "        # Some words which might indicate a certain sentiment are kept via a whitelist\n",
    "        whitelist = [\"n't\", \"not\", \"no\"]\n",
    "        words = input_text.split() \n",
    "        clean_words = [word for word in words if (word not in stopwords_list or word in whitelist) and len(word) > 1] \n",
    "        return \" \".join(clean_words) \n",
    "\n",
    "def normalize(i):\n",
    "#     for i in data:\n",
    "    i = re.sub(\"(#[A-Za-z0-9]+)|(@[A-Za-z0-9]+)|([^0-9A-Za-z \\t])|(\\w+:\\/\\/\\S+)\",\"\",i)\n",
    "    \n",
    "    i = i.lower()\n",
    "    # get rid of urls\n",
    "    i = re.sub('https?://\\S+|www\\.\\S+', '', i)\n",
    "    i = re.sub('<[^>]*>', '', i)\n",
    "    i = re.sub(r'[^\\w\\s]','', i)\n",
    "    i = re.sub(r'\\$\\w*','', i)\n",
    "    i = re.sub(r'^RT[\\s]+','', i)\n",
    "    i = re.sub(r'http\\S+','', i)\n",
    "    i = re.sub(r'#','', i)\n",
    "\n",
    "    # get rid of non words and extra spaces\n",
    "    i = re.sub('\\\\W', ' ', i)\n",
    "    i = re.sub('\\n', '', i)\n",
    "    i = re.sub(' +', ' ', i)\n",
    "    i = re.sub('^ ', '', i)\n",
    "    i = re.sub(' $', '', i)\n",
    "    \n",
    "    return i"
   ]
  },
  {
   "cell_type": "code",
   "execution_count": 8,
   "id": "ccfa55ba-198e-43da-b6fc-918fe08a40c9",
   "metadata": {},
   "outputs": [],
   "source": [
    "df['Review1'] = df.Review.apply(remove_stopwords)\n",
    "df['Clean_Review'] = df['Review1'].apply(normalize)\n",
    "\n",
    "df['posneg'] = df['Rating'].apply(lambda x: 0 if x < 5 else 1)"
   ]
  },
  {
   "cell_type": "code",
   "execution_count": 9,
   "id": "16e2b159-de73-4b90-beb1-e1edc3acbff6",
   "metadata": {},
   "outputs": [
    {
     "data": {
      "text/html": [
       "<div>\n",
       "<style scoped>\n",
       "    .dataframe tbody tr th:only-of-type {\n",
       "        vertical-align: middle;\n",
       "    }\n",
       "\n",
       "    .dataframe tbody tr th {\n",
       "        vertical-align: top;\n",
       "    }\n",
       "\n",
       "    .dataframe thead th {\n",
       "        text-align: right;\n",
       "    }\n",
       "</style>\n",
       "<table border=\"1\" class=\"dataframe\">\n",
       "  <thead>\n",
       "    <tr style=\"text-align: right;\">\n",
       "      <th></th>\n",
       "      <th>Review</th>\n",
       "      <th>Rating</th>\n",
       "      <th>Review1</th>\n",
       "      <th>Clean_Review</th>\n",
       "      <th>posneg</th>\n",
       "    </tr>\n",
       "  </thead>\n",
       "  <tbody>\n",
       "    <tr>\n",
       "      <th>0</th>\n",
       "      <td>nice hotel expensive parking got good deal sta...</td>\n",
       "      <td>4</td>\n",
       "      <td>nice hotel expensive parking got good deal sta...</td>\n",
       "      <td>nice hotel expensive parking got good deal sta...</td>\n",
       "      <td>0</td>\n",
       "    </tr>\n",
       "    <tr>\n",
       "      <th>1</th>\n",
       "      <td>ok nothing special charge diamond member hilto...</td>\n",
       "      <td>2</td>\n",
       "      <td>ok nothing special charge diamond member hilto...</td>\n",
       "      <td>ok nothing special charge diamond member hilto...</td>\n",
       "      <td>0</td>\n",
       "    </tr>\n",
       "    <tr>\n",
       "      <th>2</th>\n",
       "      <td>nice rooms not 4* experience hotel monaco seat...</td>\n",
       "      <td>3</td>\n",
       "      <td>nice rooms not 4* experience hotel monaco seat...</td>\n",
       "      <td>nice rooms not 4 experience hotel monaco seatt...</td>\n",
       "      <td>0</td>\n",
       "    </tr>\n",
       "    <tr>\n",
       "      <th>3</th>\n",
       "      <td>unique \\tgreat stay \\twonderful time hotel mon...</td>\n",
       "      <td>5</td>\n",
       "      <td>unique great stay wonderful time hotel monaco ...</td>\n",
       "      <td>unique great stay wonderful time hotel monaco ...</td>\n",
       "      <td>1</td>\n",
       "    </tr>\n",
       "    <tr>\n",
       "      <th>4</th>\n",
       "      <td>great stay great stay \\twent seahawk game awes...</td>\n",
       "      <td>5</td>\n",
       "      <td>great stay great stay went seahawk game awesom...</td>\n",
       "      <td>great stay great stay went seahawk game awesom...</td>\n",
       "      <td>1</td>\n",
       "    </tr>\n",
       "  </tbody>\n",
       "</table>\n",
       "</div>"
      ],
      "text/plain": [
       "                                              Review  Rating  \\\n",
       "0  nice hotel expensive parking got good deal sta...       4   \n",
       "1  ok nothing special charge diamond member hilto...       2   \n",
       "2  nice rooms not 4* experience hotel monaco seat...       3   \n",
       "3  unique \\tgreat stay \\twonderful time hotel mon...       5   \n",
       "4  great stay great stay \\twent seahawk game awes...       5   \n",
       "\n",
       "                                             Review1  \\\n",
       "0  nice hotel expensive parking got good deal sta...   \n",
       "1  ok nothing special charge diamond member hilto...   \n",
       "2  nice rooms not 4* experience hotel monaco seat...   \n",
       "3  unique great stay wonderful time hotel monaco ...   \n",
       "4  great stay great stay went seahawk game awesom...   \n",
       "\n",
       "                                        Clean_Review  posneg  \n",
       "0  nice hotel expensive parking got good deal sta...       0  \n",
       "1  ok nothing special charge diamond member hilto...       0  \n",
       "2  nice rooms not 4 experience hotel monaco seatt...       0  \n",
       "3  unique great stay wonderful time hotel monaco ...       1  \n",
       "4  great stay great stay went seahawk game awesom...       1  "
      ]
     },
     "execution_count": 9,
     "metadata": {},
     "output_type": "execute_result"
    }
   ],
   "source": [
    "df.head()"
   ]
  },
  {
   "cell_type": "markdown",
   "id": "b3200cd0-ff0a-4f84-8665-a274150557f9",
   "metadata": {},
   "source": [
    "# TFIDF"
   ]
  },
  {
   "cell_type": "code",
   "execution_count": 10,
   "id": "36a18b4e-b7f9-41d0-8df1-f14431193c23",
   "metadata": {},
   "outputs": [],
   "source": [
    "from nltk.stem.porter import PorterStemmer\n",
    "from sklearn.feature_extraction.text import TfidfVectorizer"
   ]
  },
  {
   "cell_type": "code",
   "execution_count": 11,
   "id": "e2f6058d-6197-41cc-8661-de2b63e71c4a",
   "metadata": {},
   "outputs": [],
   "source": [
    "porter = PorterStemmer()\n",
    "\n",
    "def tokenizer_porter(text):\n",
    "    return [porter.stem(word) for word in text.split()]"
   ]
  },
  {
   "cell_type": "code",
   "execution_count": 12,
   "id": "02eb0afb-ba85-462c-9b75-f97e93a2800a",
   "metadata": {},
   "outputs": [],
   "source": [
    "tfidf = TfidfVectorizer(strip_accents=None,\n",
    "                        lowercase=False,\n",
    "                        preprocessor=None,\n",
    "                        tokenizer=tokenizer_porter,\n",
    "                        use_idf=True,\n",
    "                        norm='l2',\n",
    "                        smooth_idf=True)\n",
    "X = tfidf.fit_transform(df['Clean_Review'])\n",
    "y = df['posneg'].values"
   ]
  },
  {
   "cell_type": "code",
   "execution_count": 13,
   "id": "bb0627d7-55b3-4d6a-af58-7c79a6e1557d",
   "metadata": {},
   "outputs": [],
   "source": [
    "from sklearn.model_selection import train_test_split\n",
    "X_train, X_test, y_train, y_test = train_test_split(X, y, test_size=0.20, random_state=0, stratify=y)"
   ]
  },
  {
   "cell_type": "markdown",
   "id": "89b97655-6c90-4dee-8902-6d04b59abb19",
   "metadata": {},
   "source": [
    "## Random Forest"
   ]
  },
  {
   "cell_type": "code",
   "execution_count": 14,
   "id": "c9346c7f-c4cf-4475-bd14-a69e61d26e1c",
   "metadata": {},
   "outputs": [
    {
     "data": {
      "text/plain": [
       "RandomForestClassifier(random_state=42)"
      ]
     },
     "execution_count": 14,
     "metadata": {},
     "output_type": "execute_result"
    }
   ],
   "source": [
    "model = RandomForestClassifier(random_state=42)\n",
    "model.fit(X_train, y_train)"
   ]
  },
  {
   "cell_type": "code",
   "execution_count": 15,
   "id": "9a551a68-8856-48ae-808e-45edc169733a",
   "metadata": {},
   "outputs": [
    {
     "name": "stdout",
     "output_type": "stream",
     "text": [
      "---Test Set Results---\n",
      "Accuracy with logreg: 0.7531105147596975\n",
      "              precision    recall  f1-score   support\n",
      "\n",
      "           0       0.74      0.87      0.80      2288\n",
      "           1       0.78      0.61      0.69      1811\n",
      "\n",
      "    accuracy                           0.75      4099\n",
      "   macro avg       0.76      0.74      0.74      4099\n",
      "weighted avg       0.76      0.75      0.75      4099\n",
      "\n"
     ]
    }
   ],
   "source": [
    "from sklearn.metrics import classification_report, accuracy_score, confusion_matrix\n",
    "y_pred = model.predict(X_test)\n",
    "print(\"---Test Set Results---\")\n",
    "print(\"Accuracy with logreg: {}\".format(accuracy_score(y_test, y_pred)))\n",
    "print(classification_report(y_test, y_pred))"
   ]
  },
  {
   "cell_type": "code",
   "execution_count": 16,
   "id": "a3610f3d-ae86-4fd0-a394-ab1d127af7d2",
   "metadata": {},
   "outputs": [],
   "source": [
    "binary_predictions = []\n",
    "\n",
    "for i in y_pred:\n",
    "    if i >= 0.5:\n",
    "        binary_predictions.append(1)\n",
    "    else:\n",
    "        binary_predictions.append(0)"
   ]
  },
  {
   "cell_type": "code",
   "execution_count": 17,
   "id": "b1c7f3b6-d159-4b12-a6ca-81a6f5f30321",
   "metadata": {},
   "outputs": [
    {
     "data": {
      "image/png": "[encoded data removed]",
      "text/plain": [
       "<Figure size 720x432 with 2 Axes>"
      ]
     },
     "metadata": {
      "needs_background": "light"
     },
     "output_type": "display_data"
    }
   ],
   "source": [
    "import seaborn as sns\n",
    "matrix = confusion_matrix(binary_predictions, y_test, normalize='all')\n",
    "plt.figure(figsize=(10, 6))\n",
    "ax= plt.subplot()\n",
    "sns.heatmap(matrix, annot=True, ax = ax)\n",
    "\n",
    "# labels, title and ticks\n",
    "ax.set_xlabel('Predicted Labels', size=15)\n",
    "ax.set_ylabel('True Labels', size=15)\n",
    "ax.set_title('Confusion Matrix', size=15)\n",
    "ax.xaxis.set_ticklabels([0,1], size=15)\n",
    "ax.yaxis.set_ticklabels([0,1], size=15);"
   ]
  },
  {
   "cell_type": "markdown",
   "id": "22583ce8-e3c4-4e5a-a093-05361f3c222b",
   "metadata": {},
   "source": [
    "## Logistic Regression"
   ]
  },
  {
   "cell_type": "code",
   "execution_count": 18,
   "id": "42fc188a-3f5b-46c5-b453-d09511611a29",
   "metadata": {},
   "outputs": [],
   "source": [
    "from sklearn.linear_model import LogisticRegression"
   ]
  },
  {
   "cell_type": "code",
   "execution_count": 19,
   "id": "cfc3aa60-844b-4d67-b7fd-4d1b940d72e2",
   "metadata": {},
   "outputs": [],
   "source": [
    "clf = LogisticRegression(C=5, solver='liblinear').fit(X_train, y_train)"
   ]
  },
  {
   "cell_type": "code",
   "execution_count": 20,
   "id": "b1e916ee-4369-424d-8b7a-a33801103f39",
   "metadata": {},
   "outputs": [
    {
     "name": "stdout",
     "output_type": "stream",
     "text": [
      "---Test Set Results---\n",
      "Accuracy with logreg: 0.7901927299341303\n",
      "              precision    recall  f1-score   support\n",
      "\n",
      "           0       0.81      0.81      0.81      2288\n",
      "           1       0.76      0.77      0.76      1811\n",
      "\n",
      "    accuracy                           0.79      4099\n",
      "   macro avg       0.79      0.79      0.79      4099\n",
      "weighted avg       0.79      0.79      0.79      4099\n",
      "\n"
     ]
    }
   ],
   "source": [
    "from sklearn.metrics import classification_report, accuracy_score, confusion_matrix\n",
    "y_pred = clf.predict(X_test)\n",
    "print(\"---Test Set Results---\")\n",
    "print(\"Accuracy with logreg: {}\".format(accuracy_score(y_test, y_pred)))\n",
    "print(classification_report(y_test, y_pred))"
   ]
  },
  {
   "cell_type": "code",
   "execution_count": 21,
   "id": "539c3ab7-a2e7-423d-a6c9-284b8bbb9c53",
   "metadata": {},
   "outputs": [],
   "source": [
    "binary_predictions = []\n",
    "\n",
    "for i in y_pred:\n",
    "    if i >= 0.5:\n",
    "        binary_predictions.append(1)\n",
    "    else:\n",
    "        binary_predictions.append(0)"
   ]
  },
  {
   "cell_type": "code",
   "execution_count": 22,
   "id": "f201afcf-1ef7-4f2b-8e30-d6ea9e490799",
   "metadata": {},
   "outputs": [
    {
     "data": {
      "image/png": "[encoded data removed]",
      "text/plain": [
       "<Figure size 720x432 with 2 Axes>"
      ]
     },
     "metadata": {
      "needs_background": "light"
     },
     "output_type": "display_data"
    }
   ],
   "source": [
    "import seaborn as sns\n",
    "matrix = confusion_matrix(binary_predictions, y_test, normalize='all')\n",
    "plt.figure(figsize=(10, 6))\n",
    "ax= plt.subplot()\n",
    "sns.heatmap(matrix, annot=True, ax = ax)\n",
    "\n",
    "# labels, title and ticks\n",
    "ax.set_xlabel('Predicted Labels', size=15)\n",
    "ax.set_ylabel('True Labels', size=15)\n",
    "ax.set_title('Confusion Matrix', size=15)\n",
    "ax.xaxis.set_ticklabels([0,1], size=15)\n",
    "ax.yaxis.set_ticklabels([0,1], size=15);"
   ]
  },
  {
   "cell_type": "code",
   "execution_count": 23,
   "id": "67242ad0-1640-4b85-a1dc-906d39e9490c",
   "metadata": {},
   "outputs": [
    {
     "data": {
      "image/png": "[encoded data removed]",
      "text/plain": [
       "<Figure size 432x288 with 1 Axes>"
      ]
     },
     "metadata": {
      "needs_background": "light"
     },
     "output_type": "display_data"
    },
    {
     "name": "stdout",
     "output_type": "stream",
     "text": [
      "AUC score: 0.8749\n"
     ]
    }
   ],
   "source": [
    "from sklearn.metrics import roc_curve, roc_auc_score\n",
    "\n",
    "pred_prob1 = clf.predict_proba(X_test)\n",
    "\n",
    "auc_score1 = roc_auc_score(y_test, pred_prob1[:,1])\n",
    "\n",
    "\n",
    "fpr1, tpr1, thresh1 = roc_curve(y_test, pred_prob1[:,1], pos_label=1)\n",
    "\n",
    "# roc curve for tpr = fpr \n",
    "random_probs = [0 for i in range(len(y_test))]\n",
    "p_fpr, p_tpr, _ = roc_curve(y_test, random_probs, pos_label=1)\n",
    "\n",
    "# plot roc curves\n",
    "plt.plot(fpr1, tpr1, linestyle='--',color='orange', label='Logistic Regression')\n",
    "plt.plot(p_fpr, p_tpr, linestyle='--', color='blue')\n",
    "# title\n",
    "plt.title('ROC curve')\n",
    "# x label\n",
    "plt.xlabel('False Positive Rate')\n",
    "# y label\n",
    "plt.ylabel('True Positive rate')\n",
    "\n",
    "plt.legend(loc='best')\n",
    "plt.savefig('ROC',dpi=300)\n",
    "plt.show();\n",
    "\n",
    "print('AUC score:',round(auc_score1, 4))"
   ]
  },
  {
   "cell_type": "markdown",
   "id": "63621270-62b6-4a57-ad34-8520a270d1c9",
   "metadata": {},
   "source": [
    "# NN"
   ]
  },
  {
   "cell_type": "code",
   "execution_count": 24,
   "id": "68eb1a93-60bd-4523-9130-77c2c45fc624",
   "metadata": {},
   "outputs": [],
   "source": [
    "import tensorflow as tf\n",
    "import tensorflow_hub as hub\n",
    "import tensorflow_text as text\n",
    "\n",
    "from tensorflow.keras.preprocessing.text import Tokenizer"
   ]
  },
  {
   "cell_type": "code",
   "execution_count": 25,
   "id": "345851af-03a4-40b9-bebb-0a571e48b998",
   "metadata": {},
   "outputs": [],
   "source": [
    "bert_preprocess = hub.KerasLayer(\"https://tfhub.dev/tensorflow/bert_en_uncased_preprocess/3\")\n",
    "bert_encoder = hub.KerasLayer(\"https://tfhub.dev/tensorflow/small_bert/bert_en_uncased_L-2_H-128_A-2/2\")"
   ]
  },
  {
   "cell_type": "code",
   "execution_count": 26,
   "id": "c5749c69-86f5-4d58-92ee-581342af1e90",
   "metadata": {},
   "outputs": [],
   "source": [
    "X = df['Clean_Review']\n",
    "y = df['posneg'].values\n",
    "\n",
    "X_train, X_test, y_train, y_test = train_test_split(X, y, test_size=0.25, random_state=0, stratify=y)"
   ]
  },
  {
   "cell_type": "code",
   "execution_count": 27,
   "id": "8e3eec75-806c-4d4c-9d49-4940c56d53ef",
   "metadata": {},
   "outputs": [],
   "source": [
    "vocab_size = 100000\n",
    "embedding_dim = 64\n",
    "max_length = 128\n",
    "trunc_type = 'post'\n",
    "padding_type = 'post'\n",
    "oov_tok = '<OOV>'"
   ]
  },
  {
   "cell_type": "code",
   "execution_count": 28,
   "id": "8182abff-75dc-4b15-bce9-ce6d7100e9ff",
   "metadata": {},
   "outputs": [
    {
     "name": "stdout",
     "output_type": "stream",
     "text": [
      "Model: \"model\"\n",
      "__________________________________________________________________________________________________\n",
      " Layer (type)                   Output Shape         Param #     Connected to                     \n",
      "==================================================================================================\n",
      " text (InputLayer)              [(None,)]            0           []                               \n",
      "                                                                                                  \n",
      " keras_layer (KerasLayer)       {'input_word_ids':   0           ['text[0][0]']                   \n",
      "                                (None, 128),                                                      \n",
      "                                 'input_mask': (Non                                               \n",
      "                                e, 128),                                                          \n",
      "                                 'input_type_ids':                                                \n",
      "                                (None, 128)}                                                      \n",
      "                                                                                                  \n",
      " keras_layer_1 (KerasLayer)     {'encoder_outputs':  4385921     ['keras_layer[0][0]',            \n",
      "                                 [(None, 128, 128),               'keras_layer[0][1]',            \n",
      "                                 (None, 128, 128)],               'keras_layer[0][2]']            \n",
      "                                 'sequence_output':                                               \n",
      "                                 (None, 128, 128),                                                \n",
      "                                 'pooled_output': (                                               \n",
      "                                None, 128),                                                       \n",
      "                                 'default': (None,                                                \n",
      "                                128)}                                                             \n",
      "                                                                                                  \n",
      " dense (Dense)                  (None, 64)           8256        ['keras_layer_1[0][3]']          \n",
      "                                                                                                  \n",
      " dropout (Dropout)              (None, 64)           0           ['dense[0][0]']                  \n",
      "                                                                                                  \n",
      " dense_1 (Dense)                (None, 32)           2080        ['dropout[0][0]']                \n",
      "                                                                                                  \n",
      " dropout2 (Dropout)             (None, 32)           0           ['dense_1[0][0]']                \n",
      "                                                                                                  \n",
      " dense_2 (Dense)                (None, 16)           528         ['dropout2[0][0]']               \n",
      "                                                                                                  \n",
      " output (Dense)                 (None, 1)            17          ['dense_2[0][0]']                \n",
      "                                                                                                  \n",
      "==================================================================================================\n",
      "Total params: 4,396,802\n",
      "Trainable params: 10,881\n",
      "Non-trainable params: 4,385,921\n",
      "__________________________________________________________________________________________________\n"
     ]
    }
   ],
   "source": [
    "# Bert layers\n",
    "text_input = tf.keras.layers.Input(shape=(), dtype=tf.string, name='text')\n",
    "preprocessed_text = bert_preprocess(text_input)\n",
    "outputs = bert_encoder(preprocessed_text)\n",
    "\n",
    "# Neural network layers\n",
    "hidden1 = tf.keras.layers.Dense(64, activation='sigmoid')(outputs['pooled_output'])\n",
    "dropout1 = tf.keras.layers.Dropout(0.1, name=\"dropout\")(hidden1)\n",
    "hidden2 = tf.keras.layers.Dense(32, activation='sigmoid')(dropout1)\n",
    "dropout2 = tf.keras.layers.Dropout(0.1, name=\"dropout2\")(hidden2)\n",
    "hidden3 = tf.keras.layers.Dense(16, activation='sigmoid')(dropout2)\n",
    "l = tf.keras.layers.Dense(1, activation='sigmoid', name=\"output\")(hidden3)\n",
    "\n",
    "# l = tf.keras.layers.Dropout(0.1, name=\"dropout\")(outputs['pooled_output'])\n",
    "# l = tf.keras.layers.Dense(1, activation='sigmoid', name=\"output\")(l)\n",
    "\n",
    "# Use inputs and outputs to construct a final model\n",
    "model = tf.keras.Model(inputs=[text_input], outputs = [l])\n",
    "\n",
    "model.summary()"
   ]
  },
  {
   "cell_type": "code",
   "execution_count": 29,
   "id": "483b3770-8108-4a15-bbe6-9bf71250adf9",
   "metadata": {},
   "outputs": [],
   "source": [
    "early_stop = tf.keras.callbacks.EarlyStopping(monitor='val_loss', patience=2, restore_best_weights=True)\n",
    "METRICS = [tf.keras.metrics.BinaryAccuracy(name='accuracy')]\n",
    "model.compile(loss=tf.keras.losses.BinaryCrossentropy(), optimizer=tf.keras.optimizers.Adam(1e-4), metrics=METRICS)"
   ]
  },
  {
   "cell_type": "code",
   "execution_count": 30,
   "id": "d9a8c163-381a-474c-846a-1d5920a2976e",
   "metadata": {},
   "outputs": [
    {
     "name": "stdout",
     "output_type": "stream",
     "text": [
      "Epoch 1/10\n",
      "154/154 [==============================] - 70s 444ms/step - loss: 0.6870 - accuracy: 0.5573 - val_loss: 0.6855 - val_accuracy: 0.5581\n",
      "Epoch 2/10\n",
      "154/154 [==============================] - 69s 446ms/step - loss: 0.6851 - accuracy: 0.5581 - val_loss: 0.6846 - val_accuracy: 0.5581\n",
      "Epoch 3/10\n",
      "154/154 [==============================] - 73s 472ms/step - loss: 0.6845 - accuracy: 0.5581 - val_loss: 0.6834 - val_accuracy: 0.5581\n",
      "Epoch 4/10\n",
      "154/154 [==============================] - 68s 440ms/step - loss: 0.6836 - accuracy: 0.5582 - val_loss: 0.6819 - val_accuracy: 0.5581\n",
      "Epoch 5/10\n",
      "154/154 [==============================] - 65s 426ms/step - loss: 0.6813 - accuracy: 0.5588 - val_loss: 0.6798 - val_accuracy: 0.5581\n",
      "Epoch 6/10\n",
      "154/154 [==============================] - 69s 452ms/step - loss: 0.6785 - accuracy: 0.5598 - val_loss: 0.6770 - val_accuracy: 0.5581\n",
      "Epoch 7/10\n",
      "154/154 [==============================] - 66s 431ms/step - loss: 0.6756 - accuracy: 0.5609 - val_loss: 0.6733 - val_accuracy: 0.5579\n",
      "Epoch 8/10\n",
      "154/154 [==============================] - 66s 427ms/step - loss: 0.6717 - accuracy: 0.5698 - val_loss: 0.6688 - val_accuracy: 0.5795\n",
      "Epoch 9/10\n",
      "154/154 [==============================] - 69s 447ms/step - loss: 0.6657 - accuracy: 0.5873 - val_loss: 0.6629 - val_accuracy: 0.5727\n",
      "Epoch 10/10\n",
      "154/154 [==============================] - 62s 402ms/step - loss: 0.6597 - accuracy: 0.5990 - val_loss: 0.6559 - val_accuracy: 0.6045\n"
     ]
    }
   ],
   "source": [
    "history = model.fit(X_train, y_train, epochs=10, validation_data=(X_test, y_test), batch_size=100, shuffle=True, callbacks=[early_stop])"
   ]
  },
  {
   "cell_type": "code",
   "execution_count": 31,
   "id": "7326e56a-484a-476e-bde8-d1de53a66e6c",
   "metadata": {},
   "outputs": [
    {
     "data": {
      "image/png": "[encoded data removed]",
      "text/plain": [
       "<Figure size 432x288 with 1 Axes>"
      ]
     },
     "metadata": {
      "needs_background": "light"
     },
     "output_type": "display_data"
    }
   ],
   "source": [
    "# summarize history for accuracy\n",
    "plt.plot(history.history['accuracy'])\n",
    "plt.plot(history.history['val_accuracy'])\n",
    "plt.title('model accuracy')\n",
    "plt.ylabel('accuracy')\n",
    "plt.xlabel('epoch')\n",
    "plt.legend(['train', 'test'], loc='upper left')\n",
    "plt.show()"
   ]
  },
  {
   "cell_type": "code",
   "execution_count": 32,
   "id": "d50cb0a1-de85-4a49-912d-d535846e08fa",
   "metadata": {},
   "outputs": [
    {
     "data": {
      "image/png": "[encoded data removed]",
      "text/plain": [
       "<Figure size 432x288 with 1 Axes>"
      ]
     },
     "metadata": {
      "needs_background": "light"
     },
     "output_type": "display_data"
    }
   ],
   "source": [
    "# summarize history for loss\n",
    "plt.plot(history.history['loss'])\n",
    "plt.plot(history.history['val_loss'])\n",
    "plt.title('model loss')\n",
    "plt.ylabel('loss')\n",
    "plt.xlabel('epoch')\n",
    "plt.legend(['train', 'test'], loc='upper left')\n",
    "plt.show()"
   ]
  },
  {
   "cell_type": "code",
   "execution_count": 33,
   "id": "0d0e357e-143a-4d74-9645-5efb384f6418",
   "metadata": {},
   "outputs": [
    {
     "name": "stdout",
     "output_type": "stream",
     "text": [
      "161/161 [==============================] - 16s 97ms/step\n"
     ]
    }
   ],
   "source": [
    "from sklearn.metrics import classification_report, accuracy_score, confusion_matrix\n",
    "y_pred = model.predict(X_test)"
   ]
  },
  {
   "cell_type": "code",
   "execution_count": 34,
   "id": "2a9508d2-ec2c-4032-aefc-79fff4dbc280",
   "metadata": {},
   "outputs": [],
   "source": [
    "binary_predictions = []\n",
    "\n",
    "for i in y_pred:\n",
    "    if i >= 0.5:\n",
    "        binary_predictions.append(1)\n",
    "    else:\n",
    "        binary_predictions.append(0)"
   ]
  },
  {
   "cell_type": "code",
   "execution_count": 35,
   "id": "8ce51d94-a74d-4c14-ba25-e7a586aa95e5",
   "metadata": {},
   "outputs": [
    {
     "name": "stdout",
     "output_type": "stream",
     "text": [
      "---Test Set Results---\n",
      "Accuracy with LSTM: 0.6045285965254733\n",
      "              precision    recall  f1-score   support\n",
      "\n",
      "           0       0.59      0.95      0.73      2859\n",
      "           1       0.72      0.17      0.28      2264\n",
      "\n",
      "    accuracy                           0.60      5123\n",
      "   macro avg       0.66      0.56      0.50      5123\n",
      "weighted avg       0.65      0.60      0.53      5123\n",
      "\n"
     ]
    }
   ],
   "source": [
    "print(\"---Test Set Results---\")\n",
    "print(\"Accuracy with NN: {}\".format(accuracy_score(y_test, binary_predictions)))"
   ]
  },
  {
   "cell_type": "code",
   "execution_count": 36,
   "id": "05c8b3d5-b8f4-4423-83b7-fd76d1297962",
   "metadata": {},
   "outputs": [
    {
     "data": {
      "image/png": "[encoded data removed]",
      "text/plain": [
       "<Figure size 720x432 with 2 Axes>"
      ]
     },
     "metadata": {
      "needs_background": "light"
     },
     "output_type": "display_data"
    }
   ],
   "source": [
    "import matplotlib.pyplot as plt\n",
    "import seaborn as sns\n",
    "matrix = confusion_matrix(binary_predictions, y_test, normalize='all')\n",
    "plt.figure(figsize=(10, 6))\n",
    "ax= plt.subplot()\n",
    "sns.heatmap(matrix, annot=True, ax = ax)\n",
    "\n",
    "# labels, title and ticks\n",
    "ax.set_xlabel('Predicted Labels', size=15)\n",
    "ax.set_ylabel('True Labels', size=15)\n",
    "ax.set_title('Confusion Matrix', size=15)\n",
    "ax.xaxis.set_ticklabels([0,1], size=15)\n",
    "ax.yaxis.set_ticklabels([0,1], size=15);"
   ]
  },
  {
   "cell_type": "code",
   "execution_count": 37,
   "id": "0b295738-f10e-463d-b119-151621ff91b2",
   "metadata": {},
   "outputs": [
    {
     "data": {
      "image/png": "[encoded data removed]",
      "text/plain": [
       "<Figure size 432x288 with 1 Axes>"
      ]
     },
     "metadata": {
      "needs_background": "light"
     },
     "output_type": "display_data"
    },
    {
     "name": "stdout",
     "output_type": "stream",
     "text": [
      "AUC score: 0.6965\n"
     ]
    }
   ],
   "source": [
    "from sklearn.metrics import roc_curve, roc_auc_score, auc\n",
    "\n",
    "fpr_keras, tpr_keras, thresholds_keras = roc_curve(y_test, y_pred)\n",
    "\n",
    "auc_score1 = auc(fpr_keras, tpr_keras)\n",
    "\n",
    "# plot roc curves\n",
    "# plt.plot(fpr1, tpr1, linestyle='--',color='orange', label='Logistic Regression')\n",
    "plt.plot(fpr_keras, tpr_keras, linestyle='--',color='red', label='NN')\n",
    "plt.plot(p_fpr, p_tpr, linestyle='--', color='blue')\n",
    "# title\n",
    "plt.title('ROC curve')\n",
    "# x label\n",
    "plt.xlabel('False Positive Rate')\n",
    "# y label\n",
    "plt.ylabel('True Positive rate')\n",
    "\n",
    "plt.legend(loc='best')\n",
    "plt.show();\n",
    "\n",
    "print('AUC score:',round(auc_score1, 4))"
   ]
  },
  {
   "cell_type": "markdown",
   "id": "b97b66c7-1def-42bf-809a-faf495c9ba3d",
   "metadata": {},
   "source": [
    "## LSTM"
   ]
  },
  {
   "cell_type": "code",
   "execution_count": 38,
   "id": "bbbadc54-4321-43cf-90f3-67b080f4ec3b",
   "metadata": {},
   "outputs": [
    {
     "name": "stdout",
     "output_type": "stream",
     "text": [
      "Model: \"model_1\"\n",
      "__________________________________________________________________________________________________\n",
      " Layer (type)                   Output Shape         Param #     Connected to                     \n",
      "==================================================================================================\n",
      " text (InputLayer)              [(None,)]            0           []                               \n",
      "                                                                                                  \n",
      " keras_layer (KerasLayer)       {'input_word_ids':   0           ['text[0][0]']                   \n",
      "                                (None, 128),                                                      \n",
      "                                 'input_mask': (Non                                               \n",
      "                                e, 128),                                                          \n",
      "                                 'input_type_ids':                                                \n",
      "                                (None, 128)}                                                      \n",
      "                                                                                                  \n",
      " keras_layer_1 (KerasLayer)     {'encoder_outputs':  4385921     ['keras_layer[1][0]',            \n",
      "                                 [(None, 128, 128),               'keras_layer[1][1]',            \n",
      "                                 (None, 128, 128)],               'keras_layer[1][2]']            \n",
      "                                 'sequence_output':                                               \n",
      "                                 (None, 128, 128),                                                \n",
      "                                 'pooled_output': (                                               \n",
      "                                None, 128),                                                       \n",
      "                                 'default': (None,                                                \n",
      "                                128)}                                                             \n",
      "                                                                                                  \n",
      " bidirectional (Bidirectional)  (None, 128, 128)     98816       ['keras_layer_1[1][4]']          \n",
      "                                                                                                  \n",
      " dropout (Dropout)              (None, 128, 128)     0           ['bidirectional[0][0]']          \n",
      "                                                                                                  \n",
      " bidirectional_1 (Bidirectional  (None, 64)          41216       ['dropout[0][0]']                \n",
      " )                                                                                                \n",
      "                                                                                                  \n",
      " dropout2 (Dropout)             (None, 64)           0           ['bidirectional_1[0][0]']        \n",
      "                                                                                                  \n",
      " dense_3 (Dense)                (None, 16)           1040        ['dropout2[0][0]']               \n",
      "                                                                                                  \n",
      " output (Dense)                 (None, 1)            17          ['dense_3[0][0]']                \n",
      "                                                                                                  \n",
      "==================================================================================================\n",
      "Total params: 4,527,010\n",
      "Trainable params: 141,089\n",
      "Non-trainable params: 4,385,921\n",
      "__________________________________________________________________________________________________\n"
     ]
    }
   ],
   "source": [
    "# Bert layers\n",
    "text_input = tf.keras.layers.Input(shape=(), dtype=tf.string, name='text')\n",
    "preprocessed_text = bert_preprocess(text_input)\n",
    "outputs = bert_encoder(preprocessed_text)\n",
    "\n",
    "# Neural network layers\n",
    "hidden1 = tf.keras.layers.Bidirectional(tf.keras.layers.LSTM(embedding_dim, return_sequences=True))(outputs['sequence_output'])\n",
    "dropout1 = tf.keras.layers.Dropout(0.1, name=\"dropout\")(hidden1)\n",
    "hidden2 = tf.keras.layers.Bidirectional(tf.keras.layers.LSTM(32))(dropout1)\n",
    "dropout2 = tf.keras.layers.Dropout(0.1, name=\"dropout2\")(hidden2)\n",
    "hidden3 = tf.keras.layers.Dense(16, activation='sigmoid')(dropout2)\n",
    "l = tf.keras.layers.Dense(1, activation='sigmoid', name=\"output\")(hidden3)\n",
    "\n",
    "# Use inputs and outputs to construct a final model\n",
    "model = tf.keras.Model(inputs=[text_input], outputs = [l])\n",
    "model.summary()"
   ]
  },
  {
   "cell_type": "code",
   "execution_count": 39,
   "id": "6d69067f-4b40-4f54-9735-f3cd8d01e056",
   "metadata": {},
   "outputs": [],
   "source": [
    "early_stop = tf.keras.callbacks.EarlyStopping(monitor='val_loss', patience=2, restore_best_weights=True)\n",
    "METRICS = [tf.keras.metrics.BinaryAccuracy(name='accuracy')]\n",
    "model.compile(loss=tf.keras.losses.BinaryCrossentropy(), optimizer=tf.keras.optimizers.Adam(1e-4), metrics=METRICS)"
   ]
  },
  {
   "cell_type": "code",
   "execution_count": 40,
   "id": "631013a2-118f-412d-a6d5-7d1a90378801",
   "metadata": {},
   "outputs": [
    {
     "name": "stdout",
     "output_type": "stream",
     "text": [
      "Epoch 1/10\n",
      "462/462 [==============================] - 113s 234ms/step - loss: 0.6117 - accuracy: 0.6660 - val_loss: 0.5743 - val_accuracy: 0.7098\n",
      "Epoch 2/10\n",
      "462/462 [==============================] - 108s 235ms/step - loss: 0.5561 - accuracy: 0.7214 - val_loss: 0.5497 - val_accuracy: 0.7261\n",
      "Epoch 3/10\n",
      "462/462 [==============================] - 105s 228ms/step - loss: 0.5367 - accuracy: 0.7385 - val_loss: 0.5377 - val_accuracy: 0.7378\n",
      "Epoch 4/10\n",
      "462/462 [==============================] - 104s 226ms/step - loss: 0.5238 - accuracy: 0.7467 - val_loss: 0.5336 - val_accuracy: 0.7358\n",
      "Epoch 5/10\n",
      "462/462 [==============================] - 105s 227ms/step - loss: 0.5144 - accuracy: 0.7509 - val_loss: 0.5267 - val_accuracy: 0.7326\n",
      "Epoch 6/10\n",
      "462/462 [==============================] - 111s 241ms/step - loss: 0.5037 - accuracy: 0.7605 - val_loss: 0.5214 - val_accuracy: 0.7404\n",
      "Epoch 7/10\n",
      "462/462 [==============================] - 105s 227ms/step - loss: 0.4963 - accuracy: 0.7645 - val_loss: 0.5217 - val_accuracy: 0.7404\n",
      "Epoch 8/10\n",
      "462/462 [==============================] - 105s 228ms/step - loss: 0.4864 - accuracy: 0.7713 - val_loss: 0.5224 - val_accuracy: 0.7417\n"
     ]
    }
   ],
   "source": [
    "history = model.fit(X_train, y_train, epochs=10,validation_split=0.1, batch_size=30, shuffle=True, callbacks=[early_stop])"
   ]
  },
  {
   "cell_type": "code",
   "execution_count": 41,
   "id": "e220d3be-5bf3-4568-a9ed-1d4d8931f0e6",
   "metadata": {},
   "outputs": [
    {
     "data": {
      "image/png": "[encoded data removed]",
      "text/plain": [
       "<Figure size 432x288 with 1 Axes>"
      ]
     },
     "metadata": {
      "needs_background": "light"
     },
     "output_type": "display_data"
    },
    {
     "data": {
      "image/png": "[encoded data removed]",
      "text/plain": [
       "<Figure size 432x288 with 1 Axes>"
      ]
     },
     "metadata": {
      "needs_background": "light"
     },
     "output_type": "display_data"
    }
   ],
   "source": [
    "history_dict = history.history\n",
    "\n",
    "acc = history_dict['accuracy']\n",
    "val_acc = history_dict['val_accuracy']\n",
    "loss = history_dict['loss']\n",
    "val_loss = history_dict['val_loss']\n",
    "epochs = history.epoch\n",
    "\n",
    "# plt.figure(figsize=(10,6))\n",
    "plt.plot(epochs, loss, 'r', label='Training loss')\n",
    "plt.plot(epochs, val_loss, 'b', label='Validation loss')\n",
    "plt.title('Training and validation loss', size=15)\n",
    "plt.xlabel('Epochs', size=15)\n",
    "plt.ylabel('Loss', size=15)\n",
    "plt.legend(prop={'size': 15})\n",
    "plt.show()\n",
    "\n",
    "# plt.figure(figsize=(10,6))\n",
    "plt.plot(epochs, acc, 'g', label='Training acc')\n",
    "plt.plot(epochs, val_acc, 'b', label='Validation acc')\n",
    "plt.title('Training and validation accuracy', size=15)\n",
    "plt.xlabel('Epochs', size=15)\n",
    "plt.ylabel('Accuracy', size=15)\n",
    "plt.legend(prop={'size': 15})\n",
    "plt.ylim((0.5,1))\n",
    "plt.show()"
   ]
  },
  {
   "cell_type": "code",
   "execution_count": 42,
   "id": "3c985689-2725-4aaf-9cbf-b6de9678df8e",
   "metadata": {},
   "outputs": [
    {
     "name": "stdout",
     "output_type": "stream",
     "text": [
      "161/161 [==============================] - 23s 136ms/step\n"
     ]
    }
   ],
   "source": [
    "from sklearn.metrics import classification_report, accuracy_score, confusion_matrix\n",
    "pred = model.predict(X_test)\n",
    "\n",
    "binary_predictions = []\n",
    "\n",
    "for i in pred:\n",
    "    if i >= 0.5:\n",
    "        binary_predictions.append(1)\n",
    "    else:\n",
    "        binary_predictions.append(0)"
   ]
  },
  {
   "cell_type": "code",
   "execution_count": 43,
   "id": "64e1dae3-f456-4581-b6f6-b6063bc0e972",
   "metadata": {},
   "outputs": [
    {
     "name": "stdout",
     "output_type": "stream",
     "text": [
      "---Test Set Results---\n",
      "Accuracy: 0.7431\n"
     ]
    },
    {
     "data": {
      "image/png": "[encoded data removed]",
      "text/plain": [
       "<Figure size 720x432 with 2 Axes>"
      ]
     },
     "metadata": {
      "needs_background": "light"
     },
     "output_type": "display_data"
    }
   ],
   "source": [
    "import seaborn as sns\n",
    "print(\"---Test Set Results---\")\n",
    "matrix = confusion_matrix(binary_predictions, y_test, normalize='all')\n",
    "plt.figure(figsize=(10, 6))\n",
    "ax= plt.subplot()\n",
    "sns.heatmap(matrix, annot=True, ax = ax)\n",
    "\n",
    "# labels, title and ticks\n",
    "ax.set_xlabel('Predicted Labels', size=15)\n",
    "ax.set_ylabel('True Labels', size=15)\n",
    "ax.set_title('Confusion Matrix', size=15)\n",
    "ax.xaxis.set_ticklabels([0,1], size=15)\n",
    "ax.yaxis.set_ticklabels([0,1], size=15);\n",
    "\n",
    "print(\"Accuracy: {:.4f}\".format(accuracy_score(y_test, binary_predictions)))"
   ]
  },
  {
   "cell_type": "code",
   "execution_count": 46,
   "id": "cec7359a-1416-4a45-a61c-db78732a4a97",
   "metadata": {},
   "outputs": [
    {
     "data": {
      "image/png": "[encoded data removed]",
      "text/plain": [
       "<Figure size 432x288 with 1 Axes>"
      ]
     },
     "metadata": {
      "needs_background": "light"
     },
     "output_type": "display_data"
    },
    {
     "name": "stdout",
     "output_type": "stream",
     "text": [
      "AUC score: 0.8186\n"
     ]
    }
   ],
   "source": [
    "from sklearn.metrics import roc_curve, roc_auc_score, auc\n",
    "\n",
    "fpr_keras, tpr_keras, thresholds_keras = roc_curve(y_test, pred)\n",
    "\n",
    "auc_score1 = auc(fpr_keras, tpr_keras)\n",
    "\n",
    "# plot roc curves\n",
    "# plt.plot(fpr1, tpr1, linestyle='--',color='orange', label='Logistic Regression')\n",
    "plt.plot(fpr_keras, tpr_keras, linestyle='--',color='red', label='LSTM')\n",
    "plt.plot(p_fpr, p_tpr, linestyle='--', color='blue')\n",
    "# title\n",
    "plt.title('ROC curve')\n",
    "# x label\n",
    "plt.xlabel('False Positive Rate')\n",
    "# y label\n",
    "plt.ylabel('True Positive rate')\n",
    "\n",
    "plt.legend(loc='best')\n",
    "plt.show();\n",
    "\n",
    "print('AUC score:',round(auc_score1, 4))"
   ]
  },
  {
   "cell_type": "code",
   "execution_count": null,
   "id": "50e0a101-8341-4dc6-956c-8b1461682c65",
   "metadata": {},
   "outputs": [],
   "source": []
  }
 ],
 "metadata": {
  "kernelspec": {
   "display_name": "Python 3 (ipykernel)",
   "language": "python",
   "name": "python3"
  },
  "language_info": {
   "codemirror_mode": {
    "name": "ipython",
    "version": 3
   },
   "file_extension": ".py",
   "mimetype": "text/x-python",
   "name": "python",
   "nbconvert_exporter": "python",
   "pygments_lexer": "ipython3",
   "version": "3.9.12"
  }
 },
 "nbformat": 4,
 "nbformat_minor": 5
}
