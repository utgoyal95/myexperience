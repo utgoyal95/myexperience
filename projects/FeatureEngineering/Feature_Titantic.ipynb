{
 "cells": [
  {
   "cell_type": "code",
   "execution_count": 36,
   "metadata": {
    "id": "U4mkfVcn9IC3"
   },
   "outputs": [],
   "source": [
    "import pandas as pd\n",
    "import featuretools as ft\n",
    "\n",
    "#Data Visualization\n",
    "from matplotlib import pyplot as plt\n",
    "get_ipython().run_line_magic('matplotlib', 'inline')\n",
    "plt.style.available\n",
    "import seaborn as sns\n",
    "plt.style.use('ggplot') \n",
    "sns.set()\n",
    "\n",
    "import warnings\n",
    "warnings.filterwarnings('ignore')"
   ]
  },
  {
   "cell_type": "code",
   "execution_count": 2,
   "metadata": {
    "id": "tbMn_GQw9Mfa"
   },
   "outputs": [],
   "source": [
    "train = pd.read_csv(r'../titantic_train.csv')\n",
    "# test = pd.read_csv('/content/drive/My Drive/Colab Notebooks/test.csv')"
   ]
  },
  {
   "cell_type": "code",
   "execution_count": 3,
   "metadata": {},
   "outputs": [
    {
     "data": {
      "text/html": [
       "<div>\n",
       "<style scoped>\n",
       "    .dataframe tbody tr th:only-of-type {\n",
       "        vertical-align: middle;\n",
       "    }\n",
       "\n",
       "    .dataframe tbody tr th {\n",
       "        vertical-align: top;\n",
       "    }\n",
       "\n",
       "    .dataframe thead th {\n",
       "        text-align: right;\n",
       "    }\n",
       "</style>\n",
       "<table border=\"1\" class=\"dataframe\">\n",
       "  <thead>\n",
       "    <tr style=\"text-align: right;\">\n",
       "      <th></th>\n",
       "      <th>PassengerId</th>\n",
       "      <th>Survived</th>\n",
       "      <th>Pclass</th>\n",
       "      <th>Name</th>\n",
       "      <th>Sex</th>\n",
       "      <th>Age</th>\n",
       "      <th>SibSp</th>\n",
       "      <th>Parch</th>\n",
       "      <th>Ticket</th>\n",
       "      <th>Fare</th>\n",
       "      <th>Cabin</th>\n",
       "      <th>Embarked</th>\n",
       "    </tr>\n",
       "  </thead>\n",
       "  <tbody>\n",
       "    <tr>\n",
       "      <th>0</th>\n",
       "      <td>1</td>\n",
       "      <td>0</td>\n",
       "      <td>3</td>\n",
       "      <td>Braund, Mr. Owen Harris</td>\n",
       "      <td>male</td>\n",
       "      <td>22.0</td>\n",
       "      <td>1</td>\n",
       "      <td>0</td>\n",
       "      <td>A/5 21171</td>\n",
       "      <td>7.2500</td>\n",
       "      <td>NaN</td>\n",
       "      <td>S</td>\n",
       "    </tr>\n",
       "    <tr>\n",
       "      <th>1</th>\n",
       "      <td>2</td>\n",
       "      <td>1</td>\n",
       "      <td>1</td>\n",
       "      <td>Cumings, Mrs. John Bradley (Florence Briggs Th...</td>\n",
       "      <td>female</td>\n",
       "      <td>38.0</td>\n",
       "      <td>1</td>\n",
       "      <td>0</td>\n",
       "      <td>PC 17599</td>\n",
       "      <td>71.2833</td>\n",
       "      <td>C85</td>\n",
       "      <td>C</td>\n",
       "    </tr>\n",
       "    <tr>\n",
       "      <th>2</th>\n",
       "      <td>3</td>\n",
       "      <td>1</td>\n",
       "      <td>3</td>\n",
       "      <td>Heikkinen, Miss. Laina</td>\n",
       "      <td>female</td>\n",
       "      <td>26.0</td>\n",
       "      <td>0</td>\n",
       "      <td>0</td>\n",
       "      <td>STON/O2. 3101282</td>\n",
       "      <td>7.9250</td>\n",
       "      <td>NaN</td>\n",
       "      <td>S</td>\n",
       "    </tr>\n",
       "    <tr>\n",
       "      <th>3</th>\n",
       "      <td>4</td>\n",
       "      <td>1</td>\n",
       "      <td>1</td>\n",
       "      <td>Futrelle, Mrs. Jacques Heath (Lily May Peel)</td>\n",
       "      <td>female</td>\n",
       "      <td>35.0</td>\n",
       "      <td>1</td>\n",
       "      <td>0</td>\n",
       "      <td>113803</td>\n",
       "      <td>53.1000</td>\n",
       "      <td>C123</td>\n",
       "      <td>S</td>\n",
       "    </tr>\n",
       "    <tr>\n",
       "      <th>4</th>\n",
       "      <td>5</td>\n",
       "      <td>0</td>\n",
       "      <td>3</td>\n",
       "      <td>Allen, Mr. William Henry</td>\n",
       "      <td>male</td>\n",
       "      <td>35.0</td>\n",
       "      <td>0</td>\n",
       "      <td>0</td>\n",
       "      <td>373450</td>\n",
       "      <td>8.0500</td>\n",
       "      <td>NaN</td>\n",
       "      <td>S</td>\n",
       "    </tr>\n",
       "  </tbody>\n",
       "</table>\n",
       "</div>"
      ],
      "text/plain": [
       "   PassengerId  Survived  Pclass  \\\n",
       "0            1         0       3   \n",
       "1            2         1       1   \n",
       "2            3         1       3   \n",
       "3            4         1       1   \n",
       "4            5         0       3   \n",
       "\n",
       "                                                Name     Sex   Age  SibSp  \\\n",
       "0                            Braund, Mr. Owen Harris    male  22.0      1   \n",
       "1  Cumings, Mrs. John Bradley (Florence Briggs Th...  female  38.0      1   \n",
       "2                             Heikkinen, Miss. Laina  female  26.0      0   \n",
       "3       Futrelle, Mrs. Jacques Heath (Lily May Peel)  female  35.0      1   \n",
       "4                           Allen, Mr. William Henry    male  35.0      0   \n",
       "\n",
       "   Parch            Ticket     Fare Cabin Embarked  \n",
       "0      0         A/5 21171   7.2500   NaN        S  \n",
       "1      0          PC 17599  71.2833   C85        C  \n",
       "2      0  STON/O2. 3101282   7.9250   NaN        S  \n",
       "3      0            113803  53.1000  C123        S  \n",
       "4      0            373450   8.0500   NaN        S  "
      ]
     },
     "execution_count": 3,
     "metadata": {},
     "output_type": "execute_result"
    }
   ],
   "source": [
    "train.head()"
   ]
  },
  {
   "cell_type": "code",
   "execution_count": 4,
   "metadata": {},
   "outputs": [],
   "source": [
    "train['Pclass'] = train['Pclass'].map(str)"
   ]
  },
  {
   "cell_type": "code",
   "execution_count": 5,
   "metadata": {
    "id": "fXHwscXe-bAz"
   },
   "outputs": [],
   "source": [
    "train_test_data = [train] # combining train and test dataset\n",
    "\n",
    "for dataset in train_test_data:\n",
    "  dataset['Title'] = dataset['Name'].str.extract(' ([A-Za-z]+)\\.', expand=False)"
   ]
  },
  {
   "cell_type": "code",
   "execution_count": 6,
   "metadata": {
    "id": "DOwDqeOn-bWB"
   },
   "outputs": [],
   "source": [
    "title_mapping = {\"Mr\": \"Mr\", \"Miss\": \"Miss\", \"Mrs\": \"Mrs\", \n",
    "                 \"Master\": \"Other\", \"Dr\": \"Other\", \"Rev\": \"Other\", \"Col\": \"Other\", \"Major\": \"Other\", \"Mlle\": \"Other\",\"Countess\": \"Other\",\n",
    "                 \"Ms\": \"Other\", \"Lady\": \"Other\", \"Jonkheer\": \"Other\", \"Don\": \"Other\", \"Dona\" : \"Other\", \"Mme\": \"Other\",\"Capt\": \"Other\",\"Sir\": \"Other\" }\n",
    "for dataset in train_test_data:\n",
    "    dataset['Title'] = dataset['Title'].map(title_mapping)"
   ]
  },
  {
   "cell_type": "code",
   "execution_count": 7,
   "metadata": {
    "id": "gxc_wOS-_0XQ"
   },
   "outputs": [],
   "source": [
    "train.drop('Name', axis=1, inplace=True)\n",
    "# test.drop('Name', axis=1, inplace=True)"
   ]
  },
  {
   "cell_type": "code",
   "execution_count": 8,
   "metadata": {
    "id": "E3mmZzXL_0UT"
   },
   "outputs": [],
   "source": [
    "sex_mapping = {\"male\": 0, \"female\": 1}\n",
    "for dataset in train_test_data:\n",
    "    dataset['Sex'] = dataset['Sex'].map(sex_mapping)"
   ]
  },
  {
   "cell_type": "code",
   "execution_count": 9,
   "metadata": {
    "id": "jjh-WX6C_0SH"
   },
   "outputs": [],
   "source": [
    "train[\"Age\"].fillna(train.groupby(\"Title\")[\"Age\"].transform(\"median\"), inplace=True)\n",
    "# test[\"Age\"].fillna(test.groupby(\"Title\")[\"Age\"].transform(\"median\"), inplace=True)"
   ]
  },
  {
   "cell_type": "code",
   "execution_count": 10,
   "metadata": {
    "id": "xJ62gNok_0M0"
   },
   "outputs": [],
   "source": [
    "for dataset in train_test_data:\n",
    "    dataset['Embarked'] = dataset['Embarked'].fillna('S')"
   ]
  },
  {
   "cell_type": "code",
   "execution_count": 11,
   "metadata": {
    "id": "bFq03xHA_0Ll"
   },
   "outputs": [],
   "source": [
    "# embarked_mapping = {\"S\": 0, \"C\": 1, \"Q\": 2}\n",
    "# for dataset in train_test_data:\n",
    "#     dataset['Embarked'] = dataset['Embarked'].map(embarked_mapping)"
   ]
  },
  {
   "cell_type": "code",
   "execution_count": 12,
   "metadata": {
    "id": "1EG7rYB9_0H_"
   },
   "outputs": [],
   "source": [
    "train[\"Fare\"].fillna(train.groupby(\"Pclass\")[\"Fare\"].transform(\"median\"), inplace=True)\n",
    "# test[\"Fare\"].fillna(test.groupby(\"Pclass\")[\"Fare\"].transform(\"median\"), inplace=True)"
   ]
  },
  {
   "cell_type": "code",
   "execution_count": 13,
   "metadata": {
    "id": "SLGqA6qgAqtw"
   },
   "outputs": [],
   "source": [
    "train[\"FamilySize\"] = train[\"SibSp\"] + train[\"Parch\"] + 1\n",
    "# test[\"FamilySize\"] = test[\"SibSp\"] + test[\"Parch\"] + 1"
   ]
  },
  {
   "cell_type": "code",
   "execution_count": 14,
   "metadata": {},
   "outputs": [
    {
     "data": {
      "text/html": [
       "<div>\n",
       "<style scoped>\n",
       "    .dataframe tbody tr th:only-of-type {\n",
       "        vertical-align: middle;\n",
       "    }\n",
       "\n",
       "    .dataframe tbody tr th {\n",
       "        vertical-align: top;\n",
       "    }\n",
       "\n",
       "    .dataframe thead th {\n",
       "        text-align: right;\n",
       "    }\n",
       "</style>\n",
       "<table border=\"1\" class=\"dataframe\">\n",
       "  <thead>\n",
       "    <tr style=\"text-align: right;\">\n",
       "      <th></th>\n",
       "      <th>PassengerId</th>\n",
       "      <th>Survived</th>\n",
       "      <th>Pclass</th>\n",
       "      <th>Sex</th>\n",
       "      <th>Age</th>\n",
       "      <th>SibSp</th>\n",
       "      <th>Parch</th>\n",
       "      <th>Ticket</th>\n",
       "      <th>Fare</th>\n",
       "      <th>Cabin</th>\n",
       "      <th>Embarked</th>\n",
       "      <th>Title</th>\n",
       "      <th>FamilySize</th>\n",
       "    </tr>\n",
       "  </thead>\n",
       "  <tbody>\n",
       "    <tr>\n",
       "      <th>0</th>\n",
       "      <td>1</td>\n",
       "      <td>0</td>\n",
       "      <td>3</td>\n",
       "      <td>0</td>\n",
       "      <td>22.0</td>\n",
       "      <td>1</td>\n",
       "      <td>0</td>\n",
       "      <td>A/5 21171</td>\n",
       "      <td>7.2500</td>\n",
       "      <td>NaN</td>\n",
       "      <td>S</td>\n",
       "      <td>Mr</td>\n",
       "      <td>2</td>\n",
       "    </tr>\n",
       "    <tr>\n",
       "      <th>1</th>\n",
       "      <td>2</td>\n",
       "      <td>1</td>\n",
       "      <td>1</td>\n",
       "      <td>1</td>\n",
       "      <td>38.0</td>\n",
       "      <td>1</td>\n",
       "      <td>0</td>\n",
       "      <td>PC 17599</td>\n",
       "      <td>71.2833</td>\n",
       "      <td>C85</td>\n",
       "      <td>C</td>\n",
       "      <td>Mrs</td>\n",
       "      <td>2</td>\n",
       "    </tr>\n",
       "    <tr>\n",
       "      <th>2</th>\n",
       "      <td>3</td>\n",
       "      <td>1</td>\n",
       "      <td>3</td>\n",
       "      <td>1</td>\n",
       "      <td>26.0</td>\n",
       "      <td>0</td>\n",
       "      <td>0</td>\n",
       "      <td>STON/O2. 3101282</td>\n",
       "      <td>7.9250</td>\n",
       "      <td>NaN</td>\n",
       "      <td>S</td>\n",
       "      <td>Miss</td>\n",
       "      <td>1</td>\n",
       "    </tr>\n",
       "    <tr>\n",
       "      <th>3</th>\n",
       "      <td>4</td>\n",
       "      <td>1</td>\n",
       "      <td>1</td>\n",
       "      <td>1</td>\n",
       "      <td>35.0</td>\n",
       "      <td>1</td>\n",
       "      <td>0</td>\n",
       "      <td>113803</td>\n",
       "      <td>53.1000</td>\n",
       "      <td>C123</td>\n",
       "      <td>S</td>\n",
       "      <td>Mrs</td>\n",
       "      <td>2</td>\n",
       "    </tr>\n",
       "    <tr>\n",
       "      <th>4</th>\n",
       "      <td>5</td>\n",
       "      <td>0</td>\n",
       "      <td>3</td>\n",
       "      <td>0</td>\n",
       "      <td>35.0</td>\n",
       "      <td>0</td>\n",
       "      <td>0</td>\n",
       "      <td>373450</td>\n",
       "      <td>8.0500</td>\n",
       "      <td>NaN</td>\n",
       "      <td>S</td>\n",
       "      <td>Mr</td>\n",
       "      <td>1</td>\n",
       "    </tr>\n",
       "  </tbody>\n",
       "</table>\n",
       "</div>"
      ],
      "text/plain": [
       "   PassengerId  Survived Pclass  Sex   Age  SibSp  Parch            Ticket  \\\n",
       "0            1         0      3    0  22.0      1      0         A/5 21171   \n",
       "1            2         1      1    1  38.0      1      0          PC 17599   \n",
       "2            3         1      3    1  26.0      0      0  STON/O2. 3101282   \n",
       "3            4         1      1    1  35.0      1      0            113803   \n",
       "4            5         0      3    0  35.0      0      0            373450   \n",
       "\n",
       "      Fare Cabin Embarked Title  FamilySize  \n",
       "0   7.2500   NaN        S    Mr           2  \n",
       "1  71.2833   C85        C   Mrs           2  \n",
       "2   7.9250   NaN        S  Miss           1  \n",
       "3  53.1000  C123        S   Mrs           2  \n",
       "4   8.0500   NaN        S    Mr           1  "
      ]
     },
     "execution_count": 14,
     "metadata": {},
     "output_type": "execute_result"
    }
   ],
   "source": [
    "train.head()"
   ]
  },
  {
   "cell_type": "code",
   "execution_count": 15,
   "metadata": {},
   "outputs": [],
   "source": [
    "train.drop(['Parch','SibSp', 'Ticket', 'Cabin'],axis=1, inplace=True)"
   ]
  },
  {
   "cell_type": "markdown",
   "metadata": {},
   "source": [
    "# Training Data without additional Features"
   ]
  },
  {
   "cell_type": "code",
   "execution_count": 16,
   "metadata": {
    "colab": {
     "base_uri": "https://localhost:8080/",
     "height": 204
    },
    "id": "jBgQ-_fbhqnT",
    "outputId": "2495c3cd-a52c-458f-82d6-3e6544c77e54"
   },
   "outputs": [
    {
     "data": {
      "text/html": [
       "<div>\n",
       "<style scoped>\n",
       "    .dataframe tbody tr th:only-of-type {\n",
       "        vertical-align: middle;\n",
       "    }\n",
       "\n",
       "    .dataframe tbody tr th {\n",
       "        vertical-align: top;\n",
       "    }\n",
       "\n",
       "    .dataframe thead th {\n",
       "        text-align: right;\n",
       "    }\n",
       "</style>\n",
       "<table border=\"1\" class=\"dataframe\">\n",
       "  <thead>\n",
       "    <tr style=\"text-align: right;\">\n",
       "      <th></th>\n",
       "      <th>PassengerId</th>\n",
       "      <th>Survived</th>\n",
       "      <th>Pclass</th>\n",
       "      <th>Sex</th>\n",
       "      <th>Age</th>\n",
       "      <th>Fare</th>\n",
       "      <th>Embarked</th>\n",
       "      <th>Title</th>\n",
       "      <th>FamilySize</th>\n",
       "    </tr>\n",
       "  </thead>\n",
       "  <tbody>\n",
       "    <tr>\n",
       "      <th>0</th>\n",
       "      <td>1</td>\n",
       "      <td>0</td>\n",
       "      <td>3</td>\n",
       "      <td>0</td>\n",
       "      <td>22.0</td>\n",
       "      <td>7.2500</td>\n",
       "      <td>S</td>\n",
       "      <td>Mr</td>\n",
       "      <td>2</td>\n",
       "    </tr>\n",
       "    <tr>\n",
       "      <th>1</th>\n",
       "      <td>2</td>\n",
       "      <td>1</td>\n",
       "      <td>1</td>\n",
       "      <td>1</td>\n",
       "      <td>38.0</td>\n",
       "      <td>71.2833</td>\n",
       "      <td>C</td>\n",
       "      <td>Mrs</td>\n",
       "      <td>2</td>\n",
       "    </tr>\n",
       "    <tr>\n",
       "      <th>2</th>\n",
       "      <td>3</td>\n",
       "      <td>1</td>\n",
       "      <td>3</td>\n",
       "      <td>1</td>\n",
       "      <td>26.0</td>\n",
       "      <td>7.9250</td>\n",
       "      <td>S</td>\n",
       "      <td>Miss</td>\n",
       "      <td>1</td>\n",
       "    </tr>\n",
       "    <tr>\n",
       "      <th>3</th>\n",
       "      <td>4</td>\n",
       "      <td>1</td>\n",
       "      <td>1</td>\n",
       "      <td>1</td>\n",
       "      <td>35.0</td>\n",
       "      <td>53.1000</td>\n",
       "      <td>S</td>\n",
       "      <td>Mrs</td>\n",
       "      <td>2</td>\n",
       "    </tr>\n",
       "    <tr>\n",
       "      <th>4</th>\n",
       "      <td>5</td>\n",
       "      <td>0</td>\n",
       "      <td>3</td>\n",
       "      <td>0</td>\n",
       "      <td>35.0</td>\n",
       "      <td>8.0500</td>\n",
       "      <td>S</td>\n",
       "      <td>Mr</td>\n",
       "      <td>1</td>\n",
       "    </tr>\n",
       "  </tbody>\n",
       "</table>\n",
       "</div>"
      ],
      "text/plain": [
       "   PassengerId  Survived Pclass  Sex   Age     Fare Embarked Title  FamilySize\n",
       "0            1         0      3    0  22.0   7.2500        S    Mr           2\n",
       "1            2         1      1    1  38.0  71.2833        C   Mrs           2\n",
       "2            3         1      3    1  26.0   7.9250        S  Miss           1\n",
       "3            4         1      1    1  35.0  53.1000        S   Mrs           2\n",
       "4            5         0      3    0  35.0   8.0500        S    Mr           1"
      ]
     },
     "execution_count": 16,
     "metadata": {},
     "output_type": "execute_result"
    }
   ],
   "source": [
    "train.head()"
   ]
  },
  {
   "cell_type": "code",
   "execution_count": 17,
   "metadata": {},
   "outputs": [],
   "source": [
    "train_df = pd.get_dummies(data=train, columns=['Pclass', 'Embarked', 'Title'])"
   ]
  },
  {
   "cell_type": "code",
   "execution_count": 18,
   "metadata": {},
   "outputs": [
    {
     "data": {
      "text/html": [
       "<div>\n",
       "<style scoped>\n",
       "    .dataframe tbody tr th:only-of-type {\n",
       "        vertical-align: middle;\n",
       "    }\n",
       "\n",
       "    .dataframe tbody tr th {\n",
       "        vertical-align: top;\n",
       "    }\n",
       "\n",
       "    .dataframe thead th {\n",
       "        text-align: right;\n",
       "    }\n",
       "</style>\n",
       "<table border=\"1\" class=\"dataframe\">\n",
       "  <thead>\n",
       "    <tr style=\"text-align: right;\">\n",
       "      <th></th>\n",
       "      <th>PassengerId</th>\n",
       "      <th>Survived</th>\n",
       "      <th>Sex</th>\n",
       "      <th>Age</th>\n",
       "      <th>Fare</th>\n",
       "      <th>FamilySize</th>\n",
       "      <th>Pclass_1</th>\n",
       "      <th>Pclass_2</th>\n",
       "      <th>Pclass_3</th>\n",
       "      <th>Embarked_C</th>\n",
       "      <th>Embarked_Q</th>\n",
       "      <th>Embarked_S</th>\n",
       "      <th>Title_Miss</th>\n",
       "      <th>Title_Mr</th>\n",
       "      <th>Title_Mrs</th>\n",
       "      <th>Title_Other</th>\n",
       "    </tr>\n",
       "  </thead>\n",
       "  <tbody>\n",
       "    <tr>\n",
       "      <th>0</th>\n",
       "      <td>1</td>\n",
       "      <td>0</td>\n",
       "      <td>0</td>\n",
       "      <td>22.0</td>\n",
       "      <td>7.2500</td>\n",
       "      <td>2</td>\n",
       "      <td>0</td>\n",
       "      <td>0</td>\n",
       "      <td>1</td>\n",
       "      <td>0</td>\n",
       "      <td>0</td>\n",
       "      <td>1</td>\n",
       "      <td>0</td>\n",
       "      <td>1</td>\n",
       "      <td>0</td>\n",
       "      <td>0</td>\n",
       "    </tr>\n",
       "    <tr>\n",
       "      <th>1</th>\n",
       "      <td>2</td>\n",
       "      <td>1</td>\n",
       "      <td>1</td>\n",
       "      <td>38.0</td>\n",
       "      <td>71.2833</td>\n",
       "      <td>2</td>\n",
       "      <td>1</td>\n",
       "      <td>0</td>\n",
       "      <td>0</td>\n",
       "      <td>1</td>\n",
       "      <td>0</td>\n",
       "      <td>0</td>\n",
       "      <td>0</td>\n",
       "      <td>0</td>\n",
       "      <td>1</td>\n",
       "      <td>0</td>\n",
       "    </tr>\n",
       "    <tr>\n",
       "      <th>2</th>\n",
       "      <td>3</td>\n",
       "      <td>1</td>\n",
       "      <td>1</td>\n",
       "      <td>26.0</td>\n",
       "      <td>7.9250</td>\n",
       "      <td>1</td>\n",
       "      <td>0</td>\n",
       "      <td>0</td>\n",
       "      <td>1</td>\n",
       "      <td>0</td>\n",
       "      <td>0</td>\n",
       "      <td>1</td>\n",
       "      <td>1</td>\n",
       "      <td>0</td>\n",
       "      <td>0</td>\n",
       "      <td>0</td>\n",
       "    </tr>\n",
       "    <tr>\n",
       "      <th>3</th>\n",
       "      <td>4</td>\n",
       "      <td>1</td>\n",
       "      <td>1</td>\n",
       "      <td>35.0</td>\n",
       "      <td>53.1000</td>\n",
       "      <td>2</td>\n",
       "      <td>1</td>\n",
       "      <td>0</td>\n",
       "      <td>0</td>\n",
       "      <td>0</td>\n",
       "      <td>0</td>\n",
       "      <td>1</td>\n",
       "      <td>0</td>\n",
       "      <td>0</td>\n",
       "      <td>1</td>\n",
       "      <td>0</td>\n",
       "    </tr>\n",
       "    <tr>\n",
       "      <th>4</th>\n",
       "      <td>5</td>\n",
       "      <td>0</td>\n",
       "      <td>0</td>\n",
       "      <td>35.0</td>\n",
       "      <td>8.0500</td>\n",
       "      <td>1</td>\n",
       "      <td>0</td>\n",
       "      <td>0</td>\n",
       "      <td>1</td>\n",
       "      <td>0</td>\n",
       "      <td>0</td>\n",
       "      <td>1</td>\n",
       "      <td>0</td>\n",
       "      <td>1</td>\n",
       "      <td>0</td>\n",
       "      <td>0</td>\n",
       "    </tr>\n",
       "  </tbody>\n",
       "</table>\n",
       "</div>"
      ],
      "text/plain": [
       "   PassengerId  Survived  Sex   Age     Fare  FamilySize  Pclass_1  Pclass_2  \\\n",
       "0            1         0    0  22.0   7.2500           2         0         0   \n",
       "1            2         1    1  38.0  71.2833           2         1         0   \n",
       "2            3         1    1  26.0   7.9250           1         0         0   \n",
       "3            4         1    1  35.0  53.1000           2         1         0   \n",
       "4            5         0    0  35.0   8.0500           1         0         0   \n",
       "\n",
       "   Pclass_3  Embarked_C  Embarked_Q  Embarked_S  Title_Miss  Title_Mr  \\\n",
       "0         1           0           0           1           0         1   \n",
       "1         0           1           0           0           0         0   \n",
       "2         1           0           0           1           1         0   \n",
       "3         0           0           0           1           0         0   \n",
       "4         1           0           0           1           0         1   \n",
       "\n",
       "   Title_Mrs  Title_Other  \n",
       "0          0            0  \n",
       "1          1            0  \n",
       "2          0            0  \n",
       "3          1            0  \n",
       "4          0            0  "
      ]
     },
     "execution_count": 18,
     "metadata": {},
     "output_type": "execute_result"
    }
   ],
   "source": [
    "train_df.head()"
   ]
  },
  {
   "cell_type": "code",
   "execution_count": 19,
   "metadata": {},
   "outputs": [],
   "source": [
    "cols_to_scale = ['Age', 'Fare', 'FamilySize']\n",
    "\n",
    "from sklearn.preprocessing import MinMaxScaler\n",
    "scaler = MinMaxScaler()\n",
    "train_df[cols_to_scale] = scaler.fit_transform(train_df[cols_to_scale])"
   ]
  },
  {
   "cell_type": "code",
   "execution_count": 20,
   "metadata": {
    "colab": {
     "base_uri": "https://localhost:8080/",
     "height": 34
    },
    "id": "uzzcGyUWBbL9",
    "outputId": "2ac05b29-d364-486f-c40c-dc27955cf77f"
   },
   "outputs": [
    {
     "data": {
      "text/plain": [
       "((891, 14), (891,))"
      ]
     },
     "execution_count": 20,
     "metadata": {},
     "output_type": "execute_result"
    }
   ],
   "source": [
    "train_data = train_df.drop(['PassengerId','Survived'], axis=1)\n",
    "target = train_df['Survived']\n",
    "\n",
    "train_data.shape, target.shape"
   ]
  },
  {
   "cell_type": "code",
   "execution_count": 21,
   "metadata": {},
   "outputs": [],
   "source": [
    "# train_data"
   ]
  },
  {
   "cell_type": "code",
   "execution_count": 22,
   "metadata": {
    "id": "6G5zwu5H9Mk0"
   },
   "outputs": [],
   "source": [
    "from sklearn import svm\n",
    "from sklearn.ensemble import RandomForestClassifier\n",
    "from sklearn.linear_model import LogisticRegression\n",
    "from sklearn.naive_bayes import GaussianNB\n",
    "from sklearn.naive_bayes import MultinomialNB\n",
    "from sklearn.tree import DecisionTreeClassifier\n",
    "from sklearn.neighbors import KNeighborsClassifier\n",
    "\n",
    "import xgboost as xgb "
   ]
  },
  {
   "cell_type": "code",
   "execution_count": 23,
   "metadata": {
    "id": "0L4HuvJ99Oma"
   },
   "outputs": [],
   "source": [
    "model_params = {\n",
    "    'svm': {\n",
    "        'model': svm.SVC(max_iter=-1),\n",
    "        'params' : {\n",
    "            'C': [1,10,20],\n",
    "#             'kernel': ['linear', 'rbf',],\n",
    "#             'gamma' :['scale', 'auto']\n",
    "            #'shrinking':['True', 'False']\n",
    "        }  \n",
    "    },\n",
    "    'random_forest': {\n",
    "        'model': RandomForestClassifier(),\n",
    "        'params' : {\n",
    "            'n_estimators': [1,5,10,100],\n",
    "            'max_depth': [1,2,3,4,5,6],\n",
    "            'min_samples_leaf': [100,200,300,500,1000]\n",
    "        }\n",
    "    },\n",
    "    'logistic_regression' : {\n",
    "        'model': LogisticRegression(multi_class='auto'),\n",
    "        'params': {\n",
    "            'C': [1,5,10],\n",
    "            'solver':['newton-cg', 'liblinear']\n",
    "        }\n",
    "    },\n",
    "    'naive_bayes_gaussian': {\n",
    "        'model': GaussianNB(),\n",
    "        'params': {}\n",
    "    },\n",
    "    'naive_bayes_multinomial': {\n",
    "        'model': MultinomialNB(),\n",
    "        'params': {}\n",
    "    },\n",
    "    'decision_tree': {\n",
    "        'model': DecisionTreeClassifier(),\n",
    "        'params': {\n",
    "            'criterion': ['gini','entropy'],\n",
    "            'max_depth': [1,2,3,4,5,6],\n",
    "            'min_samples_leaf': [100,200,300,500,1000]\n",
    "        }\n",
    "    },\n",
    "\n",
    "    'xgboost' : {\n",
    "          'model' : xgb.XGBClassifier(),\n",
    "          'params': {'n_estimators': [1,5,10,100],\n",
    "            'max_depth': [1,2,3,4,5,6],\n",
    "            'learning_rate': [.001,.01, .1] \n",
    "            \n",
    "            }\n",
    "    },\n",
    "    'kneighbours': {\n",
    "        'model': KNeighborsClassifier(n_jobs=-1),\n",
    "        \"params\": {\n",
    "            \n",
    "            'n_neighbors' : [5, 10, 20, 30],\n",
    "        }\n",
    "    },\n",
    "\n",
    "\n",
    "}"
   ]
  },
  {
   "cell_type": "code",
   "execution_count": 24,
   "metadata": {
    "colab": {
     "base_uri": "https://localhost:8080/",
     "height": 385
    },
    "id": "ycP5wyxb9PMI",
    "outputId": "0b51458c-8bce-4d76-fd05-fa209be9988e"
   },
   "outputs": [
    {
     "name": "stdout",
     "output_type": "stream",
     "text": [
      "svm\n",
      "random_forest\n",
      "logistic_regression\n",
      "naive_bayes_gaussian\n",
      "naive_bayes_multinomial\n",
      "decision_tree\n",
      "xgboost\n",
      "kneighbours\n"
     ]
    },
    {
     "data": {
      "text/html": [
       "<div>\n",
       "<style scoped>\n",
       "    .dataframe tbody tr th:only-of-type {\n",
       "        vertical-align: middle;\n",
       "    }\n",
       "\n",
       "    .dataframe tbody tr th {\n",
       "        vertical-align: top;\n",
       "    }\n",
       "\n",
       "    .dataframe thead th {\n",
       "        text-align: right;\n",
       "    }\n",
       "</style>\n",
       "<table border=\"1\" class=\"dataframe\">\n",
       "  <thead>\n",
       "    <tr style=\"text-align: right;\">\n",
       "      <th></th>\n",
       "      <th>model</th>\n",
       "      <th>best_score</th>\n",
       "      <th>best_params</th>\n",
       "    </tr>\n",
       "  </thead>\n",
       "  <tbody>\n",
       "    <tr>\n",
       "      <th>5</th>\n",
       "      <td>decision_tree</td>\n",
       "      <td>0.789051</td>\n",
       "      <td>{'criterion': 'gini', 'max_depth': 2, 'min_sam...</td>\n",
       "    </tr>\n",
       "    <tr>\n",
       "      <th>4</th>\n",
       "      <td>naive_bayes_multinomial</td>\n",
       "      <td>0.790112</td>\n",
       "      <td>{}</td>\n",
       "    </tr>\n",
       "    <tr>\n",
       "      <th>3</th>\n",
       "      <td>naive_bayes_gaussian</td>\n",
       "      <td>0.791248</td>\n",
       "      <td>{}</td>\n",
       "    </tr>\n",
       "    <tr>\n",
       "      <th>1</th>\n",
       "      <td>random_forest</td>\n",
       "      <td>0.792360</td>\n",
       "      <td>{'max_depth': 2, 'min_samples_leaf': 100, 'n_e...</td>\n",
       "    </tr>\n",
       "    <tr>\n",
       "      <th>7</th>\n",
       "      <td>kneighbours</td>\n",
       "      <td>0.814844</td>\n",
       "      <td>{'n_neighbors': 10}</td>\n",
       "    </tr>\n",
       "    <tr>\n",
       "      <th>2</th>\n",
       "      <td>logistic_regression</td>\n",
       "      <td>0.820449</td>\n",
       "      <td>{'C': 5, 'solver': 'newton-cg'}</td>\n",
       "    </tr>\n",
       "    <tr>\n",
       "      <th>0</th>\n",
       "      <td>svm</td>\n",
       "      <td>0.832797</td>\n",
       "      <td>{'C': 20}</td>\n",
       "    </tr>\n",
       "    <tr>\n",
       "      <th>6</th>\n",
       "      <td>xgboost</td>\n",
       "      <td>0.841785</td>\n",
       "      <td>{'learning_rate': 0.1, 'max_depth': 3, 'n_esti...</td>\n",
       "    </tr>\n",
       "  </tbody>\n",
       "</table>\n",
       "</div>"
      ],
      "text/plain": [
       "                     model  best_score  \\\n",
       "5            decision_tree    0.789051   \n",
       "4  naive_bayes_multinomial    0.790112   \n",
       "3     naive_bayes_gaussian    0.791248   \n",
       "1            random_forest    0.792360   \n",
       "7              kneighbours    0.814844   \n",
       "2      logistic_regression    0.820449   \n",
       "0                      svm    0.832797   \n",
       "6                  xgboost    0.841785   \n",
       "\n",
       "                                         best_params  \n",
       "5  {'criterion': 'gini', 'max_depth': 2, 'min_sam...  \n",
       "4                                                 {}  \n",
       "3                                                 {}  \n",
       "1  {'max_depth': 2, 'min_samples_leaf': 100, 'n_e...  \n",
       "7                                {'n_neighbors': 10}  \n",
       "2                    {'C': 5, 'solver': 'newton-cg'}  \n",
       "0                                          {'C': 20}  \n",
       "6  {'learning_rate': 0.1, 'max_depth': 3, 'n_esti...  "
      ]
     },
     "execution_count": 24,
     "metadata": {},
     "output_type": "execute_result"
    }
   ],
   "source": [
    "from sklearn.model_selection import GridSearchCV\n",
    "scores = []\n",
    "\n",
    "for model_name, mp in model_params.items():\n",
    "    print(model_name)\n",
    "    clf =  GridSearchCV(mp['model'], mp['params'], cv=10, return_train_score=False)\n",
    "    clf.fit(train_data, target)\n",
    "    scores.append({\n",
    "        'model': model_name,\n",
    "        'best_score': clf.best_score_,\n",
    "        'best_params': clf.best_params_\n",
    "    })\n",
    "    \n",
    "df = pd.DataFrame(scores,columns=['model','best_score','best_params'])\n",
    "df.sort_values('best_score')"
   ]
  },
  {
   "cell_type": "code",
   "execution_count": 26,
   "metadata": {},
   "outputs": [],
   "source": [
    "from sklearn.model_selection import train_test_split\n",
    "X_train, X_test, y_train, y_test = train_test_split(train_data, target,test_size=0.2,random_state=5)"
   ]
  },
  {
   "cell_type": "markdown",
   "metadata": {},
   "source": [
    "## XGboost Results"
   ]
  },
  {
   "cell_type": "code",
   "execution_count": 31,
   "metadata": {},
   "outputs": [],
   "source": [
    "model = xgb.XGBClassifier(n_jobs=-1, learning_rate= 0.1, max_depth= 3, n_estimators=100)\n",
    "model.fit(X_train, y_train)\n",
    "y_pred = model.predict(X_test)"
   ]
  },
  {
   "cell_type": "code",
   "execution_count": 32,
   "metadata": {},
   "outputs": [
    {
     "name": "stdout",
     "output_type": "stream",
     "text": [
      "              precision    recall  f1-score   support\n",
      "\n",
      "           0       0.85      0.95      0.90       111\n",
      "           1       0.89      0.74      0.81        68\n",
      "\n",
      "    accuracy                           0.87       179\n",
      "   macro avg       0.87      0.84      0.85       179\n",
      "weighted avg       0.87      0.87      0.86       179\n",
      "\n"
     ]
    }
   ],
   "source": [
    "from sklearn.metrics import confusion_matrix , classification_report\n",
    "\n",
    "print(classification_report(y_test,y_pred))"
   ]
  },
  {
   "cell_type": "code",
   "execution_count": 37,
   "metadata": {},
   "outputs": [
    {
     "data": {
      "image/png": "[encoded data removed]",
      "text/plain": [
       "<Figure size 720x504 with 2 Axes>"
      ]
     },
     "metadata": {},
     "output_type": "display_data"
    }
   ],
   "source": [
    "import seaborn as sn\n",
    "cm = confusion_matrix(y_test,y_pred)\n",
    "\n",
    "plt.figure(figsize = (10,7))\n",
    "sn.heatmap(cm, annot=True, fmt='d')\n",
    "plt.xlabel('Predicted')\n",
    "plt.ylabel('Truth')\n",
    "plt.show()"
   ]
  },
  {
   "cell_type": "code",
   "execution_count": 38,
   "metadata": {},
   "outputs": [
    {
     "data": {
      "image/png": "[encoded data removed]",
      "text/plain": [
       "<Figure size 432x288 with 1 Axes>"
      ]
     },
     "metadata": {},
     "output_type": "display_data"
    }
   ],
   "source": [
    "from xgboost import plot_importance\n",
    "plot_importance(model)\n",
    "plt.show()"
   ]
  },
  {
   "cell_type": "markdown",
   "metadata": {},
   "source": [
    "# Feature Tools: Creating more Attributes"
   ]
  },
  {
   "cell_type": "code",
   "execution_count": 39,
   "metadata": {
    "id": "fr9SwG8uhqui"
   },
   "outputs": [],
   "source": [
    "es = ft.EntitySet(id=\"train\")"
   ]
  },
  {
   "cell_type": "code",
   "execution_count": 40,
   "metadata": {
    "id": "u4bKwC_jhq2b"
   },
   "outputs": [
    {
     "data": {
      "text/plain": [
       "Entityset: train\n",
       "  Entities:\n",
       "    train_data [Rows: 891, Columns: 9]\n",
       "  Relationships:\n",
       "    No relationships"
      ]
     },
     "execution_count": 40,
     "metadata": {},
     "output_type": "execute_result"
    }
   ],
   "source": [
    "es = es.entity_from_dataframe(entity_id=\"train_data\",\n",
    "                              dataframe=train,\n",
    "                              index=\"PassengerId\")\n",
    "\n",
    "es"
   ]
  },
  {
   "cell_type": "markdown",
   "metadata": {},
   "source": [
    "## Embarked"
   ]
  },
  {
   "cell_type": "code",
   "execution_count": 41,
   "metadata": {},
   "outputs": [
    {
     "data": {
      "text/plain": [
       "Entityset: train\n",
       "  Entities:\n",
       "    train_data [Rows: 891, Columns: 9]\n",
       "    Embarked [Rows: 3, Columns: 1]\n",
       "  Relationships:\n",
       "    train_data.Embarked -> Embarked.Embarked"
      ]
     },
     "execution_count": 41,
     "metadata": {},
     "output_type": "execute_result"
    }
   ],
   "source": [
    "es = es.normalize_entity(base_entity_id=\"train_data\",\n",
    "                             new_entity_id=\"Embarked\",\n",
    "                            index=\"Embarked\")\n",
    "es#[\"Embarked\"].variables"
   ]
  },
  {
   "cell_type": "code",
   "execution_count": 42,
   "metadata": {
    "colab": {
     "base_uri": "https://localhost:8080/",
     "height": 85
    },
    "id": "P3UMBMYRjUUL",
    "outputId": "f5861c97-aed4-436d-caec-08395d7aefd8"
   },
   "outputs": [
    {
     "name": "stdout",
     "output_type": "stream",
     "text": [
      "Built 20 features\n",
      "Elapsed: 00:00 | Progress: 100%|███████████████████████████████████████████████████████████████████████████████████████\n"
     ]
    }
   ],
   "source": [
    "features_em, feature_names_em = ft.dfs(\n",
    "    entityset=es,\n",
    "    target_entity='Embarked',\n",
    "    agg_primitives=['entropy','sum','num_unique','count', 'mean', 'median'],\n",
    "    max_depth=1,\n",
    "    verbose=True)"
   ]
  },
  {
   "cell_type": "code",
   "execution_count": 43,
   "metadata": {},
   "outputs": [
    {
     "data": {
      "text/html": [
       "<div>\n",
       "<style scoped>\n",
       "    .dataframe tbody tr th:only-of-type {\n",
       "        vertical-align: middle;\n",
       "    }\n",
       "\n",
       "    .dataframe tbody tr th {\n",
       "        vertical-align: top;\n",
       "    }\n",
       "\n",
       "    .dataframe thead th {\n",
       "        text-align: right;\n",
       "    }\n",
       "</style>\n",
       "<table border=\"1\" class=\"dataframe\">\n",
       "  <thead>\n",
       "    <tr style=\"text-align: right;\">\n",
       "      <th></th>\n",
       "      <th>ENTROPY(train_data.Pclass)</th>\n",
       "      <th>ENTROPY(train_data.Title)</th>\n",
       "      <th>SUM(train_data.Survived)</th>\n",
       "      <th>SUM(train_data.Age)</th>\n",
       "      <th>SUM(train_data.Fare)</th>\n",
       "      <th>SUM(train_data.FamilySize)</th>\n",
       "      <th>SUM(train_data.Sex)</th>\n",
       "      <th>NUM_UNIQUE(train_data.Pclass)</th>\n",
       "      <th>NUM_UNIQUE(train_data.Title)</th>\n",
       "      <th>COUNT(train_data)</th>\n",
       "      <th>MEAN(train_data.Survived)</th>\n",
       "      <th>MEAN(train_data.Age)</th>\n",
       "      <th>MEAN(train_data.Fare)</th>\n",
       "      <th>MEAN(train_data.FamilySize)</th>\n",
       "      <th>MEAN(train_data.Sex)</th>\n",
       "      <th>MEDIAN(train_data.Survived)</th>\n",
       "      <th>MEDIAN(train_data.Age)</th>\n",
       "      <th>MEDIAN(train_data.Fare)</th>\n",
       "      <th>MEDIAN(train_data.FamilySize)</th>\n",
       "      <th>MEDIAN(train_data.Sex)</th>\n",
       "    </tr>\n",
       "    <tr>\n",
       "      <th>Embarked</th>\n",
       "      <th></th>\n",
       "      <th></th>\n",
       "      <th></th>\n",
       "      <th></th>\n",
       "      <th></th>\n",
       "      <th></th>\n",
       "      <th></th>\n",
       "      <th></th>\n",
       "      <th></th>\n",
       "      <th></th>\n",
       "      <th></th>\n",
       "      <th></th>\n",
       "      <th></th>\n",
       "      <th></th>\n",
       "      <th></th>\n",
       "      <th></th>\n",
       "      <th></th>\n",
       "      <th></th>\n",
       "      <th></th>\n",
       "      <th></th>\n",
       "    </tr>\n",
       "  </thead>\n",
       "  <tbody>\n",
       "    <tr>\n",
       "      <th>S</th>\n",
       "      <td>0.999968</td>\n",
       "      <td>1.068593</td>\n",
       "      <td>219</td>\n",
       "      <td>19015.75</td>\n",
       "      <td>17599.3988</td>\n",
       "      <td>1280</td>\n",
       "      <td>205</td>\n",
       "      <td>3</td>\n",
       "      <td>4</td>\n",
       "      <td>646</td>\n",
       "      <td>0.339009</td>\n",
       "      <td>29.436146</td>\n",
       "      <td>27.243651</td>\n",
       "      <td>1.981424</td>\n",
       "      <td>0.317337</td>\n",
       "      <td>0</td>\n",
       "      <td>30.0</td>\n",
       "      <td>13.00</td>\n",
       "      <td>1</td>\n",
       "      <td>0</td>\n",
       "    </tr>\n",
       "    <tr>\n",
       "      <th>C</th>\n",
       "      <td>0.943564</td>\n",
       "      <td>1.199833</td>\n",
       "      <td>93</td>\n",
       "      <td>5100.92</td>\n",
       "      <td>10072.2962</td>\n",
       "      <td>294</td>\n",
       "      <td>73</td>\n",
       "      <td>3</td>\n",
       "      <td>4</td>\n",
       "      <td>168</td>\n",
       "      <td>0.553571</td>\n",
       "      <td>30.362619</td>\n",
       "      <td>59.954144</td>\n",
       "      <td>1.750000</td>\n",
       "      <td>0.434524</td>\n",
       "      <td>1</td>\n",
       "      <td>30.0</td>\n",
       "      <td>29.70</td>\n",
       "      <td>1</td>\n",
       "      <td>0</td>\n",
       "    </tr>\n",
       "    <tr>\n",
       "      <th>Q</th>\n",
       "      <td>0.284038</td>\n",
       "      <td>1.046814</td>\n",
       "      <td>30</td>\n",
       "      <td>2054.50</td>\n",
       "      <td>1022.2543</td>\n",
       "      <td>123</td>\n",
       "      <td>36</td>\n",
       "      <td>3</td>\n",
       "      <td>4</td>\n",
       "      <td>77</td>\n",
       "      <td>0.389610</td>\n",
       "      <td>26.681818</td>\n",
       "      <td>13.276030</td>\n",
       "      <td>1.597403</td>\n",
       "      <td>0.467532</td>\n",
       "      <td>0</td>\n",
       "      <td>30.0</td>\n",
       "      <td>7.75</td>\n",
       "      <td>1</td>\n",
       "      <td>0</td>\n",
       "    </tr>\n",
       "  </tbody>\n",
       "</table>\n",
       "</div>"
      ],
      "text/plain": [
       "          ENTROPY(train_data.Pclass)  ENTROPY(train_data.Title)  \\\n",
       "Embarked                                                          \n",
       "S                           0.999968                   1.068593   \n",
       "C                           0.943564                   1.199833   \n",
       "Q                           0.284038                   1.046814   \n",
       "\n",
       "          SUM(train_data.Survived)  SUM(train_data.Age)  SUM(train_data.Fare)  \\\n",
       "Embarked                                                                        \n",
       "S                              219             19015.75            17599.3988   \n",
       "C                               93              5100.92            10072.2962   \n",
       "Q                               30              2054.50             1022.2543   \n",
       "\n",
       "          SUM(train_data.FamilySize)  SUM(train_data.Sex)  \\\n",
       "Embarked                                                    \n",
       "S                               1280                  205   \n",
       "C                                294                   73   \n",
       "Q                                123                   36   \n",
       "\n",
       "          NUM_UNIQUE(train_data.Pclass)  NUM_UNIQUE(train_data.Title)  \\\n",
       "Embarked                                                                \n",
       "S                                     3                             4   \n",
       "C                                     3                             4   \n",
       "Q                                     3                             4   \n",
       "\n",
       "          COUNT(train_data)  MEAN(train_data.Survived)  MEAN(train_data.Age)  \\\n",
       "Embarked                                                                       \n",
       "S                       646                   0.339009             29.436146   \n",
       "C                       168                   0.553571             30.362619   \n",
       "Q                        77                   0.389610             26.681818   \n",
       "\n",
       "          MEAN(train_data.Fare)  MEAN(train_data.FamilySize)  \\\n",
       "Embarked                                                       \n",
       "S                     27.243651                     1.981424   \n",
       "C                     59.954144                     1.750000   \n",
       "Q                     13.276030                     1.597403   \n",
       "\n",
       "          MEAN(train_data.Sex)  MEDIAN(train_data.Survived)  \\\n",
       "Embarked                                                      \n",
       "S                     0.317337                            0   \n",
       "C                     0.434524                            1   \n",
       "Q                     0.467532                            0   \n",
       "\n",
       "          MEDIAN(train_data.Age)  MEDIAN(train_data.Fare)  \\\n",
       "Embarked                                                    \n",
       "S                           30.0                    13.00   \n",
       "C                           30.0                    29.70   \n",
       "Q                           30.0                     7.75   \n",
       "\n",
       "          MEDIAN(train_data.FamilySize)  MEDIAN(train_data.Sex)  \n",
       "Embarked                                                         \n",
       "S                                     1                       0  \n",
       "C                                     1                       0  \n",
       "Q                                     1                       0  "
      ]
     },
     "execution_count": 43,
     "metadata": {},
     "output_type": "execute_result"
    }
   ],
   "source": [
    "features_em"
   ]
  },
  {
   "cell_type": "code",
   "execution_count": 44,
   "metadata": {},
   "outputs": [],
   "source": [
    "features_em['survival_rate_embarked'] = features_em['SUM(train_data.Survived)']/features_em['COUNT(train_data)']"
   ]
  },
  {
   "cell_type": "code",
   "execution_count": 45,
   "metadata": {},
   "outputs": [],
   "source": [
    "features_em = features_em[['ENTROPY(train_data.Title)','ENTROPY(train_data.Pclass)','SUM(train_data.Age)',\n",
    "       'SUM(train_data.FamilySize)',\n",
    "       'SUM(train_data.Fare)', 'survival_rate_embarked',\n",
    "       'MEAN(train_data.Age)',\n",
    "       'MEAN(train_data.FamilySize)',\n",
    "       'MEAN(train_data.Fare)', \n",
    "        'MEDIAN(train_data.Fare)']]"
   ]
  },
  {
   "cell_type": "code",
   "execution_count": 46,
   "metadata": {},
   "outputs": [],
   "source": [
    "features_em.columns = ['embarked_entropy_title)','embarked_entropy_pclass','embarked_sum_age', 'embarked_sum_famsize',\n",
    "       'embarked_sum_fare', 'survival_rate_embarked',\n",
    "       'embarked_mean_age', 'embarked_mean_famsize',\n",
    "       'embarked_mean_fare', 'embarked_med_fare']"
   ]
  },
  {
   "cell_type": "code",
   "execution_count": 47,
   "metadata": {},
   "outputs": [],
   "source": [
    "features_em.reset_index(inplace=True)"
   ]
  },
  {
   "cell_type": "code",
   "execution_count": 48,
   "metadata": {},
   "outputs": [],
   "source": [
    "train_em = train.merge(features_em, how='left')"
   ]
  },
  {
   "cell_type": "markdown",
   "metadata": {},
   "source": [
    "## Pclass"
   ]
  },
  {
   "cell_type": "code",
   "execution_count": 49,
   "metadata": {},
   "outputs": [
    {
     "data": {
      "text/plain": [
       "Entityset: train\n",
       "  Entities:\n",
       "    train_data [Rows: 891, Columns: 9]\n",
       "    Embarked [Rows: 3, Columns: 1]\n",
       "    Pclass [Rows: 3, Columns: 1]\n",
       "  Relationships:\n",
       "    train_data.Embarked -> Embarked.Embarked\n",
       "    train_data.Pclass -> Pclass.Pclass"
      ]
     },
     "execution_count": 49,
     "metadata": {},
     "output_type": "execute_result"
    }
   ],
   "source": [
    "es = es.normalize_entity(base_entity_id=\"train_data\",\n",
    "                             new_entity_id=\"Pclass\",\n",
    "                             index=\"Pclass\")\n",
    "es#[\"Embarked\"].variables"
   ]
  },
  {
   "cell_type": "code",
   "execution_count": 50,
   "metadata": {
    "colab": {
     "base_uri": "https://localhost:8080/",
     "height": 85
    },
    "id": "P3UMBMYRjUUL",
    "outputId": "f5861c97-aed4-436d-caec-08395d7aefd8"
   },
   "outputs": [
    {
     "name": "stdout",
     "output_type": "stream",
     "text": [
      "Built 20 features\n",
      "Elapsed: 00:00 | Progress: 100%|███████████████████████████████████████████████████████████████████████████████████████\n"
     ]
    }
   ],
   "source": [
    "features_pc, feature_names_pc = ft.dfs(\n",
    "    entityset=es,\n",
    "    target_entity='Pclass',\n",
    "    agg_primitives=['entropy','sum','num_unique','count', 'mean', 'median'],\n",
    "    max_depth=1,\n",
    "    verbose=True)"
   ]
  },
  {
   "cell_type": "code",
   "execution_count": 51,
   "metadata": {},
   "outputs": [],
   "source": [
    "features_pc['survival_rate_pclass'] = features_pc['SUM(train_data.Survived)']/features_pc['COUNT(train_data)']"
   ]
  },
  {
   "cell_type": "code",
   "execution_count": 52,
   "metadata": {},
   "outputs": [],
   "source": [
    "features_pc = features_pc[['ENTROPY(train_data.Embarked)', 'ENTROPY(train_data.Title)',\n",
    "       'SUM(train_data.Age)',\n",
    "        'SUM(train_data.FamilySize)',\n",
    "       'SUM(train_data.Fare)', 'MEAN(train_data.Age)',\n",
    "       'MEAN(train_data.FamilySize)',\n",
    "       'MEAN(train_data.Fare)', \n",
    "       'MEDIAN(train_data.Age)', \n",
    "       'MEDIAN(train_data.Fare)',\n",
    "       'survival_rate_pclass']]"
   ]
  },
  {
   "cell_type": "code",
   "execution_count": 53,
   "metadata": {},
   "outputs": [],
   "source": [
    "features_pc.columns = ['pclass_entropy_embarked','pclass_entropy_title','pclass_sum_age', 'pclass_sum_famsize',\n",
    "       'pclass_sum_fare', 'pclass_mean_age', 'pclass_mean_famsize',\n",
    "       'pclass_mean_fare', 'pclass_med_age',  'pclass_med_fare', \n",
    "      'survival_rate_pclass',]"
   ]
  },
  {
   "cell_type": "code",
   "execution_count": 54,
   "metadata": {},
   "outputs": [
    {
     "data": {
      "text/html": [
       "<div>\n",
       "<style scoped>\n",
       "    .dataframe tbody tr th:only-of-type {\n",
       "        vertical-align: middle;\n",
       "    }\n",
       "\n",
       "    .dataframe tbody tr th {\n",
       "        vertical-align: top;\n",
       "    }\n",
       "\n",
       "    .dataframe thead th {\n",
       "        text-align: right;\n",
       "    }\n",
       "</style>\n",
       "<table border=\"1\" class=\"dataframe\">\n",
       "  <thead>\n",
       "    <tr style=\"text-align: right;\">\n",
       "      <th></th>\n",
       "      <th>pclass_entropy_embarked</th>\n",
       "      <th>pclass_entropy_title</th>\n",
       "      <th>pclass_sum_age</th>\n",
       "      <th>pclass_sum_famsize</th>\n",
       "      <th>pclass_sum_fare</th>\n",
       "      <th>pclass_mean_age</th>\n",
       "      <th>pclass_mean_famsize</th>\n",
       "      <th>pclass_mean_fare</th>\n",
       "      <th>pclass_med_age</th>\n",
       "      <th>pclass_med_fare</th>\n",
       "      <th>survival_rate_pclass</th>\n",
       "    </tr>\n",
       "    <tr>\n",
       "      <th>Pclass</th>\n",
       "      <th></th>\n",
       "      <th></th>\n",
       "      <th></th>\n",
       "      <th></th>\n",
       "      <th></th>\n",
       "      <th></th>\n",
       "      <th></th>\n",
       "      <th></th>\n",
       "      <th></th>\n",
       "      <th></th>\n",
       "      <th></th>\n",
       "    </tr>\n",
       "  </thead>\n",
       "  <tbody>\n",
       "    <tr>\n",
       "      <th>3</th>\n",
       "      <td>0.788500</td>\n",
       "      <td>0.980299</td>\n",
       "      <td>12668.92</td>\n",
       "      <td>986</td>\n",
       "      <td>6714.6951</td>\n",
       "      <td>25.802281</td>\n",
       "      <td>2.008147</td>\n",
       "      <td>13.675550</td>\n",
       "      <td>27.0</td>\n",
       "      <td>8.0500</td>\n",
       "      <td>0.242363</td>\n",
       "    </tr>\n",
       "    <tr>\n",
       "      <th>1</th>\n",
       "      <td>0.718207</td>\n",
       "      <td>1.222374</td>\n",
       "      <td>8021.42</td>\n",
       "      <td>383</td>\n",
       "      <td>18177.4125</td>\n",
       "      <td>37.136204</td>\n",
       "      <td>1.773148</td>\n",
       "      <td>84.154687</td>\n",
       "      <td>35.0</td>\n",
       "      <td>60.2875</td>\n",
       "      <td>0.629630</td>\n",
       "    </tr>\n",
       "    <tr>\n",
       "      <th>2</th>\n",
       "      <td>0.389726</td>\n",
       "      <td>1.222177</td>\n",
       "      <td>5480.83</td>\n",
       "      <td>328</td>\n",
       "      <td>3801.8417</td>\n",
       "      <td>29.787120</td>\n",
       "      <td>1.782609</td>\n",
       "      <td>20.662183</td>\n",
       "      <td>30.0</td>\n",
       "      <td>14.2500</td>\n",
       "      <td>0.472826</td>\n",
       "    </tr>\n",
       "  </tbody>\n",
       "</table>\n",
       "</div>"
      ],
      "text/plain": [
       "        pclass_entropy_embarked  pclass_entropy_title  pclass_sum_age  \\\n",
       "Pclass                                                                  \n",
       "3                      0.788500              0.980299        12668.92   \n",
       "1                      0.718207              1.222374         8021.42   \n",
       "2                      0.389726              1.222177         5480.83   \n",
       "\n",
       "        pclass_sum_famsize  pclass_sum_fare  pclass_mean_age  \\\n",
       "Pclass                                                         \n",
       "3                      986        6714.6951        25.802281   \n",
       "1                      383       18177.4125        37.136204   \n",
       "2                      328        3801.8417        29.787120   \n",
       "\n",
       "        pclass_mean_famsize  pclass_mean_fare  pclass_med_age  \\\n",
       "Pclass                                                          \n",
       "3                  2.008147         13.675550            27.0   \n",
       "1                  1.773148         84.154687            35.0   \n",
       "2                  1.782609         20.662183            30.0   \n",
       "\n",
       "        pclass_med_fare  survival_rate_pclass  \n",
       "Pclass                                         \n",
       "3                8.0500              0.242363  \n",
       "1               60.2875              0.629630  \n",
       "2               14.2500              0.472826  "
      ]
     },
     "execution_count": 54,
     "metadata": {},
     "output_type": "execute_result"
    }
   ],
   "source": [
    "features_pc"
   ]
  },
  {
   "cell_type": "markdown",
   "metadata": {},
   "source": [
    "## Title"
   ]
  },
  {
   "cell_type": "code",
   "execution_count": 55,
   "metadata": {},
   "outputs": [],
   "source": [
    "train_em_pc = train_em.merge(features_pc.reset_index(), how='left')"
   ]
  },
  {
   "cell_type": "code",
   "execution_count": 56,
   "metadata": {},
   "outputs": [
    {
     "data": {
      "text/plain": [
       "Entityset: train\n",
       "  Entities:\n",
       "    train_data [Rows: 891, Columns: 9]\n",
       "    Embarked [Rows: 3, Columns: 1]\n",
       "    Pclass [Rows: 3, Columns: 1]\n",
       "    Title [Rows: 4, Columns: 1]\n",
       "  Relationships:\n",
       "    train_data.Embarked -> Embarked.Embarked\n",
       "    train_data.Pclass -> Pclass.Pclass\n",
       "    train_data.Title -> Title.Title"
      ]
     },
     "execution_count": 56,
     "metadata": {},
     "output_type": "execute_result"
    }
   ],
   "source": [
    "es = es.normalize_entity(base_entity_id=\"train_data\",\n",
    "                             new_entity_id=\"Title\",\n",
    "                            index=\"Title\")\n",
    "es#[\"Embarked\"].variables"
   ]
  },
  {
   "cell_type": "code",
   "execution_count": 57,
   "metadata": {
    "colab": {
     "base_uri": "https://localhost:8080/",
     "height": 85
    },
    "id": "P3UMBMYRjUUL",
    "outputId": "f5861c97-aed4-436d-caec-08395d7aefd8"
   },
   "outputs": [
    {
     "name": "stdout",
     "output_type": "stream",
     "text": [
      "Built 20 features\n",
      "Elapsed: 00:00 | Progress: 100%|███████████████████████████████████████████████████████████████████████████████████████\n"
     ]
    }
   ],
   "source": [
    "features_t, feature_names_t = ft.dfs(\n",
    "    entityset=es,\n",
    "    target_entity='Title',\n",
    "    agg_primitives=['entropy','sum','num_unique','count', 'mean', 'median'],\n",
    "    max_depth=1,\n",
    "    verbose=True)"
   ]
  },
  {
   "cell_type": "code",
   "execution_count": 58,
   "metadata": {},
   "outputs": [
    {
     "data": {
      "text/plain": [
       "Index(['ENTROPY(train_data.Pclass)', 'ENTROPY(train_data.Embarked)',\n",
       "       'SUM(train_data.Survived)', 'SUM(train_data.Age)',\n",
       "       'SUM(train_data.Fare)', 'SUM(train_data.FamilySize)',\n",
       "       'SUM(train_data.Sex)', 'NUM_UNIQUE(train_data.Pclass)',\n",
       "       'NUM_UNIQUE(train_data.Embarked)', 'COUNT(train_data)',\n",
       "       'MEAN(train_data.Survived)', 'MEAN(train_data.Age)',\n",
       "       'MEAN(train_data.Fare)', 'MEAN(train_data.FamilySize)',\n",
       "       'MEAN(train_data.Sex)', 'MEDIAN(train_data.Survived)',\n",
       "       'MEDIAN(train_data.Age)', 'MEDIAN(train_data.Fare)',\n",
       "       'MEDIAN(train_data.FamilySize)', 'MEDIAN(train_data.Sex)'],\n",
       "      dtype='object')"
      ]
     },
     "execution_count": 58,
     "metadata": {},
     "output_type": "execute_result"
    }
   ],
   "source": [
    "features_t.columns"
   ]
  },
  {
   "cell_type": "code",
   "execution_count": 59,
   "metadata": {},
   "outputs": [
    {
     "data": {
      "text/html": [
       "<div>\n",
       "<style scoped>\n",
       "    .dataframe tbody tr th:only-of-type {\n",
       "        vertical-align: middle;\n",
       "    }\n",
       "\n",
       "    .dataframe tbody tr th {\n",
       "        vertical-align: top;\n",
       "    }\n",
       "\n",
       "    .dataframe thead th {\n",
       "        text-align: right;\n",
       "    }\n",
       "</style>\n",
       "<table border=\"1\" class=\"dataframe\">\n",
       "  <thead>\n",
       "    <tr style=\"text-align: right;\">\n",
       "      <th></th>\n",
       "      <th>ENTROPY(train_data.Pclass)</th>\n",
       "      <th>ENTROPY(train_data.Embarked)</th>\n",
       "      <th>SUM(train_data.Survived)</th>\n",
       "      <th>SUM(train_data.Age)</th>\n",
       "      <th>SUM(train_data.Fare)</th>\n",
       "      <th>SUM(train_data.FamilySize)</th>\n",
       "      <th>SUM(train_data.Sex)</th>\n",
       "      <th>NUM_UNIQUE(train_data.Pclass)</th>\n",
       "      <th>NUM_UNIQUE(train_data.Embarked)</th>\n",
       "      <th>COUNT(train_data)</th>\n",
       "      <th>MEAN(train_data.Survived)</th>\n",
       "      <th>MEAN(train_data.Age)</th>\n",
       "      <th>MEAN(train_data.Fare)</th>\n",
       "      <th>MEAN(train_data.FamilySize)</th>\n",
       "      <th>MEAN(train_data.Sex)</th>\n",
       "      <th>MEDIAN(train_data.Survived)</th>\n",
       "      <th>MEDIAN(train_data.Age)</th>\n",
       "      <th>MEDIAN(train_data.Fare)</th>\n",
       "      <th>MEDIAN(train_data.FamilySize)</th>\n",
       "      <th>MEDIAN(train_data.Sex)</th>\n",
       "    </tr>\n",
       "    <tr>\n",
       "      <th>Title</th>\n",
       "      <th></th>\n",
       "      <th></th>\n",
       "      <th></th>\n",
       "      <th></th>\n",
       "      <th></th>\n",
       "      <th></th>\n",
       "      <th></th>\n",
       "      <th></th>\n",
       "      <th></th>\n",
       "      <th></th>\n",
       "      <th></th>\n",
       "      <th></th>\n",
       "      <th></th>\n",
       "      <th></th>\n",
       "      <th></th>\n",
       "      <th></th>\n",
       "      <th></th>\n",
       "      <th></th>\n",
       "      <th></th>\n",
       "      <th></th>\n",
       "    </tr>\n",
       "  </thead>\n",
       "  <tbody>\n",
       "    <tr>\n",
       "      <th>Mr</th>\n",
       "      <td>0.929712</td>\n",
       "      <td>0.681921</td>\n",
       "      <td>81</td>\n",
       "      <td>16452.50</td>\n",
       "      <td>12636.2865</td>\n",
       "      <td>745</td>\n",
       "      <td>0</td>\n",
       "      <td>3</td>\n",
       "      <td>3</td>\n",
       "      <td>517</td>\n",
       "      <td>0.156673</td>\n",
       "      <td>31.823017</td>\n",
       "      <td>24.441560</td>\n",
       "      <td>1.441006</td>\n",
       "      <td>0.000000</td>\n",
       "      <td>0</td>\n",
       "      <td>30.0</td>\n",
       "      <td>9.35000</td>\n",
       "      <td>1</td>\n",
       "      <td>0</td>\n",
       "    </tr>\n",
       "    <tr>\n",
       "      <th>Mrs</th>\n",
       "      <td>1.098548</td>\n",
       "      <td>0.666412</td>\n",
       "      <td>99</td>\n",
       "      <td>4472.00</td>\n",
       "      <td>5642.3166</td>\n",
       "      <td>316</td>\n",
       "      <td>125</td>\n",
       "      <td>3</td>\n",
       "      <td>3</td>\n",
       "      <td>125</td>\n",
       "      <td>0.792000</td>\n",
       "      <td>35.776000</td>\n",
       "      <td>45.138533</td>\n",
       "      <td>2.528000</td>\n",
       "      <td>1.000000</td>\n",
       "      <td>1</td>\n",
       "      <td>35.0</td>\n",
       "      <td>26.00000</td>\n",
       "      <td>2</td>\n",
       "      <td>1</td>\n",
       "    </tr>\n",
       "    <tr>\n",
       "      <th>Miss</th>\n",
       "      <td>0.985540</td>\n",
       "      <td>0.938233</td>\n",
       "      <td>127</td>\n",
       "      <td>3935.00</td>\n",
       "      <td>7971.2128</td>\n",
       "      <td>412</td>\n",
       "      <td>182</td>\n",
       "      <td>3</td>\n",
       "      <td>3</td>\n",
       "      <td>182</td>\n",
       "      <td>0.697802</td>\n",
       "      <td>21.620879</td>\n",
       "      <td>43.797873</td>\n",
       "      <td>2.263736</td>\n",
       "      <td>1.000000</td>\n",
       "      <td>1</td>\n",
       "      <td>21.0</td>\n",
       "      <td>15.62085</td>\n",
       "      <td>1</td>\n",
       "      <td>1</td>\n",
       "    </tr>\n",
       "    <tr>\n",
       "      <th>Other</th>\n",
       "      <td>1.081358</td>\n",
       "      <td>0.791942</td>\n",
       "      <td>35</td>\n",
       "      <td>1311.67</td>\n",
       "      <td>2444.1334</td>\n",
       "      <td>224</td>\n",
       "      <td>7</td>\n",
       "      <td>3</td>\n",
       "      <td>3</td>\n",
       "      <td>67</td>\n",
       "      <td>0.522388</td>\n",
       "      <td>19.577164</td>\n",
       "      <td>36.479603</td>\n",
       "      <td>3.343284</td>\n",
       "      <td>0.104478</td>\n",
       "      <td>1</td>\n",
       "      <td>9.0</td>\n",
       "      <td>29.12500</td>\n",
       "      <td>3</td>\n",
       "      <td>0</td>\n",
       "    </tr>\n",
       "  </tbody>\n",
       "</table>\n",
       "</div>"
      ],
      "text/plain": [
       "       ENTROPY(train_data.Pclass)  ENTROPY(train_data.Embarked)  \\\n",
       "Title                                                             \n",
       "Mr                       0.929712                      0.681921   \n",
       "Mrs                      1.098548                      0.666412   \n",
       "Miss                     0.985540                      0.938233   \n",
       "Other                    1.081358                      0.791942   \n",
       "\n",
       "       SUM(train_data.Survived)  SUM(train_data.Age)  SUM(train_data.Fare)  \\\n",
       "Title                                                                        \n",
       "Mr                           81             16452.50            12636.2865   \n",
       "Mrs                          99              4472.00             5642.3166   \n",
       "Miss                        127              3935.00             7971.2128   \n",
       "Other                        35              1311.67             2444.1334   \n",
       "\n",
       "       SUM(train_data.FamilySize)  SUM(train_data.Sex)  \\\n",
       "Title                                                    \n",
       "Mr                            745                    0   \n",
       "Mrs                           316                  125   \n",
       "Miss                          412                  182   \n",
       "Other                         224                    7   \n",
       "\n",
       "       NUM_UNIQUE(train_data.Pclass)  NUM_UNIQUE(train_data.Embarked)  \\\n",
       "Title                                                                   \n",
       "Mr                                 3                                3   \n",
       "Mrs                                3                                3   \n",
       "Miss                               3                                3   \n",
       "Other                              3                                3   \n",
       "\n",
       "       COUNT(train_data)  MEAN(train_data.Survived)  MEAN(train_data.Age)  \\\n",
       "Title                                                                       \n",
       "Mr                   517                   0.156673             31.823017   \n",
       "Mrs                  125                   0.792000             35.776000   \n",
       "Miss                 182                   0.697802             21.620879   \n",
       "Other                 67                   0.522388             19.577164   \n",
       "\n",
       "       MEAN(train_data.Fare)  MEAN(train_data.FamilySize)  \\\n",
       "Title                                                       \n",
       "Mr                 24.441560                     1.441006   \n",
       "Mrs                45.138533                     2.528000   \n",
       "Miss               43.797873                     2.263736   \n",
       "Other              36.479603                     3.343284   \n",
       "\n",
       "       MEAN(train_data.Sex)  MEDIAN(train_data.Survived)  \\\n",
       "Title                                                      \n",
       "Mr                 0.000000                            0   \n",
       "Mrs                1.000000                            1   \n",
       "Miss               1.000000                            1   \n",
       "Other              0.104478                            1   \n",
       "\n",
       "       MEDIAN(train_data.Age)  MEDIAN(train_data.Fare)  \\\n",
       "Title                                                    \n",
       "Mr                       30.0                  9.35000   \n",
       "Mrs                      35.0                 26.00000   \n",
       "Miss                     21.0                 15.62085   \n",
       "Other                     9.0                 29.12500   \n",
       "\n",
       "       MEDIAN(train_data.FamilySize)  MEDIAN(train_data.Sex)  \n",
       "Title                                                         \n",
       "Mr                                 1                       0  \n",
       "Mrs                                2                       1  \n",
       "Miss                               1                       1  \n",
       "Other                              3                       0  "
      ]
     },
     "execution_count": 59,
     "metadata": {},
     "output_type": "execute_result"
    }
   ],
   "source": [
    "features_t"
   ]
  },
  {
   "cell_type": "code",
   "execution_count": 60,
   "metadata": {},
   "outputs": [],
   "source": [
    "features_t = features_t[['ENTROPY(train_data.Embarked)', 'ENTROPY(train_data.Pclass)',\n",
    "       'SUM(train_data.Age)',\n",
    "       'SUM(train_data.FamilySize)',\n",
    "       'SUM(train_data.Fare)',\n",
    "       'MEAN(train_data.Age)',\n",
    "       'MEAN(train_data.Survived)', 'MEAN(train_data.FamilySize)',\n",
    "       'MEAN(train_data.Fare)', \n",
    "       'MEDIAN(train_data.Age)', \n",
    "       'MEDIAN(train_data.FamilySize)', 'MEDIAN(train_data.Fare)']]"
   ]
  },
  {
   "cell_type": "code",
   "execution_count": 61,
   "metadata": {},
   "outputs": [],
   "source": [
    "features_t.columns = ['title_entropy_embarked','title_entropy_pclass','title_sum_age', 'title_sum_famsize',\n",
    "       'title_sum_fare',  'title_mean_age','survival_rate_title', 'title_mean_famsize',\n",
    "       'title_mean_fare', 'title_med_age',  'title_med_famsize', 'title_med_fare',]"
   ]
  },
  {
   "cell_type": "code",
   "execution_count": 62,
   "metadata": {},
   "outputs": [
    {
     "data": {
      "text/html": [
       "<div>\n",
       "<style scoped>\n",
       "    .dataframe tbody tr th:only-of-type {\n",
       "        vertical-align: middle;\n",
       "    }\n",
       "\n",
       "    .dataframe tbody tr th {\n",
       "        vertical-align: top;\n",
       "    }\n",
       "\n",
       "    .dataframe thead th {\n",
       "        text-align: right;\n",
       "    }\n",
       "</style>\n",
       "<table border=\"1\" class=\"dataframe\">\n",
       "  <thead>\n",
       "    <tr style=\"text-align: right;\">\n",
       "      <th></th>\n",
       "      <th>title_entropy_embarked</th>\n",
       "      <th>title_entropy_pclass</th>\n",
       "      <th>title_sum_age</th>\n",
       "      <th>title_sum_famsize</th>\n",
       "      <th>title_sum_fare</th>\n",
       "      <th>title_mean_age</th>\n",
       "      <th>survival_rate_title</th>\n",
       "      <th>title_mean_famsize</th>\n",
       "      <th>title_mean_fare</th>\n",
       "      <th>title_med_age</th>\n",
       "      <th>title_med_famsize</th>\n",
       "      <th>title_med_fare</th>\n",
       "    </tr>\n",
       "    <tr>\n",
       "      <th>Title</th>\n",
       "      <th></th>\n",
       "      <th></th>\n",
       "      <th></th>\n",
       "      <th></th>\n",
       "      <th></th>\n",
       "      <th></th>\n",
       "      <th></th>\n",
       "      <th></th>\n",
       "      <th></th>\n",
       "      <th></th>\n",
       "      <th></th>\n",
       "      <th></th>\n",
       "    </tr>\n",
       "  </thead>\n",
       "  <tbody>\n",
       "    <tr>\n",
       "      <th>Mr</th>\n",
       "      <td>0.681921</td>\n",
       "      <td>0.929712</td>\n",
       "      <td>16452.50</td>\n",
       "      <td>745</td>\n",
       "      <td>12636.2865</td>\n",
       "      <td>31.823017</td>\n",
       "      <td>0.156673</td>\n",
       "      <td>1.441006</td>\n",
       "      <td>24.441560</td>\n",
       "      <td>30.0</td>\n",
       "      <td>1</td>\n",
       "      <td>9.35000</td>\n",
       "    </tr>\n",
       "    <tr>\n",
       "      <th>Mrs</th>\n",
       "      <td>0.666412</td>\n",
       "      <td>1.098548</td>\n",
       "      <td>4472.00</td>\n",
       "      <td>316</td>\n",
       "      <td>5642.3166</td>\n",
       "      <td>35.776000</td>\n",
       "      <td>0.792000</td>\n",
       "      <td>2.528000</td>\n",
       "      <td>45.138533</td>\n",
       "      <td>35.0</td>\n",
       "      <td>2</td>\n",
       "      <td>26.00000</td>\n",
       "    </tr>\n",
       "    <tr>\n",
       "      <th>Miss</th>\n",
       "      <td>0.938233</td>\n",
       "      <td>0.985540</td>\n",
       "      <td>3935.00</td>\n",
       "      <td>412</td>\n",
       "      <td>7971.2128</td>\n",
       "      <td>21.620879</td>\n",
       "      <td>0.697802</td>\n",
       "      <td>2.263736</td>\n",
       "      <td>43.797873</td>\n",
       "      <td>21.0</td>\n",
       "      <td>1</td>\n",
       "      <td>15.62085</td>\n",
       "    </tr>\n",
       "    <tr>\n",
       "      <th>Other</th>\n",
       "      <td>0.791942</td>\n",
       "      <td>1.081358</td>\n",
       "      <td>1311.67</td>\n",
       "      <td>224</td>\n",
       "      <td>2444.1334</td>\n",
       "      <td>19.577164</td>\n",
       "      <td>0.522388</td>\n",
       "      <td>3.343284</td>\n",
       "      <td>36.479603</td>\n",
       "      <td>9.0</td>\n",
       "      <td>3</td>\n",
       "      <td>29.12500</td>\n",
       "    </tr>\n",
       "  </tbody>\n",
       "</table>\n",
       "</div>"
      ],
      "text/plain": [
       "       title_entropy_embarked  title_entropy_pclass  title_sum_age  \\\n",
       "Title                                                                \n",
       "Mr                   0.681921              0.929712       16452.50   \n",
       "Mrs                  0.666412              1.098548        4472.00   \n",
       "Miss                 0.938233              0.985540        3935.00   \n",
       "Other                0.791942              1.081358        1311.67   \n",
       "\n",
       "       title_sum_famsize  title_sum_fare  title_mean_age  survival_rate_title  \\\n",
       "Title                                                                           \n",
       "Mr                   745      12636.2865       31.823017             0.156673   \n",
       "Mrs                  316       5642.3166       35.776000             0.792000   \n",
       "Miss                 412       7971.2128       21.620879             0.697802   \n",
       "Other                224       2444.1334       19.577164             0.522388   \n",
       "\n",
       "       title_mean_famsize  title_mean_fare  title_med_age  title_med_famsize  \\\n",
       "Title                                                                          \n",
       "Mr               1.441006        24.441560           30.0                  1   \n",
       "Mrs              2.528000        45.138533           35.0                  2   \n",
       "Miss             2.263736        43.797873           21.0                  1   \n",
       "Other            3.343284        36.479603            9.0                  3   \n",
       "\n",
       "       title_med_fare  \n",
       "Title                  \n",
       "Mr            9.35000  \n",
       "Mrs          26.00000  \n",
       "Miss         15.62085  \n",
       "Other        29.12500  "
      ]
     },
     "execution_count": 62,
     "metadata": {},
     "output_type": "execute_result"
    }
   ],
   "source": [
    "features_t"
   ]
  },
  {
   "cell_type": "code",
   "execution_count": 63,
   "metadata": {},
   "outputs": [],
   "source": [
    "train_new_features = train_em_pc.merge(features_t.reset_index(), how='left')"
   ]
  },
  {
   "cell_type": "markdown",
   "metadata": {},
   "source": [
    "## New Training Data"
   ]
  },
  {
   "cell_type": "code",
   "execution_count": 64,
   "metadata": {
    "colab": {
     "base_uri": "https://localhost:8080/",
     "height": 204
    },
    "id": "jBgQ-_fbhqnT",
    "outputId": "2495c3cd-a52c-458f-82d6-3e6544c77e54"
   },
   "outputs": [
    {
     "data": {
      "text/html": [
       "<div>\n",
       "<style scoped>\n",
       "    .dataframe tbody tr th:only-of-type {\n",
       "        vertical-align: middle;\n",
       "    }\n",
       "\n",
       "    .dataframe tbody tr th {\n",
       "        vertical-align: top;\n",
       "    }\n",
       "\n",
       "    .dataframe thead th {\n",
       "        text-align: right;\n",
       "    }\n",
       "</style>\n",
       "<table border=\"1\" class=\"dataframe\">\n",
       "  <thead>\n",
       "    <tr style=\"text-align: right;\">\n",
       "      <th></th>\n",
       "      <th>PassengerId</th>\n",
       "      <th>Survived</th>\n",
       "      <th>Pclass</th>\n",
       "      <th>Sex</th>\n",
       "      <th>Age</th>\n",
       "      <th>Fare</th>\n",
       "      <th>Embarked</th>\n",
       "      <th>Title</th>\n",
       "      <th>FamilySize</th>\n",
       "      <th>embarked_entropy_title)</th>\n",
       "      <th>...</th>\n",
       "      <th>title_sum_age</th>\n",
       "      <th>title_sum_famsize</th>\n",
       "      <th>title_sum_fare</th>\n",
       "      <th>title_mean_age</th>\n",
       "      <th>survival_rate_title</th>\n",
       "      <th>title_mean_famsize</th>\n",
       "      <th>title_mean_fare</th>\n",
       "      <th>title_med_age</th>\n",
       "      <th>title_med_famsize</th>\n",
       "      <th>title_med_fare</th>\n",
       "    </tr>\n",
       "  </thead>\n",
       "  <tbody>\n",
       "    <tr>\n",
       "      <th>0</th>\n",
       "      <td>1</td>\n",
       "      <td>0</td>\n",
       "      <td>3</td>\n",
       "      <td>0</td>\n",
       "      <td>22.0</td>\n",
       "      <td>7.2500</td>\n",
       "      <td>S</td>\n",
       "      <td>Mr</td>\n",
       "      <td>2</td>\n",
       "      <td>1.068593</td>\n",
       "      <td>...</td>\n",
       "      <td>16452.5</td>\n",
       "      <td>745</td>\n",
       "      <td>12636.2865</td>\n",
       "      <td>31.823017</td>\n",
       "      <td>0.156673</td>\n",
       "      <td>1.441006</td>\n",
       "      <td>24.441560</td>\n",
       "      <td>30.0</td>\n",
       "      <td>1</td>\n",
       "      <td>9.35000</td>\n",
       "    </tr>\n",
       "    <tr>\n",
       "      <th>1</th>\n",
       "      <td>2</td>\n",
       "      <td>1</td>\n",
       "      <td>1</td>\n",
       "      <td>1</td>\n",
       "      <td>38.0</td>\n",
       "      <td>71.2833</td>\n",
       "      <td>C</td>\n",
       "      <td>Mrs</td>\n",
       "      <td>2</td>\n",
       "      <td>1.199833</td>\n",
       "      <td>...</td>\n",
       "      <td>4472.0</td>\n",
       "      <td>316</td>\n",
       "      <td>5642.3166</td>\n",
       "      <td>35.776000</td>\n",
       "      <td>0.792000</td>\n",
       "      <td>2.528000</td>\n",
       "      <td>45.138533</td>\n",
       "      <td>35.0</td>\n",
       "      <td>2</td>\n",
       "      <td>26.00000</td>\n",
       "    </tr>\n",
       "    <tr>\n",
       "      <th>2</th>\n",
       "      <td>3</td>\n",
       "      <td>1</td>\n",
       "      <td>3</td>\n",
       "      <td>1</td>\n",
       "      <td>26.0</td>\n",
       "      <td>7.9250</td>\n",
       "      <td>S</td>\n",
       "      <td>Miss</td>\n",
       "      <td>1</td>\n",
       "      <td>1.068593</td>\n",
       "      <td>...</td>\n",
       "      <td>3935.0</td>\n",
       "      <td>412</td>\n",
       "      <td>7971.2128</td>\n",
       "      <td>21.620879</td>\n",
       "      <td>0.697802</td>\n",
       "      <td>2.263736</td>\n",
       "      <td>43.797873</td>\n",
       "      <td>21.0</td>\n",
       "      <td>1</td>\n",
       "      <td>15.62085</td>\n",
       "    </tr>\n",
       "    <tr>\n",
       "      <th>3</th>\n",
       "      <td>4</td>\n",
       "      <td>1</td>\n",
       "      <td>1</td>\n",
       "      <td>1</td>\n",
       "      <td>35.0</td>\n",
       "      <td>53.1000</td>\n",
       "      <td>S</td>\n",
       "      <td>Mrs</td>\n",
       "      <td>2</td>\n",
       "      <td>1.068593</td>\n",
       "      <td>...</td>\n",
       "      <td>4472.0</td>\n",
       "      <td>316</td>\n",
       "      <td>5642.3166</td>\n",
       "      <td>35.776000</td>\n",
       "      <td>0.792000</td>\n",
       "      <td>2.528000</td>\n",
       "      <td>45.138533</td>\n",
       "      <td>35.0</td>\n",
       "      <td>2</td>\n",
       "      <td>26.00000</td>\n",
       "    </tr>\n",
       "    <tr>\n",
       "      <th>4</th>\n",
       "      <td>5</td>\n",
       "      <td>0</td>\n",
       "      <td>3</td>\n",
       "      <td>0</td>\n",
       "      <td>35.0</td>\n",
       "      <td>8.0500</td>\n",
       "      <td>S</td>\n",
       "      <td>Mr</td>\n",
       "      <td>1</td>\n",
       "      <td>1.068593</td>\n",
       "      <td>...</td>\n",
       "      <td>16452.5</td>\n",
       "      <td>745</td>\n",
       "      <td>12636.2865</td>\n",
       "      <td>31.823017</td>\n",
       "      <td>0.156673</td>\n",
       "      <td>1.441006</td>\n",
       "      <td>24.441560</td>\n",
       "      <td>30.0</td>\n",
       "      <td>1</td>\n",
       "      <td>9.35000</td>\n",
       "    </tr>\n",
       "  </tbody>\n",
       "</table>\n",
       "<p>5 rows × 42 columns</p>\n",
       "</div>"
      ],
      "text/plain": [
       "   PassengerId  Survived Pclass  Sex   Age     Fare Embarked Title  \\\n",
       "0            1         0      3    0  22.0   7.2500        S    Mr   \n",
       "1            2         1      1    1  38.0  71.2833        C   Mrs   \n",
       "2            3         1      3    1  26.0   7.9250        S  Miss   \n",
       "3            4         1      1    1  35.0  53.1000        S   Mrs   \n",
       "4            5         0      3    0  35.0   8.0500        S    Mr   \n",
       "\n",
       "   FamilySize  embarked_entropy_title)  ...  title_sum_age  title_sum_famsize  \\\n",
       "0           2                 1.068593  ...        16452.5                745   \n",
       "1           2                 1.199833  ...         4472.0                316   \n",
       "2           1                 1.068593  ...         3935.0                412   \n",
       "3           2                 1.068593  ...         4472.0                316   \n",
       "4           1                 1.068593  ...        16452.5                745   \n",
       "\n",
       "   title_sum_fare  title_mean_age  survival_rate_title  title_mean_famsize  \\\n",
       "0      12636.2865       31.823017             0.156673            1.441006   \n",
       "1       5642.3166       35.776000             0.792000            2.528000   \n",
       "2       7971.2128       21.620879             0.697802            2.263736   \n",
       "3       5642.3166       35.776000             0.792000            2.528000   \n",
       "4      12636.2865       31.823017             0.156673            1.441006   \n",
       "\n",
       "   title_mean_fare  title_med_age  title_med_famsize  title_med_fare  \n",
       "0        24.441560           30.0                  1         9.35000  \n",
       "1        45.138533           35.0                  2        26.00000  \n",
       "2        43.797873           21.0                  1        15.62085  \n",
       "3        45.138533           35.0                  2        26.00000  \n",
       "4        24.441560           30.0                  1         9.35000  \n",
       "\n",
       "[5 rows x 42 columns]"
      ]
     },
     "execution_count": 64,
     "metadata": {},
     "output_type": "execute_result"
    }
   ],
   "source": [
    "train_new_features.head()"
   ]
  },
  {
   "cell_type": "code",
   "execution_count": 65,
   "metadata": {},
   "outputs": [],
   "source": [
    "train_df = pd.get_dummies(data=train_new_features, columns=['Pclass', 'Embarked', 'Title'])"
   ]
  },
  {
   "cell_type": "code",
   "execution_count": 66,
   "metadata": {},
   "outputs": [],
   "source": [
    "# train_df.head()"
   ]
  },
  {
   "cell_type": "code",
   "execution_count": 67,
   "metadata": {},
   "outputs": [],
   "source": [
    "cols_to_scale = ['Age', 'Fare', 'FamilySize']\n",
    "\n",
    "from sklearn.preprocessing import MinMaxScaler\n",
    "scaler = MinMaxScaler()\n",
    "train_df[cols_to_scale] = scaler.fit_transform(train_df[cols_to_scale])"
   ]
  },
  {
   "cell_type": "code",
   "execution_count": 78,
   "metadata": {
    "colab": {
     "base_uri": "https://localhost:8080/",
     "height": 34
    },
    "id": "uzzcGyUWBbL9",
    "outputId": "2ac05b29-d364-486f-c40c-dc27955cf77f"
   },
   "outputs": [
    {
     "data": {
      "text/plain": [
       "((891, 47), (891,))"
      ]
     },
     "execution_count": 78,
     "metadata": {},
     "output_type": "execute_result"
    }
   ],
   "source": [
    "train_data = train_df.drop(['PassengerId','Survived'], axis=1)\n",
    "target = train_df['Survived']\n",
    "\n",
    "train_data.shape, target.shape"
   ]
  },
  {
   "cell_type": "markdown",
   "metadata": {},
   "source": [
    "Increased the number of Attributes to 47 from the original 14"
   ]
  },
  {
   "cell_type": "code",
   "execution_count": 79,
   "metadata": {
    "id": "0L4HuvJ99Oma"
   },
   "outputs": [],
   "source": [
    "model_params = {\n",
    "    'svm': {\n",
    "        'model': svm.SVC(max_iter=-1),\n",
    "        'params' : {\n",
    "            'C': [1,10,20],\n",
    "            'kernel': ['rbf',],\n",
    "#             'gamma' :['scale', 'auto']\n",
    "            #'shrinking':['True', 'False']\n",
    "        }  \n",
    "    },\n",
    "    'random_forest': {\n",
    "        'model': RandomForestClassifier(),\n",
    "        'params' : {\n",
    "            'n_estimators': [1,5,10,100],\n",
    "            'max_depth': [1,2,3,4,5,6],\n",
    "            'min_samples_leaf': [100,200,300,500,1000]\n",
    "        }\n",
    "    },\n",
    "    'logistic_regression' : {\n",
    "        'model': LogisticRegression(multi_class='auto'),\n",
    "        'params': {\n",
    "#             'C': [1,5,10],\n",
    "#             'solver':['newton-cg', 'liblinear']\n",
    "        }\n",
    "    },\n",
    "    'naive_bayes_gaussian': {\n",
    "        'model': GaussianNB(),\n",
    "        'params': {}\n",
    "    },\n",
    "    'naive_bayes_multinomial': {\n",
    "        'model': MultinomialNB(),\n",
    "        'params': {}\n",
    "    },\n",
    "    'decision_tree': {\n",
    "        'model': DecisionTreeClassifier(),\n",
    "        'params': {\n",
    "            'criterion': ['gini','entropy'],\n",
    "            'max_depth': [1,2,3,4,5,6],\n",
    "            'min_samples_leaf': [100,200,300,500,1000]\n",
    "        }\n",
    "    },\n",
    "\n",
    "    'xgboost' : {\n",
    "          'model' : xgb.XGBClassifier(),\n",
    "          'params': {'n_estimators': [1,5,10,100],\n",
    "            'max_depth': [1,2,3,4,5,6],\n",
    "            'learning_rate': [.001,.01, .1] \n",
    "            \n",
    "            }\n",
    "    },\n",
    "    'kneighbours': {\n",
    "        'model': KNeighborsClassifier(n_jobs=-1),\n",
    "        \"params\": {\n",
    "            \n",
    "            'n_neighbors' : [5, 10, 20, 30],\n",
    "        }\n",
    "    },\n",
    "\n",
    "\n",
    "}"
   ]
  },
  {
   "cell_type": "code",
   "execution_count": 80,
   "metadata": {
    "colab": {
     "base_uri": "https://localhost:8080/",
     "height": 385
    },
    "id": "ycP5wyxb9PMI",
    "outputId": "0b51458c-8bce-4d76-fd05-fa209be9988e"
   },
   "outputs": [
    {
     "name": "stdout",
     "output_type": "stream",
     "text": [
      "svm\n",
      "random_forest\n",
      "logistic_regression\n",
      "naive_bayes_gaussian\n",
      "naive_bayes_multinomial\n",
      "decision_tree\n",
      "xgboost\n",
      "kneighbours\n"
     ]
    },
    {
     "data": {
      "text/html": [
       "<div>\n",
       "<style scoped>\n",
       "    .dataframe tbody tr th:only-of-type {\n",
       "        vertical-align: middle;\n",
       "    }\n",
       "\n",
       "    .dataframe tbody tr th {\n",
       "        vertical-align: top;\n",
       "    }\n",
       "\n",
       "    .dataframe thead th {\n",
       "        text-align: right;\n",
       "    }\n",
       "</style>\n",
       "<table border=\"1\" class=\"dataframe\">\n",
       "  <thead>\n",
       "    <tr style=\"text-align: right;\">\n",
       "      <th></th>\n",
       "      <th>model</th>\n",
       "      <th>best_score</th>\n",
       "      <th>best_params</th>\n",
       "    </tr>\n",
       "  </thead>\n",
       "  <tbody>\n",
       "    <tr>\n",
       "      <th>4</th>\n",
       "      <td>naive_bayes_multinomial</td>\n",
       "      <td>0.726242</td>\n",
       "      <td>{}</td>\n",
       "    </tr>\n",
       "    <tr>\n",
       "      <th>3</th>\n",
       "      <td>naive_bayes_gaussian</td>\n",
       "      <td>0.772210</td>\n",
       "      <td>{}</td>\n",
       "    </tr>\n",
       "    <tr>\n",
       "      <th>2</th>\n",
       "      <td>logistic_regression</td>\n",
       "      <td>0.785605</td>\n",
       "      <td>{}</td>\n",
       "    </tr>\n",
       "    <tr>\n",
       "      <th>5</th>\n",
       "      <td>decision_tree</td>\n",
       "      <td>0.789051</td>\n",
       "      <td>{'criterion': 'gini', 'max_depth': 2, 'min_sam...</td>\n",
       "    </tr>\n",
       "    <tr>\n",
       "      <th>1</th>\n",
       "      <td>random_forest</td>\n",
       "      <td>0.793521</td>\n",
       "      <td>{'max_depth': 3, 'min_samples_leaf': 200, 'n_e...</td>\n",
       "    </tr>\n",
       "    <tr>\n",
       "      <th>7</th>\n",
       "      <td>kneighbours</td>\n",
       "      <td>0.813683</td>\n",
       "      <td>{'n_neighbors': 30}</td>\n",
       "    </tr>\n",
       "    <tr>\n",
       "      <th>0</th>\n",
       "      <td>svm</td>\n",
       "      <td>0.817041</td>\n",
       "      <td>{'C': 20, 'kernel': 'rbf'}</td>\n",
       "    </tr>\n",
       "    <tr>\n",
       "      <th>6</th>\n",
       "      <td>xgboost</td>\n",
       "      <td>0.845169</td>\n",
       "      <td>{'learning_rate': 0.1, 'max_depth': 3, 'n_esti...</td>\n",
       "    </tr>\n",
       "  </tbody>\n",
       "</table>\n",
       "</div>"
      ],
      "text/plain": [
       "                     model  best_score  \\\n",
       "4  naive_bayes_multinomial    0.726242   \n",
       "3     naive_bayes_gaussian    0.772210   \n",
       "2      logistic_regression    0.785605   \n",
       "5            decision_tree    0.789051   \n",
       "1            random_forest    0.793521   \n",
       "7              kneighbours    0.813683   \n",
       "0                      svm    0.817041   \n",
       "6                  xgboost    0.845169   \n",
       "\n",
       "                                         best_params  \n",
       "4                                                 {}  \n",
       "3                                                 {}  \n",
       "2                                                 {}  \n",
       "5  {'criterion': 'gini', 'max_depth': 2, 'min_sam...  \n",
       "1  {'max_depth': 3, 'min_samples_leaf': 200, 'n_e...  \n",
       "7                                {'n_neighbors': 30}  \n",
       "0                         {'C': 20, 'kernel': 'rbf'}  \n",
       "6  {'learning_rate': 0.1, 'max_depth': 3, 'n_esti...  "
      ]
     },
     "execution_count": 80,
     "metadata": {},
     "output_type": "execute_result"
    }
   ],
   "source": [
    "from sklearn.model_selection import GridSearchCV\n",
    "scores = []\n",
    "\n",
    "for model_name, mp in model_params.items():\n",
    "    print(model_name)\n",
    "    clf =  GridSearchCV(mp['model'], mp['params'], cv=10, return_train_score=False)\n",
    "    clf.fit(train_data, target)\n",
    "    scores.append({\n",
    "        'model': model_name,\n",
    "        'best_score': clf.best_score_,\n",
    "        'best_params': clf.best_params_\n",
    "    })\n",
    "    \n",
    "df = pd.DataFrame(scores,columns=['model','best_score','best_params'])\n",
    "df.sort_values('best_score')"
   ]
  },
  {
   "cell_type": "markdown",
   "metadata": {},
   "source": [
    "## XGboost Results"
   ]
  },
  {
   "cell_type": "code",
   "execution_count": 81,
   "metadata": {},
   "outputs": [],
   "source": [
    "from sklearn.model_selection import train_test_split\n",
    "X_train, X_test, y_train, y_test = train_test_split(train_data, target,test_size=0.2,random_state=5)"
   ]
  },
  {
   "cell_type": "code",
   "execution_count": 82,
   "metadata": {},
   "outputs": [],
   "source": [
    "model = xgb.XGBClassifier(n_jobs=-1, learning_rate= 0.1, max_depth= 3, n_estimators=100)\n",
    "model.fit(X_train, y_train)\n",
    "y_pred = model.predict(X_test)"
   ]
  },
  {
   "cell_type": "code",
   "execution_count": 83,
   "metadata": {},
   "outputs": [
    {
     "name": "stdout",
     "output_type": "stream",
     "text": [
      "              precision    recall  f1-score   support\n",
      "\n",
      "           0       0.85      0.95      0.90       111\n",
      "           1       0.89      0.74      0.81        68\n",
      "\n",
      "    accuracy                           0.87       179\n",
      "   macro avg       0.87      0.84      0.85       179\n",
      "weighted avg       0.87      0.87      0.86       179\n",
      "\n"
     ]
    }
   ],
   "source": [
    "from sklearn.metrics import confusion_matrix , classification_report\n",
    "\n",
    "print(classification_report(y_test,y_pred))"
   ]
  },
  {
   "cell_type": "code",
   "execution_count": 84,
   "metadata": {},
   "outputs": [
    {
     "data": {
      "image/png": "[encoded data removed]",
      "text/plain": [
       "<Figure size 720x504 with 2 Axes>"
      ]
     },
     "metadata": {},
     "output_type": "display_data"
    }
   ],
   "source": [
    "import seaborn as sn\n",
    "cm = confusion_matrix(y_test,y_pred)\n",
    "\n",
    "plt.figure(figsize = (10,7))\n",
    "sn.heatmap(cm, annot=True, fmt='d')\n",
    "plt.xlabel('Predicted')\n",
    "plt.ylabel('Truth')\n",
    "plt.show()"
   ]
  },
  {
   "cell_type": "code",
   "execution_count": 85,
   "metadata": {},
   "outputs": [
    {
     "data": {
      "image/png": "[encoded data removed]",
      "text/plain": [
       "<Figure size 432x288 with 1 Axes>"
      ]
     },
     "metadata": {},
     "output_type": "display_data"
    }
   ],
   "source": [
    "from xgboost import plot_importance\n",
    "plot_importance(model)\n",
    "plt.show()"
   ]
  }
 ],
 "metadata": {
  "colab": {
   "authorship_tag": "ABX9TyO5broRsWr4zxMu0Z9GwMMC",
   "mount_file_id": "1Sgp1qS7DIp5sWprBXpSp67RELnfcxOcB",
   "name": "Titantic.ipynb",
   "provenance": []
  },
  "kernelspec": {
   "display_name": "Python 3",
   "language": "python",
   "name": "python3"
  },
  "language_info": {
   "codemirror_mode": {
    "name": "ipython",
    "version": 3
   },
   "file_extension": ".py",
   "mimetype": "text/x-python",
   "name": "python",
   "nbconvert_exporter": "python",
   "pygments_lexer": "ipython3",
   "version": "3.7.7"
  },
  "widgets": {
   "application/vnd.jupyter.widget-state+json": {
    "state": {},
    "version_major": 2,
    "version_minor": 0
   }
  }
 },
 "nbformat": 4,
 "nbformat_minor": 4
}
