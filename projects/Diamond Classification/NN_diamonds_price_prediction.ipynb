{
 "cells": [
  {
   "cell_type": "code",
   "execution_count": 1,
   "id": "81864905-9a68-4387-b5c5-d42b49978320",
   "metadata": {},
   "outputs": [],
   "source": [
    "import pandas as pd\n",
    "import numpy as np \n",
    "import matplotlib.pyplot as plt \n",
    "plt.style.use('seaborn')\n",
    "import seaborn as sns"
   ]
  },
  {
   "cell_type": "markdown",
   "id": "d17c966d-2ed5-414f-ad1a-b16b3ec28ddb",
   "metadata": {
    "tags": []
   },
   "source": [
    "# Data Import"
   ]
  },
  {
   "cell_type": "code",
   "execution_count": 2,
   "id": "96b0595f-d9ee-457b-9bd1-5f89169ea50c",
   "metadata": {
    "id": "TkOoUaImyjVp"
   },
   "outputs": [
    {
     "name": "stderr",
     "output_type": "stream",
     "text": [
      "/var/folders/sc/m38hzk_90cn6t0363cr74ny40000gn/T/ipykernel_46229/2632707547.py:1: FutureWarning: The error_bad_lines argument has been deprecated and will be removed in a future version. Use on_bad_lines in the future.\n",
      "\n",
      "\n",
      "  df=pd.read_csv(\"diamonds.csv\", error_bad_lines=False)\n"
     ]
    }
   ],
   "source": [
    "df=pd.read_csv(\"diamonds.csv\", error_bad_lines=False)\n",
    "df.drop(columns=['Unnamed: 0'], inplace=True)"
   ]
  },
  {
   "cell_type": "code",
   "execution_count": 3,
   "id": "7d36aff7-4913-4c70-9ef2-3a684ebc599b",
   "metadata": {
    "colab": {
     "base_uri": "https://localhost:8080/",
     "height": 204
    },
    "id": "xb4HaQ4OylVX",
    "outputId": "266ef5bb-f3a2-4ded-de35-663add0705f9"
   },
   "outputs": [
    {
     "data": {
      "text/html": [
       "<div>\n",
       "<style scoped>\n",
       "    .dataframe tbody tr th:only-of-type {\n",
       "        vertical-align: middle;\n",
       "    }\n",
       "\n",
       "    .dataframe tbody tr th {\n",
       "        vertical-align: top;\n",
       "    }\n",
       "\n",
       "    .dataframe thead th {\n",
       "        text-align: right;\n",
       "    }\n",
       "</style>\n",
       "<table border=\"1\" class=\"dataframe\">\n",
       "  <thead>\n",
       "    <tr style=\"text-align: right;\">\n",
       "      <th></th>\n",
       "      <th>carat</th>\n",
       "      <th>cut</th>\n",
       "      <th>color</th>\n",
       "      <th>clarity</th>\n",
       "      <th>depth</th>\n",
       "      <th>table</th>\n",
       "      <th>price</th>\n",
       "      <th>x</th>\n",
       "      <th>y</th>\n",
       "      <th>z</th>\n",
       "    </tr>\n",
       "  </thead>\n",
       "  <tbody>\n",
       "    <tr>\n",
       "      <th>0</th>\n",
       "      <td>0.23</td>\n",
       "      <td>Ideal</td>\n",
       "      <td>E</td>\n",
       "      <td>SI2</td>\n",
       "      <td>61.5</td>\n",
       "      <td>55.0</td>\n",
       "      <td>326</td>\n",
       "      <td>3.95</td>\n",
       "      <td>3.98</td>\n",
       "      <td>2.43</td>\n",
       "    </tr>\n",
       "    <tr>\n",
       "      <th>1</th>\n",
       "      <td>0.21</td>\n",
       "      <td>Premium</td>\n",
       "      <td>E</td>\n",
       "      <td>SI1</td>\n",
       "      <td>59.8</td>\n",
       "      <td>61.0</td>\n",
       "      <td>326</td>\n",
       "      <td>3.89</td>\n",
       "      <td>3.84</td>\n",
       "      <td>2.31</td>\n",
       "    </tr>\n",
       "    <tr>\n",
       "      <th>2</th>\n",
       "      <td>0.23</td>\n",
       "      <td>Good</td>\n",
       "      <td>E</td>\n",
       "      <td>VS1</td>\n",
       "      <td>56.9</td>\n",
       "      <td>65.0</td>\n",
       "      <td>327</td>\n",
       "      <td>4.05</td>\n",
       "      <td>4.07</td>\n",
       "      <td>2.31</td>\n",
       "    </tr>\n",
       "    <tr>\n",
       "      <th>3</th>\n",
       "      <td>0.29</td>\n",
       "      <td>Premium</td>\n",
       "      <td>I</td>\n",
       "      <td>VS2</td>\n",
       "      <td>62.4</td>\n",
       "      <td>58.0</td>\n",
       "      <td>334</td>\n",
       "      <td>4.20</td>\n",
       "      <td>4.23</td>\n",
       "      <td>2.63</td>\n",
       "    </tr>\n",
       "    <tr>\n",
       "      <th>4</th>\n",
       "      <td>0.31</td>\n",
       "      <td>Good</td>\n",
       "      <td>J</td>\n",
       "      <td>SI2</td>\n",
       "      <td>63.3</td>\n",
       "      <td>58.0</td>\n",
       "      <td>335</td>\n",
       "      <td>4.34</td>\n",
       "      <td>4.35</td>\n",
       "      <td>2.75</td>\n",
       "    </tr>\n",
       "  </tbody>\n",
       "</table>\n",
       "</div>"
      ],
      "text/plain": [
       "   carat      cut color clarity  depth  table  price     x     y     z\n",
       "0   0.23    Ideal     E     SI2   61.5   55.0    326  3.95  3.98  2.43\n",
       "1   0.21  Premium     E     SI1   59.8   61.0    326  3.89  3.84  2.31\n",
       "2   0.23     Good     E     VS1   56.9   65.0    327  4.05  4.07  2.31\n",
       "3   0.29  Premium     I     VS2   62.4   58.0    334  4.20  4.23  2.63\n",
       "4   0.31     Good     J     SI2   63.3   58.0    335  4.34  4.35  2.75"
      ]
     },
     "execution_count": 3,
     "metadata": {},
     "output_type": "execute_result"
    }
   ],
   "source": [
    "df.head()"
   ]
  },
  {
   "cell_type": "markdown",
   "id": "5fe8ccbb-0700-4309-80b6-c491167b1846",
   "metadata": {
    "tags": []
   },
   "source": [
    "# EDA"
   ]
  },
  {
   "cell_type": "code",
   "execution_count": 4,
   "id": "695a234e-2c0a-4b50-9f1d-fadf264668c5",
   "metadata": {},
   "outputs": [
    {
     "data": {
      "text/html": [
       "<div>\n",
       "<style scoped>\n",
       "    .dataframe tbody tr th:only-of-type {\n",
       "        vertical-align: middle;\n",
       "    }\n",
       "\n",
       "    .dataframe tbody tr th {\n",
       "        vertical-align: top;\n",
       "    }\n",
       "\n",
       "    .dataframe thead th {\n",
       "        text-align: right;\n",
       "    }\n",
       "</style>\n",
       "<table border=\"1\" class=\"dataframe\">\n",
       "  <thead>\n",
       "    <tr style=\"text-align: right;\">\n",
       "      <th></th>\n",
       "      <th>carat</th>\n",
       "      <th>depth</th>\n",
       "      <th>table</th>\n",
       "      <th>price</th>\n",
       "      <th>x</th>\n",
       "      <th>y</th>\n",
       "      <th>z</th>\n",
       "    </tr>\n",
       "  </thead>\n",
       "  <tbody>\n",
       "    <tr>\n",
       "      <th>count</th>\n",
       "      <td>53940.000000</td>\n",
       "      <td>53940.000000</td>\n",
       "      <td>53940.000000</td>\n",
       "      <td>53940.000000</td>\n",
       "      <td>53940.000000</td>\n",
       "      <td>53940.000000</td>\n",
       "      <td>53940.000000</td>\n",
       "    </tr>\n",
       "    <tr>\n",
       "      <th>mean</th>\n",
       "      <td>0.797940</td>\n",
       "      <td>61.749405</td>\n",
       "      <td>57.457184</td>\n",
       "      <td>3932.799722</td>\n",
       "      <td>5.731157</td>\n",
       "      <td>5.734526</td>\n",
       "      <td>3.538734</td>\n",
       "    </tr>\n",
       "    <tr>\n",
       "      <th>std</th>\n",
       "      <td>0.474011</td>\n",
       "      <td>1.432621</td>\n",
       "      <td>2.234491</td>\n",
       "      <td>3989.439738</td>\n",
       "      <td>1.121761</td>\n",
       "      <td>1.142135</td>\n",
       "      <td>0.705699</td>\n",
       "    </tr>\n",
       "    <tr>\n",
       "      <th>min</th>\n",
       "      <td>0.200000</td>\n",
       "      <td>43.000000</td>\n",
       "      <td>43.000000</td>\n",
       "      <td>326.000000</td>\n",
       "      <td>0.000000</td>\n",
       "      <td>0.000000</td>\n",
       "      <td>0.000000</td>\n",
       "    </tr>\n",
       "    <tr>\n",
       "      <th>25%</th>\n",
       "      <td>0.400000</td>\n",
       "      <td>61.000000</td>\n",
       "      <td>56.000000</td>\n",
       "      <td>950.000000</td>\n",
       "      <td>4.710000</td>\n",
       "      <td>4.720000</td>\n",
       "      <td>2.910000</td>\n",
       "    </tr>\n",
       "    <tr>\n",
       "      <th>50%</th>\n",
       "      <td>0.700000</td>\n",
       "      <td>61.800000</td>\n",
       "      <td>57.000000</td>\n",
       "      <td>2401.000000</td>\n",
       "      <td>5.700000</td>\n",
       "      <td>5.710000</td>\n",
       "      <td>3.530000</td>\n",
       "    </tr>\n",
       "    <tr>\n",
       "      <th>75%</th>\n",
       "      <td>1.040000</td>\n",
       "      <td>62.500000</td>\n",
       "      <td>59.000000</td>\n",
       "      <td>5324.250000</td>\n",
       "      <td>6.540000</td>\n",
       "      <td>6.540000</td>\n",
       "      <td>4.040000</td>\n",
       "    </tr>\n",
       "    <tr>\n",
       "      <th>max</th>\n",
       "      <td>5.010000</td>\n",
       "      <td>79.000000</td>\n",
       "      <td>95.000000</td>\n",
       "      <td>18823.000000</td>\n",
       "      <td>10.740000</td>\n",
       "      <td>58.900000</td>\n",
       "      <td>31.800000</td>\n",
       "    </tr>\n",
       "  </tbody>\n",
       "</table>\n",
       "</div>"
      ],
      "text/plain": [
       "              carat         depth         table         price             x  \\\n",
       "count  53940.000000  53940.000000  53940.000000  53940.000000  53940.000000   \n",
       "mean       0.797940     61.749405     57.457184   3932.799722      5.731157   \n",
       "std        0.474011      1.432621      2.234491   3989.439738      1.121761   \n",
       "min        0.200000     43.000000     43.000000    326.000000      0.000000   \n",
       "25%        0.400000     61.000000     56.000000    950.000000      4.710000   \n",
       "50%        0.700000     61.800000     57.000000   2401.000000      5.700000   \n",
       "75%        1.040000     62.500000     59.000000   5324.250000      6.540000   \n",
       "max        5.010000     79.000000     95.000000  18823.000000     10.740000   \n",
       "\n",
       "                  y             z  \n",
       "count  53940.000000  53940.000000  \n",
       "mean       5.734526      3.538734  \n",
       "std        1.142135      0.705699  \n",
       "min        0.000000      0.000000  \n",
       "25%        4.720000      2.910000  \n",
       "50%        5.710000      3.530000  \n",
       "75%        6.540000      4.040000  \n",
       "max       58.900000     31.800000  "
      ]
     },
     "execution_count": 4,
     "metadata": {},
     "output_type": "execute_result"
    }
   ],
   "source": [
    "df.describe()"
   ]
  },
  {
   "cell_type": "code",
   "execution_count": 5,
   "id": "f18a0daa-1ef4-4512-95d1-7e5793cd1341",
   "metadata": {},
   "outputs": [
    {
     "data": {
      "image/png": "[encoded data removed]",
      "text/plain": [
       "<Figure size 576x396 with 1 Axes>"
      ]
     },
     "metadata": {},
     "output_type": "display_data"
    }
   ],
   "source": [
    "df.hist(column='price', bins=20)\n",
    "plt.show()"
   ]
  },
  {
   "cell_type": "code",
   "execution_count": 6,
   "id": "568a8e4b-56c7-40e7-ac7c-41e1e989a573",
   "metadata": {},
   "outputs": [
    {
     "data": {
      "image/png": "[encoded data removed]",
      "text/plain": [
       "<Figure size 576x396 with 1 Axes>"
      ]
     },
     "metadata": {},
     "output_type": "display_data"
    },
    {
     "data": {
      "image/png": "[encoded data removed]",
      "text/plain": [
       "<Figure size 576x396 with 1 Axes>"
      ]
     },
     "metadata": {},
     "output_type": "display_data"
    },
    {
     "data": {
      "image/png": "[encoded data removed]",
      "text/plain": [
       "<Figure size 576x396 with 1 Axes>"
      ]
     },
     "metadata": {},
     "output_type": "display_data"
    }
   ],
   "source": [
    "for feature in df.dtypes[df.dtypes == object].index:\n",
    "    sns.countplot(y= feature, data= df)\n",
    "    plt.show()"
   ]
  },
  {
   "cell_type": "markdown",
   "id": "2cde9ef7-fdc4-4a97-a6ac-6b61be6fa692",
   "metadata": {
    "tags": []
   },
   "source": [
    "# Data Preprocessing"
   ]
  },
  {
   "cell_type": "code",
   "execution_count": 7,
   "id": "abd77394-24c9-4e35-b75b-6e78eed085f4",
   "metadata": {},
   "outputs": [
    {
     "name": "stdout",
     "output_type": "stream",
     "text": [
      "(8, 10)\n",
      "(7, 10)\n",
      "(20, 10)\n",
      "(0, 10)\n"
     ]
    }
   ],
   "source": [
    "for i in ['x', 'y', 'z', 'carat']:\n",
    "    print(df[df[i]==0].shape)"
   ]
  },
  {
   "cell_type": "code",
   "execution_count": 8,
   "id": "633f20b0-f7aa-4401-8360-1e245c0271e8",
   "metadata": {},
   "outputs": [
    {
     "data": {
      "text/plain": [
       "(53940, 10)"
      ]
     },
     "execution_count": 8,
     "metadata": {},
     "output_type": "execute_result"
    }
   ],
   "source": [
    "df.shape"
   ]
  },
  {
   "cell_type": "code",
   "execution_count": 9,
   "id": "cb2a38c6-bcf2-46eb-b5a1-54641f59b87d",
   "metadata": {},
   "outputs": [
    {
     "data": {
      "text/plain": [
       "(20, 10)"
      ]
     },
     "execution_count": 9,
     "metadata": {},
     "output_type": "execute_result"
    }
   ],
   "source": [
    "df[(df['x']==0)|(df['y']==0)|(df['z']==0)].shape"
   ]
  },
  {
   "cell_type": "code",
   "execution_count": 10,
   "id": "e681b45b-f8f3-4f36-83c4-9585885de54d",
   "metadata": {},
   "outputs": [
    {
     "data": {
      "text/plain": [
       "(53920, 10)"
      ]
     },
     "execution_count": 10,
     "metadata": {},
     "output_type": "execute_result"
    }
   ],
   "source": [
    "df = df[(df[['x','y','z']] != 0).all(axis=1)]\n",
    "df.shape"
   ]
  },
  {
   "cell_type": "code",
   "execution_count": 11,
   "id": "cd8a37b9-5a76-4959-bc21-321ce9f056ec",
   "metadata": {},
   "outputs": [],
   "source": [
    "df[\"volume\"] = df[\"x\"] * df[\"y\"] * df[\"z\"]\n",
    "df[\"density\"] = df[\"carat\"]*0.2/df[\"volume\"]"
   ]
  },
  {
   "cell_type": "code",
   "execution_count": 12,
   "id": "599e4ee6-7add-4952-8aa5-e58ae78af63d",
   "metadata": {},
   "outputs": [
    {
     "data": {
      "text/plain": [
       "<AxesSubplot:xlabel='count', ylabel='clarity'>"
      ]
     },
     "execution_count": 12,
     "metadata": {},
     "output_type": "execute_result"
    },
    {
     "data": {
      "image/png": "[encoded data removed]",
      "text/plain": [
       "<Figure size 576x396 with 1 Axes>"
      ]
     },
     "metadata": {},
     "output_type": "display_data"
    }
   ],
   "source": [
    "df.clarity.replace([\"VVS1\", \"VVS2\"], \"VVS\", inplace=True)\n",
    "df.clarity.replace([\"VS1\", \"VS2\"], \"VS\", inplace= True)\n",
    "df.clarity.replace([\"SI1\", \"SI2\"], \"SI\", inplace= True)\n",
    "df.clarity.replace(\"I1\", \"I\", inplace= True)\n",
    "\n",
    "sns.countplot(y=\"clarity\", data= df)"
   ]
  },
  {
   "cell_type": "code",
   "execution_count": 13,
   "id": "9d85aa08-d3ef-4fd6-b810-6f9f546a9d0e",
   "metadata": {},
   "outputs": [],
   "source": [
    "color_grades = {\n",
    "    \"Colorless\": [\"D\", \"E\", \"F\"],\n",
    "    \"Near Colorless\": [\"G\", \"H\", \"I\", \"J\"],\n",
    "    \"Faint Yellow\": [\"K\", \"L\", \"M\"],\n",
    "    \"Very Light Yellow\": [\"N\", \"O\", \"P\", \"Q\", \"R\"],\n",
    "    \"Light Yellow\": [\"S\", \"T\", \"U\", \"V\", \"W\", \"X\", \"Y\", \"Z\"]\n",
    "}\n",
    "\n",
    "color_grades2 = {}\n",
    "\n",
    "for key, item in color_grades.items():\n",
    "    for i in item:\n",
    "        color_grades2[i] = key"
   ]
  },
  {
   "cell_type": "code",
   "execution_count": 14,
   "id": "9a2f5e39-8a89-40fd-8503-c87bc37de212",
   "metadata": {},
   "outputs": [
    {
     "data": {
      "text/plain": [
       "<AxesSubplot:xlabel='count', ylabel='colorgrade'>"
      ]
     },
     "execution_count": 14,
     "metadata": {},
     "output_type": "execute_result"
    },
    {
     "data": {
      "image/png": "[encoded data removed]",
      "text/plain": [
       "<Figure size 576x396 with 1 Axes>"
      ]
     },
     "metadata": {},
     "output_type": "display_data"
    }
   ],
   "source": [
    "df['colorgrade'] = df['color'].map(color_grades2)\n",
    "\n",
    "sns.countplot(y=\"colorgrade\", data= df)"
   ]
  },
  {
   "cell_type": "code",
   "execution_count": 15,
   "id": "c3fbd8bb-c008-48b7-a97e-bafcef7489ca",
   "metadata": {},
   "outputs": [
    {
     "data": {
      "text/html": [
       "<div>\n",
       "<style scoped>\n",
       "    .dataframe tbody tr th:only-of-type {\n",
       "        vertical-align: middle;\n",
       "    }\n",
       "\n",
       "    .dataframe tbody tr th {\n",
       "        vertical-align: top;\n",
       "    }\n",
       "\n",
       "    .dataframe thead th {\n",
       "        text-align: right;\n",
       "    }\n",
       "</style>\n",
       "<table border=\"1\" class=\"dataframe\">\n",
       "  <thead>\n",
       "    <tr style=\"text-align: right;\">\n",
       "      <th></th>\n",
       "      <th>carat</th>\n",
       "      <th>depth</th>\n",
       "      <th>table</th>\n",
       "      <th>price</th>\n",
       "      <th>x</th>\n",
       "      <th>y</th>\n",
       "      <th>z</th>\n",
       "      <th>volume</th>\n",
       "      <th>density</th>\n",
       "      <th>cut_Good</th>\n",
       "      <th>...</th>\n",
       "      <th>color_F</th>\n",
       "      <th>color_G</th>\n",
       "      <th>color_H</th>\n",
       "      <th>color_I</th>\n",
       "      <th>color_J</th>\n",
       "      <th>clarity_IF</th>\n",
       "      <th>clarity_SI</th>\n",
       "      <th>clarity_VS</th>\n",
       "      <th>clarity_VVS</th>\n",
       "      <th>colorgrade_Near Colorless</th>\n",
       "    </tr>\n",
       "  </thead>\n",
       "  <tbody>\n",
       "    <tr>\n",
       "      <th>0</th>\n",
       "      <td>0.23</td>\n",
       "      <td>61.5</td>\n",
       "      <td>55.0</td>\n",
       "      <td>326</td>\n",
       "      <td>3.95</td>\n",
       "      <td>3.98</td>\n",
       "      <td>2.43</td>\n",
       "      <td>38.202030</td>\n",
       "      <td>0.001204</td>\n",
       "      <td>0</td>\n",
       "      <td>...</td>\n",
       "      <td>0</td>\n",
       "      <td>0</td>\n",
       "      <td>0</td>\n",
       "      <td>0</td>\n",
       "      <td>0</td>\n",
       "      <td>0</td>\n",
       "      <td>1</td>\n",
       "      <td>0</td>\n",
       "      <td>0</td>\n",
       "      <td>0</td>\n",
       "    </tr>\n",
       "    <tr>\n",
       "      <th>1</th>\n",
       "      <td>0.21</td>\n",
       "      <td>59.8</td>\n",
       "      <td>61.0</td>\n",
       "      <td>326</td>\n",
       "      <td>3.89</td>\n",
       "      <td>3.84</td>\n",
       "      <td>2.31</td>\n",
       "      <td>34.505856</td>\n",
       "      <td>0.001217</td>\n",
       "      <td>0</td>\n",
       "      <td>...</td>\n",
       "      <td>0</td>\n",
       "      <td>0</td>\n",
       "      <td>0</td>\n",
       "      <td>0</td>\n",
       "      <td>0</td>\n",
       "      <td>0</td>\n",
       "      <td>1</td>\n",
       "      <td>0</td>\n",
       "      <td>0</td>\n",
       "      <td>0</td>\n",
       "    </tr>\n",
       "    <tr>\n",
       "      <th>2</th>\n",
       "      <td>0.23</td>\n",
       "      <td>56.9</td>\n",
       "      <td>65.0</td>\n",
       "      <td>327</td>\n",
       "      <td>4.05</td>\n",
       "      <td>4.07</td>\n",
       "      <td>2.31</td>\n",
       "      <td>38.076885</td>\n",
       "      <td>0.001208</td>\n",
       "      <td>1</td>\n",
       "      <td>...</td>\n",
       "      <td>0</td>\n",
       "      <td>0</td>\n",
       "      <td>0</td>\n",
       "      <td>0</td>\n",
       "      <td>0</td>\n",
       "      <td>0</td>\n",
       "      <td>0</td>\n",
       "      <td>1</td>\n",
       "      <td>0</td>\n",
       "      <td>0</td>\n",
       "    </tr>\n",
       "    <tr>\n",
       "      <th>3</th>\n",
       "      <td>0.29</td>\n",
       "      <td>62.4</td>\n",
       "      <td>58.0</td>\n",
       "      <td>334</td>\n",
       "      <td>4.20</td>\n",
       "      <td>4.23</td>\n",
       "      <td>2.63</td>\n",
       "      <td>46.724580</td>\n",
       "      <td>0.001241</td>\n",
       "      <td>0</td>\n",
       "      <td>...</td>\n",
       "      <td>0</td>\n",
       "      <td>0</td>\n",
       "      <td>0</td>\n",
       "      <td>1</td>\n",
       "      <td>0</td>\n",
       "      <td>0</td>\n",
       "      <td>0</td>\n",
       "      <td>1</td>\n",
       "      <td>0</td>\n",
       "      <td>1</td>\n",
       "    </tr>\n",
       "    <tr>\n",
       "      <th>4</th>\n",
       "      <td>0.31</td>\n",
       "      <td>63.3</td>\n",
       "      <td>58.0</td>\n",
       "      <td>335</td>\n",
       "      <td>4.34</td>\n",
       "      <td>4.35</td>\n",
       "      <td>2.75</td>\n",
       "      <td>51.917250</td>\n",
       "      <td>0.001194</td>\n",
       "      <td>1</td>\n",
       "      <td>...</td>\n",
       "      <td>0</td>\n",
       "      <td>0</td>\n",
       "      <td>0</td>\n",
       "      <td>0</td>\n",
       "      <td>1</td>\n",
       "      <td>0</td>\n",
       "      <td>1</td>\n",
       "      <td>0</td>\n",
       "      <td>0</td>\n",
       "      <td>1</td>\n",
       "    </tr>\n",
       "  </tbody>\n",
       "</table>\n",
       "<p>5 rows × 24 columns</p>\n",
       "</div>"
      ],
      "text/plain": [
       "   carat  depth  table  price     x     y     z     volume   density  \\\n",
       "0   0.23   61.5   55.0    326  3.95  3.98  2.43  38.202030  0.001204   \n",
       "1   0.21   59.8   61.0    326  3.89  3.84  2.31  34.505856  0.001217   \n",
       "2   0.23   56.9   65.0    327  4.05  4.07  2.31  38.076885  0.001208   \n",
       "3   0.29   62.4   58.0    334  4.20  4.23  2.63  46.724580  0.001241   \n",
       "4   0.31   63.3   58.0    335  4.34  4.35  2.75  51.917250  0.001194   \n",
       "\n",
       "   cut_Good  ...  color_F  color_G  color_H  color_I  color_J  clarity_IF  \\\n",
       "0         0  ...        0        0        0        0        0           0   \n",
       "1         0  ...        0        0        0        0        0           0   \n",
       "2         1  ...        0        0        0        0        0           0   \n",
       "3         0  ...        0        0        0        1        0           0   \n",
       "4         1  ...        0        0        0        0        1           0   \n",
       "\n",
       "   clarity_SI  clarity_VS  clarity_VVS  colorgrade_Near Colorless  \n",
       "0           1           0            0                          0  \n",
       "1           1           0            0                          0  \n",
       "2           0           1            0                          0  \n",
       "3           0           1            0                          1  \n",
       "4           1           0            0                          1  \n",
       "\n",
       "[5 rows x 24 columns]"
      ]
     },
     "execution_count": 15,
     "metadata": {},
     "output_type": "execute_result"
    }
   ],
   "source": [
    "df2 = pd.get_dummies(df,columns=['cut', 'color', 'clarity','colorgrade'], drop_first=True)\n",
    "df2.head()"
   ]
  },
  {
   "cell_type": "code",
   "execution_count": 16,
   "id": "1ce6e8a7-e0b4-48cc-b6cb-fc620aae74f9",
   "metadata": {},
   "outputs": [
    {
     "data": {
      "text/html": [
       "<div>\n",
       "<style scoped>\n",
       "    .dataframe tbody tr th:only-of-type {\n",
       "        vertical-align: middle;\n",
       "    }\n",
       "\n",
       "    .dataframe tbody tr th {\n",
       "        vertical-align: top;\n",
       "    }\n",
       "\n",
       "    .dataframe thead th {\n",
       "        text-align: right;\n",
       "    }\n",
       "</style>\n",
       "<table border=\"1\" class=\"dataframe\">\n",
       "  <thead>\n",
       "    <tr style=\"text-align: right;\">\n",
       "      <th></th>\n",
       "      <th>carat</th>\n",
       "      <th>depth</th>\n",
       "      <th>table</th>\n",
       "      <th>price</th>\n",
       "      <th>x</th>\n",
       "      <th>y</th>\n",
       "      <th>z</th>\n",
       "      <th>volume</th>\n",
       "      <th>density</th>\n",
       "      <th>cut_Good</th>\n",
       "      <th>...</th>\n",
       "      <th>color_F</th>\n",
       "      <th>color_G</th>\n",
       "      <th>color_H</th>\n",
       "      <th>color_I</th>\n",
       "      <th>color_J</th>\n",
       "      <th>clarity_IF</th>\n",
       "      <th>clarity_SI</th>\n",
       "      <th>clarity_VS</th>\n",
       "      <th>clarity_VVS</th>\n",
       "      <th>colorgrade_Near Colorless</th>\n",
       "    </tr>\n",
       "  </thead>\n",
       "  <tbody>\n",
       "    <tr>\n",
       "      <th>0</th>\n",
       "      <td>-1.198204</td>\n",
       "      <td>-0.174203</td>\n",
       "      <td>-1.099725</td>\n",
       "      <td>-0.904132</td>\n",
       "      <td>-1.591573</td>\n",
       "      <td>-1.539219</td>\n",
       "      <td>-1.580084</td>\n",
       "      <td>-1.172291</td>\n",
       "      <td>-0.600011</td>\n",
       "      <td>-0.316234</td>\n",
       "      <td>...</td>\n",
       "      <td>-0.463581</td>\n",
       "      <td>-0.51445</td>\n",
       "      <td>-0.426481</td>\n",
       "      <td>-0.334328</td>\n",
       "      <td>-0.234389</td>\n",
       "      <td>-0.185303</td>\n",
       "      <td>1.193142</td>\n",
       "      <td>-0.780861</td>\n",
       "      <td>-0.439227</td>\n",
       "      <td>-1.032080</td>\n",
       "    </tr>\n",
       "    <tr>\n",
       "      <th>1</th>\n",
       "      <td>-1.240417</td>\n",
       "      <td>-1.361090</td>\n",
       "      <td>1.585988</td>\n",
       "      <td>-0.904132</td>\n",
       "      <td>-1.645173</td>\n",
       "      <td>-1.662014</td>\n",
       "      <td>-1.750896</td>\n",
       "      <td>-1.219546</td>\n",
       "      <td>-0.232588</td>\n",
       "      <td>-0.316234</td>\n",
       "      <td>...</td>\n",
       "      <td>-0.463581</td>\n",
       "      <td>-0.51445</td>\n",
       "      <td>-0.426481</td>\n",
       "      <td>-0.334328</td>\n",
       "      <td>-0.234389</td>\n",
       "      <td>-0.185303</td>\n",
       "      <td>1.193142</td>\n",
       "      <td>-0.780861</td>\n",
       "      <td>-0.439227</td>\n",
       "      <td>-1.032080</td>\n",
       "    </tr>\n",
       "    <tr>\n",
       "      <th>2</th>\n",
       "      <td>-1.198204</td>\n",
       "      <td>-3.385781</td>\n",
       "      <td>3.376463</td>\n",
       "      <td>-0.903881</td>\n",
       "      <td>-1.502241</td>\n",
       "      <td>-1.460280</td>\n",
       "      <td>-1.750896</td>\n",
       "      <td>-1.173891</td>\n",
       "      <td>-0.488674</td>\n",
       "      <td>3.162213</td>\n",
       "      <td>...</td>\n",
       "      <td>-0.463581</td>\n",
       "      <td>-0.51445</td>\n",
       "      <td>-0.426481</td>\n",
       "      <td>-0.334328</td>\n",
       "      <td>-0.234389</td>\n",
       "      <td>-0.185303</td>\n",
       "      <td>-0.838123</td>\n",
       "      <td>1.280637</td>\n",
       "      <td>-0.439227</td>\n",
       "      <td>-1.032080</td>\n",
       "    </tr>\n",
       "    <tr>\n",
       "      <th>3</th>\n",
       "      <td>-1.071566</td>\n",
       "      <td>0.454149</td>\n",
       "      <td>0.243131</td>\n",
       "      <td>-0.902125</td>\n",
       "      <td>-1.368242</td>\n",
       "      <td>-1.319943</td>\n",
       "      <td>-1.295396</td>\n",
       "      <td>-1.063334</td>\n",
       "      <td>0.446318</td>\n",
       "      <td>-0.316234</td>\n",
       "      <td>...</td>\n",
       "      <td>-0.463581</td>\n",
       "      <td>-0.51445</td>\n",
       "      <td>-0.426481</td>\n",
       "      <td>2.991071</td>\n",
       "      <td>-0.234389</td>\n",
       "      <td>-0.185303</td>\n",
       "      <td>-0.838123</td>\n",
       "      <td>1.280637</td>\n",
       "      <td>-0.439227</td>\n",
       "      <td>0.968918</td>\n",
       "    </tr>\n",
       "    <tr>\n",
       "      <th>4</th>\n",
       "      <td>-1.029353</td>\n",
       "      <td>1.082501</td>\n",
       "      <td>0.243131</td>\n",
       "      <td>-0.901875</td>\n",
       "      <td>-1.243176</td>\n",
       "      <td>-1.214690</td>\n",
       "      <td>-1.124583</td>\n",
       "      <td>-0.996948</td>\n",
       "      <td>-0.878989</td>\n",
       "      <td>3.162213</td>\n",
       "      <td>...</td>\n",
       "      <td>-0.463581</td>\n",
       "      <td>-0.51445</td>\n",
       "      <td>-0.426481</td>\n",
       "      <td>-0.334328</td>\n",
       "      <td>4.266413</td>\n",
       "      <td>-0.185303</td>\n",
       "      <td>1.193142</td>\n",
       "      <td>-0.780861</td>\n",
       "      <td>-0.439227</td>\n",
       "      <td>0.968918</td>\n",
       "    </tr>\n",
       "  </tbody>\n",
       "</table>\n",
       "<p>5 rows × 24 columns</p>\n",
       "</div>"
      ],
      "text/plain": [
       "      carat     depth     table     price         x         y         z  \\\n",
       "0 -1.198204 -0.174203 -1.099725 -0.904132 -1.591573 -1.539219 -1.580084   \n",
       "1 -1.240417 -1.361090  1.585988 -0.904132 -1.645173 -1.662014 -1.750896   \n",
       "2 -1.198204 -3.385781  3.376463 -0.903881 -1.502241 -1.460280 -1.750896   \n",
       "3 -1.071566  0.454149  0.243131 -0.902125 -1.368242 -1.319943 -1.295396   \n",
       "4 -1.029353  1.082501  0.243131 -0.901875 -1.243176 -1.214690 -1.124583   \n",
       "\n",
       "     volume   density  cut_Good  ...   color_F  color_G   color_H   color_I  \\\n",
       "0 -1.172291 -0.600011 -0.316234  ... -0.463581 -0.51445 -0.426481 -0.334328   \n",
       "1 -1.219546 -0.232588 -0.316234  ... -0.463581 -0.51445 -0.426481 -0.334328   \n",
       "2 -1.173891 -0.488674  3.162213  ... -0.463581 -0.51445 -0.426481 -0.334328   \n",
       "3 -1.063334  0.446318 -0.316234  ... -0.463581 -0.51445 -0.426481  2.991071   \n",
       "4 -0.996948 -0.878989  3.162213  ... -0.463581 -0.51445 -0.426481 -0.334328   \n",
       "\n",
       "    color_J  clarity_IF  clarity_SI  clarity_VS  clarity_VVS  \\\n",
       "0 -0.234389   -0.185303    1.193142   -0.780861    -0.439227   \n",
       "1 -0.234389   -0.185303    1.193142   -0.780861    -0.439227   \n",
       "2 -0.234389   -0.185303   -0.838123    1.280637    -0.439227   \n",
       "3 -0.234389   -0.185303   -0.838123    1.280637    -0.439227   \n",
       "4  4.266413   -0.185303    1.193142   -0.780861    -0.439227   \n",
       "\n",
       "   colorgrade_Near Colorless  \n",
       "0                  -1.032080  \n",
       "1                  -1.032080  \n",
       "2                  -1.032080  \n",
       "3                   0.968918  \n",
       "4                   0.968918  \n",
       "\n",
       "[5 rows x 24 columns]"
      ]
     },
     "execution_count": 16,
     "metadata": {},
     "output_type": "execute_result"
    }
   ],
   "source": [
    "from sklearn.preprocessing import StandardScaler\n",
    "\n",
    "scaler = StandardScaler()\n",
    "df_scaled = scaler.fit_transform(df2)\n",
    "df3 = pd.DataFrame(df_scaled, index=df2.index, columns=df2.columns)\n",
    "df3.head()"
   ]
  },
  {
   "cell_type": "markdown",
   "id": "8fbb63b4-18a8-4ec8-9b80-cc68b95772e2",
   "metadata": {},
   "source": [
    "# Feature Importance"
   ]
  },
  {
   "cell_type": "code",
   "execution_count": 17,
   "id": "568a6727-8216-4f9f-8df1-747c1abd6d3f",
   "metadata": {},
   "outputs": [],
   "source": [
    "X = df3.drop(columns=['price'])\n",
    "y = df3['price']"
   ]
  },
  {
   "cell_type": "code",
   "execution_count": 18,
   "id": "d793d1b2-cd97-484a-b787-26e9918d82cc",
   "metadata": {},
   "outputs": [],
   "source": [
    "from sklearn.feature_selection import RFE\n",
    "from sklearn.ensemble import RandomForestRegressor"
   ]
  },
  {
   "cell_type": "code",
   "execution_count": 19,
   "id": "35bff0eb-6055-4805-ad89-19d6f05c419a",
   "metadata": {},
   "outputs": [
    {
     "name": "stdout",
     "output_type": "stream",
     "text": [
      "Fitting estimator with 23 features.\n",
      "Fitting estimator with 22 features.\n",
      "Fitting estimator with 21 features.\n",
      "Fitting estimator with 20 features.\n",
      "Fitting estimator with 19 features.\n",
      "Fitting estimator with 18 features.\n",
      "Fitting estimator with 17 features.\n",
      "Fitting estimator with 16 features.\n",
      "Fitting estimator with 15 features.\n",
      "Fitting estimator with 14 features.\n",
      "Fitting estimator with 13 features.\n",
      "Fitting estimator with 12 features.\n",
      "Fitting estimator with 11 features.\n",
      "Fitting estimator with 10 features.\n",
      "Fitting estimator with 9 features.\n",
      "Fitting estimator with 8 features.\n",
      "Fitting estimator with 7 features.\n",
      "Fitting estimator with 6 features.\n"
     ]
    }
   ],
   "source": [
    "estimator = RandomForestRegressor()\n",
    "selector = RFE(estimator, verbose=True, n_features_to_select=5)\n",
    "selector = selector.fit(X, y)"
   ]
  },
  {
   "cell_type": "code",
   "execution_count": 20,
   "id": "0470843e-ed90-4061-87cf-b433abc7d458",
   "metadata": {},
   "outputs": [
    {
     "data": {
      "text/html": [
       "<div>\n",
       "<style scoped>\n",
       "    .dataframe tbody tr th:only-of-type {\n",
       "        vertical-align: middle;\n",
       "    }\n",
       "\n",
       "    .dataframe tbody tr th {\n",
       "        vertical-align: top;\n",
       "    }\n",
       "\n",
       "    .dataframe thead th {\n",
       "        text-align: right;\n",
       "    }\n",
       "</style>\n",
       "<table border=\"1\" class=\"dataframe\">\n",
       "  <thead>\n",
       "    <tr style=\"text-align: right;\">\n",
       "      <th></th>\n",
       "      <th>carat</th>\n",
       "      <th>y</th>\n",
       "      <th>volume</th>\n",
       "      <th>density</th>\n",
       "      <th>clarity_SI</th>\n",
       "    </tr>\n",
       "  </thead>\n",
       "  <tbody>\n",
       "    <tr>\n",
       "      <th>0</th>\n",
       "      <td>-1.198204</td>\n",
       "      <td>-1.539219</td>\n",
       "      <td>-1.172291</td>\n",
       "      <td>-0.600011</td>\n",
       "      <td>1.193142</td>\n",
       "    </tr>\n",
       "    <tr>\n",
       "      <th>1</th>\n",
       "      <td>-1.240417</td>\n",
       "      <td>-1.662014</td>\n",
       "      <td>-1.219546</td>\n",
       "      <td>-0.232588</td>\n",
       "      <td>1.193142</td>\n",
       "    </tr>\n",
       "    <tr>\n",
       "      <th>2</th>\n",
       "      <td>-1.198204</td>\n",
       "      <td>-1.460280</td>\n",
       "      <td>-1.173891</td>\n",
       "      <td>-0.488674</td>\n",
       "      <td>-0.838123</td>\n",
       "    </tr>\n",
       "    <tr>\n",
       "      <th>3</th>\n",
       "      <td>-1.071566</td>\n",
       "      <td>-1.319943</td>\n",
       "      <td>-1.063334</td>\n",
       "      <td>0.446318</td>\n",
       "      <td>-0.838123</td>\n",
       "    </tr>\n",
       "    <tr>\n",
       "      <th>4</th>\n",
       "      <td>-1.029353</td>\n",
       "      <td>-1.214690</td>\n",
       "      <td>-0.996948</td>\n",
       "      <td>-0.878989</td>\n",
       "      <td>1.193142</td>\n",
       "    </tr>\n",
       "  </tbody>\n",
       "</table>\n",
       "</div>"
      ],
      "text/plain": [
       "      carat         y    volume   density  clarity_SI\n",
       "0 -1.198204 -1.539219 -1.172291 -0.600011    1.193142\n",
       "1 -1.240417 -1.662014 -1.219546 -0.232588    1.193142\n",
       "2 -1.198204 -1.460280 -1.173891 -0.488674   -0.838123\n",
       "3 -1.071566 -1.319943 -1.063334  0.446318   -0.838123\n",
       "4 -1.029353 -1.214690 -0.996948 -0.878989    1.193142"
      ]
     },
     "execution_count": 20,
     "metadata": {},
     "output_type": "execute_result"
    }
   ],
   "source": [
    "X_selected = X[selector.get_feature_names_out()]\n",
    "X_selected.head()"
   ]
  },
  {
   "cell_type": "code",
   "execution_count": 21,
   "id": "83403b25-2a2b-40cd-ab8f-c5b21c3d3aae",
   "metadata": {},
   "outputs": [
    {
     "data": {
      "text/plain": [
       "RandomForestRegressor(random_state=0)"
      ]
     },
     "execution_count": 21,
     "metadata": {},
     "output_type": "execute_result"
    }
   ],
   "source": [
    "forest = RandomForestRegressor(random_state=0)\n",
    "forest.fit(X_selected, y)"
   ]
  },
  {
   "cell_type": "code",
   "execution_count": 22,
   "id": "e85f6bc7-ff63-4701-8c90-ecb6f59e31df",
   "metadata": {},
   "outputs": [
    {
     "data": {
      "image/png": "[encoded data removed]",
      "text/plain": [
       "<Figure size 576x396 with 1 Axes>"
      ]
     },
     "metadata": {},
     "output_type": "display_data"
    }
   ],
   "source": [
    "df_feature = pd.DataFrame(zip(selector.get_feature_names_out(),forest.feature_importances_), columns=['Feature', 'Importance']).sort_values('Importance')\n",
    "plt.barh(df_feature.Feature, df_feature.Importance)\n",
    "plt.show()"
   ]
  },
  {
   "cell_type": "code",
   "execution_count": 23,
   "id": "25c2a5a3-33ec-4700-9c2a-c5f6b9153cf5",
   "metadata": {},
   "outputs": [],
   "source": [
    "features = df_feature[df_feature['Importance']>0.01]['Feature'].tolist()"
   ]
  },
  {
   "cell_type": "code",
   "execution_count": 24,
   "id": "3d658555-0fc5-4485-9c87-480e2140132b",
   "metadata": {},
   "outputs": [],
   "source": [
    "X_features = X[features]"
   ]
  },
  {
   "cell_type": "markdown",
   "id": "45ad9514-2a4d-41c5-a8b3-a00a6d576ade",
   "metadata": {},
   "source": [
    "# Modeling"
   ]
  },
  {
   "cell_type": "code",
   "execution_count": 25,
   "id": "bd40052b-731c-48ca-bcd4-e45225973817",
   "metadata": {
    "id": "ocL_c0eIyuSv"
   },
   "outputs": [],
   "source": [
    "from xgboost import XGBRegressor"
   ]
  },
  {
   "cell_type": "code",
   "execution_count": 26,
   "id": "3de8dcb1-3ab4-4c21-8a10-4229e8f9f11c",
   "metadata": {},
   "outputs": [],
   "source": [
    "from sklearn.model_selection import train_test_split\n",
    "X_train, X_test, y_train, y_test = train_test_split(X_features, y, test_size=0.25, random_state=42)"
   ]
  },
  {
   "cell_type": "code",
   "execution_count": 27,
   "id": "ba7536e2-36af-4317-8fa4-5eca0d774dd3",
   "metadata": {},
   "outputs": [
    {
     "data": {
      "text/plain": [
       "XGBRegressor(base_score=None, booster=None, callbacks=None,\n",
       "             colsample_bylevel=None, colsample_bynode=None,\n",
       "             colsample_bytree=None, early_stopping_rounds=None,\n",
       "             enable_categorical=False, eval_metric='mae', feature_types=None,\n",
       "             gamma=None, gpu_id=None, grow_policy=None, importance_type=None,\n",
       "             interaction_constraints=None, learning_rate=None, max_bin=None,\n",
       "             max_cat_threshold=None, max_cat_to_onehot=None,\n",
       "             max_delta_step=None, max_depth=None, max_leaves=None,\n",
       "             min_child_weight=None, missing=nan, monotone_constraints=None,\n",
       "             n_estimators=100, n_jobs=None, num_parallel_tree=None,\n",
       "             predictor=None, random_state=None, ...)"
      ]
     },
     "execution_count": 27,
     "metadata": {},
     "output_type": "execute_result"
    }
   ],
   "source": [
    "model = XGBRegressor(eval_metric='mae')\n",
    "model.fit(X_train, y_train)"
   ]
  },
  {
   "cell_type": "code",
   "execution_count": 28,
   "id": "2273200f-0912-4d28-9891-ed04fe4f7510",
   "metadata": {},
   "outputs": [],
   "source": [
    "y_pred = model.predict(X_test)"
   ]
  },
  {
   "cell_type": "code",
   "execution_count": 29,
   "id": "c3ea2c6b-a2f5-4a4c-98fd-4201aaebe5a2",
   "metadata": {},
   "outputs": [
    {
     "name": "stdout",
     "output_type": "stream",
     "text": [
      "0.08852343499353162\n",
      "0.2975288809402066\n"
     ]
    }
   ],
   "source": [
    "from sklearn.metrics import mean_squared_error\n",
    "import math \n",
    "print(mean_squared_error(y_test, y_pred))\n",
    "print(math.sqrt(mean_squared_error(y_test, y_pred)))"
   ]
  },
  {
   "cell_type": "code",
   "execution_count": 30,
   "id": "6827fe79-ce0d-44ae-9dac-3da433d6e6bc",
   "metadata": {},
   "outputs": [
    {
     "name": "stdout",
     "output_type": "stream",
     "text": [
      "0.1610888368923911\n"
     ]
    }
   ],
   "source": [
    "from sklearn.metrics import mean_absolute_error\n",
    "print(mean_absolute_error(y_test, y_pred))"
   ]
  },
  {
   "cell_type": "markdown",
   "id": "0b02d1b8-7273-4c75-b4aa-86e5bf8ab1fd",
   "metadata": {},
   "source": [
    "# CNN"
   ]
  },
  {
   "cell_type": "markdown",
   "id": "8e2f1274-5cd4-4f64-9405-6ee829e9419d",
   "metadata": {},
   "source": [
    "https://www.datatechnotes.com/2019/12/how-to-fit-regression-data-with-cnn.html"
   ]
  },
  {
   "cell_type": "code",
   "execution_count": 38,
   "id": "b3676269-9b5c-4965-a38d-9751a09b783e",
   "metadata": {},
   "outputs": [],
   "source": [
    "import tensorflow as tf\n",
    "from keras.models import Sequential\n",
    "from keras.layers import Dense, Conv1D, Flatten, Dropout"
   ]
  },
  {
   "cell_type": "code",
   "execution_count": 39,
   "id": "8017dad6-7364-48db-98fd-d3da6a99a0cc",
   "metadata": {},
   "outputs": [],
   "source": [
    "X = df2.drop(columns=['price'])\n",
    "y = df2['price']"
   ]
  },
  {
   "cell_type": "code",
   "execution_count": 40,
   "id": "4f319744-ec59-42d6-8807-fd88679ad634",
   "metadata": {},
   "outputs": [
    {
     "name": "stdout",
     "output_type": "stream",
     "text": [
      "(53920, 23, 1)\n"
     ]
    }
   ],
   "source": [
    "x = X.values.reshape(X.shape[0], X.shape[1], 1)\n",
    "print(x.shape)"
   ]
  },
  {
   "cell_type": "code",
   "execution_count": 41,
   "id": "76de2503-a664-434e-b210-7b0cbdce6268",
   "metadata": {},
   "outputs": [],
   "source": [
    "x_train, x_test, y_train, y_test = train_test_split(x, y, test_size=0.2, random_state=42)"
   ]
  },
  {
   "cell_type": "code",
   "execution_count": 42,
   "id": "91269838-1909-4944-92e1-07f7146111ae",
   "metadata": {},
   "outputs": [
    {
     "name": "stdout",
     "output_type": "stream",
     "text": [
      "Model: \"sequential_1\"\n",
      "_________________________________________________________________\n",
      " Layer (type)                Output Shape              Param #   \n",
      "=================================================================\n",
      " conv1d_1 (Conv1D)           (None, 22, 64)            192       \n",
      "                                                                 \n",
      " dense_3 (Dense)             (None, 22, 32)            2080      \n",
      "                                                                 \n",
      " flatten_1 (Flatten)         (None, 704)               0         \n",
      "                                                                 \n",
      " dropout1 (Dropout)          (None, 704)               0         \n",
      "                                                                 \n",
      " dense_4 (Dense)             (None, 128)               90240     \n",
      "                                                                 \n",
      " dropout2 (Dropout)          (None, 128)               0         \n",
      "                                                                 \n",
      " dense_5 (Dense)             (None, 1)                 129       \n",
      "                                                                 \n",
      "=================================================================\n",
      "Total params: 92,641\n",
      "Trainable params: 92,641\n",
      "Non-trainable params: 0\n",
      "_________________________________________________________________\n"
     ]
    }
   ],
   "source": [
    "model = Sequential([\n",
    "Conv1D(64, 2, activation=\"relu\", input_shape=(23, 1)),\n",
    "Dense(32, activation='relu'),\n",
    "Flatten(),\n",
    "Dropout(0.25, name=\"dropout1\"),\n",
    "Dense(128, activation='relu'),\n",
    "Dropout(0.25, name=\"dropout2\"),\n",
    "Dense(1)\n",
    "])\n",
    "\n",
    "model.summary()"
   ]
  },
  {
   "cell_type": "code",
   "execution_count": 43,
   "id": "5b655b51-1b94-4b34-9b99-1987c6355d5f",
   "metadata": {},
   "outputs": [],
   "source": [
    "early_stop = tf.keras.callbacks.EarlyStopping(monitor='val_loss', patience=3, restore_best_weights=True)\n",
    "METRICS = [tf.keras.metrics.MeanAbsoluteError(name=\"mean_absolute_error\", dtype=None)]\n",
    "model.compile(loss='mse', optimizer='rmsprop', metrics=METRICS)"
   ]
  },
  {
   "cell_type": "code",
   "execution_count": 44,
   "id": "7ce68410-8f8a-473c-a8c6-a4aa9822f199",
   "metadata": {},
   "outputs": [
    {
     "name": "stdout",
     "output_type": "stream",
     "text": [
      "Epoch 1/100\n",
      "1295/1295 [==============================] - 4s 2ms/step - loss: 3618735.7500 - mean_absolute_error: 1151.7512 - val_loss: 9125672.0000 - val_mean_absolute_error: 818.4738\n",
      "Epoch 2/100\n",
      "1295/1295 [==============================] - 3s 2ms/step - loss: 2462390.5000 - mean_absolute_error: 912.7097 - val_loss: 11391208.0000 - val_mean_absolute_error: 873.9557\n",
      "Epoch 3/100\n",
      "1295/1295 [==============================] - 3s 2ms/step - loss: 2244505.7500 - mean_absolute_error: 870.3547 - val_loss: 10624791.0000 - val_mean_absolute_error: 759.4993\n",
      "Epoch 4/100\n",
      "1295/1295 [==============================] - 3s 2ms/step - loss: 2205796.2500 - mean_absolute_error: 852.0938 - val_loss: 10338223.0000 - val_mean_absolute_error: 691.9411\n"
     ]
    }
   ],
   "source": [
    "history = model.fit(x_train, y_train, epochs=100, validation_split=0.1, batch_size=30, shuffle=True, callbacks=[early_stop])"
   ]
  },
  {
   "cell_type": "code",
   "execution_count": 45,
   "id": "4bb1b7ad-a445-461f-a707-9453008f93eb",
   "metadata": {},
   "outputs": [
    {
     "data": {
      "image/png": "[encoded data removed]",
      "text/plain": [
       "<Figure size 576x396 with 1 Axes>"
      ]
     },
     "metadata": {},
     "output_type": "display_data"
    },
    {
     "data": {
      "image/png": "[encoded data removed]",
      "text/plain": [
       "<Figure size 576x396 with 1 Axes>"
      ]
     },
     "metadata": {},
     "output_type": "display_data"
    }
   ],
   "source": [
    "history_dict = history.history\n",
    "\n",
    "acc = history_dict['mean_absolute_error']\n",
    "val_acc = history_dict['val_mean_absolute_error']\n",
    "loss = history_dict['loss']\n",
    "val_loss = history_dict['val_loss']\n",
    "\n",
    "epochs = history.epoch\n",
    "\n",
    "# plt.figure(figsize=(10,6))\n",
    "plt.plot(epochs, loss, 'r', label='Training loss')\n",
    "plt.plot(epochs, val_loss, 'b', label='Validation loss')\n",
    "plt.title('Training and validation loss', size=15)\n",
    "plt.xlabel('Epochs', size=15)\n",
    "plt.ylabel('Loss', size=15)\n",
    "plt.legend(prop={'size': 15})\n",
    "plt.show()\n",
    "\n",
    "# plt.figure(figsize=(10,6))\n",
    "plt.plot(epochs, acc, 'g', label='Training MAE')\n",
    "plt.plot(epochs, val_acc, 'b', label='Validation MAE')\n",
    "plt.title('Training and validation accuracy', size=15)\n",
    "plt.xlabel('Epochs', size=15)\n",
    "plt.ylabel('MAE', size=15)\n",
    "plt.legend(prop={'size': 15})\n",
    "# plt.ylim((0.5,1))\n",
    "plt.show()"
   ]
  },
  {
   "cell_type": "code",
   "execution_count": 46,
   "id": "29f06f6a-4704-4da6-a31e-d29a6c66d2bf",
   "metadata": {},
   "outputs": [
    {
     "name": "stdout",
     "output_type": "stream",
     "text": [
      "1348/1348 [==============================] - 2s 1ms/step - loss: 2698970.7500 - mean_absolute_error: 755.0973\n",
      "[2698970.75, 755.0972900390625]\n"
     ]
    }
   ],
   "source": [
    "print(model.evaluate(x_train, y_train))"
   ]
  },
  {
   "cell_type": "code",
   "execution_count": 47,
   "id": "d7c36783-27fc-4e98-bc64-101f7560ac57",
   "metadata": {},
   "outputs": [
    {
     "name": "stdout",
     "output_type": "stream",
     "text": [
      "337/337 [==============================] - 0s 1ms/step\n"
     ]
    }
   ],
   "source": [
    "ypred = model.predict(x_test)"
   ]
  },
  {
   "cell_type": "code",
   "execution_count": 48,
   "id": "68ca2c2d-0a31-40cf-9e14-228a18c2ed85",
   "metadata": {},
   "outputs": [
    {
     "name": "stdout",
     "output_type": "stream",
     "text": [
      "MAE: 750.4211\n"
     ]
    }
   ],
   "source": [
    "print(\"MAE: %.4f\" % mean_absolute_error(y_test, ypred))"
   ]
  },
  {
   "cell_type": "markdown",
   "id": "2651de47-b6ab-4724-9696-0e2b0b32a475",
   "metadata": {},
   "source": [
    "# LSTM"
   ]
  },
  {
   "cell_type": "code",
   "execution_count": 53,
   "id": "3a5c4d80-73db-4c2b-9013-a717af725d6f",
   "metadata": {},
   "outputs": [],
   "source": [
    "X = df2.drop(columns=['price'])\n",
    "y = df2['price']"
   ]
  },
  {
   "cell_type": "code",
   "execution_count": 61,
   "id": "daabbefc-0384-42fe-81be-62d6eabdb1f5",
   "metadata": {},
   "outputs": [
    {
     "name": "stdout",
     "output_type": "stream",
     "text": [
      "(53920, 23, 1)\n"
     ]
    }
   ],
   "source": [
    "x = X.values.reshape(X.shape[0], X.shape[1], 1)\n",
    "print(x.shape)"
   ]
  },
  {
   "cell_type": "code",
   "execution_count": 62,
   "id": "8665a741-3469-4015-80d8-05b4f897473c",
   "metadata": {},
   "outputs": [],
   "source": [
    "x_train, x_test, y_train, y_test = train_test_split(x, y, test_size=0.2, random_state=42)"
   ]
  },
  {
   "cell_type": "code",
   "execution_count": 63,
   "id": "50fe87ec-d177-437d-86c2-00a1ec5b75f9",
   "metadata": {},
   "outputs": [],
   "source": [
    "model = tf.keras.Sequential([\n",
    "    tf.keras.layers.Bidirectional(tf.keras.layers.LSTM(64,  return_sequences=True, dropout=0.5, input_shape=(x_train.shape[1], x_train.shape[-1]))),\n",
    "    tf.keras.layers.Bidirectional(tf.keras.layers.LSTM(16, dropout=0.5)),\n",
    "    tf.keras.layers.Dense(1)\n",
    "])"
   ]
  },
  {
   "cell_type": "code",
   "execution_count": 64,
   "id": "78f1813b-1161-4ba4-9f09-c948f897af83",
   "metadata": {},
   "outputs": [],
   "source": [
    "early_stop = tf.keras.callbacks.EarlyStopping(monitor='val_loss', patience=3, restore_best_weights=True)\n",
    "METRICS = [tf.keras.metrics.MeanAbsoluteError(name=\"mean_absolute_error\", dtype=None)]\n",
    "model.compile(loss='mse', optimizer=tf.keras.optimizers.Adam(1e-4), metrics=METRICS)"
   ]
  },
  {
   "cell_type": "code",
   "execution_count": 66,
   "id": "a3beed2c-e58d-4aa3-8fe8-4c90b10a778f",
   "metadata": {
    "scrolled": true,
    "tags": []
   },
   "outputs": [
    {
     "name": "stdout",
     "output_type": "stream",
     "text": [
      "Epoch 1/100\n",
      "1295/1295 [==============================] - 32s 20ms/step - loss: 31072288.0000 - mean_absolute_error: 3910.9778 - val_loss: 32585402.0000 - val_mean_absolute_error: 3991.9907\n",
      "Epoch 2/100\n",
      "1295/1295 [==============================] - 26s 20ms/step - loss: 31030238.0000 - mean_absolute_error: 3905.5896 - val_loss: 32550606.0000 - val_mean_absolute_error: 3987.6296\n",
      "Epoch 3/100\n",
      "1295/1295 [==============================] - 27s 21ms/step - loss: 30996746.0000 - mean_absolute_error: 3901.2981 - val_loss: 32516858.0000 - val_mean_absolute_error: 3983.3926\n",
      "Epoch 4/100\n",
      "1295/1295 [==============================] - 31s 24ms/step - loss: 30963884.0000 - mean_absolute_error: 3897.0789 - val_loss: 32483346.0000 - val_mean_absolute_error: 3979.1897\n",
      "Epoch 5/100\n",
      "1295/1295 [==============================] - 39s 30ms/step - loss: 30931048.0000 - mean_absolute_error: 3892.8867 - val_loss: 32449848.0000 - val_mean_absolute_error: 3974.9824\n",
      "Epoch 6/100\n",
      "1295/1295 [==============================] - 42s 33ms/step - loss: 30898386.0000 - mean_absolute_error: 3888.6755 - val_loss: 32416546.0000 - val_mean_absolute_error: 3970.7896\n",
      "Epoch 7/100\n",
      "1295/1295 [==============================] - 41s 32ms/step - loss: 30865812.0000 - mean_absolute_error: 3884.4766 - val_loss: 32383296.0000 - val_mean_absolute_error: 3966.5920\n",
      "Epoch 8/100\n",
      "1295/1295 [==============================] - 39s 30ms/step - loss: 30833298.0000 - mean_absolute_error: 3880.2847 - val_loss: 32350034.0000 - val_mean_absolute_error: 3962.3972\n",
      "Epoch 9/100\n",
      "1295/1295 [==============================] - 38s 29ms/step - loss: 30800704.0000 - mean_absolute_error: 3876.0876 - val_loss: 32316780.0000 - val_mean_absolute_error: 3958.1985\n",
      "Epoch 10/100\n",
      "1295/1295 [==============================] - 39s 30ms/step - loss: 30768228.0000 - mean_absolute_error: 3871.8892 - val_loss: 32283564.0000 - val_mean_absolute_error: 3953.9985\n",
      "Epoch 11/100\n",
      "1295/1295 [==============================] - 39s 30ms/step - loss: 30735692.0000 - mean_absolute_error: 3867.6941 - val_loss: 32250346.0000 - val_mean_absolute_error: 3949.7979\n",
      "Epoch 12/100\n",
      "1295/1295 [==============================] - 39s 30ms/step - loss: 30703240.0000 - mean_absolute_error: 3863.4958 - val_loss: 32217234.0000 - val_mean_absolute_error: 3945.6147\n",
      "Epoch 13/100\n",
      "1295/1295 [==============================] - 40s 31ms/step - loss: 30670834.0000 - mean_absolute_error: 3859.2947 - val_loss: 32184112.0000 - val_mean_absolute_error: 3941.4153\n",
      "Epoch 14/100\n",
      "1295/1295 [==============================] - 37s 29ms/step - loss: 30638422.0000 - mean_absolute_error: 3855.1035 - val_loss: 32151040.0000 - val_mean_absolute_error: 3937.2156\n",
      "Epoch 15/100\n",
      "1295/1295 [==============================] - 35s 27ms/step - loss: 30606092.0000 - mean_absolute_error: 3850.9065 - val_loss: 32118056.0000 - val_mean_absolute_error: 3933.0227\n",
      "Epoch 16/100\n",
      "1295/1295 [==============================] - 35s 27ms/step - loss: 30573764.0000 - mean_absolute_error: 3846.7087 - val_loss: 32084996.0000 - val_mean_absolute_error: 3928.8215\n",
      "Epoch 17/100\n",
      "1295/1295 [==============================] - 35s 27ms/step - loss: 30541468.0000 - mean_absolute_error: 3842.5142 - val_loss: 32052042.0000 - val_mean_absolute_error: 3924.6221\n",
      "Epoch 18/100\n",
      "1295/1295 [==============================] - 35s 27ms/step - loss: 30509356.0000 - mean_absolute_error: 3838.3066 - val_loss: 32019240.0000 - val_mean_absolute_error: 3920.4316\n",
      "Epoch 19/100\n",
      "1295/1295 [==============================] - 35s 27ms/step - loss: 30477168.0000 - mean_absolute_error: 3834.1226 - val_loss: 31986346.0000 - val_mean_absolute_error: 3916.2485\n",
      "Epoch 20/100\n",
      "1295/1295 [==============================] - 35s 27ms/step - loss: 30445042.0000 - mean_absolute_error: 3829.9338 - val_loss: 31953510.0000 - val_mean_absolute_error: 3912.0505\n",
      "Epoch 21/100\n",
      "1295/1295 [==============================] - 33s 26ms/step - loss: 30412968.0000 - mean_absolute_error: 3825.7344 - val_loss: 31920742.0000 - val_mean_absolute_error: 3907.8562\n",
      "Epoch 22/100\n",
      "1295/1295 [==============================] - 33s 26ms/step - loss: 30380864.0000 - mean_absolute_error: 3821.5481 - val_loss: 31887946.0000 - val_mean_absolute_error: 3903.6575\n",
      "Epoch 23/100\n",
      "1295/1295 [==============================] - 33s 25ms/step - loss: 30348792.0000 - mean_absolute_error: 3817.3552 - val_loss: 31855134.0000 - val_mean_absolute_error: 3899.4558\n",
      "Epoch 24/100\n",
      "1295/1295 [==============================] - 34s 27ms/step - loss: 30316726.0000 - mean_absolute_error: 3813.1472 - val_loss: 31822458.0000 - val_mean_absolute_error: 3895.2573\n",
      "Epoch 25/100\n",
      "1295/1295 [==============================] - 25s 19ms/step - loss: 30284752.0000 - mean_absolute_error: 3808.9590 - val_loss: 31789818.0000 - val_mean_absolute_error: 3891.0635\n",
      "Epoch 26/100\n",
      "1295/1295 [==============================] - 25s 19ms/step - loss: 30252884.0000 - mean_absolute_error: 3804.7585 - val_loss: 31757298.0000 - val_mean_absolute_error: 3886.8884\n",
      "Epoch 27/100\n",
      "1295/1295 [==============================] - 25s 20ms/step - loss: 30221046.0000 - mean_absolute_error: 3800.5774 - val_loss: 31724720.0000 - val_mean_absolute_error: 3882.6919\n",
      "Epoch 28/100\n",
      "1295/1295 [==============================] - 26s 20ms/step - loss: 30189148.0000 - mean_absolute_error: 3796.3901 - val_loss: 31692168.0000 - val_mean_absolute_error: 3878.4968\n",
      "Epoch 29/100\n",
      "1295/1295 [==============================] - 30s 23ms/step - loss: 30157336.0000 - mean_absolute_error: 3792.1936 - val_loss: 31659692.0000 - val_mean_absolute_error: 3874.3157\n",
      "Epoch 30/100\n",
      "1295/1295 [==============================] - 32s 25ms/step - loss: 30125556.0000 - mean_absolute_error: 3788.0027 - val_loss: 31627178.0000 - val_mean_absolute_error: 3870.1169\n",
      "Epoch 31/100\n",
      "1295/1295 [==============================] - 32s 25ms/step - loss: 30093854.0000 - mean_absolute_error: 3783.8059 - val_loss: 31594780.0000 - val_mean_absolute_error: 3865.9238\n",
      "Epoch 32/100\n",
      "1295/1295 [==============================] - 29s 23ms/step - loss: 30062118.0000 - mean_absolute_error: 3779.6199 - val_loss: 31562332.0000 - val_mean_absolute_error: 3861.7239\n",
      "Epoch 33/100\n",
      "1295/1295 [==============================] - 32s 25ms/step - loss: 30030452.0000 - mean_absolute_error: 3775.4226 - val_loss: 31530032.0000 - val_mean_absolute_error: 3857.5483\n",
      "Epoch 34/100\n",
      "1295/1295 [==============================] - 44s 34ms/step - loss: 29998816.0000 - mean_absolute_error: 3771.2324 - val_loss: 31497672.0000 - val_mean_absolute_error: 3853.3503\n",
      "Epoch 35/100\n",
      "1295/1295 [==============================] - 52s 40ms/step - loss: 29967154.0000 - mean_absolute_error: 3767.0386 - val_loss: 31465324.0000 - val_mean_absolute_error: 3849.1501\n",
      "Epoch 36/100\n",
      "1295/1295 [==============================] - 58s 45ms/step - loss: 29935580.0000 - mean_absolute_error: 3762.8430 - val_loss: 31433064.0000 - val_mean_absolute_error: 3844.9553\n",
      "Epoch 37/100\n",
      "1295/1295 [==============================] - 47s 36ms/step - loss: 29904070.0000 - mean_absolute_error: 3758.6489 - val_loss: 31400880.0000 - val_mean_absolute_error: 3840.7593\n",
      "Epoch 38/100\n",
      "1295/1295 [==============================] - 39s 30ms/step - loss: 29872546.0000 - mean_absolute_error: 3754.4543 - val_loss: 31368658.0000 - val_mean_absolute_error: 3836.5635\n",
      "Epoch 39/100\n",
      "1295/1295 [==============================] - 47s 36ms/step - loss: 29841116.0000 - mean_absolute_error: 3750.2603 - val_loss: 31336554.0000 - val_mean_absolute_error: 3832.3835\n",
      "Epoch 40/100\n",
      "1295/1295 [==============================] - 49s 38ms/step - loss: 29809690.0000 - mean_absolute_error: 3746.0688 - val_loss: 31304438.0000 - val_mean_absolute_error: 3828.1902\n",
      "Epoch 41/100\n",
      "1295/1295 [==============================] - 48s 37ms/step - loss: 29778334.0000 - mean_absolute_error: 3741.8750 - val_loss: 31272438.0000 - val_mean_absolute_error: 3824.0129\n",
      "Epoch 42/100\n",
      "1295/1295 [==============================] - 41s 32ms/step - loss: 29747030.0000 - mean_absolute_error: 3737.6931 - val_loss: 31240360.0000 - val_mean_absolute_error: 3819.8167\n",
      "Epoch 43/100\n",
      "1295/1295 [==============================] - 42s 33ms/step - loss: 29715736.0000 - mean_absolute_error: 3733.4954 - val_loss: 31208408.0000 - val_mean_absolute_error: 3815.6240\n",
      "Epoch 44/100\n",
      "1295/1295 [==============================] - 35s 27ms/step - loss: 29684360.0000 - mean_absolute_error: 3729.3188 - val_loss: 31176324.0000 - val_mean_absolute_error: 3811.4231\n",
      "Epoch 45/100\n",
      "1295/1295 [==============================] - 34s 27ms/step - loss: 29653130.0000 - mean_absolute_error: 3725.1094 - val_loss: 31144430.0000 - val_mean_absolute_error: 3807.2302\n",
      "Epoch 46/100\n",
      "1295/1295 [==============================] - 36s 28ms/step - loss: 29621884.0000 - mean_absolute_error: 3720.9224 - val_loss: 31112510.0000 - val_mean_absolute_error: 3803.0320\n",
      "Epoch 47/100\n",
      "1295/1295 [==============================] - 34s 26ms/step - loss: 29590712.0000 - mean_absolute_error: 3716.7368 - val_loss: 31080594.0000 - val_mean_absolute_error: 3798.8484\n",
      "Epoch 48/100\n",
      "1295/1295 [==============================] - 35s 27ms/step - loss: 29559588.0000 - mean_absolute_error: 3712.5325 - val_loss: 31048864.0000 - val_mean_absolute_error: 3794.6584\n",
      "Epoch 49/100\n",
      "1295/1295 [==============================] - 36s 28ms/step - loss: 29528514.0000 - mean_absolute_error: 3708.3655 - val_loss: 31017062.0000 - val_mean_absolute_error: 3790.4639\n",
      "Epoch 50/100\n",
      "1295/1295 [==============================] - 36s 28ms/step - loss: 29497432.0000 - mean_absolute_error: 3704.1685 - val_loss: 30985344.0000 - val_mean_absolute_error: 3786.2881\n",
      "Epoch 51/100\n",
      "1295/1295 [==============================] - 35s 27ms/step - loss: 29466472.0000 - mean_absolute_error: 3699.9829 - val_loss: 30953672.0000 - val_mean_absolute_error: 3782.0925\n",
      "Epoch 52/100\n",
      "1295/1295 [==============================] - 34s 27ms/step - loss: 29435478.0000 - mean_absolute_error: 3695.7935 - val_loss: 30921974.0000 - val_mean_absolute_error: 3777.8989\n",
      "Epoch 53/100\n",
      "1295/1295 [==============================] - 42s 33ms/step - loss: 29404576.0000 - mean_absolute_error: 3691.5938 - val_loss: 30890426.0000 - val_mean_absolute_error: 3773.7246\n",
      "Epoch 54/100\n",
      "1295/1295 [==============================] - 38s 30ms/step - loss: 29373602.0000 - mean_absolute_error: 3687.4214 - val_loss: 30858700.0000 - val_mean_absolute_error: 3769.5234\n",
      "Epoch 55/100\n",
      "1295/1295 [==============================] - 34s 27ms/step - loss: 29342768.0000 - mean_absolute_error: 3683.2139 - val_loss: 30827228.0000 - val_mean_absolute_error: 3765.3501\n",
      "Epoch 56/100\n",
      "1295/1295 [==============================] - 37s 29ms/step - loss: 29311932.0000 - mean_absolute_error: 3679.0413 - val_loss: 30795640.0000 - val_mean_absolute_error: 3761.1548\n",
      "Epoch 57/100\n",
      "1295/1295 [==============================] - 42s 32ms/step - loss: 29281110.0000 - mean_absolute_error: 3674.8499 - val_loss: 30764156.0000 - val_mean_absolute_error: 3756.9573\n",
      "Epoch 58/100\n",
      "1295/1295 [==============================] - 39s 30ms/step - loss: 29250390.0000 - mean_absolute_error: 3670.6572 - val_loss: 30732722.0000 - val_mean_absolute_error: 3752.7815\n",
      "Epoch 59/100\n",
      "1295/1295 [==============================] - 37s 28ms/step - loss: 29219666.0000 - mean_absolute_error: 3666.4653 - val_loss: 30701338.0000 - val_mean_absolute_error: 3748.5903\n",
      "Epoch 60/100\n",
      "1295/1295 [==============================] - 38s 30ms/step - loss: 29189004.0000 - mean_absolute_error: 3662.2769 - val_loss: 30669998.0000 - val_mean_absolute_error: 3744.4153\n",
      "Epoch 61/100\n",
      "1295/1295 [==============================] - 35s 27ms/step - loss: 29158320.0000 - mean_absolute_error: 3658.0950 - val_loss: 30638608.0000 - val_mean_absolute_error: 3740.2168\n",
      "Epoch 62/100\n",
      "1295/1295 [==============================] - 35s 27ms/step - loss: 29127678.0000 - mean_absolute_error: 3653.9114 - val_loss: 30607240.0000 - val_mean_absolute_error: 3736.0220\n",
      "Epoch 63/100\n",
      "1295/1295 [==============================] - 35s 27ms/step - loss: 29097048.0000 - mean_absolute_error: 3649.7148 - val_loss: 30575990.0000 - val_mean_absolute_error: 3731.8306\n",
      "Epoch 64/100\n",
      "1295/1295 [==============================] - 35s 27ms/step - loss: 29066510.0000 - mean_absolute_error: 3645.5300 - val_loss: 30544782.0000 - val_mean_absolute_error: 3727.6548\n",
      "Epoch 65/100\n",
      "1295/1295 [==============================] - 32s 25ms/step - loss: 29036014.0000 - mean_absolute_error: 3641.3416 - val_loss: 30513602.0000 - val_mean_absolute_error: 3723.4592\n",
      "Epoch 66/100\n",
      "1295/1295 [==============================] - 30s 23ms/step - loss: 29005570.0000 - mean_absolute_error: 3637.1616 - val_loss: 30482382.0000 - val_mean_absolute_error: 3719.2656\n",
      "Epoch 67/100\n",
      "1295/1295 [==============================] - 29s 22ms/step - loss: 28975082.0000 - mean_absolute_error: 3632.9739 - val_loss: 30451256.0000 - val_mean_absolute_error: 3715.0881\n",
      "Epoch 68/100\n",
      "1295/1295 [==============================] - 28s 22ms/step - loss: 28944706.0000 - mean_absolute_error: 3628.7849 - val_loss: 30420142.0000 - val_mean_absolute_error: 3710.8914\n",
      "Epoch 69/100\n",
      "1295/1295 [==============================] - 28s 22ms/step - loss: 28914310.0000 - mean_absolute_error: 3624.5906 - val_loss: 30389120.0000 - val_mean_absolute_error: 3706.7163\n",
      "Epoch 70/100\n",
      "1295/1295 [==============================] - 28s 22ms/step - loss: 28884036.0000 - mean_absolute_error: 3620.4021 - val_loss: 30358136.0000 - val_mean_absolute_error: 3702.5259\n",
      "Epoch 71/100\n",
      "1295/1295 [==============================] - 28s 22ms/step - loss: 28853748.0000 - mean_absolute_error: 3616.2197 - val_loss: 30327158.0000 - val_mean_absolute_error: 3698.3501\n",
      "Epoch 72/100\n",
      "1295/1295 [==============================] - 29s 22ms/step - loss: 28823460.0000 - mean_absolute_error: 3612.0398 - val_loss: 30296148.0000 - val_mean_absolute_error: 3694.1548\n",
      "Epoch 73/100\n",
      "1295/1295 [==============================] - 28s 22ms/step - loss: 28793202.0000 - mean_absolute_error: 3607.8406 - val_loss: 30265268.0000 - val_mean_absolute_error: 3689.9641\n",
      "Epoch 74/100\n",
      "1295/1295 [==============================] - 29s 22ms/step - loss: 28763056.0000 - mean_absolute_error: 3603.6606 - val_loss: 30234426.0000 - val_mean_absolute_error: 3685.7898\n",
      "Epoch 75/100\n",
      "1295/1295 [==============================] - 29s 22ms/step - loss: 28732868.0000 - mean_absolute_error: 3599.4800 - val_loss: 30203534.0000 - val_mean_absolute_error: 3681.5906\n",
      "Epoch 76/100\n",
      "1295/1295 [==============================] - 29s 22ms/step - loss: 28702682.0000 - mean_absolute_error: 3595.2888 - val_loss: 30172678.0000 - val_mean_absolute_error: 3677.3926\n",
      "Epoch 77/100\n",
      "1295/1295 [==============================] - 28s 22ms/step - loss: 28672586.0000 - mean_absolute_error: 3591.0994 - val_loss: 30141880.0000 - val_mean_absolute_error: 3673.2151\n",
      "Epoch 78/100\n",
      "1295/1295 [==============================] - 27s 21ms/step - loss: 28642568.0000 - mean_absolute_error: 3586.9114 - val_loss: 30111160.0000 - val_mean_absolute_error: 3669.0242\n",
      "Epoch 79/100\n",
      "1295/1295 [==============================] - 27s 21ms/step - loss: 28612468.0000 - mean_absolute_error: 3582.7297 - val_loss: 30080410.0000 - val_mean_absolute_error: 3664.8303\n",
      "Epoch 80/100\n",
      "1295/1295 [==============================] - 27s 21ms/step - loss: 28582534.0000 - mean_absolute_error: 3578.5352 - val_loss: 30049822.0000 - val_mean_absolute_error: 3660.6587\n",
      "Epoch 81/100\n",
      "1295/1295 [==============================] - 28s 21ms/step - loss: 28552598.0000 - mean_absolute_error: 3574.3577 - val_loss: 30019188.0000 - val_mean_absolute_error: 3656.4692\n",
      "Epoch 82/100\n",
      "1295/1295 [==============================] - 28s 22ms/step - loss: 28522726.0000 - mean_absolute_error: 3570.1743 - val_loss: 29988614.0000 - val_mean_absolute_error: 3652.2957\n",
      "Epoch 83/100\n",
      "1295/1295 [==============================] - 28s 22ms/step - loss: 28492892.0000 - mean_absolute_error: 3565.9912 - val_loss: 29958128.0000 - val_mean_absolute_error: 3648.1238\n",
      "Epoch 84/100\n",
      "1295/1295 [==============================] - 28s 22ms/step - loss: 28463132.0000 - mean_absolute_error: 3561.8179 - val_loss: 29927630.0000 - val_mean_absolute_error: 3643.9351\n",
      "Epoch 85/100\n",
      "1295/1295 [==============================] - 28s 22ms/step - loss: 28433288.0000 - mean_absolute_error: 3557.6438 - val_loss: 29897096.0000 - val_mean_absolute_error: 3639.7456\n",
      "Epoch 86/100\n",
      "1295/1295 [==============================] - 28s 22ms/step - loss: 28403524.0000 - mean_absolute_error: 3553.4651 - val_loss: 29866646.0000 - val_mean_absolute_error: 3635.5750\n",
      "Epoch 87/100\n",
      "1295/1295 [==============================] - 28s 22ms/step - loss: 28373814.0000 - mean_absolute_error: 3549.2927 - val_loss: 29836222.0000 - val_mean_absolute_error: 3631.3955\n",
      "Epoch 88/100\n",
      "1295/1295 [==============================] - 28s 22ms/step - loss: 28344112.0000 - mean_absolute_error: 3545.1160 - val_loss: 29805934.0000 - val_mean_absolute_error: 3627.2407\n",
      "Epoch 89/100\n",
      "1295/1295 [==============================] - 28s 22ms/step - loss: 28314532.0000 - mean_absolute_error: 3540.9609 - val_loss: 29775618.0000 - val_mean_absolute_error: 3623.0894\n",
      "Epoch 90/100\n",
      "1295/1295 [==============================] - 28s 22ms/step - loss: 28284952.0000 - mean_absolute_error: 3536.8032 - val_loss: 29745318.0000 - val_mean_absolute_error: 3618.9243\n",
      "Epoch 91/100\n",
      "1295/1295 [==============================] - 28s 22ms/step - loss: 28255350.0000 - mean_absolute_error: 3532.6375 - val_loss: 29715038.0000 - val_mean_absolute_error: 3614.7773\n",
      "Epoch 92/100\n",
      "1295/1295 [==============================] - 28s 22ms/step - loss: 28225832.0000 - mean_absolute_error: 3528.4683 - val_loss: 29684862.0000 - val_mean_absolute_error: 3610.6245\n",
      "Epoch 93/100\n",
      "1295/1295 [==============================] - 28s 22ms/step - loss: 28196360.0000 - mean_absolute_error: 3524.3271 - val_loss: 29654644.0000 - val_mean_absolute_error: 3606.4844\n",
      "Epoch 94/100\n",
      "1295/1295 [==============================] - 28s 22ms/step - loss: 28166878.0000 - mean_absolute_error: 3520.1707 - val_loss: 29624488.0000 - val_mean_absolute_error: 3602.3345\n",
      "Epoch 95/100\n",
      "1295/1295 [==============================] - 28s 22ms/step - loss: 28137422.0000 - mean_absolute_error: 3516.0417 - val_loss: 29594366.0000 - val_mean_absolute_error: 3598.1958\n",
      "Epoch 96/100\n",
      "1295/1295 [==============================] - 28s 21ms/step - loss: 28107990.0000 - mean_absolute_error: 3511.8936 - val_loss: 29564318.0000 - val_mean_absolute_error: 3594.0586\n",
      "Epoch 97/100\n",
      "1295/1295 [==============================] - 28s 22ms/step - loss: 28078688.0000 - mean_absolute_error: 3507.7764 - val_loss: 29534314.0000 - val_mean_absolute_error: 3589.9429\n",
      "Epoch 98/100\n",
      "1295/1295 [==============================] - 28s 22ms/step - loss: 28049496.0000 - mean_absolute_error: 3503.6567 - val_loss: 29504404.0000 - val_mean_absolute_error: 3585.8391\n",
      "Epoch 99/100\n",
      "1295/1295 [==============================] - 28s 22ms/step - loss: 28020220.0000 - mean_absolute_error: 3499.5452 - val_loss: 29474462.0000 - val_mean_absolute_error: 3581.7280\n",
      "Epoch 100/100\n",
      "1295/1295 [==============================] - 28s 22ms/step - loss: 27990994.0000 - mean_absolute_error: 3495.4412 - val_loss: 29444528.0000 - val_mean_absolute_error: 3577.6118\n"
     ]
    }
   ],
   "source": [
    "history = model.fit(x_train, y_train, epochs=100, validation_split=0.1, batch_size=30, shuffle=True, callbacks=[early_stop])"
   ]
  },
  {
   "cell_type": "code",
   "execution_count": 67,
   "id": "7bc6abe9-8238-4745-bc44-0a92b06b5eaa",
   "metadata": {},
   "outputs": [
    {
     "data": {
      "image/png": "[encoded data removed]",
      "text/plain": [
       "<Figure size 576x396 with 1 Axes>"
      ]
     },
     "metadata": {},
     "output_type": "display_data"
    },
    {
     "data": {
      "image/png": "[encoded data removed]",
      "text/plain": [
       "<Figure size 576x396 with 1 Axes>"
      ]
     },
     "metadata": {},
     "output_type": "display_data"
    }
   ],
   "source": [
    "history_dict = history.history\n",
    "\n",
    "acc = history_dict['mean_absolute_error']\n",
    "val_acc = history_dict['val_mean_absolute_error']\n",
    "loss = history_dict['loss']\n",
    "val_loss = history_dict['val_loss']\n",
    "\n",
    "epochs = history.epoch\n",
    "\n",
    "# plt.figure(figsize=(10,6))\n",
    "plt.plot(epochs, loss, 'r', label='Training loss')\n",
    "plt.plot(epochs, val_loss, 'b', label='Validation loss')\n",
    "plt.title('Training and validation loss', size=15)\n",
    "plt.xlabel('Epochs', size=15)\n",
    "plt.ylabel('Loss', size=15)\n",
    "plt.legend(prop={'size': 15})\n",
    "plt.show()\n",
    "\n",
    "# plt.figure(figsize=(10,6))\n",
    "plt.plot(epochs, acc, 'g', label='Training MAE')\n",
    "plt.plot(epochs, val_acc, 'b', label='Validation MAE')\n",
    "plt.title('Training and validation accuracy', size=15)\n",
    "plt.xlabel('Epochs', size=15)\n",
    "plt.ylabel('MAE', size=15)\n",
    "plt.legend(prop={'size': 15})\n",
    "# plt.ylim((0.5,1))\n",
    "plt.show()"
   ]
  },
  {
   "cell_type": "code",
   "execution_count": 68,
   "id": "fc802eae-3408-42de-a990-8fa718ac0b67",
   "metadata": {},
   "outputs": [
    {
     "name": "stdout",
     "output_type": "stream",
     "text": [
      "1348/1348 [==============================] - 8s 6ms/step - loss: 28123222.0000 - mean_absolute_error: 3501.8044\n",
      "[28123222.0, 3501.804443359375]\n"
     ]
    }
   ],
   "source": [
    "print(model.evaluate(x_train, y_train))"
   ]
  },
  {
   "cell_type": "code",
   "execution_count": 69,
   "id": "877be1a0-0389-4c88-9a7f-e6602fe6455c",
   "metadata": {},
   "outputs": [
    {
     "name": "stdout",
     "output_type": "stream",
     "text": [
      "337/337 [==============================] - 3s 5ms/step\n"
     ]
    }
   ],
   "source": [
    "ypred = model.predict(x_test)"
   ]
  },
  {
   "cell_type": "code",
   "execution_count": 70,
   "id": "66649e32-0b10-4918-bb27-56971c3d1f60",
   "metadata": {},
   "outputs": [
    {
     "name": "stdout",
     "output_type": "stream",
     "text": [
      "MAE: 3524.0264\n"
     ]
    }
   ],
   "source": [
    "print(\"MAE: %.4f\" % mean_absolute_error(y_test, ypred))"
   ]
  },
  {
   "cell_type": "code",
   "execution_count": null,
   "id": "69682332-ea5e-472e-b3f5-77092e7bbedc",
   "metadata": {},
   "outputs": [],
   "source": []
  }
 ],
 "metadata": {
  "kernelspec": {
   "display_name": "Python 3 (ipykernel)",
   "language": "python",
   "name": "python3"
  },
  "language_info": {
   "codemirror_mode": {
    "name": "ipython",
    "version": 3
   },
   "file_extension": ".py",
   "mimetype": "text/x-python",
   "name": "python",
   "nbconvert_exporter": "python",
   "pygments_lexer": "ipython3",
   "version": "3.9.12"
  }
 },
 "nbformat": 4,
 "nbformat_minor": 5
}
